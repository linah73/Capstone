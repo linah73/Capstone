{
 "cells": [
  {
   "cell_type": "markdown",
   "metadata": {},
   "source": [
    "## Data Modeling"
   ]
  },
  {
   "cell_type": "markdown",
   "metadata": {},
   "source": [
    "The final dataset with imputed values was used to compute the classification model and calculated feature importance was used to identify the micronutrients that were contributing more to the model. \n",
    "\n",
    "Data modeling was done with Decision Tree and Random forest algorithms with hyperparameter tuning using Gridsearch. Feature importance was computed using two different methods: scikit-learn's permutation based method and the in-built Random forest feature importance method."
   ]
  },
  {
   "cell_type": "code",
   "execution_count": 6,
   "metadata": {},
   "outputs": [],
   "source": [
    "import warnings\n",
    "warnings.filterwarnings('ignore')"
   ]
  },
  {
   "cell_type": "code",
   "execution_count": 7,
   "metadata": {},
   "outputs": [
    {
     "name": "stdout",
     "output_type": "stream",
     "text": [
      "Requirement already satisfied: scikit-learn in ./opt/anaconda3/lib/python3.8/site-packages (0.23.2)\n",
      "Requirement already satisfied: scipy>=0.19.1 in ./opt/anaconda3/lib/python3.8/site-packages (from scikit-learn) (1.5.2)\n",
      "Requirement already satisfied: threadpoolctl>=2.0.0 in ./opt/anaconda3/lib/python3.8/site-packages (from scikit-learn) (2.1.0)\n",
      "Requirement already satisfied: numpy>=1.13.3 in ./opt/anaconda3/lib/python3.8/site-packages (from scikit-learn) (1.19.5)\n",
      "Requirement already satisfied: joblib>=0.11 in ./opt/anaconda3/lib/python3.8/site-packages (from scikit-learn) (0.17.0)\n",
      "Note: you may need to restart the kernel to use updated packages.\n"
     ]
    }
   ],
   "source": [
    "pip install scikit-learn"
   ]
  },
  {
   "cell_type": "code",
   "execution_count": 8,
   "metadata": {},
   "outputs": [
    {
     "name": "stdout",
     "output_type": "stream",
     "text": [
      "Requirement already satisfied: openpyxl in ./opt/anaconda3/lib/python3.8/site-packages (3.0.5)\n",
      "Requirement already satisfied: jdcal in ./opt/anaconda3/lib/python3.8/site-packages (from openpyxl) (1.4.1)\n",
      "Requirement already satisfied: et-xmlfile in ./opt/anaconda3/lib/python3.8/site-packages (from openpyxl) (1.0.1)\n",
      "Note: you may need to restart the kernel to use updated packages.\n"
     ]
    }
   ],
   "source": [
    "pip install openpyxl"
   ]
  },
  {
   "cell_type": "code",
   "execution_count": null,
   "metadata": {},
   "outputs": [],
   "source": []
  },
  {
   "cell_type": "code",
   "execution_count": 9,
   "metadata": {},
   "outputs": [],
   "source": [
    "%matplotlib inline\n",
    "import pandas as pd\n",
    "import numpy as np\n",
    "import sklearn\n",
    "import matplotlib.pyplot as plt\n",
    "import seaborn as sns"
   ]
  },
  {
   "cell_type": "code",
   "execution_count": 10,
   "metadata": {},
   "outputs": [],
   "source": [
    "NHANES_final_df = pd.read_excel('NHANES_final.xlsx', engine='openpyxl')"
   ]
  },
  {
   "cell_type": "code",
   "execution_count": 11,
   "metadata": {},
   "outputs": [
    {
     "data": {
      "text/html": [
       "<div>\n",
       "<style scoped>\n",
       "    .dataframe tbody tr th:only-of-type {\n",
       "        vertical-align: middle;\n",
       "    }\n",
       "\n",
       "    .dataframe tbody tr th {\n",
       "        vertical-align: top;\n",
       "    }\n",
       "\n",
       "    .dataframe thead th {\n",
       "        text-align: right;\n",
       "    }\n",
       "</style>\n",
       "<table border=\"1\" class=\"dataframe\">\n",
       "  <thead>\n",
       "    <tr style=\"text-align: right;\">\n",
       "      <th></th>\n",
       "      <th>Unnamed: 0</th>\n",
       "      <th>ID</th>\n",
       "      <th>Gender</th>\n",
       "      <th>Age(Months)</th>\n",
       "      <th>Race</th>\n",
       "      <th>PregnStat</th>\n",
       "      <th>White_Cell_num</th>\n",
       "      <th>Lymphocyte(%)</th>\n",
       "      <th>SegNeutrophil(%)</th>\n",
       "      <th>Lymphocyte_num</th>\n",
       "      <th>...</th>\n",
       "      <th>VitB12(pmol/L)</th>\n",
       "      <th>VitB6</th>\n",
       "      <th>VitD2</th>\n",
       "      <th>VitD3</th>\n",
       "      <th>VitD(nmol/L)</th>\n",
       "      <th>VitC(umol/L)</th>\n",
       "      <th>VitE(umol/L)</th>\n",
       "      <th>VitA(umol/L)</th>\n",
       "      <th>Weight</th>\n",
       "      <th>BMI</th>\n",
       "    </tr>\n",
       "  </thead>\n",
       "  <tbody>\n",
       "    <tr>\n",
       "      <th>0</th>\n",
       "      <td>0</td>\n",
       "      <td>62161</td>\n",
       "      <td>1</td>\n",
       "      <td>264</td>\n",
       "      <td>3</td>\n",
       "      <td>2</td>\n",
       "      <td>5.1</td>\n",
       "      <td>27.0</td>\n",
       "      <td>60.1</td>\n",
       "      <td>1.4</td>\n",
       "      <td>...</td>\n",
       "      <td>433.773755</td>\n",
       "      <td>67.521150</td>\n",
       "      <td>2.663838</td>\n",
       "      <td>63.171397</td>\n",
       "      <td>62.501099</td>\n",
       "      <td>55.031690</td>\n",
       "      <td>23.094371</td>\n",
       "      <td>1.934913</td>\n",
       "      <td>78.806135</td>\n",
       "      <td>25.278573</td>\n",
       "    </tr>\n",
       "    <tr>\n",
       "      <th>1</th>\n",
       "      <td>1</td>\n",
       "      <td>62162</td>\n",
       "      <td>2</td>\n",
       "      <td>36</td>\n",
       "      <td>1</td>\n",
       "      <td>2</td>\n",
       "      <td>17.6</td>\n",
       "      <td>55.5</td>\n",
       "      <td>36.9</td>\n",
       "      <td>9.8</td>\n",
       "      <td>...</td>\n",
       "      <td>305.638010</td>\n",
       "      <td>58.298489</td>\n",
       "      <td>2.663838</td>\n",
       "      <td>57.910763</td>\n",
       "      <td>58.088403</td>\n",
       "      <td>56.746678</td>\n",
       "      <td>25.721783</td>\n",
       "      <td>1.879215</td>\n",
       "      <td>15.315418</td>\n",
       "      <td>19.184786</td>\n",
       "    </tr>\n",
       "    <tr>\n",
       "      <th>2</th>\n",
       "      <td>2</td>\n",
       "      <td>62163</td>\n",
       "      <td>1</td>\n",
       "      <td>168</td>\n",
       "      <td>5</td>\n",
       "      <td>2</td>\n",
       "      <td>5.1</td>\n",
       "      <td>44.9</td>\n",
       "      <td>36.1</td>\n",
       "      <td>2.3</td>\n",
       "      <td>...</td>\n",
       "      <td>491.752859</td>\n",
       "      <td>64.087567</td>\n",
       "      <td>2.663838</td>\n",
       "      <td>58.859214</td>\n",
       "      <td>57.674557</td>\n",
       "      <td>56.740853</td>\n",
       "      <td>24.347905</td>\n",
       "      <td>1.735641</td>\n",
       "      <td>54.541704</td>\n",
       "      <td>20.749270</td>\n",
       "    </tr>\n",
       "    <tr>\n",
       "      <th>3</th>\n",
       "      <td>3</td>\n",
       "      <td>62164</td>\n",
       "      <td>2</td>\n",
       "      <td>528</td>\n",
       "      <td>3</td>\n",
       "      <td>2</td>\n",
       "      <td>5.6</td>\n",
       "      <td>27.2</td>\n",
       "      <td>58.7</td>\n",
       "      <td>1.5</td>\n",
       "      <td>...</td>\n",
       "      <td>412.708814</td>\n",
       "      <td>67.782671</td>\n",
       "      <td>3.304100</td>\n",
       "      <td>65.194235</td>\n",
       "      <td>62.029226</td>\n",
       "      <td>56.558531</td>\n",
       "      <td>27.660877</td>\n",
       "      <td>1.885412</td>\n",
       "      <td>73.885622</td>\n",
       "      <td>27.443223</td>\n",
       "    </tr>\n",
       "    <tr>\n",
       "      <th>4</th>\n",
       "      <td>4</td>\n",
       "      <td>62165</td>\n",
       "      <td>2</td>\n",
       "      <td>168</td>\n",
       "      <td>4</td>\n",
       "      <td>2</td>\n",
       "      <td>7.5</td>\n",
       "      <td>34.8</td>\n",
       "      <td>54.3</td>\n",
       "      <td>2.6</td>\n",
       "      <td>...</td>\n",
       "      <td>465.521054</td>\n",
       "      <td>54.961042</td>\n",
       "      <td>2.663838</td>\n",
       "      <td>54.836202</td>\n",
       "      <td>52.331585</td>\n",
       "      <td>57.978798</td>\n",
       "      <td>21.237162</td>\n",
       "      <td>1.598063</td>\n",
       "      <td>66.977157</td>\n",
       "      <td>26.189044</td>\n",
       "    </tr>\n",
       "  </tbody>\n",
       "</table>\n",
       "<p>5 rows × 32 columns</p>\n",
       "</div>"
      ],
      "text/plain": [
       "   Unnamed: 0     ID  Gender  Age(Months)  Race  PregnStat  White_Cell_num  \\\n",
       "0           0  62161       1          264     3          2             5.1   \n",
       "1           1  62162       2           36     1          2            17.6   \n",
       "2           2  62163       1          168     5          2             5.1   \n",
       "3           3  62164       2          528     3          2             5.6   \n",
       "4           4  62165       2          168     4          2             7.5   \n",
       "\n",
       "   Lymphocyte(%)  SegNeutrophil(%)  Lymphocyte_num  ...  VitB12(pmol/L)  \\\n",
       "0           27.0              60.1             1.4  ...      433.773755   \n",
       "1           55.5              36.9             9.8  ...      305.638010   \n",
       "2           44.9              36.1             2.3  ...      491.752859   \n",
       "3           27.2              58.7             1.5  ...      412.708814   \n",
       "4           34.8              54.3             2.6  ...      465.521054   \n",
       "\n",
       "       VitB6     VitD2      VitD3  VitD(nmol/L)  VitC(umol/L)  VitE(umol/L)  \\\n",
       "0  67.521150  2.663838  63.171397     62.501099     55.031690     23.094371   \n",
       "1  58.298489  2.663838  57.910763     58.088403     56.746678     25.721783   \n",
       "2  64.087567  2.663838  58.859214     57.674557     56.740853     24.347905   \n",
       "3  67.782671  3.304100  65.194235     62.029226     56.558531     27.660877   \n",
       "4  54.961042  2.663838  54.836202     52.331585     57.978798     21.237162   \n",
       "\n",
       "   VitA(umol/L)     Weight        BMI  \n",
       "0      1.934913  78.806135  25.278573  \n",
       "1      1.879215  15.315418  19.184786  \n",
       "2      1.735641  54.541704  20.749270  \n",
       "3      1.885412  73.885622  27.443223  \n",
       "4      1.598063  66.977157  26.189044  \n",
       "\n",
       "[5 rows x 32 columns]"
      ]
     },
     "execution_count": 11,
     "metadata": {},
     "output_type": "execute_result"
    }
   ],
   "source": [
    "NHANES_final_df.head()"
   ]
  },
  {
   "cell_type": "code",
   "execution_count": 12,
   "metadata": {},
   "outputs": [
    {
     "name": "stdout",
     "output_type": "stream",
     "text": [
      "Requirement already satisfied: numpy==1.19.5 in ./opt/anaconda3/lib/python3.8/site-packages (1.19.5)\n",
      "Note: you may need to restart the kernel to use updated packages.\n"
     ]
    }
   ],
   "source": [
    "pip install numpy==1.19.5"
   ]
  },
  {
   "cell_type": "code",
   "execution_count": 13,
   "metadata": {},
   "outputs": [
    {
     "name": "stdout",
     "output_type": "stream",
     "text": [
      "1.19.5\n"
     ]
    }
   ],
   "source": [
    "print(np.__version__)"
   ]
  },
  {
   "cell_type": "code",
   "execution_count": 14,
   "metadata": {},
   "outputs": [
    {
     "name": "stdout",
     "output_type": "stream",
     "text": [
      "<class 'pandas.core.frame.DataFrame'>\n",
      "RangeIndex: 82741 entries, 0 to 82740\n",
      "Data columns (total 32 columns):\n",
      " #   Column                Non-Null Count  Dtype  \n",
      "---  ------                --------------  -----  \n",
      " 0   Unnamed: 0            82741 non-null  int64  \n",
      " 1   ID                    82741 non-null  int64  \n",
      " 2   Gender                82741 non-null  int64  \n",
      " 3   Age(Months)           82741 non-null  int64  \n",
      " 4   Race                  82741 non-null  int64  \n",
      " 5   PregnStat             82741 non-null  int64  \n",
      " 6   White_Cell_num        82741 non-null  float64\n",
      " 7   Lymphocyte(%)         82741 non-null  float64\n",
      " 8   SegNeutrophil(%)      82741 non-null  float64\n",
      " 9   Lymphocyte_num        82741 non-null  float64\n",
      " 10  SegNeutrophil_num     82741 non-null  float64\n",
      " 11  HIV                   82741 non-null  int64  \n",
      " 12  alco_dks_daily#       82741 non-null  int64  \n",
      " 13  smokescigs_daily#     82741 non-null  int64  \n",
      " 14  had_anemia_treatment  82741 non-null  int64  \n",
      " 15  had_cancer            82741 non-null  int64  \n",
      " 16  immunity_strength     82741 non-null  int64  \n",
      " 17  Cu(umol/L)            82741 non-null  float64\n",
      " 18  Se(umol/L)            82741 non-null  float64\n",
      " 19  Zn(umol/L)            82741 non-null  float64\n",
      " 20  Fe(ug/L)              82741 non-null  float64\n",
      " 21  Folate(nmol/L)        82741 non-null  float64\n",
      " 22  VitB12(pmol/L)        82741 non-null  float64\n",
      " 23  VitB6                 82741 non-null  float64\n",
      " 24  VitD2                 82741 non-null  float64\n",
      " 25  VitD3                 82741 non-null  float64\n",
      " 26  VitD(nmol/L)          82741 non-null  float64\n",
      " 27  VitC(umol/L)          82741 non-null  float64\n",
      " 28  VitE(umol/L)          82741 non-null  float64\n",
      " 29  VitA(umol/L)          82741 non-null  float64\n",
      " 30  Weight                82741 non-null  float64\n",
      " 31  BMI                   82741 non-null  float64\n",
      "dtypes: float64(20), int64(12)\n",
      "memory usage: 20.2 MB\n"
     ]
    }
   ],
   "source": [
    "NHANES_final_df.info()"
   ]
  },
  {
   "cell_type": "markdown",
   "metadata": {},
   "source": [
    "++++++++++++++++++++++++++++++++++++++++++++++++++++++++++++++++++++++++++++++++++++++++++++++++++++++++++++++++++++++"
   ]
  },
  {
   "cell_type": "code",
   "execution_count": 15,
   "metadata": {},
   "outputs": [],
   "source": [
    "from sklearn import tree, metrics\n",
    "from sklearn.model_selection import train_test_split\n",
    "from io import StringIO  \n",
    "from IPython.display import Image  \n"
   ]
  },
  {
   "cell_type": "code",
   "execution_count": 16,
   "metadata": {},
   "outputs": [],
   "source": [
    "from sklearn.inspection import permutation_importance"
   ]
  },
  {
   "cell_type": "markdown",
   "metadata": {},
   "source": [
    "## Decision Tree Model 1: Entropy model - no max_depth"
   ]
  },
  {
   "cell_type": "markdown",
   "metadata": {},
   "source": [
    "The first decision tree model uses entropy and no limit on maximum depth. "
   ]
  },
  {
   "cell_type": "markdown",
   "metadata": {},
   "source": [
    "### Selection of features for modeling"
   ]
  },
  {
   "cell_type": "markdown",
   "metadata": {},
   "source": [
    "The first two columns containing row index and ID were droped. The columns containing white blood cell counts and their concentration (white blood cell num, Lymphocytes and Neutrophils) that were used for labeling the data set according to immunity strength were droped. "
   ]
  },
  {
   "cell_type": "code",
   "execution_count": 17,
   "metadata": {},
   "outputs": [],
   "source": [
    "#split data for training and testing\n",
    "\n",
    "X = NHANES_final_df[['Gender',\n",
    "        'Age(Months)',\n",
    "        'Race',\n",
    "        'PregnStat',\n",
    "        'HIV',\n",
    "        'alco_dks_daily#',\n",
    "        'smokescigs_daily#',\n",
    "        'had_anemia_treatment',\n",
    "        'had_cancer',\n",
    "        'Cu(umol/L)',\n",
    "        'Se(umol/L)',\n",
    "        'Zn(umol/L)',\n",
    "        'Fe(ug/L)',\n",
    "        'Folate(nmol/L)',\n",
    "        'VitB12(pmol/L)',\n",
    "        'VitB6',\n",
    "        'VitD2',\n",
    "        'VitD3',\n",
    "        'VitD(nmol/L)',\n",
    "        'VitC(umol/L)',\n",
    "        'VitE(umol/L)',\n",
    "        'VitA(umol/L)',\n",
    "        'Weight',\n",
    "        'BMI']]\n",
    "\n",
    "y = NHANES_final_df['immunity_strength']\n",
    "X_train, X_test, y_train, y_test = train_test_split(X, y, test_size=0.3, random_state=42)"
   ]
  },
  {
   "cell_type": "markdown",
   "metadata": {},
   "source": [
    "Check the unique values in the 'immunity_strength' column"
   ]
  },
  {
   "cell_type": "code",
   "execution_count": 18,
   "metadata": {},
   "outputs": [
    {
     "data": {
      "text/plain": [
       "array([2, 1])"
      ]
     },
     "execution_count": 18,
     "metadata": {},
     "output_type": "execute_result"
    }
   ],
   "source": [
    "NHANES_final_df['immunity_strength'].unique()"
   ]
  },
  {
   "cell_type": "markdown",
   "metadata": {},
   "source": [
    "`1` is low immunity and `2` is high immunity \n",
    "\n"
   ]
  },
  {
   "cell_type": "markdown",
   "metadata": {},
   "source": [
    "Fit the Decision Tree Classifier "
   ]
  },
  {
   "cell_type": "code",
   "execution_count": 19,
   "metadata": {},
   "outputs": [
    {
     "data": {
      "text/plain": [
       "DecisionTreeClassifier(criterion='entropy', random_state=1234)"
      ]
     },
     "execution_count": 19,
     "metadata": {},
     "output_type": "execute_result"
    }
   ],
   "source": [
    "# entropy DecisionTreeClassifier. \n",
    "entr_model = tree.DecisionTreeClassifier(criterion=\"entropy\", random_state = 1234)\n",
    "\n",
    "\n",
    "entr_model.fit(X_train, y_train)\n",
    "\n",
    "y_pred = entr_model.predict(X_test)\n",
    "y_pred = pd.Series(y_pred)\n",
    "entr_model"
   ]
  },
  {
   "cell_type": "markdown",
   "metadata": {},
   "source": [
    "Calculate model metrics"
   ]
  },
  {
   "cell_type": "code",
   "execution_count": 20,
   "metadata": {},
   "outputs": [
    {
     "name": "stdout",
     "output_type": "stream",
     "text": [
      "Model Entropy - no max depth\n",
      "Accuracy: 0.8947750070499134\n",
      "Balanced accuracy: 0.8881924971149796\n",
      "Precision score for \"1\" 0.9159489736450172\n",
      "Precision score for \"2\" 0.8599147121535181\n",
      "Recall score for \"1\" 0.9150009703085581\n",
      "Recall score for \"2\" 0.8613840239214011\n"
     ]
    }
   ],
   "source": [
    "print(\"Model Entropy - no max depth\")\n",
    "print(\"Accuracy:\", metrics.accuracy_score(y_test,y_pred))\n",
    "print(\"Balanced accuracy:\", metrics.balanced_accuracy_score(y_test,y_pred))\n",
    "print('Precision score for \"1\"' , metrics.precision_score(y_test,y_pred, pos_label = 1))\n",
    "print('Precision score for \"2\"' , metrics.precision_score(y_test,y_pred, pos_label = 2))\n",
    "print('Recall score for \"1\"' , metrics.recall_score(y_test,y_pred, pos_label = 1))\n",
    "print('Recall score for \"2\"' , metrics.recall_score(y_test,y_pred, pos_label = 2))"
   ]
  },
  {
   "cell_type": "markdown",
   "metadata": {},
   "source": [
    " The accuracy of this model is fairly high and the recall and precision scores are in the upper range."
   ]
  },
  {
   "cell_type": "markdown",
   "metadata": {},
   "source": [
    "Feature importance was computed with scikit-learn Permutation importance method"
   ]
  },
  {
   "cell_type": "code",
   "execution_count": 16,
   "metadata": {},
   "outputs": [
    {
     "data": {
      "text/plain": [
       "Text(0.5, 0, 'Permutation Importance')"
      ]
     },
     "execution_count": 16,
     "metadata": {},
     "output_type": "execute_result"
    },
    {
     "data": {
      "image/png": "[encoded data removed]",
      "text/plain": [
       "<Figure size 432x288 with 1 Axes>"
      ]
     },
     "metadata": {
      "needs_background": "light"
     },
     "output_type": "display_data"
    }
   ],
   "source": [
    "\n",
    "perm_importance = permutation_importance(entr_model, X_test, y_test)\n",
    "\n",
    "feature_names = ['Gender',\n",
    "                'Age(Months)',\n",
    "                'Race',\n",
    "                'PregnStat',\n",
    "                'HIV',\n",
    "                'alco_dks_daily#',\n",
    "                'smokescigs_daily#',\n",
    "                'had_anemia_treatment',\n",
    "                'had_cancer',\n",
    "                'Cu(umol/L)',\n",
    "                'Se(umol/L)',\n",
    "                'Zn(umol/L)',\n",
    "                'Fe(ug/L)',\n",
    "                'Folate(nmol/L)',\n",
    "                'VitB12(pmol/L)',\n",
    "                'VitB6',\n",
    "                'VitD2',\n",
    "                'VitD3',\n",
    "                'VitD(nmol/L)',\n",
    "                'VitC(umol/L)',\n",
    "                'VitE(umol/L)',\n",
    "                'VitA(umol/L)',\n",
    "                'Weight',\n",
    "                'BMI']\n",
    "                \n",
    "features = np.array(feature_names)\n",
    "\n",
    "sorted_idx = perm_importance.importances_mean.argsort()\n",
    "plt.barh(features[sorted_idx], perm_importance.importances_mean[sorted_idx])\n",
    "plt.xlabel(\"Permutation Importance\")"
   ]
  },
  {
   "cell_type": "markdown",
   "metadata": {},
   "source": [
    "The nutrients with the highest relative importance are Vitamin B12 and Zinc. Vitamins A, D and B6 are next on the scale of importance. BMI scores very high as well which means this feature contributes significantly to the model although it is not a feature of interest since we are mostly comparing nutrients."
   ]
  },
  {
   "cell_type": "markdown",
   "metadata": {},
   "source": [
    "++++++++++++++++++++++++++++++++++++++++++++++++++++++++++++++++++++++++++++++++++++++++++++++++++++++++++++++++++++++"
   ]
  },
  {
   "cell_type": "markdown",
   "metadata": {},
   "source": [
    "## Decision Tree Model 2: Gini impurity model - no max_depth"
   ]
  },
  {
   "cell_type": "code",
   "execution_count": 17,
   "metadata": {},
   "outputs": [
    {
     "data": {
      "text/plain": [
       "DecisionTreeClassifier(random_state=1234)"
      ]
     },
     "execution_count": 17,
     "metadata": {},
     "output_type": "execute_result"
    }
   ],
   "source": [
    "# Make a variable called gini_model, and assign it exactly what you assigned entr_model with above, but with the\n",
    "# criterion changed to 'gini'\n",
    "gini_model = tree.DecisionTreeClassifier(criterion=\"gini\", random_state = 1234)\n",
    "\n",
    "# fit the gini_model as you did with the entr_model\n",
    "gini_model.fit(X_train, y_train)\n",
    "\n",
    "# Call predict() on the gini_model as you did with the entr_model \n",
    "y_pred = gini_model.predict(X_test)\n",
    "# Turn y_pred into a series, as before\n",
    "y_pred = pd.Series(y_pred)\n",
    "\n",
    "# Check out gini_model\n",
    "gini_model"
   ]
  },
  {
   "cell_type": "code",
   "execution_count": 18,
   "metadata": {},
   "outputs": [
    {
     "name": "stdout",
     "output_type": "stream",
     "text": [
      "Model Gini impurity model\n",
      "Accuracy: 0.8913507634049067\n",
      "Balanced accuracy: 0.8849590851152236\n",
      "Precision score for \"1\" 0.9142430537522721\n",
      "Precision score for \"2\" 0.8539123049155961\n",
      "Recall score for \"1\" 0.910990361601656\n",
      "Recall score for \"2\" 0.8589278086287911\n"
     ]
    }
   ],
   "source": [
    "print(\"Model Gini impurity model\")\n",
    "print(\"Accuracy:\", metrics.accuracy_score(y_test,y_pred))\n",
    "print(\"Balanced accuracy:\", metrics.balanced_accuracy_score(y_test,y_pred))\n",
    "print('Precision score for \"1\"' , metrics.precision_score(y_test,y_pred, pos_label = 1))\n",
    "print('Precision score for \"2\"' , metrics.precision_score(y_test,y_pred, pos_label = 2))\n",
    "print('Recall score for \"1\"' , metrics.recall_score(y_test,y_pred, pos_label = 1))\n",
    "print('Recall score for \"2\"' , metrics.recall_score(y_test,y_pred, pos_label = 2))"
   ]
  },
  {
   "cell_type": "markdown",
   "metadata": {},
   "source": [
    "There is no significant difference between the entropy and gini impurity decission tree models. The accuracy, precision and recall sores are comparable"
   ]
  },
  {
   "cell_type": "code",
   "execution_count": 19,
   "metadata": {},
   "outputs": [
    {
     "data": {
      "text/plain": [
       "Text(0.5, 0, 'Permutation Importance')"
      ]
     },
     "execution_count": 19,
     "metadata": {},
     "output_type": "execute_result"
    },
    {
     "data": {
      "image/png": "[encoded data removed]",
      "text/plain": [
       "<Figure size 432x288 with 1 Axes>"
      ]
     },
     "metadata": {
      "needs_background": "light"
     },
     "output_type": "display_data"
    }
   ],
   "source": [
    "perm_importance = permutation_importance(gini_model, X_test, y_test)\n",
    "\n",
    "feature_names = ['Gender',\n",
    "                'Age(Months)',\n",
    "                'Race',\n",
    "                'PregnStat',\n",
    "                'HIV',\n",
    "                'alco_dks_daily#',\n",
    "                'smokescigs_daily#',\n",
    "                'had_anemia_treatment',\n",
    "                'had_cancer',\n",
    "                'Cu(umol/L)',\n",
    "                'Se(umol/L)',\n",
    "                'Zn(umol/L)',\n",
    "                'Fe(ug/L)',\n",
    "                'Folate(nmol/L)',\n",
    "                'VitB12(pmol/L)',\n",
    "                'VitB6',\n",
    "                'VitD2',\n",
    "                'VitD3',\n",
    "                'VitD(nmol/L)',\n",
    "                'VitC(umol/L)',\n",
    "                'VitE(umol/L)',\n",
    "                'VitA(umol/L)',\n",
    "                'Weight',\n",
    "                'BMI']\n",
    "                \n",
    "features = np.array(feature_names)\n",
    "\n",
    "sorted_idx = perm_importance.importances_mean.argsort()\n",
    "plt.barh(features[sorted_idx], perm_importance.importances_mean[sorted_idx])\n",
    "plt.xlabel(\"Permutation Importance\")"
   ]
  },
  {
   "cell_type": "markdown",
   "metadata": {},
   "source": [
    "The Gini impurity model shows similar trend of relative importance of the Nutrients with highest relative importance being Vitamin B12 and Zinc followed by Vitamins A and B6 are next on the scale of importance. BMI scores second highest in this case."
   ]
  },
  {
   "cell_type": "markdown",
   "metadata": {},
   "source": [
    "++++++++++++++++++++++++++++++++++++++++++++++++++++++++++++++++++++++++++++++++++++++++++++++++++++++++++++++++++++++"
   ]
  },
  {
   "cell_type": "markdown",
   "metadata": {},
   "source": [
    "## Decision Tree Model 3: Entropy model - max depth 10"
   ]
  },
  {
   "cell_type": "markdown",
   "metadata": {},
   "source": [
    "To see if we can get comparable results from a decision tree when we limit maximum depth, we computed model 3 with maximum depth 10. Limiting max-depth could help avoid overfitting. However there is also risk that we may not get accurate data due to underfitting. While the accuracy, recall and precision metrics are important, the information of interest is the relative feature importance of the nutrients."
   ]
  },
  {
   "cell_type": "code",
   "execution_count": 20,
   "metadata": {},
   "outputs": [
    {
     "data": {
      "text/plain": [
       "DecisionTreeClassifier(criterion='entropy', max_depth=10, random_state=1234)"
      ]
     },
     "execution_count": 20,
     "metadata": {},
     "output_type": "execute_result"
    }
   ],
   "source": [
    "# Made a model as before, but call it entr_model2, and make the max_depth parameter equal to 10. \n",
    "\n",
    "entr_model2 = tree.DecisionTreeClassifier(criterion=\"entropy\", max_depth = 10, random_state = 1234)\n",
    "entr_model2.fit(X_train, y_train)\n",
    "y_pred = entr_model2.predict(X_test)\n",
    "y_pred = pd.Series(y_pred)\n",
    "entr_model2"
   ]
  },
  {
   "cell_type": "code",
   "execution_count": 21,
   "metadata": {
    "scrolled": true
   },
   "outputs": [
    {
     "name": "stdout",
     "output_type": "stream",
     "text": [
      "Model Entropy model max depth 3\n",
      "Accuracy: 0.821294766950006\n",
      "Balanced accuracy: 0.819808381537207\n",
      "Precision score for \"1\" 0.8798153125215354\n",
      "Precision score for \"2\" 0.738944918541505\n",
      "Recall score for \"1\" 0.8258619574357979\n",
      "Recall score for \"2\" 0.813754805638616\n"
     ]
    }
   ],
   "source": [
    "print(\"Model Entropy model max depth 3\")\n",
    "print(\"Accuracy:\", metrics.accuracy_score(y_test,y_pred))\n",
    "print(\"Balanced accuracy:\", metrics.balanced_accuracy_score(y_test,y_pred))\n",
    "print('Precision score for \"1\"' , metrics.precision_score(y_test,y_pred, pos_label = 1))\n",
    "print('Precision score for \"2\"' , metrics.precision_score(y_test,y_pred, pos_label = 2))\n",
    "print('Recall score for \"1\"' , metrics.recall_score(y_test,y_pred, pos_label = 1))\n",
    "print('Recall score for \"2\"' , metrics.recall_score(y_test,y_pred, pos_label = 2))"
   ]
  },
  {
   "cell_type": "markdown",
   "metadata": {},
   "source": [
    "Limiting the maximum depth to 10 reduces the accuracy score and the other metrics significantly."
   ]
  },
  {
   "cell_type": "code",
   "execution_count": 22,
   "metadata": {},
   "outputs": [
    {
     "data": {
      "text/plain": [
       "Text(0.5, 0, 'Permutation Importance')"
      ]
     },
     "execution_count": 22,
     "metadata": {},
     "output_type": "execute_result"
    },
    {
     "data": {
      "image/png": "[encoded data removed]",
      "text/plain": [
       "<Figure size 432x288 with 1 Axes>"
      ]
     },
     "metadata": {
      "needs_background": "light"
     },
     "output_type": "display_data"
    }
   ],
   "source": [
    "perm_importance = permutation_importance(entr_model2, X_test, y_test)\n",
    "\n",
    "feature_names = ['Gender',\n",
    "                'Age(Months)',\n",
    "                'Race',\n",
    "                'PregnStat',\n",
    "                'HIV',\n",
    "                'alco_dks_daily#',\n",
    "                'smokescigs_daily#',\n",
    "                'had_anemia_treatment',\n",
    "                'had_cancer',\n",
    "                'Cu(umol/L)',\n",
    "                'Se(umol/L)',\n",
    "                'Zn(umol/L)',\n",
    "                'Fe(ug/L)',\n",
    "                'Folate(nmol/L)',\n",
    "                'VitB12(pmol/L)',\n",
    "                'VitB6',\n",
    "                'VitD2',\n",
    "                'VitD3',\n",
    "                'VitD(nmol/L)',\n",
    "                'VitC(umol/L)',\n",
    "                'VitE(umol/L)',\n",
    "                'VitA(umol/L)',\n",
    "                'Weight',\n",
    "                'BMI']\n",
    "                \n",
    "features = np.array(feature_names)\n",
    "\n",
    "sorted_idx = perm_importance.importances_mean.argsort()\n",
    "plt.barh(features[sorted_idx], perm_importance.importances_mean[sorted_idx])\n",
    "plt.xlabel(\"Permutation Importance\")"
   ]
  },
  {
   "cell_type": "markdown",
   "metadata": {},
   "source": [
    "Although this model has relatively lower accuracy it appears the trend of relative importance of the nutrients is the same as for the other two models. Limiting maximum depth to 10 does not alter the feature importance in this case."
   ]
  },
  {
   "cell_type": "markdown",
   "metadata": {},
   "source": [
    "++++++++++++++++++++++++++++++++++++++++++++++++++++++++++++++++++++++++++++++++++++++++++++++++++++++++++++++++++++++"
   ]
  },
  {
   "cell_type": "markdown",
   "metadata": {},
   "source": [
    "# Random Forest models"
   ]
  },
  {
   "cell_type": "markdown",
   "metadata": {},
   "source": [
    "Random Forest classifier models is an ensemble method tha averages multiple decission trees. We want to see if RF classifier could be better at modeling the data than the decision trees"
   ]
  },
  {
   "cell_type": "code",
   "execution_count": 21,
   "metadata": {},
   "outputs": [],
   "source": [
    "from sklearn.ensemble import RandomForestClassifier\n",
    "from sklearn.datasets import make_classification\n",
    "from sklearn.model_selection import GridSearchCV\n",
    "from sklearn.model_selection import cross_val_score"
   ]
  },
  {
   "cell_type": "markdown",
   "metadata": {},
   "source": [
    "## Random Forest model 1: max depth 10"
   ]
  },
  {
   "cell_type": "markdown",
   "metadata": {},
   "source": [
    "The first RF model has maximum depth 10 and the default 100 decision trees (n_estimators = 100). Gini impurity is the default method used."
   ]
  },
  {
   "cell_type": "code",
   "execution_count": 24,
   "metadata": {},
   "outputs": [
    {
     "data": {
      "text/plain": [
       "RandomForestClassifier(max_depth=10, random_state=1234)"
      ]
     },
     "execution_count": 24,
     "metadata": {},
     "output_type": "execute_result"
    }
   ],
   "source": [
    "#First model max depth 10\n",
    "firstRFModel = RandomForestClassifier(max_depth= 10, random_state= 1234)\n",
    "firstRFModel.fit(X_train, y_train)\n",
    "\n",
    "y_pred = firstRFModel.predict(X_test)\n",
    "y_pred = pd.Series(y_pred)\n",
    "firstRFModel"
   ]
  },
  {
   "cell_type": "code",
   "execution_count": 25,
   "metadata": {},
   "outputs": [
    {
     "name": "stdout",
     "output_type": "stream",
     "text": [
      "Random Forest  model - max depth 10\n",
      "Accuracy: 0.8688313257865689\n",
      "Balanced accuracy: 0.8633001000925158\n",
      "Precision score for \"1\" 0.9018109976950939\n",
      "Precision score for \"2\" 0.8168707200664038\n",
      "Recall score for \"1\" 0.8858270263277055\n",
      "Recall score for \"2\" 0.840773173857326\n"
     ]
    }
   ],
   "source": [
    "print(\"Random Forest  model - max depth 10\")\n",
    "print(\"Accuracy:\", metrics.accuracy_score(y_test,y_pred))\n",
    "print(\"Balanced accuracy:\", metrics.balanced_accuracy_score(y_test,y_pred))\n",
    "print('Precision score for \"1\"' , metrics.precision_score(y_test,y_pred, pos_label = 1))\n",
    "print('Precision score for \"2\"' , metrics.precision_score(y_test,y_pred, pos_label = 2))\n",
    "print('Recall score for \"1\"' , metrics.recall_score(y_test,y_pred, pos_label = 1))\n",
    "print('Recall score for \"2\"' , metrics.recall_score(y_test,y_pred, pos_label = 2))"
   ]
  },
  {
   "cell_type": "markdown",
   "metadata": {},
   "source": [
    "The metrics for this RF model are higher than that of the Decision Tree classifier with the same maximum depth. However, the model does not perform as good as the Decision Tree classifier models with no maximum depth."
   ]
  },
  {
   "cell_type": "code",
   "execution_count": 26,
   "metadata": {},
   "outputs": [
    {
     "data": {
      "text/plain": [
       "Text(0.5, 0, 'Permutation Importance')"
      ]
     },
     "execution_count": 26,
     "metadata": {},
     "output_type": "execute_result"
    },
    {
     "data": {
      "image/png": "[encoded data removed]",
      "text/plain": [
       "<Figure size 432x288 with 1 Axes>"
      ]
     },
     "metadata": {
      "needs_background": "light"
     },
     "output_type": "display_data"
    }
   ],
   "source": [
    "perm_importance = permutation_importance(firstRFModel, X_test, y_test)\n",
    "\n",
    "feature_names = ['Gender',\n",
    "                'Age(Months)',\n",
    "                'Race',\n",
    "                'PregnStat',\n",
    "                'HIV',\n",
    "                'alco_dks_daily#',\n",
    "                'smokescigs_daily#',\n",
    "                'had_anemia_treatment',\n",
    "                'had_cancer',\n",
    "                'Cu(umol/L)',\n",
    "                'Se(umol/L)',\n",
    "                'Zn(umol/L)',\n",
    "                'Fe(ug/L)',\n",
    "                'Folate(nmol/L)',\n",
    "                'VitB12(pmol/L)',\n",
    "                'VitB6',\n",
    "                'VitD2',\n",
    "                'VitD3',\n",
    "                'VitD(nmol/L)',\n",
    "                'VitC(umol/L)',\n",
    "                'VitE(umol/L)',\n",
    "                'VitA(umol/L)',\n",
    "                'Weight',\n",
    "                'BMI']\n",
    "                \n",
    "features = np.array(feature_names)\n",
    "\n",
    "sorted_idx = perm_importance.importances_mean.argsort()\n",
    "plt.barh(features[sorted_idx], perm_importance.importances_mean[sorted_idx])\n",
    "plt.xlabel(\"Permutation Importance\")"
   ]
  },
  {
   "cell_type": "markdown",
   "metadata": {},
   "source": [
    "The feature importance permutation results indicate that Vitamin B12 and Zinc have the highest relative importance compared to the other nutrient features. This is consistent with the results of the computed feature importances from the Decision tree models. Interestingly selinium shows higher feature importance than  in the previous models."
   ]
  },
  {
   "cell_type": "markdown",
   "metadata": {},
   "source": [
    "++++++++++++++++++++++++++++++++++++++++++++++++++++++++++++++++++++++++++++++++++++++++++++++++++++++++++++++++++++"
   ]
  },
  {
   "cell_type": "markdown",
   "metadata": {},
   "source": [
    "## Random Forest model 2: no max depth"
   ]
  },
  {
   "cell_type": "markdown",
   "metadata": {},
   "source": [
    "RF model with no maximum depth and default parameters, criterion: 'gini', n-estimators: 100"
   ]
  },
  {
   "cell_type": "code",
   "execution_count": 27,
   "metadata": {},
   "outputs": [
    {
     "data": {
      "text/plain": [
       "RandomForestClassifier(random_state=1234)"
      ]
     },
     "execution_count": 27,
     "metadata": {},
     "output_type": "execute_result"
    }
   ],
   "source": [
    "# Second model no max_depth and default params\n",
    "secondRFModel = RandomForestClassifier( random_state= 1234)\n",
    "secondRFModel.fit(X_train, y_train)\n",
    "\n",
    "y_pred = secondRFModel.predict(X_test)\n",
    "y_pred = pd.Series(y_pred)\n",
    "secondRFModel"
   ]
  },
  {
   "cell_type": "code",
   "execution_count": 28,
   "metadata": {},
   "outputs": [
    {
     "name": "stdout",
     "output_type": "stream",
     "text": [
      "Random Forest  model - no max depth\n",
      "Accuracy: 0.9350199411835798\n",
      "Balanced accuracy: 0.930903640913271\n",
      "Precision score for \"1\" 0.9479746343988611\n",
      "Precision score for \"2\" 0.9136514035649482\n",
      "Recall score for \"1\" 0.947668025098648\n",
      "Recall score for \"2\" 0.9141392567278941\n"
     ]
    }
   ],
   "source": [
    "print(\"Random Forest  model - no max depth\")\n",
    "print(\"Accuracy:\", metrics.accuracy_score(y_test,y_pred))\n",
    "print(\"Balanced accuracy:\", metrics.balanced_accuracy_score(y_test,y_pred))\n",
    "print('Precision score for \"1\"' , metrics.precision_score(y_test,y_pred, pos_label = 1))\n",
    "print('Precision score for \"2\"' , metrics.precision_score(y_test,y_pred, pos_label = 2))\n",
    "print('Recall score for \"1\"' , metrics.recall_score(y_test,y_pred, pos_label = 1))\n",
    "print('Recall score for \"2\"' , metrics.recall_score(y_test,y_pred, pos_label = 2))"
   ]
  },
  {
   "cell_type": "markdown",
   "metadata": {},
   "source": [
    "RF classifier with no maximum depth shows the best accuracy compared to the previous models. "
   ]
  },
  {
   "cell_type": "code",
   "execution_count": 29,
   "metadata": {},
   "outputs": [
    {
     "data": {
      "text/plain": [
       "Text(0.5, 0, 'Permutation Importance')"
      ]
     },
     "execution_count": 29,
     "metadata": {},
     "output_type": "execute_result"
    },
    {
     "data": {
      "image/png": "[encoded data removed]",
      "text/plain": [
       "<Figure size 432x288 with 1 Axes>"
      ]
     },
     "metadata": {
      "needs_background": "light"
     },
     "output_type": "display_data"
    }
   ],
   "source": [
    "perm_importance = permutation_importance(secondRFModel, X_test, y_test)\n",
    "\n",
    "feature_names = ['Gender',\n",
    "                'Age(Months)',\n",
    "                'Race',\n",
    "                'PregnStat',\n",
    "                'HIV',\n",
    "                'alco_dks_daily#',\n",
    "                'smokescigs_daily#',\n",
    "                'had_anemia_treatment',\n",
    "                'had_cancer',\n",
    "                'Cu(umol/L)',\n",
    "                'Se(umol/L)',\n",
    "                'Zn(umol/L)',\n",
    "                'Fe(ug/L)',\n",
    "                'Folate(nmol/L)',\n",
    "                'VitB12(pmol/L)',\n",
    "                'VitB6',\n",
    "                'VitD2',\n",
    "                'VitD3',\n",
    "                'VitD(nmol/L)',\n",
    "                'VitC(umol/L)',\n",
    "                'VitE(umol/L)',\n",
    "                'VitA(umol/L)',\n",
    "                'Weight',\n",
    "                'BMI']\n",
    "                \n",
    "features = np.array(feature_names)\n",
    "\n",
    "sorted_idx = perm_importance.importances_mean.argsort()\n",
    "plt.barh(features[sorted_idx], perm_importance.importances_mean[sorted_idx])\n",
    "plt.xlabel(\"Permutation Importance\")"
   ]
  },
  {
   "cell_type": "markdown",
   "metadata": {},
   "source": [
    "The computed feature importance reults are similar with a slightly different order to the previous model. Vitamin B12 and Zinc are the most important features followed by Vitamin B6 and Selenium."
   ]
  },
  {
   "cell_type": "markdown",
   "metadata": {},
   "source": [
    "++++++++++++++++++++++++++++++++++++++++++++++++++++++++++++++++++++++++++++++++++++++++++++++++++++++++++++++++++++++"
   ]
  },
  {
   "cell_type": "markdown",
   "metadata": {},
   "source": [
    "## RandomForest Gridsearch"
   ]
  },
  {
   "cell_type": "raw",
   "metadata": {},
   "source": [
    "Gridsearch with crossvalidation was used inorder to select the best model. The parameters that were optimized were`n_estimators`, `max_depth` and `criterion`"
   ]
  },
  {
   "cell_type": "code",
   "execution_count": 30,
   "metadata": {},
   "outputs": [
    {
     "name": "stdout",
     "output_type": "stream",
     "text": [
      "Fitting 5 folds for each of 84 candidates, totalling 420 fits\n",
      "[CV] criterion=gini, max_depth=5, n_estimators=10 ....................\n"
     ]
    },
    {
     "name": "stderr",
     "output_type": "stream",
     "text": [
      "[Parallel(n_jobs=1)]: Using backend SequentialBackend with 1 concurrent workers.\n"
     ]
    },
    {
     "name": "stdout",
     "output_type": "stream",
     "text": [
      "[CV]  criterion=gini, max_depth=5, n_estimators=10, score=0.746, total=   0.5s\n",
      "[CV] criterion=gini, max_depth=5, n_estimators=10 ....................\n"
     ]
    },
    {
     "name": "stderr",
     "output_type": "stream",
     "text": [
      "[Parallel(n_jobs=1)]: Done   1 out of   1 | elapsed:    0.5s remaining:    0.0s\n"
     ]
    },
    {
     "name": "stdout",
     "output_type": "stream",
     "text": [
      "[CV]  criterion=gini, max_depth=5, n_estimators=10, score=0.743, total=   0.5s\n",
      "[CV] criterion=gini, max_depth=5, n_estimators=10 ....................\n"
     ]
    },
    {
     "name": "stderr",
     "output_type": "stream",
     "text": [
      "[Parallel(n_jobs=1)]: Done   2 out of   2 | elapsed:    1.0s remaining:    0.0s\n"
     ]
    },
    {
     "name": "stdout",
     "output_type": "stream",
     "text": [
      "[CV]  criterion=gini, max_depth=5, n_estimators=10, score=0.752, total=   0.5s\n",
      "[CV] criterion=gini, max_depth=5, n_estimators=10 ....................\n",
      "[CV]  criterion=gini, max_depth=5, n_estimators=10, score=0.748, total=   0.6s\n",
      "[CV] criterion=gini, max_depth=5, n_estimators=10 ....................\n",
      "[CV]  criterion=gini, max_depth=5, n_estimators=10, score=0.744, total=   0.6s\n",
      "[CV] criterion=gini, max_depth=5, n_estimators=100 ...................\n",
      "[CV]  criterion=gini, max_depth=5, n_estimators=100, score=0.758, total=   4.6s\n",
      "[CV] criterion=gini, max_depth=5, n_estimators=100 ...................\n",
      "[CV]  criterion=gini, max_depth=5, n_estimators=100, score=0.759, total=   4.6s\n",
      "[CV] criterion=gini, max_depth=5, n_estimators=100 ...................\n",
      "[CV]  criterion=gini, max_depth=5, n_estimators=100, score=0.759, total=   4.8s\n",
      "[CV] criterion=gini, max_depth=5, n_estimators=100 ...................\n",
      "[CV]  criterion=gini, max_depth=5, n_estimators=100, score=0.761, total=   4.6s\n",
      "[CV] criterion=gini, max_depth=5, n_estimators=100 ...................\n",
      "[CV]  criterion=gini, max_depth=5, n_estimators=100, score=0.765, total=   4.8s\n",
      "[CV] criterion=gini, max_depth=5, n_estimators=150 ...................\n",
      "[CV]  criterion=gini, max_depth=5, n_estimators=150, score=0.762, total=   7.0s\n",
      "[CV] criterion=gini, max_depth=5, n_estimators=150 ...................\n",
      "[CV]  criterion=gini, max_depth=5, n_estimators=150, score=0.762, total=   7.2s\n",
      "[CV] criterion=gini, max_depth=5, n_estimators=150 ...................\n",
      "[CV]  criterion=gini, max_depth=5, n_estimators=150, score=0.765, total=   7.3s\n",
      "[CV] criterion=gini, max_depth=5, n_estimators=150 ...................\n",
      "[CV]  criterion=gini, max_depth=5, n_estimators=150, score=0.762, total=   7.0s\n",
      "[CV] criterion=gini, max_depth=5, n_estimators=150 ...................\n",
      "[CV]  criterion=gini, max_depth=5, n_estimators=150, score=0.765, total=   7.1s\n",
      "[CV] criterion=gini, max_depth=5, n_estimators=200 ...................\n",
      "[CV]  criterion=gini, max_depth=5, n_estimators=200, score=0.763, total=   9.4s\n",
      "[CV] criterion=gini, max_depth=5, n_estimators=200 ...................\n",
      "[CV]  criterion=gini, max_depth=5, n_estimators=200, score=0.761, total=   9.4s\n",
      "[CV] criterion=gini, max_depth=5, n_estimators=200 ...................\n",
      "[CV]  criterion=gini, max_depth=5, n_estimators=200, score=0.761, total=   9.5s\n",
      "[CV] criterion=gini, max_depth=5, n_estimators=200 ...................\n",
      "[CV]  criterion=gini, max_depth=5, n_estimators=200, score=0.761, total=   9.4s\n",
      "[CV] criterion=gini, max_depth=5, n_estimators=200 ...................\n",
      "[CV]  criterion=gini, max_depth=5, n_estimators=200, score=0.761, total=   9.2s\n",
      "[CV] criterion=gini, max_depth=5, n_estimators=250 ...................\n",
      "[CV]  criterion=gini, max_depth=5, n_estimators=250, score=0.763, total=  11.9s\n",
      "[CV] criterion=gini, max_depth=5, n_estimators=250 ...................\n",
      "[CV]  criterion=gini, max_depth=5, n_estimators=250, score=0.760, total=  11.7s\n",
      "[CV] criterion=gini, max_depth=5, n_estimators=250 ...................\n",
      "[CV]  criterion=gini, max_depth=5, n_estimators=250, score=0.760, total=  11.7s\n",
      "[CV] criterion=gini, max_depth=5, n_estimators=250 ...................\n",
      "[CV]  criterion=gini, max_depth=5, n_estimators=250, score=0.763, total=  11.7s\n",
      "[CV] criterion=gini, max_depth=5, n_estimators=250 ...................\n",
      "[CV]  criterion=gini, max_depth=5, n_estimators=250, score=0.762, total=  11.7s\n",
      "[CV] criterion=gini, max_depth=5, n_estimators=300 ...................\n",
      "[CV]  criterion=gini, max_depth=5, n_estimators=300, score=0.762, total=  13.9s\n",
      "[CV] criterion=gini, max_depth=5, n_estimators=300 ...................\n",
      "[CV]  criterion=gini, max_depth=5, n_estimators=300, score=0.761, total=  14.3s\n",
      "[CV] criterion=gini, max_depth=5, n_estimators=300 ...................\n",
      "[CV]  criterion=gini, max_depth=5, n_estimators=300, score=0.759, total=  14.1s\n",
      "[CV] criterion=gini, max_depth=5, n_estimators=300 ...................\n",
      "[CV]  criterion=gini, max_depth=5, n_estimators=300, score=0.761, total=  13.9s\n",
      "[CV] criterion=gini, max_depth=5, n_estimators=300 ...................\n",
      "[CV]  criterion=gini, max_depth=5, n_estimators=300, score=0.761, total=  14.3s\n",
      "[CV] criterion=gini, max_depth=5, n_estimators=350 ...................\n",
      "[CV]  criterion=gini, max_depth=5, n_estimators=350, score=0.761, total=  16.7s\n",
      "[CV] criterion=gini, max_depth=5, n_estimators=350 ...................\n",
      "[CV]  criterion=gini, max_depth=5, n_estimators=350, score=0.761, total=  16.4s\n",
      "[CV] criterion=gini, max_depth=5, n_estimators=350 ...................\n",
      "[CV]  criterion=gini, max_depth=5, n_estimators=350, score=0.759, total=  39.5s\n",
      "[CV] criterion=gini, max_depth=5, n_estimators=350 ...................\n",
      "[CV]  criterion=gini, max_depth=5, n_estimators=350, score=0.761, total=  19.3s\n",
      "[CV] criterion=gini, max_depth=5, n_estimators=350 ...................\n",
      "[CV]  criterion=gini, max_depth=5, n_estimators=350, score=0.761, total=  15.9s\n",
      "[CV] criterion=gini, max_depth=10, n_estimators=10 ...................\n",
      "[CV]  criterion=gini, max_depth=10, n_estimators=10, score=0.858, total=   0.8s\n",
      "[CV] criterion=gini, max_depth=10, n_estimators=10 ...................\n",
      "[CV]  criterion=gini, max_depth=10, n_estimators=10, score=0.852, total=   0.8s\n",
      "[CV] criterion=gini, max_depth=10, n_estimators=10 ...................\n",
      "[CV]  criterion=gini, max_depth=10, n_estimators=10, score=0.856, total=   0.8s\n",
      "[CV] criterion=gini, max_depth=10, n_estimators=10 ...................\n",
      "[CV]  criterion=gini, max_depth=10, n_estimators=10, score=0.851, total=   0.9s\n",
      "[CV] criterion=gini, max_depth=10, n_estimators=10 ...................\n",
      "[CV]  criterion=gini, max_depth=10, n_estimators=10, score=0.850, total=   0.9s\n",
      "[CV] criterion=gini, max_depth=10, n_estimators=100 ..................\n",
      "[CV]  criterion=gini, max_depth=10, n_estimators=100, score=0.870, total=17.3min\n",
      "[CV] criterion=gini, max_depth=10, n_estimators=100 ..................\n",
      "[CV]  criterion=gini, max_depth=10, n_estimators=100, score=0.865, total=   8.8s\n",
      "[CV] criterion=gini, max_depth=10, n_estimators=100 ..................\n",
      "[CV]  criterion=gini, max_depth=10, n_estimators=100, score=0.863, total=   8.6s\n",
      "[CV] criterion=gini, max_depth=10, n_estimators=100 ..................\n",
      "[CV]  criterion=gini, max_depth=10, n_estimators=100, score=0.864, total=   8.4s\n",
      "[CV] criterion=gini, max_depth=10, n_estimators=100 ..................\n",
      "[CV]  criterion=gini, max_depth=10, n_estimators=100, score=0.865, total=   8.2s\n",
      "[CV] criterion=gini, max_depth=10, n_estimators=150 ..................\n",
      "[CV]  criterion=gini, max_depth=10, n_estimators=150, score=0.868, total=  12.3s\n",
      "[CV] criterion=gini, max_depth=10, n_estimators=150 ..................\n",
      "[CV]  criterion=gini, max_depth=10, n_estimators=150, score=0.863, total=  12.2s\n",
      "[CV] criterion=gini, max_depth=10, n_estimators=150 ..................\n",
      "[CV]  criterion=gini, max_depth=10, n_estimators=150, score=0.863, total=  12.3s\n",
      "[CV] criterion=gini, max_depth=10, n_estimators=150 ..................\n",
      "[CV]  criterion=gini, max_depth=10, n_estimators=150, score=0.864, total=  12.4s\n",
      "[CV] criterion=gini, max_depth=10, n_estimators=150 ..................\n",
      "[CV]  criterion=gini, max_depth=10, n_estimators=150, score=0.865, total=  12.2s\n",
      "[CV] criterion=gini, max_depth=10, n_estimators=200 ..................\n",
      "[CV]  criterion=gini, max_depth=10, n_estimators=200, score=0.867, total=  16.4s\n",
      "[CV] criterion=gini, max_depth=10, n_estimators=200 ..................\n",
      "[CV]  criterion=gini, max_depth=10, n_estimators=200, score=0.863, total=  16.9s\n",
      "[CV] criterion=gini, max_depth=10, n_estimators=200 ..................\n",
      "[CV]  criterion=gini, max_depth=10, n_estimators=200, score=0.863, total=  16.4s\n",
      "[CV] criterion=gini, max_depth=10, n_estimators=200 ..................\n",
      "[CV]  criterion=gini, max_depth=10, n_estimators=200, score=0.865, total=  16.4s\n",
      "[CV] criterion=gini, max_depth=10, n_estimators=200 ..................\n",
      "[CV]  criterion=gini, max_depth=10, n_estimators=200, score=0.864, total=  16.1s\n",
      "[CV] criterion=gini, max_depth=10, n_estimators=250 ..................\n",
      "[CV]  criterion=gini, max_depth=10, n_estimators=250, score=0.868, total=  20.4s\n",
      "[CV] criterion=gini, max_depth=10, n_estimators=250 ..................\n",
      "[CV]  criterion=gini, max_depth=10, n_estimators=250, score=0.862, total=  20.4s\n",
      "[CV] criterion=gini, max_depth=10, n_estimators=250 ..................\n"
     ]
    },
    {
     "name": "stdout",
     "output_type": "stream",
     "text": [
      "[CV]  criterion=gini, max_depth=10, n_estimators=250, score=0.862, total=  20.5s\n",
      "[CV] criterion=gini, max_depth=10, n_estimators=250 ..................\n",
      "[CV]  criterion=gini, max_depth=10, n_estimators=250, score=0.863, total=  20.4s\n",
      "[CV] criterion=gini, max_depth=10, n_estimators=250 ..................\n",
      "[CV]  criterion=gini, max_depth=10, n_estimators=250, score=0.865, total=  20.3s\n",
      "[CV] criterion=gini, max_depth=10, n_estimators=300 ..................\n",
      "[CV]  criterion=gini, max_depth=10, n_estimators=300, score=0.869, total=  24.4s\n",
      "[CV] criterion=gini, max_depth=10, n_estimators=300 ..................\n",
      "[CV]  criterion=gini, max_depth=10, n_estimators=300, score=0.862, total=  24.5s\n",
      "[CV] criterion=gini, max_depth=10, n_estimators=300 ..................\n",
      "[CV]  criterion=gini, max_depth=10, n_estimators=300, score=0.862, total=  24.8s\n",
      "[CV] criterion=gini, max_depth=10, n_estimators=300 ..................\n",
      "[CV]  criterion=gini, max_depth=10, n_estimators=300, score=0.866, total=  24.3s\n",
      "[CV] criterion=gini, max_depth=10, n_estimators=300 ..................\n",
      "[CV]  criterion=gini, max_depth=10, n_estimators=300, score=0.865, total=  24.6s\n",
      "[CV] criterion=gini, max_depth=10, n_estimators=350 ..................\n",
      "[CV]  criterion=gini, max_depth=10, n_estimators=350, score=0.869, total=  28.6s\n",
      "[CV] criterion=gini, max_depth=10, n_estimators=350 ..................\n",
      "[CV]  criterion=gini, max_depth=10, n_estimators=350, score=0.861, total=  28.5s\n",
      "[CV] criterion=gini, max_depth=10, n_estimators=350 ..................\n",
      "[CV]  criterion=gini, max_depth=10, n_estimators=350, score=0.863, total=  28.6s\n",
      "[CV] criterion=gini, max_depth=10, n_estimators=350 ..................\n",
      "[CV]  criterion=gini, max_depth=10, n_estimators=350, score=0.866, total=  28.5s\n",
      "[CV] criterion=gini, max_depth=10, n_estimators=350 ..................\n",
      "[CV]  criterion=gini, max_depth=10, n_estimators=350, score=0.866, total=  28.6s\n",
      "[CV] criterion=gini, max_depth=15, n_estimators=10 ...................\n",
      "[CV]  criterion=gini, max_depth=15, n_estimators=10, score=0.898, total=   1.1s\n",
      "[CV] criterion=gini, max_depth=15, n_estimators=10 ...................\n",
      "[CV]  criterion=gini, max_depth=15, n_estimators=10, score=0.898, total=   1.1s\n",
      "[CV] criterion=gini, max_depth=15, n_estimators=10 ...................\n",
      "[CV]  criterion=gini, max_depth=15, n_estimators=10, score=0.896, total=   1.1s\n",
      "[CV] criterion=gini, max_depth=15, n_estimators=10 ...................\n",
      "[CV]  criterion=gini, max_depth=15, n_estimators=10, score=0.895, total=   1.0s\n",
      "[CV] criterion=gini, max_depth=15, n_estimators=10 ...................\n",
      "[CV]  criterion=gini, max_depth=15, n_estimators=10, score=0.899, total=   1.1s\n",
      "[CV] criterion=gini, max_depth=15, n_estimators=100 ..................\n",
      "[CV]  criterion=gini, max_depth=15, n_estimators=100, score=0.912, total=  10.3s\n",
      "[CV] criterion=gini, max_depth=15, n_estimators=100 ..................\n",
      "[CV]  criterion=gini, max_depth=15, n_estimators=100, score=0.910, total=  10.4s\n",
      "[CV] criterion=gini, max_depth=15, n_estimators=100 ..................\n",
      "[CV]  criterion=gini, max_depth=15, n_estimators=100, score=0.908, total=  10.3s\n",
      "[CV] criterion=gini, max_depth=15, n_estimators=100 ..................\n",
      "[CV]  criterion=gini, max_depth=15, n_estimators=100, score=0.910, total=  10.4s\n",
      "[CV] criterion=gini, max_depth=15, n_estimators=100 ..................\n",
      "[CV]  criterion=gini, max_depth=15, n_estimators=100, score=0.915, total=  10.5s\n",
      "[CV] criterion=gini, max_depth=15, n_estimators=150 ..................\n",
      "[CV]  criterion=gini, max_depth=15, n_estimators=150, score=0.914, total=  15.4s\n",
      "[CV] criterion=gini, max_depth=15, n_estimators=150 ..................\n",
      "[CV]  criterion=gini, max_depth=15, n_estimators=150, score=0.909, total=  15.6s\n",
      "[CV] criterion=gini, max_depth=15, n_estimators=150 ..................\n",
      "[CV]  criterion=gini, max_depth=15, n_estimators=150, score=0.910, total=  15.5s\n",
      "[CV] criterion=gini, max_depth=15, n_estimators=150 ..................\n",
      "[CV]  criterion=gini, max_depth=15, n_estimators=150, score=0.912, total=  15.8s\n",
      "[CV] criterion=gini, max_depth=15, n_estimators=150 ..................\n",
      "[CV]  criterion=gini, max_depth=15, n_estimators=150, score=0.914, total=  15.8s\n",
      "[CV] criterion=gini, max_depth=15, n_estimators=200 ..................\n",
      "[CV]  criterion=gini, max_depth=15, n_estimators=200, score=0.915, total=  20.8s\n",
      "[CV] criterion=gini, max_depth=15, n_estimators=200 ..................\n",
      "[CV]  criterion=gini, max_depth=15, n_estimators=200, score=0.910, total=  20.8s\n",
      "[CV] criterion=gini, max_depth=15, n_estimators=200 ..................\n",
      "[CV]  criterion=gini, max_depth=15, n_estimators=200, score=0.910, total=  20.8s\n",
      "[CV] criterion=gini, max_depth=15, n_estimators=200 ..................\n",
      "[CV]  criterion=gini, max_depth=15, n_estimators=200, score=0.912, total=  20.8s\n",
      "[CV] criterion=gini, max_depth=15, n_estimators=200 ..................\n",
      "[CV]  criterion=gini, max_depth=15, n_estimators=200, score=0.916, total=  21.0s\n",
      "[CV] criterion=gini, max_depth=15, n_estimators=250 ..................\n",
      "[CV]  criterion=gini, max_depth=15, n_estimators=250, score=0.915, total=  25.8s\n",
      "[CV] criterion=gini, max_depth=15, n_estimators=250 ..................\n",
      "[CV]  criterion=gini, max_depth=15, n_estimators=250, score=0.910, total=  26.2s\n",
      "[CV] criterion=gini, max_depth=15, n_estimators=250 ..................\n",
      "[CV]  criterion=gini, max_depth=15, n_estimators=250, score=0.910, total=  26.0s\n",
      "[CV] criterion=gini, max_depth=15, n_estimators=250 ..................\n",
      "[CV]  criterion=gini, max_depth=15, n_estimators=250, score=0.912, total=  26.4s\n",
      "[CV] criterion=gini, max_depth=15, n_estimators=250 ..................\n",
      "[CV]  criterion=gini, max_depth=15, n_estimators=250, score=0.915, total= 6.2min\n",
      "[CV] criterion=gini, max_depth=15, n_estimators=300 ..................\n",
      "[CV]  criterion=gini, max_depth=15, n_estimators=300, score=0.914, total=  31.7s\n",
      "[CV] criterion=gini, max_depth=15, n_estimators=300 ..................\n",
      "[CV]  criterion=gini, max_depth=15, n_estimators=300, score=0.909, total=  31.2s\n",
      "[CV] criterion=gini, max_depth=15, n_estimators=300 ..................\n",
      "[CV]  criterion=gini, max_depth=15, n_estimators=300, score=0.911, total=  31.3s\n",
      "[CV] criterion=gini, max_depth=15, n_estimators=300 ..................\n",
      "[CV]  criterion=gini, max_depth=15, n_estimators=300, score=0.912, total=  31.1s\n",
      "[CV] criterion=gini, max_depth=15, n_estimators=300 ..................\n",
      "[CV]  criterion=gini, max_depth=15, n_estimators=300, score=0.915, total=  31.2s\n",
      "[CV] criterion=gini, max_depth=15, n_estimators=350 ..................\n",
      "[CV]  criterion=gini, max_depth=15, n_estimators=350, score=0.914, total=  35.9s\n",
      "[CV] criterion=gini, max_depth=15, n_estimators=350 ..................\n",
      "[CV]  criterion=gini, max_depth=15, n_estimators=350, score=0.910, total=  36.3s\n",
      "[CV] criterion=gini, max_depth=15, n_estimators=350 ..................\n",
      "[CV]  criterion=gini, max_depth=15, n_estimators=350, score=0.911, total=  36.5s\n",
      "[CV] criterion=gini, max_depth=15, n_estimators=350 ..................\n",
      "[CV]  criterion=gini, max_depth=15, n_estimators=350, score=0.912, total= 1.2min\n",
      "[CV] criterion=gini, max_depth=15, n_estimators=350 ..................\n",
      "[CV]  criterion=gini, max_depth=15, n_estimators=350, score=0.914, total=  36.4s\n",
      "[CV] criterion=gini, max_depth=20, n_estimators=10 ...................\n",
      "[CV]  criterion=gini, max_depth=20, n_estimators=10, score=0.910, total=   1.1s\n",
      "[CV] criterion=gini, max_depth=20, n_estimators=10 ...................\n",
      "[CV]  criterion=gini, max_depth=20, n_estimators=10, score=0.913, total=   1.2s\n",
      "[CV] criterion=gini, max_depth=20, n_estimators=10 ...................\n",
      "[CV]  criterion=gini, max_depth=20, n_estimators=10, score=0.912, total=   1.3s\n",
      "[CV] criterion=gini, max_depth=20, n_estimators=10 ...................\n",
      "[CV]  criterion=gini, max_depth=20, n_estimators=10, score=0.909, total=   1.1s\n",
      "[CV] criterion=gini, max_depth=20, n_estimators=10 ...................\n",
      "[CV]  criterion=gini, max_depth=20, n_estimators=10, score=0.912, total=   1.1s\n",
      "[CV] criterion=gini, max_depth=20, n_estimators=100 ..................\n",
      "[CV]  criterion=gini, max_depth=20, n_estimators=100, score=0.928, total=  11.3s\n",
      "[CV] criterion=gini, max_depth=20, n_estimators=100 ..................\n"
     ]
    },
    {
     "name": "stdout",
     "output_type": "stream",
     "text": [
      "[CV]  criterion=gini, max_depth=20, n_estimators=100, score=0.925, total=  11.6s\n",
      "[CV] criterion=gini, max_depth=20, n_estimators=100 ..................\n",
      "[CV]  criterion=gini, max_depth=20, n_estimators=100, score=0.924, total=  11.4s\n",
      "[CV] criterion=gini, max_depth=20, n_estimators=100 ..................\n",
      "[CV]  criterion=gini, max_depth=20, n_estimators=100, score=0.926, total=  11.4s\n",
      "[CV] criterion=gini, max_depth=20, n_estimators=100 ..................\n",
      "[CV]  criterion=gini, max_depth=20, n_estimators=100, score=0.927, total=  11.4s\n",
      "[CV] criterion=gini, max_depth=20, n_estimators=150 ..................\n",
      "[CV]  criterion=gini, max_depth=20, n_estimators=150, score=0.927, total=  17.1s\n",
      "[CV] criterion=gini, max_depth=20, n_estimators=150 ..................\n",
      "[CV]  criterion=gini, max_depth=20, n_estimators=150, score=0.925, total=  17.0s\n",
      "[CV] criterion=gini, max_depth=20, n_estimators=150 ..................\n",
      "[CV]  criterion=gini, max_depth=20, n_estimators=150, score=0.924, total=  17.1s\n",
      "[CV] criterion=gini, max_depth=20, n_estimators=150 ..................\n",
      "[CV]  criterion=gini, max_depth=20, n_estimators=150, score=0.926, total=  17.1s\n",
      "[CV] criterion=gini, max_depth=20, n_estimators=150 ..................\n",
      "[CV]  criterion=gini, max_depth=20, n_estimators=150, score=0.928, total=  16.9s\n",
      "[CV] criterion=gini, max_depth=20, n_estimators=200 ..................\n",
      "[CV]  criterion=gini, max_depth=20, n_estimators=200, score=0.926, total=  22.9s\n",
      "[CV] criterion=gini, max_depth=20, n_estimators=200 ..................\n",
      "[CV]  criterion=gini, max_depth=20, n_estimators=200, score=0.926, total=  22.6s\n",
      "[CV] criterion=gini, max_depth=20, n_estimators=200 ..................\n",
      "[CV]  criterion=gini, max_depth=20, n_estimators=200, score=0.925, total=  22.9s\n",
      "[CV] criterion=gini, max_depth=20, n_estimators=200 ..................\n",
      "[CV]  criterion=gini, max_depth=20, n_estimators=200, score=0.927, total=  22.7s\n",
      "[CV] criterion=gini, max_depth=20, n_estimators=200 ..................\n",
      "[CV]  criterion=gini, max_depth=20, n_estimators=200, score=0.928, total=  22.7s\n",
      "[CV] criterion=gini, max_depth=20, n_estimators=250 ..................\n",
      "[CV]  criterion=gini, max_depth=20, n_estimators=250, score=0.927, total=  28.1s\n",
      "[CV] criterion=gini, max_depth=20, n_estimators=250 ..................\n",
      "[CV]  criterion=gini, max_depth=20, n_estimators=250, score=0.926, total=  28.5s\n",
      "[CV] criterion=gini, max_depth=20, n_estimators=250 ..................\n",
      "[CV]  criterion=gini, max_depth=20, n_estimators=250, score=0.925, total=  28.5s\n",
      "[CV] criterion=gini, max_depth=20, n_estimators=250 ..................\n",
      "[CV]  criterion=gini, max_depth=20, n_estimators=250, score=0.926, total=  28.6s\n",
      "[CV] criterion=gini, max_depth=20, n_estimators=250 ..................\n",
      "[CV]  criterion=gini, max_depth=20, n_estimators=250, score=0.928, total=10.7min\n",
      "[CV] criterion=gini, max_depth=20, n_estimators=300 ..................\n",
      "[CV]  criterion=gini, max_depth=20, n_estimators=300, score=0.927, total= 6.5min\n",
      "[CV] criterion=gini, max_depth=20, n_estimators=300 ..................\n",
      "[CV]  criterion=gini, max_depth=20, n_estimators=300, score=0.927, total=  34.2s\n",
      "[CV] criterion=gini, max_depth=20, n_estimators=300 ..................\n",
      "[CV]  criterion=gini, max_depth=20, n_estimators=300, score=0.925, total=  34.6s\n",
      "[CV] criterion=gini, max_depth=20, n_estimators=300 ..................\n",
      "[CV]  criterion=gini, max_depth=20, n_estimators=300, score=0.926, total=  34.2s\n",
      "[CV] criterion=gini, max_depth=20, n_estimators=300 ..................\n",
      "[CV]  criterion=gini, max_depth=20, n_estimators=300, score=0.928, total=  34.0s\n",
      "[CV] criterion=gini, max_depth=20, n_estimators=350 ..................\n",
      "[CV]  criterion=gini, max_depth=20, n_estimators=350, score=0.928, total=  40.1s\n",
      "[CV] criterion=gini, max_depth=20, n_estimators=350 ..................\n",
      "[CV]  criterion=gini, max_depth=20, n_estimators=350, score=0.927, total=  40.0s\n",
      "[CV] criterion=gini, max_depth=20, n_estimators=350 ..................\n",
      "[CV]  criterion=gini, max_depth=20, n_estimators=350, score=0.924, total=  39.5s\n",
      "[CV] criterion=gini, max_depth=20, n_estimators=350 ..................\n",
      "[CV]  criterion=gini, max_depth=20, n_estimators=350, score=0.927, total=  39.8s\n",
      "[CV] criterion=gini, max_depth=20, n_estimators=350 ..................\n",
      "[CV]  criterion=gini, max_depth=20, n_estimators=350, score=0.928, total=  39.9s\n",
      "[CV] criterion=gini, max_depth=25, n_estimators=10 ...................\n",
      "[CV]  criterion=gini, max_depth=25, n_estimators=10, score=0.913, total=   1.2s\n",
      "[CV] criterion=gini, max_depth=25, n_estimators=10 ...................\n",
      "[CV]  criterion=gini, max_depth=25, n_estimators=10, score=0.917, total=   1.2s\n",
      "[CV] criterion=gini, max_depth=25, n_estimators=10 ...................\n",
      "[CV]  criterion=gini, max_depth=25, n_estimators=10, score=0.910, total=   1.2s\n",
      "[CV] criterion=gini, max_depth=25, n_estimators=10 ...................\n",
      "[CV]  criterion=gini, max_depth=25, n_estimators=10, score=0.913, total=   1.2s\n",
      "[CV] criterion=gini, max_depth=25, n_estimators=10 ...................\n",
      "[CV]  criterion=gini, max_depth=25, n_estimators=10, score=0.914, total=   1.2s\n",
      "[CV] criterion=gini, max_depth=25, n_estimators=100 ..................\n",
      "[CV]  criterion=gini, max_depth=25, n_estimators=100, score=0.930, total=  12.0s\n",
      "[CV] criterion=gini, max_depth=25, n_estimators=100 ..................\n",
      "[CV]  criterion=gini, max_depth=25, n_estimators=100, score=0.929, total=  11.6s\n",
      "[CV] criterion=gini, max_depth=25, n_estimators=100 ..................\n",
      "[CV]  criterion=gini, max_depth=25, n_estimators=100, score=0.927, total=  11.7s\n",
      "[CV] criterion=gini, max_depth=25, n_estimators=100 ..................\n",
      "[CV]  criterion=gini, max_depth=25, n_estimators=100, score=0.931, total=  11.6s\n",
      "[CV] criterion=gini, max_depth=25, n_estimators=100 ..................\n",
      "[CV]  criterion=gini, max_depth=25, n_estimators=100, score=0.931, total=  11.8s\n",
      "[CV] criterion=gini, max_depth=25, n_estimators=150 ..................\n",
      "[CV]  criterion=gini, max_depth=25, n_estimators=150, score=0.931, total=  17.9s\n",
      "[CV] criterion=gini, max_depth=25, n_estimators=150 ..................\n",
      "[CV]  criterion=gini, max_depth=25, n_estimators=150, score=0.930, total=  17.4s\n",
      "[CV] criterion=gini, max_depth=25, n_estimators=150 ..................\n",
      "[CV]  criterion=gini, max_depth=25, n_estimators=150, score=0.929, total=  17.8s\n",
      "[CV] criterion=gini, max_depth=25, n_estimators=150 ..................\n",
      "[CV]  criterion=gini, max_depth=25, n_estimators=150, score=0.932, total=  17.5s\n",
      "[CV] criterion=gini, max_depth=25, n_estimators=150 ..................\n",
      "[CV]  criterion=gini, max_depth=25, n_estimators=150, score=0.930, total=  18.1s\n",
      "[CV] criterion=gini, max_depth=25, n_estimators=200 ..................\n",
      "[CV]  criterion=gini, max_depth=25, n_estimators=200, score=0.932, total=  23.8s\n",
      "[CV] criterion=gini, max_depth=25, n_estimators=200 ..................\n",
      "[CV]  criterion=gini, max_depth=25, n_estimators=200, score=0.930, total=  23.6s\n",
      "[CV] criterion=gini, max_depth=25, n_estimators=200 ..................\n",
      "[CV]  criterion=gini, max_depth=25, n_estimators=200, score=0.928, total=  23.7s\n",
      "[CV] criterion=gini, max_depth=25, n_estimators=200 ..................\n",
      "[CV]  criterion=gini, max_depth=25, n_estimators=200, score=0.931, total=  24.1s\n",
      "[CV] criterion=gini, max_depth=25, n_estimators=200 ..................\n",
      "[CV]  criterion=gini, max_depth=25, n_estimators=200, score=0.931, total=  23.8s\n",
      "[CV] criterion=gini, max_depth=25, n_estimators=250 ..................\n",
      "[CV]  criterion=gini, max_depth=25, n_estimators=250, score=0.933, total=  29.9s\n",
      "[CV] criterion=gini, max_depth=25, n_estimators=250 ..................\n",
      "[CV]  criterion=gini, max_depth=25, n_estimators=250, score=0.930, total=  30.1s\n",
      "[CV] criterion=gini, max_depth=25, n_estimators=250 ..................\n",
      "[CV]  criterion=gini, max_depth=25, n_estimators=250, score=0.929, total=  29.8s\n",
      "[CV] criterion=gini, max_depth=25, n_estimators=250 ..................\n",
      "[CV]  criterion=gini, max_depth=25, n_estimators=250, score=0.931, total=  30.3s\n",
      "[CV] criterion=gini, max_depth=25, n_estimators=250 ..................\n",
      "[CV]  criterion=gini, max_depth=25, n_estimators=250, score=0.933, total=  29.9s\n",
      "[CV] criterion=gini, max_depth=25, n_estimators=300 ..................\n"
     ]
    },
    {
     "name": "stdout",
     "output_type": "stream",
     "text": [
      "[CV]  criterion=gini, max_depth=25, n_estimators=300, score=0.932, total=  35.7s\n",
      "[CV] criterion=gini, max_depth=25, n_estimators=300 ..................\n",
      "[CV]  criterion=gini, max_depth=25, n_estimators=300, score=0.931, total=  39.1s\n",
      "[CV] criterion=gini, max_depth=25, n_estimators=300 ..................\n",
      "[CV]  criterion=gini, max_depth=25, n_estimators=300, score=0.929, total=  37.7s\n",
      "[CV] criterion=gini, max_depth=25, n_estimators=300 ..................\n",
      "[CV]  criterion=gini, max_depth=25, n_estimators=300, score=0.932, total=  36.8s\n",
      "[CV] criterion=gini, max_depth=25, n_estimators=300 ..................\n",
      "[CV]  criterion=gini, max_depth=25, n_estimators=300, score=0.933, total=  37.1s\n",
      "[CV] criterion=gini, max_depth=25, n_estimators=350 ..................\n",
      "[CV]  criterion=gini, max_depth=25, n_estimators=350, score=0.933, total=  43.3s\n",
      "[CV] criterion=gini, max_depth=25, n_estimators=350 ..................\n",
      "[CV]  criterion=gini, max_depth=25, n_estimators=350, score=0.931, total=  43.0s\n",
      "[CV] criterion=gini, max_depth=25, n_estimators=350 ..................\n",
      "[CV]  criterion=gini, max_depth=25, n_estimators=350, score=0.929, total=  43.6s\n",
      "[CV] criterion=gini, max_depth=25, n_estimators=350 ..................\n",
      "[CV]  criterion=gini, max_depth=25, n_estimators=350, score=0.933, total=  43.0s\n",
      "[CV] criterion=gini, max_depth=25, n_estimators=350 ..................\n",
      "[CV]  criterion=gini, max_depth=25, n_estimators=350, score=0.932, total=  42.9s\n",
      "[CV] criterion=gini, max_depth=30, n_estimators=10 ...................\n",
      "[CV]  criterion=gini, max_depth=30, n_estimators=10, score=0.914, total=   1.3s\n",
      "[CV] criterion=gini, max_depth=30, n_estimators=10 ...................\n",
      "[CV]  criterion=gini, max_depth=30, n_estimators=10, score=0.915, total=   1.2s\n",
      "[CV] criterion=gini, max_depth=30, n_estimators=10 ...................\n",
      "[CV]  criterion=gini, max_depth=30, n_estimators=10, score=0.913, total=   1.3s\n",
      "[CV] criterion=gini, max_depth=30, n_estimators=10 ...................\n",
      "[CV]  criterion=gini, max_depth=30, n_estimators=10, score=0.914, total=   1.3s\n",
      "[CV] criterion=gini, max_depth=30, n_estimators=10 ...................\n",
      "[CV]  criterion=gini, max_depth=30, n_estimators=10, score=0.913, total=   1.5s\n",
      "[CV] criterion=gini, max_depth=30, n_estimators=100 ..................\n",
      "[CV]  criterion=gini, max_depth=30, n_estimators=100, score=0.932, total=  12.5s\n",
      "[CV] criterion=gini, max_depth=30, n_estimators=100 ..................\n",
      "[CV]  criterion=gini, max_depth=30, n_estimators=100, score=0.930, total=  12.2s\n",
      "[CV] criterion=gini, max_depth=30, n_estimators=100 ..................\n",
      "[CV]  criterion=gini, max_depth=30, n_estimators=100, score=0.928, total=  12.1s\n",
      "[CV] criterion=gini, max_depth=30, n_estimators=100 ..................\n",
      "[CV]  criterion=gini, max_depth=30, n_estimators=100, score=0.931, total=  12.3s\n",
      "[CV] criterion=gini, max_depth=30, n_estimators=100 ..................\n",
      "[CV]  criterion=gini, max_depth=30, n_estimators=100, score=0.930, total=  12.2s\n",
      "[CV] criterion=gini, max_depth=30, n_estimators=150 ..................\n",
      "[CV]  criterion=gini, max_depth=30, n_estimators=150, score=0.934, total=  18.9s\n",
      "[CV] criterion=gini, max_depth=30, n_estimators=150 ..................\n",
      "[CV]  criterion=gini, max_depth=30, n_estimators=150, score=0.930, total=  18.5s\n",
      "[CV] criterion=gini, max_depth=30, n_estimators=150 ..................\n",
      "[CV]  criterion=gini, max_depth=30, n_estimators=150, score=0.929, total=  18.9s\n",
      "[CV] criterion=gini, max_depth=30, n_estimators=150 ..................\n",
      "[CV]  criterion=gini, max_depth=30, n_estimators=150, score=0.932, total=  18.3s\n",
      "[CV] criterion=gini, max_depth=30, n_estimators=150 ..................\n",
      "[CV]  criterion=gini, max_depth=30, n_estimators=150, score=0.930, total=  18.4s\n",
      "[CV] criterion=gini, max_depth=30, n_estimators=200 ..................\n",
      "[CV]  criterion=gini, max_depth=30, n_estimators=200, score=0.934, total=  24.6s\n",
      "[CV] criterion=gini, max_depth=30, n_estimators=200 ..................\n",
      "[CV]  criterion=gini, max_depth=30, n_estimators=200, score=0.931, total=  25.0s\n",
      "[CV] criterion=gini, max_depth=30, n_estimators=200 ..................\n",
      "[CV]  criterion=gini, max_depth=30, n_estimators=200, score=0.929, total=  24.9s\n",
      "[CV] criterion=gini, max_depth=30, n_estimators=200 ..................\n",
      "[CV]  criterion=gini, max_depth=30, n_estimators=200, score=0.933, total=  24.5s\n",
      "[CV] criterion=gini, max_depth=30, n_estimators=200 ..................\n",
      "[CV]  criterion=gini, max_depth=30, n_estimators=200, score=0.930, total=  24.9s\n",
      "[CV] criterion=gini, max_depth=30, n_estimators=250 ..................\n",
      "[CV]  criterion=gini, max_depth=30, n_estimators=250, score=0.933, total=  31.4s\n",
      "[CV] criterion=gini, max_depth=30, n_estimators=250 ..................\n",
      "[CV]  criterion=gini, max_depth=30, n_estimators=250, score=0.931, total=  31.2s\n",
      "[CV] criterion=gini, max_depth=30, n_estimators=250 ..................\n",
      "[CV]  criterion=gini, max_depth=30, n_estimators=250, score=0.930, total=  31.5s\n",
      "[CV] criterion=gini, max_depth=30, n_estimators=250 ..................\n",
      "[CV]  criterion=gini, max_depth=30, n_estimators=250, score=0.933, total=  31.6s\n",
      "[CV] criterion=gini, max_depth=30, n_estimators=250 ..................\n",
      "[CV]  criterion=gini, max_depth=30, n_estimators=250, score=0.931, total=  30.7s\n",
      "[CV] criterion=gini, max_depth=30, n_estimators=300 ..................\n",
      "[CV]  criterion=gini, max_depth=30, n_estimators=300, score=0.934, total=  37.1s\n",
      "[CV] criterion=gini, max_depth=30, n_estimators=300 ..................\n",
      "[CV]  criterion=gini, max_depth=30, n_estimators=300, score=0.932, total=  36.8s\n",
      "[CV] criterion=gini, max_depth=30, n_estimators=300 ..................\n",
      "[CV]  criterion=gini, max_depth=30, n_estimators=300, score=0.930, total=  37.4s\n",
      "[CV] criterion=gini, max_depth=30, n_estimators=300 ..................\n",
      "[CV]  criterion=gini, max_depth=30, n_estimators=300, score=0.934, total=  36.8s\n",
      "[CV] criterion=gini, max_depth=30, n_estimators=300 ..................\n",
      "[CV]  criterion=gini, max_depth=30, n_estimators=300, score=0.932, total=  37.6s\n",
      "[CV] criterion=gini, max_depth=30, n_estimators=350 ..................\n",
      "[CV]  criterion=gini, max_depth=30, n_estimators=350, score=0.934, total=  43.6s\n",
      "[CV] criterion=gini, max_depth=30, n_estimators=350 ..................\n",
      "[CV]  criterion=gini, max_depth=30, n_estimators=350, score=0.932, total=  43.2s\n",
      "[CV] criterion=gini, max_depth=30, n_estimators=350 ..................\n",
      "[CV]  criterion=gini, max_depth=30, n_estimators=350, score=0.929, total=  43.3s\n",
      "[CV] criterion=gini, max_depth=30, n_estimators=350 ..................\n",
      "[CV]  criterion=gini, max_depth=30, n_estimators=350, score=0.934, total=  42.3s\n",
      "[CV] criterion=gini, max_depth=30, n_estimators=350 ..................\n",
      "[CV]  criterion=gini, max_depth=30, n_estimators=350, score=0.932, total=  42.2s\n",
      "[CV] criterion=entropy, max_depth=5, n_estimators=10 .................\n",
      "[CV]  criterion=entropy, max_depth=5, n_estimators=10, score=0.747, total=   0.7s\n",
      "[CV] criterion=entropy, max_depth=5, n_estimators=10 .................\n",
      "[CV]  criterion=entropy, max_depth=5, n_estimators=10, score=0.745, total=   0.7s\n",
      "[CV] criterion=entropy, max_depth=5, n_estimators=10 .................\n",
      "[CV]  criterion=entropy, max_depth=5, n_estimators=10, score=0.735, total=   0.7s\n",
      "[CV] criterion=entropy, max_depth=5, n_estimators=10 .................\n",
      "[CV]  criterion=entropy, max_depth=5, n_estimators=10, score=0.740, total=   0.7s\n",
      "[CV] criterion=entropy, max_depth=5, n_estimators=10 .................\n",
      "[CV]  criterion=entropy, max_depth=5, n_estimators=10, score=0.749, total=   0.7s\n",
      "[CV] criterion=entropy, max_depth=5, n_estimators=100 ................\n",
      "[CV]  criterion=entropy, max_depth=5, n_estimators=100, score=0.751, total=   6.6s\n",
      "[CV] criterion=entropy, max_depth=5, n_estimators=100 ................\n",
      "[CV]  criterion=entropy, max_depth=5, n_estimators=100, score=0.754, total=   6.4s\n",
      "[CV] criterion=entropy, max_depth=5, n_estimators=100 ................\n",
      "[CV]  criterion=entropy, max_depth=5, n_estimators=100, score=0.757, total=   7.2s\n",
      "[CV] criterion=entropy, max_depth=5, n_estimators=100 ................\n",
      "[CV]  criterion=entropy, max_depth=5, n_estimators=100, score=0.757, total=   6.8s\n",
      "[CV] criterion=entropy, max_depth=5, n_estimators=100 ................\n"
     ]
    },
    {
     "name": "stdout",
     "output_type": "stream",
     "text": [
      "[CV]  criterion=entropy, max_depth=5, n_estimators=100, score=0.760, total=   6.8s\n",
      "[CV] criterion=entropy, max_depth=5, n_estimators=150 ................\n",
      "[CV]  criterion=entropy, max_depth=5, n_estimators=150, score=0.752, total=  10.1s\n",
      "[CV] criterion=entropy, max_depth=5, n_estimators=150 ................\n",
      "[CV]  criterion=entropy, max_depth=5, n_estimators=150, score=0.753, total=  12.9s\n",
      "[CV] criterion=entropy, max_depth=5, n_estimators=150 ................\n",
      "[CV]  criterion=entropy, max_depth=5, n_estimators=150, score=0.757, total=  10.3s\n",
      "[CV] criterion=entropy, max_depth=5, n_estimators=150 ................\n",
      "[CV]  criterion=entropy, max_depth=5, n_estimators=150, score=0.759, total=   9.7s\n",
      "[CV] criterion=entropy, max_depth=5, n_estimators=150 ................\n",
      "[CV]  criterion=entropy, max_depth=5, n_estimators=150, score=0.761, total=   9.5s\n",
      "[CV] criterion=entropy, max_depth=5, n_estimators=200 ................\n",
      "[CV]  criterion=entropy, max_depth=5, n_estimators=200, score=0.754, total=  12.9s\n",
      "[CV] criterion=entropy, max_depth=5, n_estimators=200 ................\n",
      "[CV]  criterion=entropy, max_depth=5, n_estimators=200, score=0.753, total=  12.9s\n",
      "[CV] criterion=entropy, max_depth=5, n_estimators=200 ................\n",
      "[CV]  criterion=entropy, max_depth=5, n_estimators=200, score=0.755, total=  13.4s\n",
      "[CV] criterion=entropy, max_depth=5, n_estimators=200 ................\n",
      "[CV]  criterion=entropy, max_depth=5, n_estimators=200, score=0.757, total=  12.9s\n",
      "[CV] criterion=entropy, max_depth=5, n_estimators=200 ................\n",
      "[CV]  criterion=entropy, max_depth=5, n_estimators=200, score=0.758, total=  12.9s\n",
      "[CV] criterion=entropy, max_depth=5, n_estimators=250 ................\n",
      "[CV]  criterion=entropy, max_depth=5, n_estimators=250, score=0.752, total=  18.2s\n",
      "[CV] criterion=entropy, max_depth=5, n_estimators=250 ................\n",
      "[CV]  criterion=entropy, max_depth=5, n_estimators=250, score=0.754, total=  19.2s\n",
      "[CV] criterion=entropy, max_depth=5, n_estimators=250 ................\n",
      "[CV]  criterion=entropy, max_depth=5, n_estimators=250, score=0.753, total=  16.2s\n",
      "[CV] criterion=entropy, max_depth=5, n_estimators=250 ................\n",
      "[CV]  criterion=entropy, max_depth=5, n_estimators=250, score=0.758, total=  16.3s\n",
      "[CV] criterion=entropy, max_depth=5, n_estimators=250 ................\n",
      "[CV]  criterion=entropy, max_depth=5, n_estimators=250, score=0.758, total=  16.3s\n",
      "[CV] criterion=entropy, max_depth=5, n_estimators=300 ................\n",
      "[CV]  criterion=entropy, max_depth=5, n_estimators=300, score=0.750, total=  19.5s\n",
      "[CV] criterion=entropy, max_depth=5, n_estimators=300 ................\n",
      "[CV]  criterion=entropy, max_depth=5, n_estimators=300, score=0.753, total=  21.3s\n",
      "[CV] criterion=entropy, max_depth=5, n_estimators=300 ................\n",
      "[CV]  criterion=entropy, max_depth=5, n_estimators=300, score=0.752, total=  19.9s\n",
      "[CV] criterion=entropy, max_depth=5, n_estimators=300 ................\n",
      "[CV]  criterion=entropy, max_depth=5, n_estimators=300, score=0.755, total=  19.6s\n",
      "[CV] criterion=entropy, max_depth=5, n_estimators=300 ................\n",
      "[CV]  criterion=entropy, max_depth=5, n_estimators=300, score=0.757, total=  19.1s\n",
      "[CV] criterion=entropy, max_depth=5, n_estimators=350 ................\n",
      "[CV]  criterion=entropy, max_depth=5, n_estimators=350, score=0.752, total=  23.2s\n",
      "[CV] criterion=entropy, max_depth=5, n_estimators=350 ................\n",
      "[CV]  criterion=entropy, max_depth=5, n_estimators=350, score=0.752, total=  22.9s\n",
      "[CV] criterion=entropy, max_depth=5, n_estimators=350 ................\n",
      "[CV]  criterion=entropy, max_depth=5, n_estimators=350, score=0.753, total=  22.8s\n",
      "[CV] criterion=entropy, max_depth=5, n_estimators=350 ................\n",
      "[CV]  criterion=entropy, max_depth=5, n_estimators=350, score=0.753, total=  22.5s\n",
      "[CV] criterion=entropy, max_depth=5, n_estimators=350 ................\n",
      "[CV]  criterion=entropy, max_depth=5, n_estimators=350, score=0.757, total=  22.9s\n",
      "[CV] criterion=entropy, max_depth=10, n_estimators=10 ................\n",
      "[CV]  criterion=entropy, max_depth=10, n_estimators=10, score=0.848, total=   1.1s\n",
      "[CV] criterion=entropy, max_depth=10, n_estimators=10 ................\n",
      "[CV]  criterion=entropy, max_depth=10, n_estimators=10, score=0.847, total=   1.2s\n",
      "[CV] criterion=entropy, max_depth=10, n_estimators=10 ................\n",
      "[CV]  criterion=entropy, max_depth=10, n_estimators=10, score=0.837, total=   1.2s\n",
      "[CV] criterion=entropy, max_depth=10, n_estimators=10 ................\n",
      "[CV]  criterion=entropy, max_depth=10, n_estimators=10, score=0.848, total=   1.5s\n",
      "[CV] criterion=entropy, max_depth=10, n_estimators=10 ................\n",
      "[CV]  criterion=entropy, max_depth=10, n_estimators=10, score=0.845, total=   1.2s\n",
      "[CV] criterion=entropy, max_depth=10, n_estimators=100 ...............\n",
      "[CV]  criterion=entropy, max_depth=10, n_estimators=100, score=0.862, total=  11.5s\n",
      "[CV] criterion=entropy, max_depth=10, n_estimators=100 ...............\n",
      "[CV]  criterion=entropy, max_depth=10, n_estimators=100, score=0.855, total=  11.4s\n",
      "[CV] criterion=entropy, max_depth=10, n_estimators=100 ...............\n",
      "[CV]  criterion=entropy, max_depth=10, n_estimators=100, score=0.856, total=  11.2s\n",
      "[CV] criterion=entropy, max_depth=10, n_estimators=100 ...............\n",
      "[CV]  criterion=entropy, max_depth=10, n_estimators=100, score=0.857, total=  11.2s\n",
      "[CV] criterion=entropy, max_depth=10, n_estimators=100 ...............\n",
      "[CV]  criterion=entropy, max_depth=10, n_estimators=100, score=0.858, total=  11.1s\n",
      "[CV] criterion=entropy, max_depth=10, n_estimators=150 ...............\n",
      "[CV]  criterion=entropy, max_depth=10, n_estimators=150, score=0.860, total=  16.8s\n",
      "[CV] criterion=entropy, max_depth=10, n_estimators=150 ...............\n",
      "[CV]  criterion=entropy, max_depth=10, n_estimators=150, score=0.856, total=  16.7s\n",
      "[CV] criterion=entropy, max_depth=10, n_estimators=150 ...............\n",
      "[CV]  criterion=entropy, max_depth=10, n_estimators=150, score=0.857, total=  17.4s\n",
      "[CV] criterion=entropy, max_depth=10, n_estimators=150 ...............\n",
      "[CV]  criterion=entropy, max_depth=10, n_estimators=150, score=0.858, total=  17.4s\n",
      "[CV] criterion=entropy, max_depth=10, n_estimators=150 ...............\n",
      "[CV]  criterion=entropy, max_depth=10, n_estimators=150, score=0.858, total=  17.3s\n",
      "[CV] criterion=entropy, max_depth=10, n_estimators=200 ...............\n",
      "[CV]  criterion=entropy, max_depth=10, n_estimators=200, score=0.860, total=  22.7s\n",
      "[CV] criterion=entropy, max_depth=10, n_estimators=200 ...............\n",
      "[CV]  criterion=entropy, max_depth=10, n_estimators=200, score=0.856, total=  22.7s\n",
      "[CV] criterion=entropy, max_depth=10, n_estimators=200 ...............\n",
      "[CV]  criterion=entropy, max_depth=10, n_estimators=200, score=0.858, total=  22.3s\n",
      "[CV] criterion=entropy, max_depth=10, n_estimators=200 ...............\n",
      "[CV]  criterion=entropy, max_depth=10, n_estimators=200, score=0.858, total=  22.2s\n",
      "[CV] criterion=entropy, max_depth=10, n_estimators=200 ...............\n",
      "[CV]  criterion=entropy, max_depth=10, n_estimators=200, score=0.859, total=  22.7s\n",
      "[CV] criterion=entropy, max_depth=10, n_estimators=250 ...............\n",
      "[CV]  criterion=entropy, max_depth=10, n_estimators=250, score=0.861, total=  27.8s\n",
      "[CV] criterion=entropy, max_depth=10, n_estimators=250 ...............\n",
      "[CV]  criterion=entropy, max_depth=10, n_estimators=250, score=0.855, total=  27.8s\n",
      "[CV] criterion=entropy, max_depth=10, n_estimators=250 ...............\n",
      "[CV]  criterion=entropy, max_depth=10, n_estimators=250, score=0.858, total=  27.5s\n",
      "[CV] criterion=entropy, max_depth=10, n_estimators=250 ...............\n",
      "[CV]  criterion=entropy, max_depth=10, n_estimators=250, score=0.858, total=  27.8s\n",
      "[CV] criterion=entropy, max_depth=10, n_estimators=250 ...............\n",
      "[CV]  criterion=entropy, max_depth=10, n_estimators=250, score=0.859, total=  27.9s\n",
      "[CV] criterion=entropy, max_depth=10, n_estimators=300 ...............\n",
      "[CV]  criterion=entropy, max_depth=10, n_estimators=300, score=0.861, total=  33.2s\n",
      "[CV] criterion=entropy, max_depth=10, n_estimators=300 ...............\n",
      "[CV]  criterion=entropy, max_depth=10, n_estimators=300, score=0.855, total=  33.2s\n",
      "[CV] criterion=entropy, max_depth=10, n_estimators=300 ...............\n",
      "[CV]  criterion=entropy, max_depth=10, n_estimators=300, score=0.857, total=  33.5s\n",
      "[CV] criterion=entropy, max_depth=10, n_estimators=300 ...............\n"
     ]
    },
    {
     "name": "stdout",
     "output_type": "stream",
     "text": [
      "[CV]  criterion=entropy, max_depth=10, n_estimators=300, score=0.858, total=  33.1s\n",
      "[CV] criterion=entropy, max_depth=10, n_estimators=300 ...............\n",
      "[CV]  criterion=entropy, max_depth=10, n_estimators=300, score=0.859, total=  33.3s\n",
      "[CV] criterion=entropy, max_depth=10, n_estimators=350 ...............\n",
      "[CV]  criterion=entropy, max_depth=10, n_estimators=350, score=0.862, total=  38.7s\n",
      "[CV] criterion=entropy, max_depth=10, n_estimators=350 ...............\n",
      "[CV]  criterion=entropy, max_depth=10, n_estimators=350, score=0.855, total=  38.5s\n",
      "[CV] criterion=entropy, max_depth=10, n_estimators=350 ...............\n",
      "[CV]  criterion=entropy, max_depth=10, n_estimators=350, score=0.858, total=  39.2s\n",
      "[CV] criterion=entropy, max_depth=10, n_estimators=350 ...............\n",
      "[CV]  criterion=entropy, max_depth=10, n_estimators=350, score=0.859, total=  38.7s\n",
      "[CV] criterion=entropy, max_depth=10, n_estimators=350 ...............\n",
      "[CV]  criterion=entropy, max_depth=10, n_estimators=350, score=0.858, total=  38.5s\n",
      "[CV] criterion=entropy, max_depth=15, n_estimators=10 ................\n",
      "[CV]  criterion=entropy, max_depth=15, n_estimators=10, score=0.895, total=   1.4s\n",
      "[CV] criterion=entropy, max_depth=15, n_estimators=10 ................\n",
      "[CV]  criterion=entropy, max_depth=15, n_estimators=10, score=0.895, total=   1.6s\n",
      "[CV] criterion=entropy, max_depth=15, n_estimators=10 ................\n",
      "[CV]  criterion=entropy, max_depth=15, n_estimators=10, score=0.895, total=   1.5s\n",
      "[CV] criterion=entropy, max_depth=15, n_estimators=10 ................\n",
      "[CV]  criterion=entropy, max_depth=15, n_estimators=10, score=0.894, total=   1.4s\n",
      "[CV] criterion=entropy, max_depth=15, n_estimators=10 ................\n",
      "[CV]  criterion=entropy, max_depth=15, n_estimators=10, score=0.895, total=   1.4s\n",
      "[CV] criterion=entropy, max_depth=15, n_estimators=100 ...............\n",
      "[CV]  criterion=entropy, max_depth=15, n_estimators=100, score=0.911, total=  14.1s\n",
      "[CV] criterion=entropy, max_depth=15, n_estimators=100 ...............\n",
      "[CV]  criterion=entropy, max_depth=15, n_estimators=100, score=0.907, total=  14.4s\n",
      "[CV] criterion=entropy, max_depth=15, n_estimators=100 ...............\n",
      "[CV]  criterion=entropy, max_depth=15, n_estimators=100, score=0.907, total=  14.1s\n",
      "[CV] criterion=entropy, max_depth=15, n_estimators=100 ...............\n",
      "[CV]  criterion=entropy, max_depth=15, n_estimators=100, score=0.908, total=  14.2s\n",
      "[CV] criterion=entropy, max_depth=15, n_estimators=100 ...............\n",
      "[CV]  criterion=entropy, max_depth=15, n_estimators=100, score=0.912, total=  14.9s\n",
      "[CV] criterion=entropy, max_depth=15, n_estimators=150 ...............\n",
      "[CV]  criterion=entropy, max_depth=15, n_estimators=150, score=0.911, total=  21.8s\n",
      "[CV] criterion=entropy, max_depth=15, n_estimators=150 ...............\n",
      "[CV]  criterion=entropy, max_depth=15, n_estimators=150, score=0.908, total=  21.4s\n",
      "[CV] criterion=entropy, max_depth=15, n_estimators=150 ...............\n",
      "[CV]  criterion=entropy, max_depth=15, n_estimators=150, score=0.908, total=  22.1s\n",
      "[CV] criterion=entropy, max_depth=15, n_estimators=150 ...............\n",
      "[CV]  criterion=entropy, max_depth=15, n_estimators=150, score=0.908, total=  21.8s\n",
      "[CV] criterion=entropy, max_depth=15, n_estimators=150 ...............\n",
      "[CV]  criterion=entropy, max_depth=15, n_estimators=150, score=0.914, total=  21.3s\n",
      "[CV] criterion=entropy, max_depth=15, n_estimators=200 ...............\n",
      "[CV]  criterion=entropy, max_depth=15, n_estimators=200, score=0.912, total=  28.1s\n",
      "[CV] criterion=entropy, max_depth=15, n_estimators=200 ...............\n",
      "[CV]  criterion=entropy, max_depth=15, n_estimators=200, score=0.909, total=  28.5s\n",
      "[CV] criterion=entropy, max_depth=15, n_estimators=200 ...............\n",
      "[CV]  criterion=entropy, max_depth=15, n_estimators=200, score=0.908, total=  28.4s\n",
      "[CV] criterion=entropy, max_depth=15, n_estimators=200 ...............\n",
      "[CV]  criterion=entropy, max_depth=15, n_estimators=200, score=0.908, total=  28.5s\n",
      "[CV] criterion=entropy, max_depth=15, n_estimators=200 ...............\n",
      "[CV]  criterion=entropy, max_depth=15, n_estimators=200, score=0.913, total=  28.6s\n",
      "[CV] criterion=entropy, max_depth=15, n_estimators=250 ...............\n",
      "[CV]  criterion=entropy, max_depth=15, n_estimators=250, score=0.912, total=  35.4s\n",
      "[CV] criterion=entropy, max_depth=15, n_estimators=250 ...............\n",
      "[CV]  criterion=entropy, max_depth=15, n_estimators=250, score=0.910, total=  35.7s\n",
      "[CV] criterion=entropy, max_depth=15, n_estimators=250 ...............\n",
      "[CV]  criterion=entropy, max_depth=15, n_estimators=250, score=0.908, total=  35.6s\n",
      "[CV] criterion=entropy, max_depth=15, n_estimators=250 ...............\n",
      "[CV]  criterion=entropy, max_depth=15, n_estimators=250, score=0.908, total=  36.6s\n",
      "[CV] criterion=entropy, max_depth=15, n_estimators=250 ...............\n",
      "[CV]  criterion=entropy, max_depth=15, n_estimators=250, score=0.913, total=  36.5s\n",
      "[CV] criterion=entropy, max_depth=15, n_estimators=300 ...............\n",
      "[CV]  criterion=entropy, max_depth=15, n_estimators=300, score=0.912, total=  44.9s\n",
      "[CV] criterion=entropy, max_depth=15, n_estimators=300 ...............\n",
      "[CV]  criterion=entropy, max_depth=15, n_estimators=300, score=0.910, total=  44.7s\n",
      "[CV] criterion=entropy, max_depth=15, n_estimators=300 ...............\n",
      "[CV]  criterion=entropy, max_depth=15, n_estimators=300, score=0.909, total=  43.7s\n",
      "[CV] criterion=entropy, max_depth=15, n_estimators=300 ...............\n",
      "[CV]  criterion=entropy, max_depth=15, n_estimators=300, score=0.909, total=  46.6s\n",
      "[CV] criterion=entropy, max_depth=15, n_estimators=300 ...............\n",
      "[CV]  criterion=entropy, max_depth=15, n_estimators=300, score=0.912, total=  45.0s\n",
      "[CV] criterion=entropy, max_depth=15, n_estimators=350 ...............\n",
      "[CV]  criterion=entropy, max_depth=15, n_estimators=350, score=0.912, total=  50.6s\n",
      "[CV] criterion=entropy, max_depth=15, n_estimators=350 ...............\n",
      "[CV]  criterion=entropy, max_depth=15, n_estimators=350, score=0.911, total=  53.6s\n",
      "[CV] criterion=entropy, max_depth=15, n_estimators=350 ...............\n",
      "[CV]  criterion=entropy, max_depth=15, n_estimators=350, score=0.909, total=  53.5s\n",
      "[CV] criterion=entropy, max_depth=15, n_estimators=350 ...............\n",
      "[CV]  criterion=entropy, max_depth=15, n_estimators=350, score=0.910, total=  53.6s\n",
      "[CV] criterion=entropy, max_depth=15, n_estimators=350 ...............\n",
      "[CV]  criterion=entropy, max_depth=15, n_estimators=350, score=0.912, total=  52.2s\n",
      "[CV] criterion=entropy, max_depth=20, n_estimators=10 ................\n",
      "[CV]  criterion=entropy, max_depth=20, n_estimators=10, score=0.913, total=   1.6s\n",
      "[CV] criterion=entropy, max_depth=20, n_estimators=10 ................\n",
      "[CV]  criterion=entropy, max_depth=20, n_estimators=10, score=0.910, total=   1.6s\n",
      "[CV] criterion=entropy, max_depth=20, n_estimators=10 ................\n",
      "[CV]  criterion=entropy, max_depth=20, n_estimators=10, score=0.912, total=   1.7s\n",
      "[CV] criterion=entropy, max_depth=20, n_estimators=10 ................\n",
      "[CV]  criterion=entropy, max_depth=20, n_estimators=10, score=0.913, total=   1.7s\n",
      "[CV] criterion=entropy, max_depth=20, n_estimators=10 ................\n",
      "[CV]  criterion=entropy, max_depth=20, n_estimators=10, score=0.911, total=   1.6s\n",
      "[CV] criterion=entropy, max_depth=20, n_estimators=100 ...............\n",
      "[CV]  criterion=entropy, max_depth=20, n_estimators=100, score=0.926, total=  16.3s\n",
      "[CV] criterion=entropy, max_depth=20, n_estimators=100 ...............\n",
      "[CV]  criterion=entropy, max_depth=20, n_estimators=100, score=0.924, total=  16.2s\n",
      "[CV] criterion=entropy, max_depth=20, n_estimators=100 ...............\n",
      "[CV]  criterion=entropy, max_depth=20, n_estimators=100, score=0.924, total=  16.3s\n",
      "[CV] criterion=entropy, max_depth=20, n_estimators=100 ...............\n",
      "[CV]  criterion=entropy, max_depth=20, n_estimators=100, score=0.927, total=  16.6s\n",
      "[CV] criterion=entropy, max_depth=20, n_estimators=100 ...............\n",
      "[CV]  criterion=entropy, max_depth=20, n_estimators=100, score=0.927, total=  16.5s\n",
      "[CV] criterion=entropy, max_depth=20, n_estimators=150 ...............\n",
      "[CV]  criterion=entropy, max_depth=20, n_estimators=150, score=0.928, total=  24.9s\n",
      "[CV] criterion=entropy, max_depth=20, n_estimators=150 ...............\n"
     ]
    },
    {
     "name": "stdout",
     "output_type": "stream",
     "text": [
      "[CV]  criterion=entropy, max_depth=20, n_estimators=150, score=0.924, total=  25.5s\n",
      "[CV] criterion=entropy, max_depth=20, n_estimators=150 ...............\n",
      "[CV]  criterion=entropy, max_depth=20, n_estimators=150, score=0.922, total=  24.8s\n",
      "[CV] criterion=entropy, max_depth=20, n_estimators=150 ...............\n",
      "[CV]  criterion=entropy, max_depth=20, n_estimators=150, score=0.927, total=  24.9s\n",
      "[CV] criterion=entropy, max_depth=20, n_estimators=150 ...............\n",
      "[CV]  criterion=entropy, max_depth=20, n_estimators=150, score=0.928, total=  24.5s\n",
      "[CV] criterion=entropy, max_depth=20, n_estimators=200 ...............\n",
      "[CV]  criterion=entropy, max_depth=20, n_estimators=200, score=0.927, total=  32.7s\n",
      "[CV] criterion=entropy, max_depth=20, n_estimators=200 ...............\n",
      "[CV]  criterion=entropy, max_depth=20, n_estimators=200, score=0.925, total=  32.4s\n",
      "[CV] criterion=entropy, max_depth=20, n_estimators=200 ...............\n",
      "[CV]  criterion=entropy, max_depth=20, n_estimators=200, score=0.922, total=  32.7s\n",
      "[CV] criterion=entropy, max_depth=20, n_estimators=200 ...............\n",
      "[CV]  criterion=entropy, max_depth=20, n_estimators=200, score=0.927, total=  32.8s\n",
      "[CV] criterion=entropy, max_depth=20, n_estimators=200 ...............\n",
      "[CV]  criterion=entropy, max_depth=20, n_estimators=200, score=0.929, total=  33.7s\n",
      "[CV] criterion=entropy, max_depth=20, n_estimators=250 ...............\n",
      "[CV]  criterion=entropy, max_depth=20, n_estimators=250, score=0.927, total=  41.7s\n",
      "[CV] criterion=entropy, max_depth=20, n_estimators=250 ...............\n",
      "[CV]  criterion=entropy, max_depth=20, n_estimators=250, score=0.926, total=  41.2s\n",
      "[CV] criterion=entropy, max_depth=20, n_estimators=250 ...............\n",
      "[CV]  criterion=entropy, max_depth=20, n_estimators=250, score=0.922, total=  41.5s\n",
      "[CV] criterion=entropy, max_depth=20, n_estimators=250 ...............\n",
      "[CV]  criterion=entropy, max_depth=20, n_estimators=250, score=0.927, total=  41.1s\n",
      "[CV] criterion=entropy, max_depth=20, n_estimators=250 ...............\n",
      "[CV]  criterion=entropy, max_depth=20, n_estimators=250, score=0.929, total=  39.7s\n",
      "[CV] criterion=entropy, max_depth=20, n_estimators=300 ...............\n",
      "[CV]  criterion=entropy, max_depth=20, n_estimators=300, score=0.927, total=  48.0s\n",
      "[CV] criterion=entropy, max_depth=20, n_estimators=300 ...............\n",
      "[CV]  criterion=entropy, max_depth=20, n_estimators=300, score=0.926, total=  47.4s\n",
      "[CV] criterion=entropy, max_depth=20, n_estimators=300 ...............\n",
      "[CV]  criterion=entropy, max_depth=20, n_estimators=300, score=0.922, total=  48.6s\n",
      "[CV] criterion=entropy, max_depth=20, n_estimators=300 ...............\n",
      "[CV]  criterion=entropy, max_depth=20, n_estimators=300, score=0.928, total=  47.0s\n",
      "[CV] criterion=entropy, max_depth=20, n_estimators=300 ...............\n",
      "[CV]  criterion=entropy, max_depth=20, n_estimators=300, score=0.929, total=  47.7s\n",
      "[CV] criterion=entropy, max_depth=20, n_estimators=350 ...............\n",
      "[CV]  criterion=entropy, max_depth=20, n_estimators=350, score=0.927, total=  55.0s\n",
      "[CV] criterion=entropy, max_depth=20, n_estimators=350 ...............\n",
      "[CV]  criterion=entropy, max_depth=20, n_estimators=350, score=0.926, total=  55.0s\n",
      "[CV] criterion=entropy, max_depth=20, n_estimators=350 ...............\n",
      "[CV]  criterion=entropy, max_depth=20, n_estimators=350, score=0.923, total=  55.0s\n",
      "[CV] criterion=entropy, max_depth=20, n_estimators=350 ...............\n",
      "[CV]  criterion=entropy, max_depth=20, n_estimators=350, score=0.927, total=  55.0s\n",
      "[CV] criterion=entropy, max_depth=20, n_estimators=350 ...............\n",
      "[CV]  criterion=entropy, max_depth=20, n_estimators=350, score=0.930, total=  55.5s\n",
      "[CV] criterion=entropy, max_depth=25, n_estimators=10 ................\n",
      "[CV]  criterion=entropy, max_depth=25, n_estimators=10, score=0.918, total=   1.8s\n",
      "[CV] criterion=entropy, max_depth=25, n_estimators=10 ................\n",
      "[CV]  criterion=entropy, max_depth=25, n_estimators=10, score=0.914, total=   1.6s\n",
      "[CV] criterion=entropy, max_depth=25, n_estimators=10 ................\n",
      "[CV]  criterion=entropy, max_depth=25, n_estimators=10, score=0.914, total=   1.7s\n",
      "[CV] criterion=entropy, max_depth=25, n_estimators=10 ................\n",
      "[CV]  criterion=entropy, max_depth=25, n_estimators=10, score=0.915, total=   1.6s\n",
      "[CV] criterion=entropy, max_depth=25, n_estimators=10 ................\n",
      "[CV]  criterion=entropy, max_depth=25, n_estimators=10, score=0.918, total=   1.6s\n",
      "[CV] criterion=entropy, max_depth=25, n_estimators=100 ...............\n",
      "[CV]  criterion=entropy, max_depth=25, n_estimators=100, score=0.933, total=  16.3s\n",
      "[CV] criterion=entropy, max_depth=25, n_estimators=100 ...............\n",
      "[CV]  criterion=entropy, max_depth=25, n_estimators=100, score=0.929, total=  16.0s\n",
      "[CV] criterion=entropy, max_depth=25, n_estimators=100 ...............\n",
      "[CV]  criterion=entropy, max_depth=25, n_estimators=100, score=0.928, total=  16.3s\n",
      "[CV] criterion=entropy, max_depth=25, n_estimators=100 ...............\n",
      "[CV]  criterion=entropy, max_depth=25, n_estimators=100, score=0.931, total=  16.0s\n",
      "[CV] criterion=entropy, max_depth=25, n_estimators=100 ...............\n",
      "[CV]  criterion=entropy, max_depth=25, n_estimators=100, score=0.932, total=  16.3s\n",
      "[CV] criterion=entropy, max_depth=25, n_estimators=150 ...............\n",
      "[CV]  criterion=entropy, max_depth=25, n_estimators=150, score=0.935, total=  24.2s\n",
      "[CV] criterion=entropy, max_depth=25, n_estimators=150 ...............\n",
      "[CV]  criterion=entropy, max_depth=25, n_estimators=150, score=0.931, total=  24.5s\n",
      "[CV] criterion=entropy, max_depth=25, n_estimators=150 ...............\n",
      "[CV]  criterion=entropy, max_depth=25, n_estimators=150, score=0.930, total=  24.5s\n",
      "[CV] criterion=entropy, max_depth=25, n_estimators=150 ...............\n",
      "[CV]  criterion=entropy, max_depth=25, n_estimators=150, score=0.932, total=  24.3s\n",
      "[CV] criterion=entropy, max_depth=25, n_estimators=150 ...............\n",
      "[CV]  criterion=entropy, max_depth=25, n_estimators=150, score=0.933, total=  24.1s\n",
      "[CV] criterion=entropy, max_depth=25, n_estimators=200 ...............\n",
      "[CV]  criterion=entropy, max_depth=25, n_estimators=200, score=0.935, total=  32.4s\n",
      "[CV] criterion=entropy, max_depth=25, n_estimators=200 ...............\n",
      "[CV]  criterion=entropy, max_depth=25, n_estimators=200, score=0.931, total=  32.8s\n",
      "[CV] criterion=entropy, max_depth=25, n_estimators=200 ...............\n",
      "[CV]  criterion=entropy, max_depth=25, n_estimators=200, score=0.929, total=  32.4s\n",
      "[CV] criterion=entropy, max_depth=25, n_estimators=200 ...............\n",
      "[CV]  criterion=entropy, max_depth=25, n_estimators=200, score=0.931, total=  32.7s\n",
      "[CV] criterion=entropy, max_depth=25, n_estimators=200 ...............\n",
      "[CV]  criterion=entropy, max_depth=25, n_estimators=200, score=0.933, total=  32.4s\n",
      "[CV] criterion=entropy, max_depth=25, n_estimators=250 ...............\n",
      "[CV]  criterion=entropy, max_depth=25, n_estimators=250, score=0.936, total=  40.4s\n",
      "[CV] criterion=entropy, max_depth=25, n_estimators=250 ...............\n",
      "[CV]  criterion=entropy, max_depth=25, n_estimators=250, score=0.932, total=  40.7s\n",
      "[CV] criterion=entropy, max_depth=25, n_estimators=250 ...............\n",
      "[CV]  criterion=entropy, max_depth=25, n_estimators=250, score=0.929, total=  40.5s\n",
      "[CV] criterion=entropy, max_depth=25, n_estimators=250 ...............\n",
      "[CV]  criterion=entropy, max_depth=25, n_estimators=250, score=0.932, total=  40.8s\n",
      "[CV] criterion=entropy, max_depth=25, n_estimators=250 ...............\n",
      "[CV]  criterion=entropy, max_depth=25, n_estimators=250, score=0.933, total=  40.2s\n",
      "[CV] criterion=entropy, max_depth=25, n_estimators=300 ...............\n",
      "[CV]  criterion=entropy, max_depth=25, n_estimators=300, score=0.935, total=  48.6s\n",
      "[CV] criterion=entropy, max_depth=25, n_estimators=300 ...............\n",
      "[CV]  criterion=entropy, max_depth=25, n_estimators=300, score=0.931, total=  49.1s\n",
      "[CV] criterion=entropy, max_depth=25, n_estimators=300 ...............\n",
      "[CV]  criterion=entropy, max_depth=25, n_estimators=300, score=0.929, total=  48.8s\n",
      "[CV] criterion=entropy, max_depth=25, n_estimators=300 ...............\n",
      "[CV]  criterion=entropy, max_depth=25, n_estimators=300, score=0.932, total=  48.6s\n",
      "[CV] criterion=entropy, max_depth=25, n_estimators=300 ...............\n"
     ]
    },
    {
     "name": "stdout",
     "output_type": "stream",
     "text": [
      "[CV]  criterion=entropy, max_depth=25, n_estimators=300, score=0.933, total=  48.4s\n",
      "[CV] criterion=entropy, max_depth=25, n_estimators=350 ...............\n",
      "[CV]  criterion=entropy, max_depth=25, n_estimators=350, score=0.935, total=  56.3s\n",
      "[CV] criterion=entropy, max_depth=25, n_estimators=350 ...............\n",
      "[CV]  criterion=entropy, max_depth=25, n_estimators=350, score=0.931, total=  57.0s\n",
      "[CV] criterion=entropy, max_depth=25, n_estimators=350 ...............\n",
      "[CV]  criterion=entropy, max_depth=25, n_estimators=350, score=0.930, total=  56.5s\n",
      "[CV] criterion=entropy, max_depth=25, n_estimators=350 ...............\n",
      "[CV]  criterion=entropy, max_depth=25, n_estimators=350, score=0.932, total=  56.6s\n",
      "[CV] criterion=entropy, max_depth=25, n_estimators=350 ...............\n",
      "[CV]  criterion=entropy, max_depth=25, n_estimators=350, score=0.933, total=  56.5s\n",
      "[CV] criterion=entropy, max_depth=30, n_estimators=10 ................\n",
      "[CV]  criterion=entropy, max_depth=30, n_estimators=10, score=0.916, total=   1.7s\n",
      "[CV] criterion=entropy, max_depth=30, n_estimators=10 ................\n",
      "[CV]  criterion=entropy, max_depth=30, n_estimators=10, score=0.916, total=   1.6s\n",
      "[CV] criterion=entropy, max_depth=30, n_estimators=10 ................\n",
      "[CV]  criterion=entropy, max_depth=30, n_estimators=10, score=0.919, total=   1.6s\n",
      "[CV] criterion=entropy, max_depth=30, n_estimators=10 ................\n",
      "[CV]  criterion=entropy, max_depth=30, n_estimators=10, score=0.917, total=   1.7s\n",
      "[CV] criterion=entropy, max_depth=30, n_estimators=10 ................\n",
      "[CV]  criterion=entropy, max_depth=30, n_estimators=10, score=0.918, total=   1.6s\n",
      "[CV] criterion=entropy, max_depth=30, n_estimators=100 ...............\n",
      "[CV]  criterion=entropy, max_depth=30, n_estimators=100, score=0.934, total=  16.3s\n",
      "[CV] criterion=entropy, max_depth=30, n_estimators=100 ...............\n",
      "[CV]  criterion=entropy, max_depth=30, n_estimators=100, score=0.932, total=  16.1s\n",
      "[CV] criterion=entropy, max_depth=30, n_estimators=100 ...............\n",
      "[CV]  criterion=entropy, max_depth=30, n_estimators=100, score=0.930, total=  16.5s\n",
      "[CV] criterion=entropy, max_depth=30, n_estimators=100 ...............\n",
      "[CV]  criterion=entropy, max_depth=30, n_estimators=100, score=0.931, total=  16.1s\n",
      "[CV] criterion=entropy, max_depth=30, n_estimators=100 ...............\n",
      "[CV]  criterion=entropy, max_depth=30, n_estimators=100, score=0.932, total=  16.4s\n",
      "[CV] criterion=entropy, max_depth=30, n_estimators=150 ...............\n",
      "[CV]  criterion=entropy, max_depth=30, n_estimators=150, score=0.935, total=  24.4s\n",
      "[CV] criterion=entropy, max_depth=30, n_estimators=150 ...............\n",
      "[CV]  criterion=entropy, max_depth=30, n_estimators=150, score=0.932, total=  24.8s\n",
      "[CV] criterion=entropy, max_depth=30, n_estimators=150 ...............\n",
      "[CV]  criterion=entropy, max_depth=30, n_estimators=150, score=0.931, total=  24.7s\n",
      "[CV] criterion=entropy, max_depth=30, n_estimators=150 ...............\n",
      "[CV]  criterion=entropy, max_depth=30, n_estimators=150, score=0.933, total=  24.5s\n",
      "[CV] criterion=entropy, max_depth=30, n_estimators=150 ...............\n",
      "[CV]  criterion=entropy, max_depth=30, n_estimators=150, score=0.932, total=  24.3s\n",
      "[CV] criterion=entropy, max_depth=30, n_estimators=200 ...............\n",
      "[CV]  criterion=entropy, max_depth=30, n_estimators=200, score=0.936, total=  32.6s\n",
      "[CV] criterion=entropy, max_depth=30, n_estimators=200 ...............\n",
      "[CV]  criterion=entropy, max_depth=30, n_estimators=200, score=0.933, total=  32.7s\n",
      "[CV] criterion=entropy, max_depth=30, n_estimators=200 ...............\n",
      "[CV]  criterion=entropy, max_depth=30, n_estimators=200, score=0.931, total=  32.8s\n",
      "[CV] criterion=entropy, max_depth=30, n_estimators=200 ...............\n",
      "[CV]  criterion=entropy, max_depth=30, n_estimators=200, score=0.933, total=  32.9s\n",
      "[CV] criterion=entropy, max_depth=30, n_estimators=200 ...............\n",
      "[CV]  criterion=entropy, max_depth=30, n_estimators=200, score=0.932, total=  33.5s\n",
      "[CV] criterion=entropy, max_depth=30, n_estimators=250 ...............\n",
      "[CV]  criterion=entropy, max_depth=30, n_estimators=250, score=0.936, total=  42.2s\n",
      "[CV] criterion=entropy, max_depth=30, n_estimators=250 ...............\n",
      "[CV]  criterion=entropy, max_depth=30, n_estimators=250, score=0.932, total=  42.3s\n",
      "[CV] criterion=entropy, max_depth=30, n_estimators=250 ...............\n",
      "[CV]  criterion=entropy, max_depth=30, n_estimators=250, score=0.931, total=  42.1s\n",
      "[CV] criterion=entropy, max_depth=30, n_estimators=250 ...............\n",
      "[CV]  criterion=entropy, max_depth=30, n_estimators=250, score=0.932, total=  41.4s\n",
      "[CV] criterion=entropy, max_depth=30, n_estimators=250 ...............\n",
      "[CV]  criterion=entropy, max_depth=30, n_estimators=250, score=0.932, total=  41.8s\n",
      "[CV] criterion=entropy, max_depth=30, n_estimators=300 ...............\n",
      "[CV]  criterion=entropy, max_depth=30, n_estimators=300, score=0.935, total=  49.9s\n",
      "[CV] criterion=entropy, max_depth=30, n_estimators=300 ...............\n",
      "[CV]  criterion=entropy, max_depth=30, n_estimators=300, score=0.933, total=  50.0s\n",
      "[CV] criterion=entropy, max_depth=30, n_estimators=300 ...............\n",
      "[CV]  criterion=entropy, max_depth=30, n_estimators=300, score=0.931, total=  50.2s\n",
      "[CV] criterion=entropy, max_depth=30, n_estimators=300 ...............\n",
      "[CV]  criterion=entropy, max_depth=30, n_estimators=300, score=0.933, total=  49.8s\n",
      "[CV] criterion=entropy, max_depth=30, n_estimators=300 ...............\n",
      "[CV]  criterion=entropy, max_depth=30, n_estimators=300, score=0.932, total=  51.5s\n",
      "[CV] criterion=entropy, max_depth=30, n_estimators=350 ...............\n",
      "[CV]  criterion=entropy, max_depth=30, n_estimators=350, score=0.936, total=  57.7s\n",
      "[CV] criterion=entropy, max_depth=30, n_estimators=350 ...............\n",
      "[CV]  criterion=entropy, max_depth=30, n_estimators=350, score=0.933, total=  57.4s\n",
      "[CV] criterion=entropy, max_depth=30, n_estimators=350 ...............\n",
      "[CV]  criterion=entropy, max_depth=30, n_estimators=350, score=0.932, total=  56.8s\n",
      "[CV] criterion=entropy, max_depth=30, n_estimators=350 ...............\n",
      "[CV]  criterion=entropy, max_depth=30, n_estimators=350, score=0.933, total=  57.1s\n",
      "[CV] criterion=entropy, max_depth=30, n_estimators=350 ...............\n",
      "[CV]  criterion=entropy, max_depth=30, n_estimators=350, score=0.932, total=  57.5s\n"
     ]
    },
    {
     "name": "stderr",
     "output_type": "stream",
     "text": [
      "[Parallel(n_jobs=1)]: Done 420 out of 420 | elapsed: 199.6min finished\n"
     ]
    },
    {
     "name": "stdout",
     "output_type": "stream",
     "text": [
      "CPU times: user 2h 39min 16s, sys: 45 s, total: 2h 40min 1s\n",
      "Wall time: 3h 20min 50s\n",
      "{'criterion': 'entropy', 'max_depth': 30, 'n_estimators': 350}\n"
     ]
    }
   ],
   "source": [
    "rfc = RandomForestClassifier(random_state= 1234)\n",
    "\n",
    "grid_params = {\n",
    "    'n_estimators': [10, 100, 150, 200, 250, 300, 350],\n",
    "    'max_depth': [5, 10, 15, 20, 25, 30],\n",
    "    'criterion' :['gini', 'entropy']\n",
    "}\n",
    "\n",
    "rf_grid_cv = GridSearchCV(estimator=rfc, param_grid=grid_params, cv=5, verbose=3)\n",
    "\n",
    "%time rf_grid_cv.fit(X_train, y_train)\n",
    "\n",
    "print(rf_grid_cv.best_params_)"
   ]
  },
  {
   "cell_type": "markdown",
   "metadata": {},
   "source": [
    "The best parameters 'criterion': 'entropy', 'max_depth': 30, 'n_estimators': 350."
   ]
  },
  {
   "cell_type": "code",
   "execution_count": 46,
   "metadata": {},
   "outputs": [
    {
     "data": {
      "text/plain": [
       "0.9332677038363041"
      ]
     },
     "execution_count": 46,
     "metadata": {},
     "output_type": "execute_result"
    }
   ],
   "source": [
    "rf_grid_cv.best_score_"
   ]
  },
  {
   "cell_type": "code",
   "execution_count": 38,
   "metadata": {},
   "outputs": [],
   "source": [
    "best_est = rf_grid_cv.best_estimator_"
   ]
  },
  {
   "cell_type": "code",
   "execution_count": 40,
   "metadata": {},
   "outputs": [],
   "source": [
    "y_pred = best_est.predict(X_test)"
   ]
  },
  {
   "cell_type": "code",
   "execution_count": 45,
   "metadata": {},
   "outputs": [],
   "source": [
    "from sklearn.metrics import classification_report"
   ]
  },
  {
   "cell_type": "code",
   "execution_count": 43,
   "metadata": {},
   "outputs": [
    {
     "name": "stdout",
     "output_type": "stream",
     "text": [
      "              precision    recall  f1-score   support\n",
      "\n",
      "           1       0.95      0.95      0.95     15459\n",
      "           2       0.91      0.92      0.92      9364\n",
      "\n",
      "    accuracy                           0.94     24823\n",
      "   macro avg       0.93      0.93      0.93     24823\n",
      "weighted avg       0.94      0.94      0.94     24823\n",
      "\n"
     ]
    }
   ],
   "source": [
    "#print classification report\n",
    "print(classification_report(y_test, y_pred))"
   ]
  },
  {
   "cell_type": "code",
   "execution_count": 83,
   "metadata": {},
   "outputs": [
    {
     "data": {
      "text/plain": [
       "RandomForestClassifier(criterion='entropy', max_depth=30, n_estimators=350,\n",
       "                       random_state=1234)"
      ]
     },
     "execution_count": 83,
     "metadata": {},
     "output_type": "execute_result"
    }
   ],
   "source": [
    "best_model = RandomForestClassifier(criterion = 'entropy', n_estimators=350, max_depth=30, random_state= 1234)\n",
    "best_model.fit(X_train, y_train)\n",
    "\n",
    "y_pred = best_model.predict(X_test)\n",
    "y_pred = pd.Series(y_pred)\n",
    "best_model"
   ]
  },
  {
   "cell_type": "code",
   "execution_count": 84,
   "metadata": {},
   "outputs": [
    {
     "data": {
      "image/png": "[encoded data removed]",
      "text/plain": [
       "<Figure size 432x288 with 2 Axes>"
      ]
     },
     "metadata": {
      "needs_background": "light"
     },
     "output_type": "display_data"
    }
   ],
   "source": [
    "## Display the visualization of the Confusion Matrix.\n",
    "from sklearn.metrics import confusion_matrix\n",
    "pl = confusion_matrix(y_test,y_pred)\n",
    "\n",
    "ax = sns.heatmap(pl, annot=True, cmap='Blues')\n",
    "\n",
    "ax.set_title(' Confusion Matrix');\n",
    "ax.set_xlabel('\\nPredicted Values')\n",
    "ax.set_ylabel('Actual Values ');\n",
    "\n",
    "plt.show()"
   ]
  },
  {
   "cell_type": "code",
   "execution_count": 85,
   "metadata": {},
   "outputs": [
    {
     "name": "stdout",
     "output_type": "stream",
     "text": [
      "Random Forest  model bestestimator\n",
      "Accuracy: 0.9377996213189381\n",
      "Balanced accuracy: 0.9349669064405084\n",
      "Precision score for \"1\" 0.9532868590787673\n",
      "Precision score for \"2\" 0.9127084652733798\n",
      "Recall score for \"1\" 0.9465036548289023\n",
      "Recall score for \"2\" 0.9234301580521145\n"
     ]
    }
   ],
   "source": [
    "print(\"Random Forest  model bestestimator\")\n",
    "print(\"Accuracy:\", metrics.accuracy_score(y_test,y_pred))\n",
    "print(\"Balanced accuracy:\", metrics.balanced_accuracy_score(y_test,y_pred))\n",
    "print('Precision score for \"1\"' , metrics.precision_score(y_test,y_pred, pos_label = 1))\n",
    "print('Precision score for \"2\"' , metrics.precision_score(y_test,y_pred, pos_label = 2))\n",
    "print('Recall score for \"1\"' , metrics.recall_score(y_test,y_pred, pos_label = 1))\n",
    "print('Recall score for \"2\"' , metrics.recall_score(y_test,y_pred, pos_label = 2))\n"
   ]
  },
  {
   "cell_type": "code",
   "execution_count": 64,
   "metadata": {},
   "outputs": [],
   "source": [
    "from sklearn.metrics import roc_auc_score\n",
    "from sklearn.metrics import roc_curve, auc\n",
    "from itertools import cycle\n",
    "from matplotlib import pyplot"
   ]
  },
  {
   "cell_type": "code",
   "execution_count": 87,
   "metadata": {},
   "outputs": [
    {
     "name": "stdout",
     "output_type": "stream",
     "text": [
      "Baseline: ROC AUC=0.500\n",
      "RF: ROC AUC=0.987\n"
     ]
    },
    {
     "data": {
      "image/png": "[encoded data removed]",
      "text/plain": [
       "<Figure size 432x288 with 1 Axes>"
      ]
     },
     "metadata": {
      "needs_background": "light"
     },
     "output_type": "display_data"
    }
   ],
   "source": [
    "y_pred_prob = best_model.predict_proba(X_test)\n",
    "# keep probabilities for the positive outcome only\n",
    "y_pred_prob = y_pred_prob[:, 1]\n",
    "\n",
    "# generate a no skill prediction (majority class)\n",
    "ns_probs = [0 for _ in range(len(y_test))]\n",
    "# calculate scores\n",
    "ns_auc = roc_auc_score(y_test, ns_probs)\n",
    "y_auc = roc_auc_score(y_test, y_pred_prob)\n",
    "# summarize scores\n",
    "print('Baseline: ROC AUC=%.3f' % (ns_auc))\n",
    "print('RF: ROC AUC=%.3f' % (y_auc))\n",
    "# calculate roc curves\n",
    "ns_fpr, ns_tpr, _ = roc_curve(y_test, ns_probs, pos_label=2)\n",
    "y_fpr, y_tpr, _ = roc_curve(y_test, y_pred_prob, pos_label=2)\n",
    "# plot the roc curve for the model\n",
    "pyplot.plot(ns_fpr, ns_tpr, linestyle='--')\n",
    "pyplot.plot(y_fpr, y_tpr, marker='.', label='ROC curve(area %0.3f)' % y_auc)\n",
    "pyplot.xlabel('False Positive Rate')\n",
    "pyplot.ylabel('True Positive Rate')\n",
    "pyplot.legend()\n",
    "pyplot.show()"
   ]
  },
  {
   "cell_type": "code",
   "execution_count": 77,
   "metadata": {},
   "outputs": [],
   "source": [
    "from sklearn.metrics import precision_recall_curve\n",
    "from sklearn.metrics import f1_score"
   ]
  },
  {
   "cell_type": "code",
   "execution_count": 88,
   "metadata": {},
   "outputs": [
    {
     "name": "stdout",
     "output_type": "stream",
     "text": [
      "RF: f1=0.950 auc=0.979\n"
     ]
    },
    {
     "data": {
      "image/png": "[encoded data removed]",
      "text/plain": [
       "<Figure size 432x288 with 1 Axes>"
      ]
     },
     "metadata": {
      "needs_background": "light"
     },
     "output_type": "display_data"
    }
   ],
   "source": [
    "# predict class values\n",
    "yhat = best_model.predict(X_test)\n",
    "rf_precision, rf_recall, _ = precision_recall_curve(y_test, y_pred_prob, pos_label=2)\n",
    "rf_f1, rf_auc = f1_score(y_test, yhat), auc(rf_recall, rf_precision)\n",
    "# summarize scores\n",
    "print('RF: f1=%.3f auc=%.3f' % (rf_f1, rf_auc))\n",
    "# plot the precision-recall curves\n",
    "baseline = len(y_test[y_test==1]) / len(y_test)\n",
    "pyplot.plot([0, 1], [baseline, baseline], linestyle='--', label='baseline')\n",
    "pyplot.plot(rf_recall, rf_precision, marker='.', label='Precision-Recall curve(area %0.3f)'% rf_auc)\n",
    "pyplot.xlabel('Recall')\n",
    "pyplot.ylabel('Precision')\n",
    "pyplot.legend()\n",
    "pyplot.show()"
   ]
  },
  {
   "cell_type": "code",
   "execution_count": null,
   "metadata": {},
   "outputs": [],
   "source": []
  },
  {
   "cell_type": "markdown",
   "metadata": {},
   "source": [
    "## Feature importance based on feature permutation"
   ]
  },
  {
   "cell_type": "code",
   "execution_count": 34,
   "metadata": {},
   "outputs": [
    {
     "data": {
      "text/plain": [
       "Text(0.5, 0, 'Permutation Importance')"
      ]
     },
     "execution_count": 34,
     "metadata": {},
     "output_type": "execute_result"
    },
    {
     "data": {
      "image/png": "[encoded data removed]",
      "text/plain": [
       "<Figure size 432x288 with 1 Axes>"
      ]
     },
     "metadata": {
      "needs_background": "light"
     },
     "output_type": "display_data"
    }
   ],
   "source": [
    "\n",
    "perm_importance = permutation_importance(best_model, X_test, y_test)\n",
    "\n",
    "feature_names = ['Gender',\n",
    "                'Age(Months)',\n",
    "                'Race',\n",
    "                'PregnStat',\n",
    "                'HIV',\n",
    "                'alco_dks_daily#',\n",
    "                'smokescigs_daily#',\n",
    "                'had_anemia_treatment',\n",
    "                'had_cancer',\n",
    "                'Cu(umol/L)',\n",
    "                'Se(umol/L)',\n",
    "                'Zn(umol/L)',\n",
    "                'Fe(ug/L)',\n",
    "                'Folate(nmol/L)',\n",
    "                'VitB12(pmol/L)',\n",
    "                'VitB6',\n",
    "                'VitD2',\n",
    "                'VitD3',\n",
    "                'VitD(nmol/L)',\n",
    "                'VitC(umol/L)',\n",
    "                'VitE(umol/L)',\n",
    "                'VitA(umol/L)',\n",
    "                'Weight',\n",
    "                'BMI']\n",
    "                \n",
    "features = np.array(feature_names)\n",
    "\n",
    "sorted_idx = perm_importance.importances_mean.argsort()\n",
    "plt.barh(features[sorted_idx], perm_importance.importances_mean[sorted_idx])\n",
    "plt.xlabel(\"Permutation Importance\")\n"
   ]
  },
  {
   "cell_type": "markdown",
   "metadata": {},
   "source": [
    "As observed in the previous models. The computed feature importance with the best model, using permutation method, show that Vitamin B12 and Zinc are the most important features followed by Selenium and Vitamin B6. "
   ]
  },
  {
   "cell_type": "code",
   "execution_count": 24,
   "metadata": {},
   "outputs": [],
   "source": [
    "# Ot see the values of Feature importances, the \n",
    "fi_df = pd.DataFrame(perm_importance.importances_mean[sorted_idx], index = features[sorted_idx],\n",
    "                                              columns =['Features'])"
   ]
  },
  {
   "cell_type": "code",
   "execution_count": 26,
   "metadata": {},
   "outputs": [
    {
     "data": {
      "text/html": [
       "<div>\n",
       "<style scoped>\n",
       "    .dataframe tbody tr th:only-of-type {\n",
       "        vertical-align: middle;\n",
       "    }\n",
       "\n",
       "    .dataframe tbody tr th {\n",
       "        vertical-align: top;\n",
       "    }\n",
       "\n",
       "    .dataframe thead th {\n",
       "        text-align: right;\n",
       "    }\n",
       "</style>\n",
       "<table border=\"1\" class=\"dataframe\">\n",
       "  <thead>\n",
       "    <tr style=\"text-align: right;\">\n",
       "      <th></th>\n",
       "      <th>Features</th>\n",
       "    </tr>\n",
       "  </thead>\n",
       "  <tbody>\n",
       "    <tr>\n",
       "      <th>alco_dks_daily#</th>\n",
       "      <td>-0.00006</td>\n",
       "    </tr>\n",
       "    <tr>\n",
       "      <th>had_anemia_treatment</th>\n",
       "      <td>-0.00002</td>\n",
       "    </tr>\n",
       "    <tr>\n",
       "      <th>HIV</th>\n",
       "      <td>0.00000</td>\n",
       "    </tr>\n",
       "    <tr>\n",
       "      <th>PregnStat</th>\n",
       "      <td>0.00006</td>\n",
       "    </tr>\n",
       "    <tr>\n",
       "      <th>had_cancer</th>\n",
       "      <td>0.00007</td>\n",
       "    </tr>\n",
       "    <tr>\n",
       "      <th>smokescigs_daily#</th>\n",
       "      <td>0.00015</td>\n",
       "    </tr>\n",
       "    <tr>\n",
       "      <th>Gender</th>\n",
       "      <td>0.00086</td>\n",
       "    </tr>\n",
       "    <tr>\n",
       "      <th>VitE(umol/L)</th>\n",
       "      <td>0.00744</td>\n",
       "    </tr>\n",
       "    <tr>\n",
       "      <th>Folate(nmol/L)</th>\n",
       "      <td>0.01004</td>\n",
       "    </tr>\n",
       "    <tr>\n",
       "      <th>Age(Months)</th>\n",
       "      <td>0.01128</td>\n",
       "    </tr>\n",
       "    <tr>\n",
       "      <th>VitD3</th>\n",
       "      <td>0.01215</td>\n",
       "    </tr>\n",
       "    <tr>\n",
       "      <th>VitC(umol/L)</th>\n",
       "      <td>0.01305</td>\n",
       "    </tr>\n",
       "    <tr>\n",
       "      <th>Cu(umol/L)</th>\n",
       "      <td>0.01325</td>\n",
       "    </tr>\n",
       "    <tr>\n",
       "      <th>Fe(ug/L)</th>\n",
       "      <td>0.01346</td>\n",
       "    </tr>\n",
       "    <tr>\n",
       "      <th>VitD2</th>\n",
       "      <td>0.02037</td>\n",
       "    </tr>\n",
       "    <tr>\n",
       "      <th>Race</th>\n",
       "      <td>0.02540</td>\n",
       "    </tr>\n",
       "    <tr>\n",
       "      <th>Weight</th>\n",
       "      <td>0.03661</td>\n",
       "    </tr>\n",
       "    <tr>\n",
       "      <th>VitD(nmol/L)</th>\n",
       "      <td>0.04606</td>\n",
       "    </tr>\n",
       "    <tr>\n",
       "      <th>VitA(umol/L)</th>\n",
       "      <td>0.04655</td>\n",
       "    </tr>\n",
       "    <tr>\n",
       "      <th>BMI</th>\n",
       "      <td>0.04754</td>\n",
       "    </tr>\n",
       "    <tr>\n",
       "      <th>VitB6</th>\n",
       "      <td>0.07251</td>\n",
       "    </tr>\n",
       "    <tr>\n",
       "      <th>Se(umol/L)</th>\n",
       "      <td>0.07603</td>\n",
       "    </tr>\n",
       "    <tr>\n",
       "      <th>Zn(umol/L)</th>\n",
       "      <td>0.10632</td>\n",
       "    </tr>\n",
       "    <tr>\n",
       "      <th>VitB12(pmol/L)</th>\n",
       "      <td>0.12061</td>\n",
       "    </tr>\n",
       "  </tbody>\n",
       "</table>\n",
       "</div>"
      ],
      "text/plain": [
       "                      Features\n",
       "alco_dks_daily#       -0.00006\n",
       "had_anemia_treatment  -0.00002\n",
       "HIV                    0.00000\n",
       "PregnStat              0.00006\n",
       "had_cancer             0.00007\n",
       "smokescigs_daily#      0.00015\n",
       "Gender                 0.00086\n",
       "VitE(umol/L)           0.00744\n",
       "Folate(nmol/L)         0.01004\n",
       "Age(Months)            0.01128\n",
       "VitD3                  0.01215\n",
       "VitC(umol/L)           0.01305\n",
       "Cu(umol/L)             0.01325\n",
       "Fe(ug/L)               0.01346\n",
       "VitD2                  0.02037\n",
       "Race                   0.02540\n",
       "Weight                 0.03661\n",
       "VitD(nmol/L)           0.04606\n",
       "VitA(umol/L)           0.04655\n",
       "BMI                    0.04754\n",
       "VitB6                  0.07251\n",
       "Se(umol/L)             0.07603\n",
       "Zn(umol/L)             0.10632\n",
       "VitB12(pmol/L)         0.12061"
      ]
     },
     "execution_count": 26,
     "metadata": {},
     "output_type": "execute_result"
    }
   ],
   "source": [
    "fi_df=fi_df.round({'Features': 5})\n",
    "fi_df.head(30)"
   ]
  },
  {
   "cell_type": "code",
   "execution_count": 27,
   "metadata": {},
   "outputs": [],
   "source": [
    "fi_df.to_csv('feature_importance_values.csv')"
   ]
  },
  {
   "cell_type": "code",
   "execution_count": null,
   "metadata": {},
   "outputs": [],
   "source": []
  },
  {
   "cell_type": "code",
   "execution_count": 50,
   "metadata": {},
   "outputs": [
    {
     "data": {
      "text/html": [
       "<div>\n",
       "<style scoped>\n",
       "    .dataframe tbody tr th:only-of-type {\n",
       "        vertical-align: middle;\n",
       "    }\n",
       "\n",
       "    .dataframe tbody tr th {\n",
       "        vertical-align: top;\n",
       "    }\n",
       "\n",
       "    .dataframe thead th {\n",
       "        text-align: right;\n",
       "    }\n",
       "</style>\n",
       "<table border=\"1\" class=\"dataframe\">\n",
       "  <thead>\n",
       "    <tr style=\"text-align: right;\">\n",
       "      <th></th>\n",
       "      <th>Unnamed: 0</th>\n",
       "      <th>ID</th>\n",
       "      <th>Gender</th>\n",
       "      <th>Age(Months)</th>\n",
       "      <th>Race</th>\n",
       "      <th>PregnStat</th>\n",
       "      <th>White_Cell_num</th>\n",
       "      <th>Lymphocyte(%)</th>\n",
       "      <th>SegNeutrophil(%)</th>\n",
       "      <th>Lymphocyte_num</th>\n",
       "      <th>...</th>\n",
       "      <th>VitB12(pmol/L)</th>\n",
       "      <th>VitB6</th>\n",
       "      <th>VitD2</th>\n",
       "      <th>VitD3</th>\n",
       "      <th>VitD(nmol/L)</th>\n",
       "      <th>VitC(umol/L)</th>\n",
       "      <th>VitE(umol/L)</th>\n",
       "      <th>VitA(umol/L)</th>\n",
       "      <th>Weight</th>\n",
       "      <th>BMI</th>\n",
       "    </tr>\n",
       "  </thead>\n",
       "  <tbody>\n",
       "    <tr>\n",
       "      <th>0</th>\n",
       "      <td>0</td>\n",
       "      <td>62161</td>\n",
       "      <td>1</td>\n",
       "      <td>264</td>\n",
       "      <td>3</td>\n",
       "      <td>2</td>\n",
       "      <td>5.1</td>\n",
       "      <td>27.0</td>\n",
       "      <td>60.1</td>\n",
       "      <td>1.4</td>\n",
       "      <td>...</td>\n",
       "      <td>433.773755</td>\n",
       "      <td>67.521150</td>\n",
       "      <td>2.663838</td>\n",
       "      <td>63.171397</td>\n",
       "      <td>62.501099</td>\n",
       "      <td>55.031690</td>\n",
       "      <td>23.094371</td>\n",
       "      <td>1.934913</td>\n",
       "      <td>78.806135</td>\n",
       "      <td>25.278573</td>\n",
       "    </tr>\n",
       "    <tr>\n",
       "      <th>1</th>\n",
       "      <td>1</td>\n",
       "      <td>62162</td>\n",
       "      <td>2</td>\n",
       "      <td>36</td>\n",
       "      <td>1</td>\n",
       "      <td>2</td>\n",
       "      <td>17.6</td>\n",
       "      <td>55.5</td>\n",
       "      <td>36.9</td>\n",
       "      <td>9.8</td>\n",
       "      <td>...</td>\n",
       "      <td>305.638010</td>\n",
       "      <td>58.298489</td>\n",
       "      <td>2.663838</td>\n",
       "      <td>57.910763</td>\n",
       "      <td>58.088403</td>\n",
       "      <td>56.746678</td>\n",
       "      <td>25.721783</td>\n",
       "      <td>1.879215</td>\n",
       "      <td>15.315418</td>\n",
       "      <td>19.184786</td>\n",
       "    </tr>\n",
       "    <tr>\n",
       "      <th>2</th>\n",
       "      <td>2</td>\n",
       "      <td>62163</td>\n",
       "      <td>1</td>\n",
       "      <td>168</td>\n",
       "      <td>5</td>\n",
       "      <td>2</td>\n",
       "      <td>5.1</td>\n",
       "      <td>44.9</td>\n",
       "      <td>36.1</td>\n",
       "      <td>2.3</td>\n",
       "      <td>...</td>\n",
       "      <td>491.752859</td>\n",
       "      <td>64.087567</td>\n",
       "      <td>2.663838</td>\n",
       "      <td>58.859214</td>\n",
       "      <td>57.674557</td>\n",
       "      <td>56.740853</td>\n",
       "      <td>24.347905</td>\n",
       "      <td>1.735641</td>\n",
       "      <td>54.541704</td>\n",
       "      <td>20.749270</td>\n",
       "    </tr>\n",
       "    <tr>\n",
       "      <th>3</th>\n",
       "      <td>3</td>\n",
       "      <td>62164</td>\n",
       "      <td>2</td>\n",
       "      <td>528</td>\n",
       "      <td>3</td>\n",
       "      <td>2</td>\n",
       "      <td>5.6</td>\n",
       "      <td>27.2</td>\n",
       "      <td>58.7</td>\n",
       "      <td>1.5</td>\n",
       "      <td>...</td>\n",
       "      <td>412.708814</td>\n",
       "      <td>67.782671</td>\n",
       "      <td>3.304100</td>\n",
       "      <td>65.194235</td>\n",
       "      <td>62.029226</td>\n",
       "      <td>56.558531</td>\n",
       "      <td>27.660877</td>\n",
       "      <td>1.885412</td>\n",
       "      <td>73.885622</td>\n",
       "      <td>27.443223</td>\n",
       "    </tr>\n",
       "    <tr>\n",
       "      <th>4</th>\n",
       "      <td>4</td>\n",
       "      <td>62165</td>\n",
       "      <td>2</td>\n",
       "      <td>168</td>\n",
       "      <td>4</td>\n",
       "      <td>2</td>\n",
       "      <td>7.5</td>\n",
       "      <td>34.8</td>\n",
       "      <td>54.3</td>\n",
       "      <td>2.6</td>\n",
       "      <td>...</td>\n",
       "      <td>465.521054</td>\n",
       "      <td>54.961042</td>\n",
       "      <td>2.663838</td>\n",
       "      <td>54.836202</td>\n",
       "      <td>52.331585</td>\n",
       "      <td>57.978798</td>\n",
       "      <td>21.237162</td>\n",
       "      <td>1.598063</td>\n",
       "      <td>66.977157</td>\n",
       "      <td>26.189044</td>\n",
       "    </tr>\n",
       "  </tbody>\n",
       "</table>\n",
       "<p>5 rows × 32 columns</p>\n",
       "</div>"
      ],
      "text/plain": [
       "   Unnamed: 0     ID  Gender  Age(Months)  Race  PregnStat  White_Cell_num  \\\n",
       "0           0  62161       1          264     3          2             5.1   \n",
       "1           1  62162       2           36     1          2            17.6   \n",
       "2           2  62163       1          168     5          2             5.1   \n",
       "3           3  62164       2          528     3          2             5.6   \n",
       "4           4  62165       2          168     4          2             7.5   \n",
       "\n",
       "   Lymphocyte(%)  SegNeutrophil(%)  Lymphocyte_num  ...  VitB12(pmol/L)  \\\n",
       "0           27.0              60.1             1.4  ...      433.773755   \n",
       "1           55.5              36.9             9.8  ...      305.638010   \n",
       "2           44.9              36.1             2.3  ...      491.752859   \n",
       "3           27.2              58.7             1.5  ...      412.708814   \n",
       "4           34.8              54.3             2.6  ...      465.521054   \n",
       "\n",
       "       VitB6     VitD2      VitD3  VitD(nmol/L)  VitC(umol/L)  VitE(umol/L)  \\\n",
       "0  67.521150  2.663838  63.171397     62.501099     55.031690     23.094371   \n",
       "1  58.298489  2.663838  57.910763     58.088403     56.746678     25.721783   \n",
       "2  64.087567  2.663838  58.859214     57.674557     56.740853     24.347905   \n",
       "3  67.782671  3.304100  65.194235     62.029226     56.558531     27.660877   \n",
       "4  54.961042  2.663838  54.836202     52.331585     57.978798     21.237162   \n",
       "\n",
       "   VitA(umol/L)     Weight        BMI  \n",
       "0      1.934913  78.806135  25.278573  \n",
       "1      1.879215  15.315418  19.184786  \n",
       "2      1.735641  54.541704  20.749270  \n",
       "3      1.885412  73.885622  27.443223  \n",
       "4      1.598063  66.977157  26.189044  \n",
       "\n",
       "[5 rows x 32 columns]"
      ]
     },
     "execution_count": 50,
     "metadata": {},
     "output_type": "execute_result"
    }
   ],
   "source": [
    "NHANES_final_df.head()"
   ]
  },
  {
   "cell_type": "code",
   "execution_count": 51,
   "metadata": {},
   "outputs": [
    {
     "data": {
      "text/html": [
       "<div>\n",
       "<style scoped>\n",
       "    .dataframe tbody tr th:only-of-type {\n",
       "        vertical-align: middle;\n",
       "    }\n",
       "\n",
       "    .dataframe tbody tr th {\n",
       "        vertical-align: top;\n",
       "    }\n",
       "\n",
       "    .dataframe thead th {\n",
       "        text-align: right;\n",
       "    }\n",
       "</style>\n",
       "<table border=\"1\" class=\"dataframe\">\n",
       "  <thead>\n",
       "    <tr style=\"text-align: right;\">\n",
       "      <th></th>\n",
       "      <th>Zn(umol/L)</th>\n",
       "      <th>VitB12(pmol/L)</th>\n",
       "      <th>immunity_strength</th>\n",
       "    </tr>\n",
       "  </thead>\n",
       "  <tbody>\n",
       "    <tr>\n",
       "      <th>0</th>\n",
       "      <td>12.550758</td>\n",
       "      <td>433.773755</td>\n",
       "      <td>2</td>\n",
       "    </tr>\n",
       "    <tr>\n",
       "      <th>1</th>\n",
       "      <td>12.452748</td>\n",
       "      <td>305.638010</td>\n",
       "      <td>1</td>\n",
       "    </tr>\n",
       "    <tr>\n",
       "      <th>2</th>\n",
       "      <td>12.509064</td>\n",
       "      <td>491.752859</td>\n",
       "      <td>1</td>\n",
       "    </tr>\n",
       "    <tr>\n",
       "      <th>3</th>\n",
       "      <td>12.508112</td>\n",
       "      <td>412.708814</td>\n",
       "      <td>2</td>\n",
       "    </tr>\n",
       "    <tr>\n",
       "      <th>4</th>\n",
       "      <td>12.475033</td>\n",
       "      <td>465.521054</td>\n",
       "      <td>1</td>\n",
       "    </tr>\n",
       "    <tr>\n",
       "      <th>...</th>\n",
       "      <td>...</td>\n",
       "      <td>...</td>\n",
       "      <td>...</td>\n",
       "    </tr>\n",
       "    <tr>\n",
       "      <th>82736</th>\n",
       "      <td>12.477063</td>\n",
       "      <td>539.325147</td>\n",
       "      <td>2</td>\n",
       "    </tr>\n",
       "    <tr>\n",
       "      <th>82737</th>\n",
       "      <td>12.502874</td>\n",
       "      <td>424.069467</td>\n",
       "      <td>2</td>\n",
       "    </tr>\n",
       "    <tr>\n",
       "      <th>82738</th>\n",
       "      <td>12.505556</td>\n",
       "      <td>495.536777</td>\n",
       "      <td>1</td>\n",
       "    </tr>\n",
       "    <tr>\n",
       "      <th>82739</th>\n",
       "      <td>12.424597</td>\n",
       "      <td>471.008378</td>\n",
       "      <td>2</td>\n",
       "    </tr>\n",
       "    <tr>\n",
       "      <th>82740</th>\n",
       "      <td>12.524515</td>\n",
       "      <td>430.239344</td>\n",
       "      <td>2</td>\n",
       "    </tr>\n",
       "  </tbody>\n",
       "</table>\n",
       "<p>82741 rows × 3 columns</p>\n",
       "</div>"
      ],
      "text/plain": [
       "       Zn(umol/L)  VitB12(pmol/L)  immunity_strength\n",
       "0       12.550758      433.773755                  2\n",
       "1       12.452748      305.638010                  1\n",
       "2       12.509064      491.752859                  1\n",
       "3       12.508112      412.708814                  2\n",
       "4       12.475033      465.521054                  1\n",
       "...           ...             ...                ...\n",
       "82736   12.477063      539.325147                  2\n",
       "82737   12.502874      424.069467                  2\n",
       "82738   12.505556      495.536777                  1\n",
       "82739   12.424597      471.008378                  2\n",
       "82740   12.524515      430.239344                  2\n",
       "\n",
       "[82741 rows x 3 columns]"
      ]
     },
     "execution_count": 51,
     "metadata": {},
     "output_type": "execute_result"
    }
   ],
   "source": [
    "NHANES_final_df[['Zn(umol/L)', 'VitB12(pmol/L)', 'immunity_strength']]"
   ]
  },
  {
   "cell_type": "code",
   "execution_count": null,
   "metadata": {},
   "outputs": [],
   "source": []
  },
  {
   "cell_type": "code",
   "execution_count": null,
   "metadata": {},
   "outputs": [],
   "source": []
  },
  {
   "cell_type": "markdown",
   "metadata": {},
   "source": [
    "## Feature importance based on mean decrease in impurity (MDI)"
   ]
  },
  {
   "cell_type": "markdown",
   "metadata": {},
   "source": [
    "The feature importance permutation method was used for all the previous method to rank the model features according to their weighted importance. The oerseved trends were similar for all the models with the same nutrients in the Top 4. For validation we want to compute feature importances using a different method that computes the  feature importances using the `feature_importances_` attribute, an built in Random Forest algorithm method. "
   ]
  },
  {
   "cell_type": "code",
   "execution_count": 36,
   "metadata": {},
   "outputs": [
    {
     "data": {
      "text/plain": [
       "Text(0.5, 0, 'MDI Importance')"
      ]
     },
     "execution_count": 36,
     "metadata": {},
     "output_type": "execute_result"
    },
    {
     "data": {
      "image/png": "[encoded data removed]",
      "text/plain": [
       "<Figure size 432x288 with 1 Axes>"
      ]
     },
     "metadata": {
      "needs_background": "light"
     },
     "output_type": "display_data"
    }
   ],
   "source": [
    "importances = best_model.feature_importances_\n",
    "forest_importances = pd.Series(importances, index=features)\n",
    "\n",
    "sorted_idx = forest_importances.argsort()\n",
    "plt.barh(features[sorted_idx], forest_importances[sorted_idx])\n",
    "plt.xlabel(\"MDI Importance\")"
   ]
  },
  {
   "cell_type": "markdown",
   "metadata": {},
   "source": [
    "The feature importance computed by MDI method showa the same three features Vitamin B12, Zinc ans Vitamin B in the top 4 list as observed with the permutation method. Although the there is some desparity in the relative importances the general trend appears to be similar, with categorical variables at the bottom of the list. It is however important to highlight that impurity-based feature importances are prone to bias as they can be biased toward high cardinality features."
   ]
  },
  {
   "cell_type": "markdown",
   "metadata": {},
   "source": [
    "+++++++++++++++++++++++++++++++++++++++++++++++++++++++++++++++++++++++++++++++++++++++++++++++++++++++++++++++"
   ]
  },
  {
   "cell_type": "markdown",
   "metadata": {},
   "source": [
    "### Conclusion"
   ]
  },
  {
   "cell_type": "markdown",
   "metadata": {},
   "source": [
    "All the models and computed features importances consistently show that Vitamin B12 and  Zn are the most important features. Vitaim B6 is also a high ranking important feature feature as it was consistently in the top 4 features in all the models. Selinium appears to be an important feature although the computed feature importance using MDI method shows some discrepancy. Permutation feature importance does not have the same bias limitations of the impurity-based feature importance which is biased toward high-cardinality features. For the purposes of this project we will use the raking from the permutation method to score food items in the USDA Nutrition dataset."
   ]
  }
 ],
 "metadata": {
  "kernelspec": {
   "display_name": "Python 3",
   "language": "python",
   "name": "python3"
  },
  "language_info": {
   "codemirror_mode": {
    "name": "ipython",
    "version": 3
   },
   "file_extension": ".py",
   "mimetype": "text/x-python",
   "name": "python",
   "nbconvert_exporter": "python",
   "pygments_lexer": "ipython3",
   "version": "3.8.5"
  }
 },
 "nbformat": 4,
 "nbformat_minor": 5
}
