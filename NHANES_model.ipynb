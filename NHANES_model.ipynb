{
 "cells": [
  {
   "cell_type": "markdown",
   "id": "b5d6e725",
   "metadata": {},
   "source": [
    "## Data Modeling"
   ]
  },
  {
   "cell_type": "markdown",
   "id": "aa0ff132",
   "metadata": {},
   "source": [
    "The final dataset with imputed values was used for compute the model. Decision Tree and Random forest with feature importance were used to identify the micronutrients that that were contributing more to the model. "
   ]
  },
  {
   "cell_type": "code",
   "execution_count": null,
   "id": "65f7b400",
   "metadata": {},
   "outputs": [],
   "source": []
  },
  {
   "cell_type": "code",
   "execution_count": 1,
   "id": "60c9f522",
   "metadata": {},
   "outputs": [],
   "source": [
    "import warnings\n",
    "warnings.filterwarnings('ignore')"
   ]
  },
  {
   "cell_type": "code",
   "execution_count": 2,
   "id": "779d0141",
   "metadata": {},
   "outputs": [
    {
     "name": "stdout",
     "output_type": "stream",
     "text": [
      "Requirement already satisfied: scikit-learn in ./opt/anaconda3/envs/nahnes_project/lib/python3.8/site-packages (1.0.2)\n",
      "Requirement already satisfied: threadpoolctl>=2.0.0 in ./opt/anaconda3/envs/nahnes_project/lib/python3.8/site-packages (from scikit-learn) (3.1.0)\n",
      "Requirement already satisfied: joblib>=0.11 in ./opt/anaconda3/envs/nahnes_project/lib/python3.8/site-packages (from scikit-learn) (1.1.0)\n",
      "Requirement already satisfied: scipy>=1.1.0 in ./opt/anaconda3/envs/nahnes_project/lib/python3.8/site-packages (from scikit-learn) (1.8.0)\n",
      "Requirement already satisfied: numpy>=1.14.6 in ./opt/anaconda3/envs/nahnes_project/lib/python3.8/site-packages (from scikit-learn) (1.22.2)\n",
      "Note: you may need to restart the kernel to use updated packages.\n"
     ]
    }
   ],
   "source": [
    "pip install scikit-learn"
   ]
  },
  {
   "cell_type": "code",
   "execution_count": 3,
   "id": "2837a7fb",
   "metadata": {},
   "outputs": [
    {
     "name": "stdout",
     "output_type": "stream",
     "text": [
      "Requirement already satisfied: openpyxl in ./opt/anaconda3/envs/nahnes_project/lib/python3.8/site-packages (3.0.9)\n",
      "Requirement already satisfied: et-xmlfile in ./opt/anaconda3/envs/nahnes_project/lib/python3.8/site-packages (from openpyxl) (1.1.0)\n",
      "Note: you may need to restart the kernel to use updated packages.\n"
     ]
    }
   ],
   "source": [
    "pip install openpyxl"
   ]
  },
  {
   "cell_type": "code",
   "execution_count": 4,
   "id": "e80dc5c0",
   "metadata": {},
   "outputs": [],
   "source": [
    "%matplotlib inline\n",
    "import pandas as pd\n",
    "import numpy as np\n",
    "import sklearn\n",
    "import matplotlib.pyplot as plt\n",
    "import seaborn as sns"
   ]
  },
  {
   "cell_type": "code",
   "execution_count": 5,
   "id": "9bc07310",
   "metadata": {},
   "outputs": [],
   "source": [
    "NHANES_final_df = pd.read_excel('NHANES_final.xlsx')"
   ]
  },
  {
   "cell_type": "code",
   "execution_count": 6,
   "id": "26a23a09",
   "metadata": {},
   "outputs": [
    {
     "data": {
      "text/html": [
       "<div>\n",
       "<style scoped>\n",
       "    .dataframe tbody tr th:only-of-type {\n",
       "        vertical-align: middle;\n",
       "    }\n",
       "\n",
       "    .dataframe tbody tr th {\n",
       "        vertical-align: top;\n",
       "    }\n",
       "\n",
       "    .dataframe thead th {\n",
       "        text-align: right;\n",
       "    }\n",
       "</style>\n",
       "<table border=\"1\" class=\"dataframe\">\n",
       "  <thead>\n",
       "    <tr style=\"text-align: right;\">\n",
       "      <th></th>\n",
       "      <th>Unnamed: 0</th>\n",
       "      <th>ID</th>\n",
       "      <th>Gender</th>\n",
       "      <th>Age(Months)</th>\n",
       "      <th>Race</th>\n",
       "      <th>PregnStat</th>\n",
       "      <th>White_Cell_num</th>\n",
       "      <th>Lymphocyte(%)</th>\n",
       "      <th>SegNeutrophil(%)</th>\n",
       "      <th>Lymphocyte_num</th>\n",
       "      <th>...</th>\n",
       "      <th>VitB12(pmol/L)</th>\n",
       "      <th>VitB6</th>\n",
       "      <th>VitD2</th>\n",
       "      <th>VitD3</th>\n",
       "      <th>VitD(nmol/L)</th>\n",
       "      <th>VitC(umol/L)</th>\n",
       "      <th>VitE(umol/L)</th>\n",
       "      <th>VitA(umol/L)</th>\n",
       "      <th>Weight</th>\n",
       "      <th>BMI</th>\n",
       "    </tr>\n",
       "  </thead>\n",
       "  <tbody>\n",
       "    <tr>\n",
       "      <th>0</th>\n",
       "      <td>0</td>\n",
       "      <td>62161</td>\n",
       "      <td>1</td>\n",
       "      <td>264</td>\n",
       "      <td>3</td>\n",
       "      <td>2</td>\n",
       "      <td>5.1</td>\n",
       "      <td>27.0</td>\n",
       "      <td>60.1</td>\n",
       "      <td>1.4</td>\n",
       "      <td>...</td>\n",
       "      <td>433.773755</td>\n",
       "      <td>67.521150</td>\n",
       "      <td>2.663838</td>\n",
       "      <td>63.171397</td>\n",
       "      <td>62.501099</td>\n",
       "      <td>55.031690</td>\n",
       "      <td>23.094371</td>\n",
       "      <td>1.934913</td>\n",
       "      <td>78.806135</td>\n",
       "      <td>25.278573</td>\n",
       "    </tr>\n",
       "    <tr>\n",
       "      <th>1</th>\n",
       "      <td>1</td>\n",
       "      <td>62162</td>\n",
       "      <td>2</td>\n",
       "      <td>36</td>\n",
       "      <td>1</td>\n",
       "      <td>2</td>\n",
       "      <td>17.6</td>\n",
       "      <td>55.5</td>\n",
       "      <td>36.9</td>\n",
       "      <td>9.8</td>\n",
       "      <td>...</td>\n",
       "      <td>305.638010</td>\n",
       "      <td>58.298489</td>\n",
       "      <td>2.663838</td>\n",
       "      <td>57.910763</td>\n",
       "      <td>58.088403</td>\n",
       "      <td>56.746678</td>\n",
       "      <td>25.721783</td>\n",
       "      <td>1.879215</td>\n",
       "      <td>15.315418</td>\n",
       "      <td>19.184786</td>\n",
       "    </tr>\n",
       "    <tr>\n",
       "      <th>2</th>\n",
       "      <td>2</td>\n",
       "      <td>62163</td>\n",
       "      <td>1</td>\n",
       "      <td>168</td>\n",
       "      <td>5</td>\n",
       "      <td>2</td>\n",
       "      <td>5.1</td>\n",
       "      <td>44.9</td>\n",
       "      <td>36.1</td>\n",
       "      <td>2.3</td>\n",
       "      <td>...</td>\n",
       "      <td>491.752859</td>\n",
       "      <td>64.087567</td>\n",
       "      <td>2.663838</td>\n",
       "      <td>58.859214</td>\n",
       "      <td>57.674557</td>\n",
       "      <td>56.740853</td>\n",
       "      <td>24.347905</td>\n",
       "      <td>1.735641</td>\n",
       "      <td>54.541704</td>\n",
       "      <td>20.749270</td>\n",
       "    </tr>\n",
       "    <tr>\n",
       "      <th>3</th>\n",
       "      <td>3</td>\n",
       "      <td>62164</td>\n",
       "      <td>2</td>\n",
       "      <td>528</td>\n",
       "      <td>3</td>\n",
       "      <td>2</td>\n",
       "      <td>5.6</td>\n",
       "      <td>27.2</td>\n",
       "      <td>58.7</td>\n",
       "      <td>1.5</td>\n",
       "      <td>...</td>\n",
       "      <td>412.708814</td>\n",
       "      <td>67.782671</td>\n",
       "      <td>3.304100</td>\n",
       "      <td>65.194235</td>\n",
       "      <td>62.029226</td>\n",
       "      <td>56.558531</td>\n",
       "      <td>27.660877</td>\n",
       "      <td>1.885412</td>\n",
       "      <td>73.885622</td>\n",
       "      <td>27.443223</td>\n",
       "    </tr>\n",
       "    <tr>\n",
       "      <th>4</th>\n",
       "      <td>4</td>\n",
       "      <td>62165</td>\n",
       "      <td>2</td>\n",
       "      <td>168</td>\n",
       "      <td>4</td>\n",
       "      <td>2</td>\n",
       "      <td>7.5</td>\n",
       "      <td>34.8</td>\n",
       "      <td>54.3</td>\n",
       "      <td>2.6</td>\n",
       "      <td>...</td>\n",
       "      <td>465.521054</td>\n",
       "      <td>54.961042</td>\n",
       "      <td>2.663838</td>\n",
       "      <td>54.836202</td>\n",
       "      <td>52.331585</td>\n",
       "      <td>57.978798</td>\n",
       "      <td>21.237162</td>\n",
       "      <td>1.598063</td>\n",
       "      <td>66.977157</td>\n",
       "      <td>26.189044</td>\n",
       "    </tr>\n",
       "  </tbody>\n",
       "</table>\n",
       "<p>5 rows × 32 columns</p>\n",
       "</div>"
      ],
      "text/plain": [
       "   Unnamed: 0     ID  Gender  Age(Months)  Race  PregnStat  White_Cell_num  \\\n",
       "0           0  62161       1          264     3          2             5.1   \n",
       "1           1  62162       2           36     1          2            17.6   \n",
       "2           2  62163       1          168     5          2             5.1   \n",
       "3           3  62164       2          528     3          2             5.6   \n",
       "4           4  62165       2          168     4          2             7.5   \n",
       "\n",
       "   Lymphocyte(%)  SegNeutrophil(%)  Lymphocyte_num  ...  VitB12(pmol/L)  \\\n",
       "0           27.0              60.1             1.4  ...      433.773755   \n",
       "1           55.5              36.9             9.8  ...      305.638010   \n",
       "2           44.9              36.1             2.3  ...      491.752859   \n",
       "3           27.2              58.7             1.5  ...      412.708814   \n",
       "4           34.8              54.3             2.6  ...      465.521054   \n",
       "\n",
       "       VitB6     VitD2      VitD3  VitD(nmol/L)  VitC(umol/L)  VitE(umol/L)  \\\n",
       "0  67.521150  2.663838  63.171397     62.501099     55.031690     23.094371   \n",
       "1  58.298489  2.663838  57.910763     58.088403     56.746678     25.721783   \n",
       "2  64.087567  2.663838  58.859214     57.674557     56.740853     24.347905   \n",
       "3  67.782671  3.304100  65.194235     62.029226     56.558531     27.660877   \n",
       "4  54.961042  2.663838  54.836202     52.331585     57.978798     21.237162   \n",
       "\n",
       "   VitA(umol/L)     Weight        BMI  \n",
       "0      1.934913  78.806135  25.278573  \n",
       "1      1.879215  15.315418  19.184786  \n",
       "2      1.735641  54.541704  20.749270  \n",
       "3      1.885412  73.885622  27.443223  \n",
       "4      1.598063  66.977157  26.189044  \n",
       "\n",
       "[5 rows x 32 columns]"
      ]
     },
     "execution_count": 6,
     "metadata": {},
     "output_type": "execute_result"
    }
   ],
   "source": [
    "NHANES_final_df.head()"
   ]
  },
  {
   "cell_type": "code",
   "execution_count": 7,
   "id": "643028be",
   "metadata": {},
   "outputs": [
    {
     "name": "stdout",
     "output_type": "stream",
     "text": [
      "<class 'pandas.core.frame.DataFrame'>\n",
      "RangeIndex: 82741 entries, 0 to 82740\n",
      "Data columns (total 32 columns):\n",
      " #   Column                Non-Null Count  Dtype  \n",
      "---  ------                --------------  -----  \n",
      " 0   Unnamed: 0            82741 non-null  int64  \n",
      " 1   ID                    82741 non-null  int64  \n",
      " 2   Gender                82741 non-null  int64  \n",
      " 3   Age(Months)           82741 non-null  int64  \n",
      " 4   Race                  82741 non-null  int64  \n",
      " 5   PregnStat             82741 non-null  int64  \n",
      " 6   White_Cell_num        82741 non-null  float64\n",
      " 7   Lymphocyte(%)         82741 non-null  float64\n",
      " 8   SegNeutrophil(%)      82741 non-null  float64\n",
      " 9   Lymphocyte_num        82741 non-null  float64\n",
      " 10  SegNeutrophil_num     82741 non-null  float64\n",
      " 11  HIV                   82741 non-null  int64  \n",
      " 12  alco_dks_daily#       82741 non-null  int64  \n",
      " 13  smokescigs_daily#     82741 non-null  int64  \n",
      " 14  had_anemia_treatment  82741 non-null  int64  \n",
      " 15  had_cancer            82741 non-null  int64  \n",
      " 16  immunity_strength     82741 non-null  int64  \n",
      " 17  Cu(umol/L)            82741 non-null  float64\n",
      " 18  Se(umol/L)            82741 non-null  float64\n",
      " 19  Zn(umol/L)            82741 non-null  float64\n",
      " 20  Fe(ug/L)              82741 non-null  float64\n",
      " 21  Folate(nmol/L)        82741 non-null  float64\n",
      " 22  VitB12(pmol/L)        82741 non-null  float64\n",
      " 23  VitB6                 82741 non-null  float64\n",
      " 24  VitD2                 82741 non-null  float64\n",
      " 25  VitD3                 82741 non-null  float64\n",
      " 26  VitD(nmol/L)          82741 non-null  float64\n",
      " 27  VitC(umol/L)          82741 non-null  float64\n",
      " 28  VitE(umol/L)          82741 non-null  float64\n",
      " 29  VitA(umol/L)          82741 non-null  float64\n",
      " 30  Weight                82741 non-null  float64\n",
      " 31  BMI                   82741 non-null  float64\n",
      "dtypes: float64(20), int64(12)\n",
      "memory usage: 20.2 MB\n"
     ]
    }
   ],
   "source": [
    "NHANES_final_df.info()"
   ]
  },
  {
   "cell_type": "code",
   "execution_count": 8,
   "id": "e87bc0e2",
   "metadata": {},
   "outputs": [],
   "source": [
    "from sklearn.inspection import permutation_importance\n",
    "import numpy as np\n",
    "import matplotlib.pyplot as plt\n",
    "%matplotlib inline"
   ]
  },
  {
   "cell_type": "markdown",
   "id": "575617b1",
   "metadata": {},
   "source": [
    "++++++++++++++++++++++++++++++++++++++++++++++++++++++++++++++++++++++++++++++++++++++++++++++++++++++++++++++++++++++"
   ]
  },
  {
   "cell_type": "code",
   "execution_count": 9,
   "id": "d898b1d3",
   "metadata": {},
   "outputs": [],
   "source": [
    "import pandas as pd\n",
    "import numpy as np\n",
    "from sklearn import tree, metrics\n",
    "from sklearn.model_selection import train_test_split\n",
    "import seaborn as sns\n",
    "import matplotlib.pyplot as plt\n",
    "from io import StringIO  \n",
    "from IPython.display import Image  \n"
   ]
  },
  {
   "cell_type": "markdown",
   "id": "2c03d4f9",
   "metadata": {},
   "source": [
    "# Model 1: Entropy model - no max_depth"
   ]
  },
  {
   "cell_type": "code",
   "execution_count": 10,
   "id": "f442f883",
   "metadata": {},
   "outputs": [],
   "source": [
    "from sklearn.model_selection import train_test_split\n",
    "\n",
    "X = NHANES_final_df[['Gender',\n",
    "        'Age(Months)',\n",
    "        'Race',\n",
    "        'PregnStat',\n",
    "        'HIV',\n",
    "        'alco_dks_daily#',\n",
    "        'smokescigs_daily#',\n",
    "        'had_anemia_treatment',\n",
    "        'had_cancer',\n",
    "        'Cu(umol/L)',\n",
    "        'Se(umol/L)',\n",
    "        'Zn(umol/L)',\n",
    "        'Fe(ug/L)',\n",
    "        'Folate(nmol/L)',\n",
    "        'VitB12(pmol/L)',\n",
    "        'VitB6',\n",
    "        'VitD2',\n",
    "        'VitD3',\n",
    "        'VitD(nmol/L)',\n",
    "        'VitC(umol/L)',\n",
    "        'VitE(umol/L)',\n",
    "        'VitA(umol/L)',\n",
    "        'Weight',\n",
    "        'BMI']]\n",
    "\n",
    "y = NHANES_final_df['immunity_strength']\n",
    "X_train, X_test, y_train, y_test = train_test_split(X, y, test_size=0.3, random_state=42)"
   ]
  },
  {
   "cell_type": "code",
   "execution_count": 11,
   "id": "3c6ec219",
   "metadata": {},
   "outputs": [
    {
     "data": {
      "text/plain": [
       "array([2, 1])"
      ]
     },
     "execution_count": 11,
     "metadata": {},
     "output_type": "execute_result"
    }
   ],
   "source": [
    "NHANES_final_df['immunity_strength'].unique()"
   ]
  },
  {
   "cell_type": "code",
   "execution_count": 12,
   "id": "367d91d8",
   "metadata": {},
   "outputs": [
    {
     "data": {
      "text/plain": [
       "DecisionTreeClassifier(criterion='entropy', random_state=1234)"
      ]
     },
     "execution_count": 12,
     "metadata": {},
     "output_type": "execute_result"
    }
   ],
   "source": [
    "# entropy DecisionTreeClassifier. \n",
    "entr_model = tree.DecisionTreeClassifier(criterion=\"entropy\", random_state = 1234)\n",
    "\n",
    "\n",
    "entr_model.fit(X_train, y_train)\n",
    "\n",
    "y_pred = entr_model.predict(X_test)\n",
    "y_pred = pd.Series(y_pred)\n",
    "entr_model"
   ]
  },
  {
   "cell_type": "code",
   "execution_count": 13,
   "id": "eb571e26",
   "metadata": {},
   "outputs": [
    {
     "name": "stdout",
     "output_type": "stream",
     "text": [
      "Model Entropy - no max depth\n",
      "Accuracy: 0.8947750070499134\n",
      "Balanced accuracy: 0.8881924971149796\n",
      "Precision score for \"1\" 0.9159489736450172\n",
      "Precision score for \"2\" 0.8599147121535181\n",
      "Recall score for \"1\" 0.9150009703085581\n",
      "Recall score for \"2\" 0.8613840239214011\n"
     ]
    }
   ],
   "source": [
    "print(\"Model Entropy - no max depth\")\n",
    "print(\"Accuracy:\", metrics.accuracy_score(y_test,y_pred))\n",
    "print(\"Balanced accuracy:\", metrics.balanced_accuracy_score(y_test,y_pred))\n",
    "print('Precision score for \"1\"' , metrics.precision_score(y_test,y_pred, pos_label = 1))\n",
    "print('Precision score for \"2\"' , metrics.precision_score(y_test,y_pred, pos_label = 2))\n",
    "print('Recall score for \"1\"' , metrics.recall_score(y_test,y_pred, pos_label = 1))\n",
    "print('Recall score for \"2\"' , metrics.recall_score(y_test,y_pred, pos_label = 2))"
   ]
  },
  {
   "cell_type": "code",
   "execution_count": 14,
   "id": "41aa60c6",
   "metadata": {},
   "outputs": [
    {
     "data": {
      "text/plain": [
       "Text(0.5, 0, 'Permutation Importance')"
      ]
     },
     "execution_count": 14,
     "metadata": {},
     "output_type": "execute_result"
    },
    {
     "data": {
      "image/png": "[encoded data removed]",
      "text/plain": [
       "<Figure size 432x288 with 1 Axes>"
      ]
     },
     "metadata": {
      "needs_background": "light"
     },
     "output_type": "display_data"
    }
   ],
   "source": [
    "\n",
    "perm_importance = permutation_importance(entr_model, X_test, y_test)\n",
    "\n",
    "feature_names = ['Gender',\n",
    "                'Age(Months)',\n",
    "                'Race',\n",
    "                'PregnStat',\n",
    "                'HIV',\n",
    "                'alco_dks_daily#',\n",
    "                'smokescigs_daily#',\n",
    "                'had_anemia_treatment',\n",
    "                'had_cancer',\n",
    "                'Cu(umol/L)',\n",
    "                'Se(umol/L)',\n",
    "                'Zn(umol/L)',\n",
    "                'Fe(ug/L)',\n",
    "                'Folate(nmol/L)',\n",
    "                'VitB12(pmol/L)',\n",
    "                'VitB6',\n",
    "                'VitD2',\n",
    "                'VitD3',\n",
    "                'VitD(nmol/L)',\n",
    "                'VitC(umol/L)',\n",
    "                'VitE(umol/L)',\n",
    "                'VitA(umol/L)',\n",
    "                'Weight',\n",
    "                'BMI']\n",
    "                \n",
    "features = np.array(feature_names)\n",
    "\n",
    "sorted_idx = perm_importance.importances_mean.argsort()\n",
    "plt.barh(features[sorted_idx], perm_importance.importances_mean[sorted_idx])\n",
    "plt.xlabel(\"Permutation Importance\")"
   ]
  },
  {
   "cell_type": "markdown",
   "id": "6e443ff0",
   "metadata": {},
   "source": [
    "++++++++++++++++++++++++++++++++++++++++++++++++++++++++++++++++++++++++++++++++++++++++++++++++++++++++++++++++++++++"
   ]
  },
  {
   "cell_type": "markdown",
   "id": "e58ad646",
   "metadata": {},
   "source": [
    "## Model 2: Gini impurity model - no max_depth"
   ]
  },
  {
   "cell_type": "code",
   "execution_count": 15,
   "id": "75953438",
   "metadata": {},
   "outputs": [
    {
     "data": {
      "text/plain": [
       "DecisionTreeClassifier(random_state=1234)"
      ]
     },
     "execution_count": 15,
     "metadata": {},
     "output_type": "execute_result"
    }
   ],
   "source": [
    "# Make a variable called gini_model, and assign it exactly what you assigned entr_model with above, but with the\n",
    "# criterion changed to 'gini'\n",
    "gini_model = tree.DecisionTreeClassifier(criterion=\"gini\", random_state = 1234)\n",
    "\n",
    "# fit the gini_model as you did with the entr_model\n",
    "gini_model.fit(X_train, y_train)\n",
    "\n",
    "# Call predict() on the gini_model as you did with the entr_model \n",
    "y_pred = gini_model.predict(X_test)\n",
    "# Turn y_pred into a series, as before\n",
    "y_pred = pd.Series(y_pred)\n",
    "\n",
    "# Check out gini_model\n",
    "gini_model"
   ]
  },
  {
   "cell_type": "code",
   "execution_count": 16,
   "id": "7064c532",
   "metadata": {},
   "outputs": [
    {
     "name": "stdout",
     "output_type": "stream",
     "text": [
      "Model Gini impurity model\n",
      "Accuracy: 0.8913507634049067\n",
      "Balanced accuracy: 0.8849590851152236\n",
      "Precision score for \"1\" 0.9142430537522721\n",
      "Precision score for \"2\" 0.8539123049155961\n",
      "Recall score for \"1\" 0.910990361601656\n",
      "Recall score for \"2\" 0.8589278086287911\n"
     ]
    }
   ],
   "source": [
    "print(\"Model Gini impurity model\")\n",
    "print(\"Accuracy:\", metrics.accuracy_score(y_test,y_pred))\n",
    "print(\"Balanced accuracy:\", metrics.balanced_accuracy_score(y_test,y_pred))\n",
    "print('Precision score for \"1\"' , metrics.precision_score(y_test,y_pred, pos_label = 1))\n",
    "print('Precision score for \"2\"' , metrics.precision_score(y_test,y_pred, pos_label = 2))\n",
    "print('Recall score for \"1\"' , metrics.recall_score(y_test,y_pred, pos_label = 1))\n",
    "print('Recall score for \"2\"' , metrics.recall_score(y_test,y_pred, pos_label = 2))"
   ]
  },
  {
   "cell_type": "code",
   "execution_count": 17,
   "id": "7e52d730",
   "metadata": {},
   "outputs": [
    {
     "data": {
      "text/plain": [
       "Text(0.5, 0, 'Permutation Importance')"
      ]
     },
     "execution_count": 17,
     "metadata": {},
     "output_type": "execute_result"
    },
    {
     "data": {
      "image/png": "[encoded data removed]",
      "text/plain": [
       "<Figure size 432x288 with 1 Axes>"
      ]
     },
     "metadata": {
      "needs_background": "light"
     },
     "output_type": "display_data"
    }
   ],
   "source": [
    "perm_importance = permutation_importance(gini_model, X_test, y_test)\n",
    "\n",
    "feature_names = ['Gender',\n",
    "                'Age(Months)',\n",
    "                'Race',\n",
    "                'PregnStat',\n",
    "                'HIV',\n",
    "                'alco_dks_daily#',\n",
    "                'smokescigs_daily#',\n",
    "                'had_anemia_treatment',\n",
    "                'had_cancer',\n",
    "                'Cu(umol/L)',\n",
    "                'Se(umol/L)',\n",
    "                'Zn(umol/L)',\n",
    "                'Fe(ug/L)',\n",
    "                'Folate(nmol/L)',\n",
    "                'VitB12(pmol/L)',\n",
    "                'VitB6',\n",
    "                'VitD2',\n",
    "                'VitD3',\n",
    "                'VitD(nmol/L)',\n",
    "                'VitC(umol/L)',\n",
    "                'VitE(umol/L)',\n",
    "                'VitA(umol/L)',\n",
    "                'Weight',\n",
    "                'BMI']\n",
    "                \n",
    "features = np.array(feature_names)\n",
    "\n",
    "sorted_idx = perm_importance.importances_mean.argsort()\n",
    "plt.barh(features[sorted_idx], perm_importance.importances_mean[sorted_idx])\n",
    "plt.xlabel(\"Permutation Importance\")"
   ]
  },
  {
   "cell_type": "markdown",
   "id": "53143344",
   "metadata": {},
   "source": [
    "++++++++++++++++++++++++++++++++++++++++++++++++++++++++++++++++++++++++++++++++++++++++++++++++++++++++++++++++++++++"
   ]
  },
  {
   "cell_type": "markdown",
   "id": "a2d99f6a",
   "metadata": {},
   "source": [
    "## Model 3: Entropy model - max depth 3"
   ]
  },
  {
   "cell_type": "code",
   "execution_count": 18,
   "id": "0fe3b67e",
   "metadata": {},
   "outputs": [
    {
     "data": {
      "text/plain": [
       "DecisionTreeClassifier(criterion='entropy', max_depth=3, random_state=1234)"
      ]
     },
     "execution_count": 18,
     "metadata": {},
     "output_type": "execute_result"
    }
   ],
   "source": [
    "# Made a model as before, but call it entr_model2, and make the max_depth parameter equal to 3. \n",
    "# Execute the fitting, predicting, and Series operations as before\n",
    "entr_model2 = tree.DecisionTreeClassifier(criterion=\"entropy\", max_depth = 3, random_state = 1234)\n",
    "entr_model2.fit(X_train, y_train)\n",
    "y_pred = entr_model2.predict(X_test)\n",
    "y_pred = pd.Series(y_pred)\n",
    "entr_model2"
   ]
  },
  {
   "cell_type": "code",
   "execution_count": 19,
   "id": "23d4f609",
   "metadata": {},
   "outputs": [
    {
     "name": "stdout",
     "output_type": "stream",
     "text": [
      "Model Entropy model max depth 3\n",
      "Accuracy: 0.671393465737421\n",
      "Balanced accuracy: 0.6329323000949529\n",
      "Precision score for \"1\" 0.7133839859731151\n",
      "Precision score for \"2\" 0.5782445222351873\n",
      "Recall score for \"1\" 0.7895724173620544\n",
      "Recall score for \"2\" 0.47629218282785135\n"
     ]
    }
   ],
   "source": [
    "print(\"Model Entropy model max depth 3\")\n",
    "print(\"Accuracy:\", metrics.accuracy_score(y_test,y_pred))\n",
    "print(\"Balanced accuracy:\", metrics.balanced_accuracy_score(y_test,y_pred))\n",
    "print('Precision score for \"1\"' , metrics.precision_score(y_test,y_pred, pos_label = 1))\n",
    "print('Precision score for \"2\"' , metrics.precision_score(y_test,y_pred, pos_label = 2))\n",
    "print('Recall score for \"1\"' , metrics.recall_score(y_test,y_pred, pos_label = 1))\n",
    "print('Recall score for \"2\"' , metrics.recall_score(y_test,y_pred, pos_label = 2))"
   ]
  },
  {
   "cell_type": "code",
   "execution_count": 20,
   "id": "1c30e0b8",
   "metadata": {},
   "outputs": [
    {
     "data": {
      "text/plain": [
       "Text(0.5, 0, 'Permutation Importance')"
      ]
     },
     "execution_count": 20,
     "metadata": {},
     "output_type": "execute_result"
    },
    {
     "data": {
      "image/png": "[encoded data removed]",
      "text/plain": [
       "<Figure size 432x288 with 1 Axes>"
      ]
     },
     "metadata": {
      "needs_background": "light"
     },
     "output_type": "display_data"
    }
   ],
   "source": [
    "perm_importance = permutation_importance(entr_model2, X_test, y_test)\n",
    "\n",
    "feature_names = ['Gender',\n",
    "                'Age(Months)',\n",
    "                'Race',\n",
    "                'PregnStat',\n",
    "                'HIV',\n",
    "                'alco_dks_daily#',\n",
    "                'smokescigs_daily#',\n",
    "                'had_anemia_treatment',\n",
    "                'had_cancer',\n",
    "                'Cu(umol/L)',\n",
    "                'Se(umol/L)',\n",
    "                'Zn(umol/L)',\n",
    "                'Fe(ug/L)',\n",
    "                'Folate(nmol/L)',\n",
    "                'VitB12(pmol/L)',\n",
    "                'VitB6',\n",
    "                'VitD2',\n",
    "                'VitD3',\n",
    "                'VitD(nmol/L)',\n",
    "                'VitC(umol/L)',\n",
    "                'VitE(umol/L)',\n",
    "                'VitA(umol/L)',\n",
    "                'Weight',\n",
    "                'BMI']\n",
    "                \n",
    "features = np.array(feature_names)\n",
    "\n",
    "sorted_idx = perm_importance.importances_mean.argsort()\n",
    "plt.barh(features[sorted_idx], perm_importance.importances_mean[sorted_idx])\n",
    "plt.xlabel(\"Permutation Importance\")"
   ]
  },
  {
   "cell_type": "markdown",
   "id": "4a7fb3ca",
   "metadata": {},
   "source": [
    "++++++++++++++++++++++++++++++++++++++++++++++++++++++++++++++++++++++++++++++++++++++++++++++++++++++++++++++++++++++"
   ]
  },
  {
   "cell_type": "markdown",
   "id": "063dd2cb",
   "metadata": {},
   "source": [
    "## Model 4: Gini impurity model - max depth 3"
   ]
  },
  {
   "cell_type": "code",
   "execution_count": 21,
   "id": "00cf6cf4",
   "metadata": {},
   "outputs": [
    {
     "data": {
      "text/plain": [
       "DecisionTreeClassifier(max_depth=3, random_state=1234)"
      ]
     },
     "execution_count": 21,
     "metadata": {},
     "output_type": "execute_result"
    }
   ],
   "source": [
    "# As before, make a variable, but call it gini_model2, and ensure the max_depth parameter is set to 3\n",
    "gini_model2 = tree.DecisionTreeClassifier(criterion='gini', random_state = 1234, max_depth = 3)\n",
    "\n",
    "# Do the fit, predict, and series transformations as before. \n",
    "gini_model2.fit(X_train, y_train)\n",
    "y_pred = gini_model2.predict(X_test)\n",
    "y_pred = pd.Series(y_pred)\n",
    "gini_model2"
   ]
  },
  {
   "cell_type": "code",
   "execution_count": 22,
   "id": "58554509",
   "metadata": {},
   "outputs": [
    {
     "name": "stdout",
     "output_type": "stream",
     "text": [
      "Gini impurity  model - max depth 3\n",
      "Accuracy: 0.6739314345566612\n",
      "Balanced accuracy: 0.6359804616358675\n",
      "Precision score for \"1\" 0.7156409205363939\n",
      "Precision score for \"2\" 0.581977794990963\n",
      "Recall score for \"1\" 0.7905427259201759\n",
      "Recall score for \"2\" 0.48141819735155916\n"
     ]
    }
   ],
   "source": [
    "print(\"Gini impurity  model - max depth 3\")\n",
    "print(\"Accuracy:\", metrics.accuracy_score(y_test,y_pred))\n",
    "print(\"Balanced accuracy:\", metrics.balanced_accuracy_score(y_test,y_pred))\n",
    "print('Precision score for \"1\"' , metrics.precision_score(y_test,y_pred, pos_label = 1))\n",
    "print('Precision score for \"2\"' , metrics.precision_score(y_test,y_pred, pos_label = 2))\n",
    "print('Recall score for \"1\"' , metrics.recall_score(y_test,y_pred, pos_label = 1))\n",
    "print('Recall score for \"2\"' , metrics.recall_score(y_test,y_pred, pos_label = 2))"
   ]
  },
  {
   "cell_type": "code",
   "execution_count": 23,
   "id": "b7dd6069",
   "metadata": {},
   "outputs": [
    {
     "data": {
      "text/plain": [
       "Text(0.5, 0, 'Permutation Importance')"
      ]
     },
     "execution_count": 23,
     "metadata": {},
     "output_type": "execute_result"
    },
    {
     "data": {
      "image/png": "[encoded data removed]",
      "text/plain": [
       "<Figure size 432x288 with 1 Axes>"
      ]
     },
     "metadata": {
      "needs_background": "light"
     },
     "output_type": "display_data"
    }
   ],
   "source": [
    "perm_importance = permutation_importance(gini_model2, X_test, y_test)\n",
    "\n",
    "feature_names = ['Gender',\n",
    "                'Age(Months)',\n",
    "                'Race',\n",
    "                'PregnStat',\n",
    "                'HIV',\n",
    "                'alco_dks_daily#',\n",
    "                'smokescigs_daily#',\n",
    "                'had_anemia_treatment',\n",
    "                'had_cancer',\n",
    "                'Cu(umol/L)',\n",
    "                'Se(umol/L)',\n",
    "                'Zn(umol/L)',\n",
    "                'Fe(ug/L)',\n",
    "                'Folate(nmol/L)',\n",
    "                'VitB12(pmol/L)',\n",
    "                'VitB6',\n",
    "                'VitD2',\n",
    "                'VitD3',\n",
    "                'VitD(nmol/L)',\n",
    "                'VitC(umol/L)',\n",
    "                'VitE(umol/L)',\n",
    "                'VitA(umol/L)',\n",
    "                'Weight',\n",
    "                'BMI']\n",
    "                \n",
    "features = np.array(feature_names)\n",
    "\n",
    "sorted_idx = perm_importance.importances_mean.argsort()\n",
    "plt.barh(features[sorted_idx], perm_importance.importances_mean[sorted_idx])\n",
    "plt.xlabel(\"Permutation Importance\")"
   ]
  },
  {
   "cell_type": "markdown",
   "id": "f861924b",
   "metadata": {},
   "source": [
    "++++++++++++++++++++++++++++++++++++++++++++++++++++++++++++++++++++++++++++++++++++++++++++++++++++++++++++++++++++++"
   ]
  },
  {
   "cell_type": "markdown",
   "id": "2a802589",
   "metadata": {},
   "source": [
    "## Random Forest max depth 3"
   ]
  },
  {
   "cell_type": "code",
   "execution_count": 24,
   "id": "346fc179",
   "metadata": {},
   "outputs": [],
   "source": [
    "from sklearn.ensemble import RandomForestClassifier\n",
    "from sklearn.datasets import make_classification\n",
    "from sklearn.model_selection import GridSearchCV\n",
    "from sklearn.model_selection import cross_val_score"
   ]
  },
  {
   "cell_type": "code",
   "execution_count": 25,
   "id": "43334161",
   "metadata": {},
   "outputs": [
    {
     "data": {
      "text/plain": [
       "RandomForestClassifier(max_depth=3, random_state=1234)"
      ]
     },
     "execution_count": 25,
     "metadata": {},
     "output_type": "execute_result"
    }
   ],
   "source": [
    "# Plug in appropriate max_depth and random_state parameters \n",
    "firstRFModel = RandomForestClassifier(max_depth= 3, random_state= 1234)\n",
    "firstRFModel.fit(X_train, y_train)\n",
    "\n",
    "y_pred = firstRFModel.predict(X_test)\n",
    "y_pred = pd.Series(y_pred)\n",
    "firstRFModel"
   ]
  },
  {
   "cell_type": "code",
   "execution_count": 26,
   "id": "7939fc7e",
   "metadata": {},
   "outputs": [
    {
     "name": "stdout",
     "output_type": "stream",
     "text": [
      "Random Forest  model - max depth 3\n",
      "Accuracy: 0.6998751158200056\n",
      "Balanced accuracy: 0.6217575625970602\n",
      "Precision score for \"1\" 0.6902284927081849\n",
      "Precision score for \"2\" 0.753711558854719\n",
      "Recall score for \"1\" 0.9399055566336761\n",
      "Recall score for \"2\" 0.30360956856044424\n"
     ]
    }
   ],
   "source": [
    "print(\"Random Forest  model - max depth 3\")\n",
    "print(\"Accuracy:\", metrics.accuracy_score(y_test,y_pred))\n",
    "print(\"Balanced accuracy:\", metrics.balanced_accuracy_score(y_test,y_pred))\n",
    "print('Precision score for \"1\"' , metrics.precision_score(y_test,y_pred, pos_label = 1))\n",
    "print('Precision score for \"2\"' , metrics.precision_score(y_test,y_pred, pos_label = 2))\n",
    "print('Recall score for \"1\"' , metrics.recall_score(y_test,y_pred, pos_label = 1))\n",
    "print('Recall score for \"2\"' , metrics.recall_score(y_test,y_pred, pos_label = 2))"
   ]
  },
  {
   "cell_type": "code",
   "execution_count": 27,
   "id": "f927f861",
   "metadata": {},
   "outputs": [
    {
     "data": {
      "text/plain": [
       "Text(0.5, 0, 'Permutation Importance')"
      ]
     },
     "execution_count": 27,
     "metadata": {},
     "output_type": "execute_result"
    },
    {
     "data": {
      "image/png": "[encoded data removed]",
      "text/plain": [
       "<Figure size 432x288 with 1 Axes>"
      ]
     },
     "metadata": {
      "needs_background": "light"
     },
     "output_type": "display_data"
    }
   ],
   "source": [
    "perm_importance = permutation_importance(firstRFModel, X_test, y_test)\n",
    "\n",
    "feature_names = ['Gender',\n",
    "                'Age(Months)',\n",
    "                'Race',\n",
    "                'PregnStat',\n",
    "                'HIV',\n",
    "                'alco_dks_daily#',\n",
    "                'smokescigs_daily#',\n",
    "                'had_anemia_treatment',\n",
    "                'had_cancer',\n",
    "                'Cu(umol/L)',\n",
    "                'Se(umol/L)',\n",
    "                'Zn(umol/L)',\n",
    "                'Fe(ug/L)',\n",
    "                'Folate(nmol/L)',\n",
    "                'VitB12(pmol/L)',\n",
    "                'VitB6',\n",
    "                'VitD2',\n",
    "                'VitD3',\n",
    "                'VitD(nmol/L)',\n",
    "                'VitC(umol/L)',\n",
    "                'VitE(umol/L)',\n",
    "                'VitA(umol/L)',\n",
    "                'Weight',\n",
    "                'BMI']\n",
    "                \n",
    "features = np.array(feature_names)\n",
    "\n",
    "sorted_idx = perm_importance.importances_mean.argsort()\n",
    "plt.barh(features[sorted_idx], perm_importance.importances_mean[sorted_idx])\n",
    "plt.xlabel(\"Permutation Importance\")"
   ]
  },
  {
   "cell_type": "markdown",
   "id": "9735c65d",
   "metadata": {},
   "source": [
    "++++++++++++++++++++++++++++++++++++++++++++++++++++++++++++++++++++++++++++++++++++++++++++++++++++++++++++++++++++"
   ]
  },
  {
   "cell_type": "markdown",
   "id": "42a67731",
   "metadata": {},
   "source": [
    "## Random Forest max depth 3"
   ]
  },
  {
   "cell_type": "code",
   "execution_count": 73,
   "id": "80981237",
   "metadata": {},
   "outputs": [
    {
     "data": {
      "text/plain": [
       "RandomForestClassifier(max_depth=4, random_state=1234)"
      ]
     },
     "execution_count": 73,
     "metadata": {},
     "output_type": "execute_result"
    }
   ],
   "source": [
    "# Second model max_depth 3\n",
    "secondRFModel = RandomForestClassifier(max_depth= 4, random_state= 1234)\n",
    "secondRFModel.fit(X_train, y_train)\n",
    "\n",
    "y_pred = secondRFModel.predict(X_test)\n",
    "y_pred = pd.Series(y_pred)\n",
    "secondRFModel"
   ]
  },
  {
   "cell_type": "code",
   "execution_count": 29,
   "id": "040b05cd",
   "metadata": {},
   "outputs": [
    {
     "name": "stdout",
     "output_type": "stream",
     "text": [
      "Random Forest  model - max depth 4\n",
      "Accuracy: 0.7261410788381742\n",
      "Balanced accuracy: 0.6665505660630637\n",
      "Precision score for \"1\" 0.7226363683101126\n",
      "Precision score for \"2\" 0.7388309754281459\n",
      "Recall score for \"1\" 0.9092438061970374\n",
      "Recall score for \"2\" 0.42385732592909015\n"
     ]
    }
   ],
   "source": [
    "print(\"Random Forest  model - max depth 4\")\n",
    "print(\"Accuracy:\", metrics.accuracy_score(y_test,y_pred))\n",
    "print(\"Balanced accuracy:\", metrics.balanced_accuracy_score(y_test,y_pred))\n",
    "print('Precision score for \"1\"' , metrics.precision_score(y_test,y_pred, pos_label = 1))\n",
    "print('Precision score for \"2\"' , metrics.precision_score(y_test,y_pred, pos_label = 2))\n",
    "print('Recall score for \"1\"' , metrics.recall_score(y_test,y_pred, pos_label = 1))\n",
    "print('Recall score for \"2\"' , metrics.recall_score(y_test,y_pred, pos_label = 2))"
   ]
  },
  {
   "cell_type": "code",
   "execution_count": null,
   "id": "505c75be",
   "metadata": {},
   "outputs": [],
   "source": []
  },
  {
   "cell_type": "code",
   "execution_count": 30,
   "id": "a1349a28",
   "metadata": {},
   "outputs": [
    {
     "data": {
      "text/plain": [
       "Text(0.5, 0, 'Permutation Importance')"
      ]
     },
     "execution_count": 30,
     "metadata": {},
     "output_type": "execute_result"
    },
    {
     "data": {
      "image/png": "[encoded data removed]",
      "text/plain": [
       "<Figure size 432x288 with 1 Axes>"
      ]
     },
     "metadata": {
      "needs_background": "light"
     },
     "output_type": "display_data"
    }
   ],
   "source": [
    "perm_importance = permutation_importance(secondRFModel, X_test, y_test)\n",
    "\n",
    "feature_names = ['Gender',\n",
    "                'Age(Months)',\n",
    "                'Race',\n",
    "                'PregnStat',\n",
    "                'HIV',\n",
    "                'alco_dks_daily#',\n",
    "                'smokescigs_daily#',\n",
    "                'had_anemia_treatment',\n",
    "                'had_cancer',\n",
    "                'Cu(umol/L)',\n",
    "                'Se(umol/L)',\n",
    "                'Zn(umol/L)',\n",
    "                'Fe(ug/L)',\n",
    "                'Folate(nmol/L)',\n",
    "                'VitB12(pmol/L)',\n",
    "                'VitB6',\n",
    "                'VitD2',\n",
    "                'VitD3',\n",
    "                'VitD(nmol/L)',\n",
    "                'VitC(umol/L)',\n",
    "                'VitE(umol/L)',\n",
    "                'VitA(umol/L)',\n",
    "                'Weight',\n",
    "                'BMI']\n",
    "                \n",
    "features = np.array(feature_names)\n",
    "\n",
    "sorted_idx = perm_importance.importances_mean.argsort()\n",
    "plt.barh(features[sorted_idx], perm_importance.importances_mean[sorted_idx])\n",
    "plt.xlabel(\"Permutation Importance\")"
   ]
  },
  {
   "cell_type": "markdown",
   "id": "e8f12c30",
   "metadata": {},
   "source": [
    "++++++++++++++++++++++++++++++++++++++++++++++++++++++++++++++++++++++++++++++++++++++++++++++++++++++++++++++++++++++"
   ]
  },
  {
   "cell_type": "code",
   "execution_count": 31,
   "id": "7d461989",
   "metadata": {},
   "outputs": [
    {
     "data": {
      "text/plain": [
       "RandomForestClassifier(max_depth=10, random_state=1234)"
      ]
     },
     "execution_count": 31,
     "metadata": {},
     "output_type": "execute_result"
    }
   ],
   "source": [
    "# Plug in appropriate max_depth and random_state parameters \n",
    "thirdRFModel = RandomForestClassifier(max_depth= 10, random_state= 1234)\n",
    "thirdRFModel.fit(X_train, y_train)\n",
    "\n",
    "y_pred = thirdRFModel.predict(X_test)\n",
    "y_pred = pd.Series(y_pred)\n",
    "thirdRFModel"
   ]
  },
  {
   "cell_type": "code",
   "execution_count": 32,
   "id": "f87b6566",
   "metadata": {},
   "outputs": [
    {
     "name": "stdout",
     "output_type": "stream",
     "text": [
      "Random Forest  model - max depth 10\n",
      "Accuracy: 0.8688313257865689\n",
      "Balanced accuracy: 0.8633001000925158\n",
      "Precision score for \"1\" 0.9018109976950939\n",
      "Precision score for \"2\" 0.8168707200664038\n",
      "Recall score for \"1\" 0.8858270263277055\n",
      "Recall score for \"2\" 0.840773173857326\n"
     ]
    }
   ],
   "source": [
    "print(\"Random Forest  model - max depth 10\")\n",
    "print(\"Accuracy:\", metrics.accuracy_score(y_test,y_pred))\n",
    "print(\"Balanced accuracy:\", metrics.balanced_accuracy_score(y_test,y_pred))\n",
    "print('Precision score for \"1\"' , metrics.precision_score(y_test,y_pred, pos_label = 1))\n",
    "print('Precision score for \"2\"' , metrics.precision_score(y_test,y_pred, pos_label = 2))\n",
    "print('Recall score for \"1\"' , metrics.recall_score(y_test,y_pred, pos_label = 1))\n",
    "print('Recall score for \"2\"' , metrics.recall_score(y_test,y_pred, pos_label = 2))"
   ]
  },
  {
   "cell_type": "code",
   "execution_count": 33,
   "id": "6e1aa9bc",
   "metadata": {},
   "outputs": [
    {
     "data": {
      "text/plain": [
       "Text(0.5, 0, 'Permutation Importance')"
      ]
     },
     "execution_count": 33,
     "metadata": {},
     "output_type": "execute_result"
    },
    {
     "data": {
      "image/png": "[encoded data removed]",
      "text/plain": [
       "<Figure size 432x288 with 1 Axes>"
      ]
     },
     "metadata": {
      "needs_background": "light"
     },
     "output_type": "display_data"
    }
   ],
   "source": [
    "perm_importance = permutation_importance(thirdRFModel, X_test, y_test)\n",
    "\n",
    "feature_names = ['Gender',\n",
    "                'Age(Months)',\n",
    "                'Race',\n",
    "                'PregnStat',\n",
    "                'HIV',\n",
    "                'alco_dks_daily#',\n",
    "                'smokescigs_daily#',\n",
    "                'had_anemia_treatment',\n",
    "                'had_cancer',\n",
    "                'Cu(umol/L)',\n",
    "                'Se(umol/L)',\n",
    "                'Zn(umol/L)',\n",
    "                'Fe(ug/L)',\n",
    "                'Folate(nmol/L)',\n",
    "                'VitB12(pmol/L)',\n",
    "                'VitB6',\n",
    "                'VitD2',\n",
    "                'VitD3',\n",
    "                'VitD(nmol/L)',\n",
    "                'VitC(umol/L)',\n",
    "                'VitE(umol/L)',\n",
    "                'VitA(umol/L)',\n",
    "                'Weight',\n",
    "                'BMI']\n",
    "                \n",
    "features = np.array(feature_names)\n",
    "\n",
    "sorted_idx = perm_importance.importances_mean.argsort()\n",
    "plt.barh(features[sorted_idx], perm_importance.importances_mean[sorted_idx])\n",
    "plt.xlabel(\"Permutation Importance\")"
   ]
  },
  {
   "cell_type": "markdown",
   "id": "3c64e04b",
   "metadata": {},
   "source": [
    "++++++++++++++++++++++++++++++++++++++++++++++++++++++++++++++++++++++++++++++++++++++++++++++++++++++++++++++++++++"
   ]
  },
  {
   "cell_type": "code",
   "execution_count": 34,
   "id": "834c7a1b",
   "metadata": {},
   "outputs": [
    {
     "data": {
      "text/plain": [
       "RandomForestClassifier(n_estimators=10, random_state=1234)"
      ]
     },
     "execution_count": 34,
     "metadata": {},
     "output_type": "execute_result"
    }
   ],
   "source": [
    "# Plug in appropriate n_estimators=10, and random_state parameters \n",
    "thirdRFModel = RandomForestClassifier(n_estimators=10, random_state= 1234)\n",
    "thirdRFModel.fit(X_train, y_train)\n",
    "\n",
    "y_pred = thirdRFModel.predict(X_test)\n",
    "y_pred = pd.Series(y_pred)\n",
    "thirdRFModel"
   ]
  },
  {
   "cell_type": "code",
   "execution_count": 35,
   "id": "0956ca7c",
   "metadata": {},
   "outputs": [
    {
     "name": "stdout",
     "output_type": "stream",
     "text": [
      "Random Forest  model -n_estimators=10\n",
      "Accuracy: 0.9174153003263102\n",
      "Balanced accuracy: 0.9078853811237447\n",
      "Precision score for \"1\" 0.9227034865393102\n",
      "Precision score for \"2\" 0.9080562374469985\n",
      "Recall score for \"1\" 0.9466977165405266\n",
      "Recall score for \"2\" 0.8690730457069629\n"
     ]
    }
   ],
   "source": [
    "print(\"Random Forest  model -n_estimators=10\")\n",
    "print(\"Accuracy:\", metrics.accuracy_score(y_test,y_pred))\n",
    "print(\"Balanced accuracy:\", metrics.balanced_accuracy_score(y_test,y_pred))\n",
    "print('Precision score for \"1\"' , metrics.precision_score(y_test,y_pred, pos_label = 1))\n",
    "print('Precision score for \"2\"' , metrics.precision_score(y_test,y_pred, pos_label = 2))\n",
    "print('Recall score for \"1\"' , metrics.recall_score(y_test,y_pred, pos_label = 1))\n",
    "print('Recall score for \"2\"' , metrics.recall_score(y_test,y_pred, pos_label = 2))"
   ]
  },
  {
   "cell_type": "code",
   "execution_count": 36,
   "id": "c7b05682",
   "metadata": {},
   "outputs": [
    {
     "data": {
      "text/plain": [
       "Text(0.5, 0, 'Permutation Importance')"
      ]
     },
     "execution_count": 36,
     "metadata": {},
     "output_type": "execute_result"
    },
    {
     "data": {
      "image/png": "[encoded data removed]",
      "text/plain": [
       "<Figure size 432x288 with 1 Axes>"
      ]
     },
     "metadata": {
      "needs_background": "light"
     },
     "output_type": "display_data"
    }
   ],
   "source": [
    "perm_importance = permutation_importance(thirdRFModel, X_test, y_test)\n",
    "\n",
    "feature_names = ['Gender',\n",
    "                'Age(Months)',\n",
    "                'Race',\n",
    "                'PregnStat',\n",
    "                'HIV',\n",
    "                'alco_dks_daily#',\n",
    "                'smokescigs_daily#',\n",
    "                'had_anemia_treatment',\n",
    "                'had_cancer',\n",
    "                'Cu(umol/L)',\n",
    "                'Se(umol/L)',\n",
    "                'Zn(umol/L)',\n",
    "                'Fe(ug/L)',\n",
    "                'Folate(nmol/L)',\n",
    "                'VitB12(pmol/L)',\n",
    "                'VitB6',\n",
    "                'VitD2',\n",
    "                'VitD3',\n",
    "                'VitD(nmol/L)',\n",
    "                'VitC(umol/L)',\n",
    "                'VitE(umol/L)',\n",
    "                'VitA(umol/L)',\n",
    "                'Weight',\n",
    "                'BMI']\n",
    "                \n",
    "features = np.array(feature_names)\n",
    "\n",
    "sorted_idx = perm_importance.importances_mean.argsort()\n",
    "plt.barh(features[sorted_idx], perm_importance.importances_mean[sorted_idx])\n",
    "plt.xlabel(\"Permutation Importance\")"
   ]
  },
  {
   "cell_type": "markdown",
   "id": "83edcba3",
   "metadata": {},
   "source": [
    "+++++++++++++++++++++++++++++++++++++++++++++++++++++++++++++++++++++++++++++++++++++++++++++++++++++++++++++++++++"
   ]
  },
  {
   "cell_type": "code",
   "execution_count": 37,
   "id": "297adb21",
   "metadata": {},
   "outputs": [
    {
     "data": {
      "text/plain": [
       "RandomForestClassifier(criterion='entropy', max_depth=25, n_estimators=250,\n",
       "                       random_state=1234)"
      ]
     },
     "execution_count": 37,
     "metadata": {},
     "output_type": "execute_result"
    }
   ],
   "source": [
    "# Plug in appropriate n_estimators=10,max_depth=10 and random_state parameters \n",
    "thirdRFModel = RandomForestClassifier(criterion = 'entropy', n_estimators=250, max_depth=25, random_state= 1234)\n",
    "thirdRFModel.fit(X_train, y_train)\n",
    "\n",
    "y_pred = thirdRFModel.predict(X_test)\n",
    "y_pred = pd.Series(y_pred)\n",
    "thirdRFModel"
   ]
  },
  {
   "cell_type": "code",
   "execution_count": 38,
   "id": "f609da4e",
   "metadata": {},
   "outputs": [
    {
     "name": "stdout",
     "output_type": "stream",
     "text": [
      "Random Forest  model -n_estimators=10 max_depth=10\n",
      "Accuracy: 0.9358659307899931\n",
      "Balanced accuracy: 0.9333091509174245\n",
      "Precision score for \"1\" 0.9528443602638625\n",
      "Precision score for \"2\" 0.9085365853658537\n",
      "Recall score for \"1\" 0.943722103628954\n",
      "Recall score for \"2\" 0.922896198205895\n"
     ]
    }
   ],
   "source": [
    "print(\"Random Forest  model -n_estimators=10 max_depth=10\")\n",
    "print(\"Accuracy:\", metrics.accuracy_score(y_test,y_pred))\n",
    "print(\"Balanced accuracy:\", metrics.balanced_accuracy_score(y_test,y_pred))\n",
    "print('Precision score for \"1\"' , metrics.precision_score(y_test,y_pred, pos_label = 1))\n",
    "print('Precision score for \"2\"' , metrics.precision_score(y_test,y_pred, pos_label = 2))\n",
    "print('Recall score for \"1\"' , metrics.recall_score(y_test,y_pred, pos_label = 1))\n",
    "print('Recall score for \"2\"' , metrics.recall_score(y_test,y_pred, pos_label = 2))"
   ]
  },
  {
   "cell_type": "code",
   "execution_count": null,
   "id": "90e5c67d",
   "metadata": {},
   "outputs": [],
   "source": []
  },
  {
   "cell_type": "code",
   "execution_count": 39,
   "id": "8d93535c",
   "metadata": {},
   "outputs": [
    {
     "data": {
      "text/plain": [
       "Text(0.5, 0, 'Permutation Importance')"
      ]
     },
     "execution_count": 39,
     "metadata": {},
     "output_type": "execute_result"
    },
    {
     "data": {
      "image/png": "[encoded data removed]",
      "text/plain": [
       "<Figure size 432x288 with 1 Axes>"
      ]
     },
     "metadata": {
      "needs_background": "light"
     },
     "output_type": "display_data"
    }
   ],
   "source": [
    "perm_importance = permutation_importance(thirdRFModel, X_test, y_test)\n",
    "\n",
    "feature_names = ['Gender',\n",
    "                'Age(Months)',\n",
    "                'Race',\n",
    "                'PregnStat',\n",
    "                'HIV',\n",
    "                'alco_dks_daily#',\n",
    "                'smokescigs_daily#',\n",
    "                'had_anemia_treatment',\n",
    "                'had_cancer',\n",
    "                'Cu(umol/L)',\n",
    "                'Se(umol/L)',\n",
    "                'Zn(umol/L)',\n",
    "                'Fe(ug/L)',\n",
    "                'Folate(nmol/L)',\n",
    "                'VitB12(pmol/L)',\n",
    "                'VitB6',\n",
    "                'VitD2',\n",
    "                'VitD3',\n",
    "                'VitD(nmol/L)',\n",
    "                'VitC(umol/L)',\n",
    "                'VitE(umol/L)',\n",
    "                'VitA(umol/L)',\n",
    "                'Weight',\n",
    "                'BMI']\n",
    "                \n",
    "features = np.array(feature_names)\n",
    "\n",
    "sorted_idx = perm_importance.importances_mean.argsort()\n",
    "plt.barh(features[sorted_idx], perm_importance.importances_mean[sorted_idx])\n",
    "plt.xlabel(\"Permutation Importance\")"
   ]
  },
  {
   "cell_type": "markdown",
   "id": "285aa8e8",
   "metadata": {},
   "source": [
    "+++++++++++++++++++++++++++++++++++++++++++++++++++++++++++++++++++++++++++++++++++++++++++++++++++++++++"
   ]
  },
  {
   "cell_type": "markdown",
   "id": "015684d0",
   "metadata": {},
   "source": [
    "## RandomForest Gridsearch"
   ]
  },
  {
   "cell_type": "code",
   "execution_count": 40,
   "id": "14ed3605",
   "metadata": {},
   "outputs": [
    {
     "name": "stdout",
     "output_type": "stream",
     "text": [
      "Fitting 5 folds for each of 84 candidates, totalling 420 fits\n",
      "[CV 1/5] END criterion=gini, max_depth=5, n_estimators=10;, score=0.746 total time=   0.5s\n",
      "[CV 2/5] END criterion=gini, max_depth=5, n_estimators=10;, score=0.743 total time=   0.5s\n",
      "[CV 3/5] END criterion=gini, max_depth=5, n_estimators=10;, score=0.752 total time=   0.5s\n",
      "[CV 4/5] END criterion=gini, max_depth=5, n_estimators=10;, score=0.748 total time=   0.5s\n",
      "[CV 5/5] END criterion=gini, max_depth=5, n_estimators=10;, score=0.744 total time=   0.5s\n",
      "[CV 1/5] END criterion=gini, max_depth=5, n_estimators=100;, score=0.758 total time=   4.8s\n",
      "[CV 2/5] END criterion=gini, max_depth=5, n_estimators=100;, score=0.759 total time=   4.6s\n",
      "[CV 3/5] END criterion=gini, max_depth=5, n_estimators=100;, score=0.759 total time=   4.9s\n",
      "[CV 4/5] END criterion=gini, max_depth=5, n_estimators=100;, score=0.761 total time=   4.6s\n",
      "[CV 5/5] END criterion=gini, max_depth=5, n_estimators=100;, score=0.765 total time=   4.9s\n",
      "[CV 1/5] END criterion=gini, max_depth=5, n_estimators=150;, score=0.762 total time=   7.2s\n",
      "[CV 2/5] END criterion=gini, max_depth=5, n_estimators=150;, score=0.762 total time=   7.4s\n",
      "[CV 3/5] END criterion=gini, max_depth=5, n_estimators=150;, score=0.765 total time=   7.3s\n",
      "[CV 4/5] END criterion=gini, max_depth=5, n_estimators=150;, score=0.762 total time=   6.9s\n",
      "[CV 5/5] END criterion=gini, max_depth=5, n_estimators=150;, score=0.765 total time=   7.3s\n",
      "[CV 1/5] END criterion=gini, max_depth=5, n_estimators=200;, score=0.763 total time=   9.8s\n",
      "[CV 2/5] END criterion=gini, max_depth=5, n_estimators=200;, score=0.761 total time=   9.5s\n",
      "[CV 3/5] END criterion=gini, max_depth=5, n_estimators=200;, score=0.761 total time=   9.5s\n",
      "[CV 4/5] END criterion=gini, max_depth=5, n_estimators=200;, score=0.761 total time=   9.6s\n",
      "[CV 5/5] END criterion=gini, max_depth=5, n_estimators=200;, score=0.761 total time=   9.7s\n",
      "[CV 1/5] END criterion=gini, max_depth=5, n_estimators=250;, score=0.763 total time=  12.4s\n",
      "[CV 2/5] END criterion=gini, max_depth=5, n_estimators=250;, score=0.760 total time=  12.1s\n",
      "[CV 3/5] END criterion=gini, max_depth=5, n_estimators=250;, score=0.760 total time=  12.1s\n",
      "[CV 4/5] END criterion=gini, max_depth=5, n_estimators=250;, score=0.763 total time=  12.0s\n",
      "[CV 5/5] END criterion=gini, max_depth=5, n_estimators=250;, score=0.762 total time=  11.9s\n",
      "[CV 1/5] END criterion=gini, max_depth=5, n_estimators=300;, score=0.762 total time=  13.9s\n",
      "[CV 2/5] END criterion=gini, max_depth=5, n_estimators=300;, score=0.761 total time=  14.1s\n",
      "[CV 3/5] END criterion=gini, max_depth=5, n_estimators=300;, score=0.759 total time=  14.0s\n",
      "[CV 4/5] END criterion=gini, max_depth=5, n_estimators=300;, score=0.761 total time=  13.9s\n",
      "[CV 5/5] END criterion=gini, max_depth=5, n_estimators=300;, score=0.761 total time=  14.2s\n",
      "[CV 1/5] END criterion=gini, max_depth=5, n_estimators=350;, score=0.761 total time=  16.9s\n",
      "[CV 2/5] END criterion=gini, max_depth=5, n_estimators=350;, score=0.761 total time=  17.4s\n",
      "[CV 3/5] END criterion=gini, max_depth=5, n_estimators=350;, score=0.759 total time=  17.3s\n",
      "[CV 4/5] END criterion=gini, max_depth=5, n_estimators=350;, score=0.761 total time=  17.3s\n",
      "[CV 5/5] END criterion=gini, max_depth=5, n_estimators=350;, score=0.761 total time=  17.1s\n",
      "[CV 1/5] END criterion=gini, max_depth=10, n_estimators=10;, score=0.858 total time=   0.9s\n",
      "[CV 2/5] END criterion=gini, max_depth=10, n_estimators=10;, score=0.852 total time=   0.9s\n",
      "[CV 3/5] END criterion=gini, max_depth=10, n_estimators=10;, score=0.856 total time=   0.9s\n",
      "[CV 4/5] END criterion=gini, max_depth=10, n_estimators=10;, score=0.851 total time=   0.9s\n",
      "[CV 5/5] END criterion=gini, max_depth=10, n_estimators=10;, score=0.850 total time=   0.9s\n",
      "[CV 1/5] END criterion=gini, max_depth=10, n_estimators=100;, score=0.870 total time=   8.4s\n",
      "[CV 2/5] END criterion=gini, max_depth=10, n_estimators=100;, score=0.865 total time=   8.5s\n",
      "[CV 3/5] END criterion=gini, max_depth=10, n_estimators=100;, score=0.863 total time=   8.2s\n",
      "[CV 4/5] END criterion=gini, max_depth=10, n_estimators=100;, score=0.864 total time=   8.2s\n",
      "[CV 5/5] END criterion=gini, max_depth=10, n_estimators=100;, score=0.865 total time=   8.5s\n",
      "[CV 1/5] END criterion=gini, max_depth=10, n_estimators=150;, score=0.868 total time=  12.4s\n",
      "[CV 2/5] END criterion=gini, max_depth=10, n_estimators=150;, score=0.863 total time=  12.5s\n",
      "[CV 3/5] END criterion=gini, max_depth=10, n_estimators=150;, score=0.863 total time=  12.6s\n",
      "[CV 4/5] END criterion=gini, max_depth=10, n_estimators=150;, score=0.864 total time=  12.8s\n",
      "[CV 5/5] END criterion=gini, max_depth=10, n_estimators=150;, score=0.865 total time=  12.6s\n",
      "[CV 1/5] END criterion=gini, max_depth=10, n_estimators=200;, score=0.867 total time=  16.7s\n",
      "[CV 2/5] END criterion=gini, max_depth=10, n_estimators=200;, score=0.863 total time=  16.9s\n",
      "[CV 3/5] END criterion=gini, max_depth=10, n_estimators=200;, score=0.863 total time=  16.8s\n",
      "[CV 4/5] END criterion=gini, max_depth=10, n_estimators=200;, score=0.865 total time=  16.4s\n",
      "[CV 5/5] END criterion=gini, max_depth=10, n_estimators=200;, score=0.864 total time=  16.6s\n",
      "[CV 1/5] END criterion=gini, max_depth=10, n_estimators=250;, score=0.868 total time=  20.7s\n",
      "[CV 2/5] END criterion=gini, max_depth=10, n_estimators=250;, score=0.862 total time=  20.6s\n",
      "[CV 3/5] END criterion=gini, max_depth=10, n_estimators=250;, score=0.862 total time=  20.9s\n",
      "[CV 4/5] END criterion=gini, max_depth=10, n_estimators=250;, score=0.863 total time=  20.7s\n",
      "[CV 5/5] END criterion=gini, max_depth=10, n_estimators=250;, score=0.865 total time=  20.8s\n",
      "[CV 1/5] END criterion=gini, max_depth=10, n_estimators=300;, score=0.869 total time=  25.1s\n",
      "[CV 2/5] END criterion=gini, max_depth=10, n_estimators=300;, score=0.862 total time=  25.0s\n",
      "[CV 3/5] END criterion=gini, max_depth=10, n_estimators=300;, score=0.862 total time=  25.1s\n",
      "[CV 4/5] END criterion=gini, max_depth=10, n_estimators=300;, score=0.866 total time=  25.2s\n",
      "[CV 5/5] END criterion=gini, max_depth=10, n_estimators=300;, score=0.865 total time=  24.8s\n",
      "[CV 1/5] END criterion=gini, max_depth=10, n_estimators=350;, score=0.869 total time=  29.4s\n",
      "[CV 2/5] END criterion=gini, max_depth=10, n_estimators=350;, score=0.861 total time=  29.4s\n",
      "[CV 3/5] END criterion=gini, max_depth=10, n_estimators=350;, score=0.863 total time=  28.2s\n",
      "[CV 4/5] END criterion=gini, max_depth=10, n_estimators=350;, score=0.866 total time=  28.3s\n",
      "[CV 5/5] END criterion=gini, max_depth=10, n_estimators=350;, score=0.866 total time=  28.0s\n",
      "[CV 1/5] END criterion=gini, max_depth=15, n_estimators=10;, score=0.898 total time=   1.1s\n",
      "[CV 2/5] END criterion=gini, max_depth=15, n_estimators=10;, score=0.898 total time=   1.0s\n",
      "[CV 3/5] END criterion=gini, max_depth=15, n_estimators=10;, score=0.896 total time=   1.0s\n",
      "[CV 4/5] END criterion=gini, max_depth=15, n_estimators=10;, score=0.895 total time=   1.0s\n",
      "[CV 5/5] END criterion=gini, max_depth=15, n_estimators=10;, score=0.899 total time=   1.1s\n",
      "[CV 1/5] END criterion=gini, max_depth=15, n_estimators=100;, score=0.912 total time=  10.2s\n",
      "[CV 2/5] END criterion=gini, max_depth=15, n_estimators=100;, score=0.910 total time=  10.3s\n",
      "[CV 3/5] END criterion=gini, max_depth=15, n_estimators=100;, score=0.908 total time=  10.4s\n",
      "[CV 4/5] END criterion=gini, max_depth=15, n_estimators=100;, score=0.910 total time=  10.4s\n",
      "[CV 5/5] END criterion=gini, max_depth=15, n_estimators=100;, score=0.915 total time=  10.3s\n",
      "[CV 1/5] END criterion=gini, max_depth=15, n_estimators=150;, score=0.914 total time=  15.3s\n",
      "[CV 2/5] END criterion=gini, max_depth=15, n_estimators=150;, score=0.909 total time=  15.6s\n",
      "[CV 3/5] END criterion=gini, max_depth=15, n_estimators=150;, score=0.910 total time=  15.4s\n",
      "[CV 4/5] END criterion=gini, max_depth=15, n_estimators=150;, score=0.912 total time=  15.6s\n",
      "[CV 5/5] END criterion=gini, max_depth=15, n_estimators=150;, score=0.914 total time=  15.4s\n",
      "[CV 1/5] END criterion=gini, max_depth=15, n_estimators=200;, score=0.915 total time=  20.5s\n",
      "[CV 2/5] END criterion=gini, max_depth=15, n_estimators=200;, score=0.910 total time=  20.5s\n",
      "[CV 3/5] END criterion=gini, max_depth=15, n_estimators=200;, score=0.910 total time=  20.7s\n"
     ]
    },
    {
     "name": "stdout",
     "output_type": "stream",
     "text": [
      "[CV 4/5] END criterion=gini, max_depth=15, n_estimators=200;, score=0.912 total time=  20.6s\n",
      "[CV 5/5] END criterion=gini, max_depth=15, n_estimators=200;, score=0.916 total time=  20.6s\n",
      "[CV 1/5] END criterion=gini, max_depth=15, n_estimators=250;, score=0.915 total time=  25.5s\n",
      "[CV 2/5] END criterion=gini, max_depth=15, n_estimators=250;, score=0.910 total time=  25.7s\n",
      "[CV 3/5] END criterion=gini, max_depth=15, n_estimators=250;, score=0.910 total time=  26.0s\n",
      "[CV 4/5] END criterion=gini, max_depth=15, n_estimators=250;, score=0.912 total time=  39.8s\n",
      "[CV 5/5] END criterion=gini, max_depth=15, n_estimators=250;, score=0.915 total time=  25.7s\n",
      "[CV 1/5] END criterion=gini, max_depth=15, n_estimators=300;, score=0.914 total time=42.8min\n",
      "[CV 2/5] END criterion=gini, max_depth=15, n_estimators=300;, score=0.909 total time=23.8min\n",
      "[CV 3/5] END criterion=gini, max_depth=15, n_estimators=300;, score=0.911 total time=  59.5s\n",
      "[CV 4/5] END criterion=gini, max_depth=15, n_estimators=300;, score=0.912 total time=  31.9s\n",
      "[CV 5/5] END criterion=gini, max_depth=15, n_estimators=300;, score=0.915 total time=  31.0s\n",
      "[CV 1/5] END criterion=gini, max_depth=15, n_estimators=350;, score=0.914 total time=  35.6s\n",
      "[CV 2/5] END criterion=gini, max_depth=15, n_estimators=350;, score=0.910 total time=  36.0s\n",
      "[CV 3/5] END criterion=gini, max_depth=15, n_estimators=350;, score=0.911 total time=  36.0s\n",
      "[CV 4/5] END criterion=gini, max_depth=15, n_estimators=350;, score=0.912 total time=  36.0s\n",
      "[CV 5/5] END criterion=gini, max_depth=15, n_estimators=350;, score=0.914 total time=  36.2s\n",
      "[CV 1/5] END criterion=gini, max_depth=20, n_estimators=10;, score=0.910 total time=   1.1s\n",
      "[CV 2/5] END criterion=gini, max_depth=20, n_estimators=10;, score=0.913 total time=   1.1s\n",
      "[CV 3/5] END criterion=gini, max_depth=20, n_estimators=10;, score=0.912 total time=   1.1s\n",
      "[CV 4/5] END criterion=gini, max_depth=20, n_estimators=10;, score=0.909 total time=   1.1s\n",
      "[CV 5/5] END criterion=gini, max_depth=20, n_estimators=10;, score=0.912 total time=   1.1s\n",
      "[CV 1/5] END criterion=gini, max_depth=20, n_estimators=100;, score=0.928 total time=  11.2s\n",
      "[CV 2/5] END criterion=gini, max_depth=20, n_estimators=100;, score=0.925 total time=  11.4s\n",
      "[CV 3/5] END criterion=gini, max_depth=20, n_estimators=100;, score=0.924 total time=  11.2s\n",
      "[CV 4/5] END criterion=gini, max_depth=20, n_estimators=100;, score=0.926 total time=  11.4s\n",
      "[CV 5/5] END criterion=gini, max_depth=20, n_estimators=100;, score=0.927 total time=  11.4s\n",
      "[CV 1/5] END criterion=gini, max_depth=20, n_estimators=150;, score=0.927 total time=  17.0s\n",
      "[CV 2/5] END criterion=gini, max_depth=20, n_estimators=150;, score=0.925 total time=  17.2s\n",
      "[CV 3/5] END criterion=gini, max_depth=20, n_estimators=150;, score=0.924 total time=  16.8s\n",
      "[CV 4/5] END criterion=gini, max_depth=20, n_estimators=150;, score=0.926 total time=  17.1s\n",
      "[CV 5/5] END criterion=gini, max_depth=20, n_estimators=150;, score=0.928 total time=  16.8s\n",
      "[CV 1/5] END criterion=gini, max_depth=20, n_estimators=200;, score=0.926 total time=  23.0s\n",
      "[CV 2/5] END criterion=gini, max_depth=20, n_estimators=200;, score=0.926 total time=  22.6s\n",
      "[CV 3/5] END criterion=gini, max_depth=20, n_estimators=200;, score=0.925 total time=  22.6s\n",
      "[CV 4/5] END criterion=gini, max_depth=20, n_estimators=200;, score=0.927 total time=  22.6s\n",
      "[CV 5/5] END criterion=gini, max_depth=20, n_estimators=200;, score=0.928 total time=  22.6s\n",
      "[CV 1/5] END criterion=gini, max_depth=20, n_estimators=250;, score=0.927 total time=  28.3s\n",
      "[CV 2/5] END criterion=gini, max_depth=20, n_estimators=250;, score=0.926 total time=  28.3s\n",
      "[CV 3/5] END criterion=gini, max_depth=20, n_estimators=250;, score=0.925 total time=  28.5s\n",
      "[CV 4/5] END criterion=gini, max_depth=20, n_estimators=250;, score=0.926 total time=  28.4s\n",
      "[CV 5/5] END criterion=gini, max_depth=20, n_estimators=250;, score=0.928 total time=  28.3s\n",
      "[CV 1/5] END criterion=gini, max_depth=20, n_estimators=300;, score=0.927 total time=  33.9s\n",
      "[CV 2/5] END criterion=gini, max_depth=20, n_estimators=300;, score=0.927 total time=  34.2s\n",
      "[CV 3/5] END criterion=gini, max_depth=20, n_estimators=300;, score=0.925 total time=  34.1s\n",
      "[CV 4/5] END criterion=gini, max_depth=20, n_estimators=300;, score=0.926 total time=  34.0s\n",
      "[CV 5/5] END criterion=gini, max_depth=20, n_estimators=300;, score=0.928 total time=  33.8s\n",
      "[CV 1/5] END criterion=gini, max_depth=20, n_estimators=350;, score=0.928 total time=  39.5s\n",
      "[CV 2/5] END criterion=gini, max_depth=20, n_estimators=350;, score=0.927 total time=  39.5s\n",
      "[CV 3/5] END criterion=gini, max_depth=20, n_estimators=350;, score=0.924 total time=  39.5s\n",
      "[CV 4/5] END criterion=gini, max_depth=20, n_estimators=350;, score=0.927 total time=  39.8s\n",
      "[CV 5/5] END criterion=gini, max_depth=20, n_estimators=350;, score=0.928 total time=  39.5s\n",
      "[CV 1/5] END criterion=gini, max_depth=25, n_estimators=10;, score=0.913 total time=   1.2s\n",
      "[CV 2/5] END criterion=gini, max_depth=25, n_estimators=10;, score=0.917 total time=   1.1s\n",
      "[CV 3/5] END criterion=gini, max_depth=25, n_estimators=10;, score=0.910 total time=   1.2s\n",
      "[CV 4/5] END criterion=gini, max_depth=25, n_estimators=10;, score=0.913 total time=   1.2s\n",
      "[CV 5/5] END criterion=gini, max_depth=25, n_estimators=10;, score=0.914 total time=   1.2s\n",
      "[CV 1/5] END criterion=gini, max_depth=25, n_estimators=100;, score=0.930 total time=  11.6s\n",
      "[CV 2/5] END criterion=gini, max_depth=25, n_estimators=100;, score=0.929 total time=  11.5s\n",
      "[CV 3/5] END criterion=gini, max_depth=25, n_estimators=100;, score=0.927 total time=  11.7s\n",
      "[CV 4/5] END criterion=gini, max_depth=25, n_estimators=100;, score=0.931 total time=  12.0s\n",
      "[CV 5/5] END criterion=gini, max_depth=25, n_estimators=100;, score=0.931 total time=  12.3s\n",
      "[CV 1/5] END criterion=gini, max_depth=25, n_estimators=150;, score=0.931 total time=  18.3s\n",
      "[CV 2/5] END criterion=gini, max_depth=25, n_estimators=150;, score=0.930 total time=  18.2s\n",
      "[CV 3/5] END criterion=gini, max_depth=25, n_estimators=150;, score=0.929 total time=  18.0s\n",
      "[CV 4/5] END criterion=gini, max_depth=25, n_estimators=150;, score=0.932 total time=  18.0s\n",
      "[CV 5/5] END criterion=gini, max_depth=25, n_estimators=150;, score=0.930 total time=  18.2s\n",
      "[CV 1/5] END criterion=gini, max_depth=25, n_estimators=200;, score=0.932 total time=  24.3s\n",
      "[CV 2/5] END criterion=gini, max_depth=25, n_estimators=200;, score=0.930 total time=  24.2s\n",
      "[CV 3/5] END criterion=gini, max_depth=25, n_estimators=200;, score=0.928 total time=  23.7s\n",
      "[CV 4/5] END criterion=gini, max_depth=25, n_estimators=200;, score=0.931 total time=  23.8s\n",
      "[CV 5/5] END criterion=gini, max_depth=25, n_estimators=200;, score=0.931 total time=  23.2s\n",
      "[CV 1/5] END criterion=gini, max_depth=25, n_estimators=250;, score=0.933 total time=  29.8s\n",
      "[CV 2/5] END criterion=gini, max_depth=25, n_estimators=250;, score=0.930 total time=  29.3s\n",
      "[CV 3/5] END criterion=gini, max_depth=25, n_estimators=250;, score=0.929 total time=  29.1s\n",
      "[CV 4/5] END criterion=gini, max_depth=25, n_estimators=250;, score=0.931 total time=  29.9s\n",
      "[CV 5/5] END criterion=gini, max_depth=25, n_estimators=250;, score=0.933 total time=  29.5s\n",
      "[CV 1/5] END criterion=gini, max_depth=25, n_estimators=300;, score=0.932 total time=  35.0s\n",
      "[CV 2/5] END criterion=gini, max_depth=25, n_estimators=300;, score=0.931 total time=  35.8s\n",
      "[CV 3/5] END criterion=gini, max_depth=25, n_estimators=300;, score=0.929 total time=  36.1s\n",
      "[CV 4/5] END criterion=gini, max_depth=25, n_estimators=300;, score=0.932 total time=  36.2s\n",
      "[CV 5/5] END criterion=gini, max_depth=25, n_estimators=300;, score=0.933 total time=  36.2s\n",
      "[CV 1/5] END criterion=gini, max_depth=25, n_estimators=350;, score=0.933 total time=  42.0s\n",
      "[CV 2/5] END criterion=gini, max_depth=25, n_estimators=350;, score=0.931 total time=  41.5s\n",
      "[CV 3/5] END criterion=gini, max_depth=25, n_estimators=350;, score=0.929 total time=  40.9s\n",
      "[CV 4/5] END criterion=gini, max_depth=25, n_estimators=350;, score=0.933 total time=  40.8s\n",
      "[CV 5/5] END criterion=gini, max_depth=25, n_estimators=350;, score=0.932 total time=  40.9s\n",
      "[CV 1/5] END criterion=gini, max_depth=30, n_estimators=10;, score=0.914 total time=   1.2s\n",
      "[CV 2/5] END criterion=gini, max_depth=30, n_estimators=10;, score=0.915 total time=   1.2s\n"
     ]
    },
    {
     "name": "stdout",
     "output_type": "stream",
     "text": [
      "[CV 3/5] END criterion=gini, max_depth=30, n_estimators=10;, score=0.913 total time=   1.4s\n",
      "[CV 4/5] END criterion=gini, max_depth=30, n_estimators=10;, score=0.914 total time=   1.2s\n",
      "[CV 5/5] END criterion=gini, max_depth=30, n_estimators=10;, score=0.913 total time=   1.2s\n",
      "[CV 1/5] END criterion=gini, max_depth=30, n_estimators=100;, score=0.932 total time=  11.7s\n",
      "[CV 2/5] END criterion=gini, max_depth=30, n_estimators=100;, score=0.930 total time=  11.5s\n",
      "[CV 3/5] END criterion=gini, max_depth=30, n_estimators=100;, score=0.928 total time=  11.6s\n",
      "[CV 4/5] END criterion=gini, max_depth=30, n_estimators=100;, score=0.931 total time=  11.8s\n",
      "[CV 5/5] END criterion=gini, max_depth=30, n_estimators=100;, score=0.930 total time=  11.7s\n",
      "[CV 1/5] END criterion=gini, max_depth=30, n_estimators=150;, score=0.934 total time=  17.8s\n",
      "[CV 2/5] END criterion=gini, max_depth=30, n_estimators=150;, score=0.930 total time=  17.5s\n",
      "[CV 3/5] END criterion=gini, max_depth=30, n_estimators=150;, score=0.929 total time=  17.4s\n",
      "[CV 4/5] END criterion=gini, max_depth=30, n_estimators=150;, score=0.932 total time=  17.6s\n",
      "[CV 5/5] END criterion=gini, max_depth=30, n_estimators=150;, score=0.930 total time=  17.8s\n",
      "[CV 1/5] END criterion=gini, max_depth=30, n_estimators=200;, score=0.934 total time=  24.5s\n",
      "[CV 2/5] END criterion=gini, max_depth=30, n_estimators=200;, score=0.931 total time=  23.6s\n",
      "[CV 3/5] END criterion=gini, max_depth=30, n_estimators=200;, score=0.929 total time=  23.9s\n",
      "[CV 4/5] END criterion=gini, max_depth=30, n_estimators=200;, score=0.933 total time=  24.5s\n",
      "[CV 5/5] END criterion=gini, max_depth=30, n_estimators=200;, score=0.930 total time=  24.0s\n",
      "[CV 1/5] END criterion=gini, max_depth=30, n_estimators=250;, score=0.933 total time=  30.1s\n",
      "[CV 2/5] END criterion=gini, max_depth=30, n_estimators=250;, score=0.931 total time=  29.6s\n",
      "[CV 3/5] END criterion=gini, max_depth=30, n_estimators=250;, score=0.930 total time=  30.5s\n",
      "[CV 4/5] END criterion=gini, max_depth=30, n_estimators=250;, score=0.933 total time=  30.5s\n",
      "[CV 5/5] END criterion=gini, max_depth=30, n_estimators=250;, score=0.931 total time=  30.3s\n",
      "[CV 1/5] END criterion=gini, max_depth=30, n_estimators=300;, score=0.934 total time=  35.9s\n",
      "[CV 2/5] END criterion=gini, max_depth=30, n_estimators=300;, score=0.932 total time=  36.0s\n",
      "[CV 3/5] END criterion=gini, max_depth=30, n_estimators=300;, score=0.930 total time=  36.0s\n",
      "[CV 4/5] END criterion=gini, max_depth=30, n_estimators=300;, score=0.934 total time=  36.0s\n",
      "[CV 5/5] END criterion=gini, max_depth=30, n_estimators=300;, score=0.932 total time=  36.0s\n",
      "[CV 1/5] END criterion=gini, max_depth=30, n_estimators=350;, score=0.934 total time=  42.7s\n",
      "[CV 2/5] END criterion=gini, max_depth=30, n_estimators=350;, score=0.932 total time=  42.7s\n",
      "[CV 3/5] END criterion=gini, max_depth=30, n_estimators=350;, score=0.929 total time=  42.7s\n",
      "[CV 4/5] END criterion=gini, max_depth=30, n_estimators=350;, score=0.934 total time=  42.2s\n",
      "[CV 5/5] END criterion=gini, max_depth=30, n_estimators=350;, score=0.932 total time=  41.9s\n",
      "[CV 1/5] END criterion=entropy, max_depth=5, n_estimators=10;, score=0.747 total time=   0.7s\n",
      "[CV 2/5] END criterion=entropy, max_depth=5, n_estimators=10;, score=0.745 total time=   0.7s\n",
      "[CV 3/5] END criterion=entropy, max_depth=5, n_estimators=10;, score=0.735 total time=   0.7s\n",
      "[CV 4/5] END criterion=entropy, max_depth=5, n_estimators=10;, score=0.740 total time=   0.7s\n",
      "[CV 5/5] END criterion=entropy, max_depth=5, n_estimators=10;, score=0.749 total time=   0.7s\n",
      "[CV 1/5] END criterion=entropy, max_depth=5, n_estimators=100;, score=0.751 total time=   6.7s\n",
      "[CV 2/5] END criterion=entropy, max_depth=5, n_estimators=100;, score=0.754 total time=   6.6s\n",
      "[CV 3/5] END criterion=entropy, max_depth=5, n_estimators=100;, score=0.757 total time=   6.5s\n",
      "[CV 4/5] END criterion=entropy, max_depth=5, n_estimators=100;, score=0.757 total time=   6.2s\n",
      "[CV 5/5] END criterion=entropy, max_depth=5, n_estimators=100;, score=0.760 total time=   6.4s\n",
      "[CV 1/5] END criterion=entropy, max_depth=5, n_estimators=150;, score=0.752 total time=   9.6s\n",
      "[CV 2/5] END criterion=entropy, max_depth=5, n_estimators=150;, score=0.753 total time=   9.5s\n",
      "[CV 3/5] END criterion=entropy, max_depth=5, n_estimators=150;, score=0.757 total time=   9.5s\n",
      "[CV 4/5] END criterion=entropy, max_depth=5, n_estimators=150;, score=0.759 total time=   9.6s\n",
      "[CV 5/5] END criterion=entropy, max_depth=5, n_estimators=150;, score=0.761 total time=   9.4s\n",
      "[CV 1/5] END criterion=entropy, max_depth=5, n_estimators=200;, score=0.754 total time=  12.9s\n",
      "[CV 2/5] END criterion=entropy, max_depth=5, n_estimators=200;, score=0.753 total time=  12.6s\n",
      "[CV 3/5] END criterion=entropy, max_depth=5, n_estimators=200;, score=0.755 total time=  12.6s\n",
      "[CV 4/5] END criterion=entropy, max_depth=5, n_estimators=200;, score=0.757 total time=  12.7s\n",
      "[CV 5/5] END criterion=entropy, max_depth=5, n_estimators=200;, score=0.758 total time=  12.7s\n",
      "[CV 1/5] END criterion=entropy, max_depth=5, n_estimators=250;, score=0.752 total time=  15.9s\n",
      "[CV 2/5] END criterion=entropy, max_depth=5, n_estimators=250;, score=0.754 total time=  15.7s\n",
      "[CV 3/5] END criterion=entropy, max_depth=5, n_estimators=250;, score=0.753 total time=  15.9s\n",
      "[CV 4/5] END criterion=entropy, max_depth=5, n_estimators=250;, score=0.758 total time=  15.8s\n",
      "[CV 5/5] END criterion=entropy, max_depth=5, n_estimators=250;, score=0.758 total time=  16.2s\n",
      "[CV 1/5] END criterion=entropy, max_depth=5, n_estimators=300;, score=0.750 total time=  18.9s\n",
      "[CV 2/5] END criterion=entropy, max_depth=5, n_estimators=300;, score=0.753 total time=  19.6s\n",
      "[CV 3/5] END criterion=entropy, max_depth=5, n_estimators=300;, score=0.752 total time=  21.3s\n",
      "[CV 4/5] END criterion=entropy, max_depth=5, n_estimators=300;, score=0.755 total time=  20.0s\n",
      "[CV 5/5] END criterion=entropy, max_depth=5, n_estimators=300;, score=0.757 total time=  19.7s\n",
      "[CV 1/5] END criterion=entropy, max_depth=5, n_estimators=350;, score=0.752 total time=  22.6s\n",
      "[CV 2/5] END criterion=entropy, max_depth=5, n_estimators=350;, score=0.752 total time=  22.9s\n",
      "[CV 3/5] END criterion=entropy, max_depth=5, n_estimators=350;, score=0.753 total time=  23.2s\n",
      "[CV 4/5] END criterion=entropy, max_depth=5, n_estimators=350;, score=0.753 total time=  22.9s\n",
      "[CV 5/5] END criterion=entropy, max_depth=5, n_estimators=350;, score=0.757 total time=  22.8s\n",
      "[CV 1/5] END criterion=entropy, max_depth=10, n_estimators=10;, score=0.848 total time=   1.2s\n",
      "[CV 2/5] END criterion=entropy, max_depth=10, n_estimators=10;, score=0.847 total time=   1.2s\n",
      "[CV 3/5] END criterion=entropy, max_depth=10, n_estimators=10;, score=0.837 total time=   1.2s\n",
      "[CV 4/5] END criterion=entropy, max_depth=10, n_estimators=10;, score=0.848 total time=   1.1s\n",
      "[CV 5/5] END criterion=entropy, max_depth=10, n_estimators=10;, score=0.845 total time=   1.1s\n",
      "[CV 1/5] END criterion=entropy, max_depth=10, n_estimators=100;, score=0.862 total time=  11.1s\n",
      "[CV 2/5] END criterion=entropy, max_depth=10, n_estimators=100;, score=0.855 total time=  11.1s\n",
      "[CV 3/5] END criterion=entropy, max_depth=10, n_estimators=100;, score=0.856 total time=  11.1s\n",
      "[CV 4/5] END criterion=entropy, max_depth=10, n_estimators=100;, score=0.857 total time=  11.3s\n",
      "[CV 5/5] END criterion=entropy, max_depth=10, n_estimators=100;, score=0.858 total time=  11.2s\n",
      "[CV 1/5] END criterion=entropy, max_depth=10, n_estimators=150;, score=0.860 total time=  16.7s\n",
      "[CV 2/5] END criterion=entropy, max_depth=10, n_estimators=150;, score=0.856 total time=  16.8s\n",
      "[CV 3/5] END criterion=entropy, max_depth=10, n_estimators=150;, score=0.857 total time=  16.5s\n",
      "[CV 4/5] END criterion=entropy, max_depth=10, n_estimators=150;, score=0.858 total time=  16.8s\n",
      "[CV 5/5] END criterion=entropy, max_depth=10, n_estimators=150;, score=0.858 total time=  18.5s\n",
      "[CV 1/5] END criterion=entropy, max_depth=10, n_estimators=200;, score=0.860 total time=  22.7s\n",
      "[CV 2/5] END criterion=entropy, max_depth=10, n_estimators=200;, score=0.856 total time=  22.2s\n",
      "[CV 3/5] END criterion=entropy, max_depth=10, n_estimators=200;, score=0.858 total time=  22.3s\n",
      "[CV 4/5] END criterion=entropy, max_depth=10, n_estimators=200;, score=0.858 total time=  22.1s\n"
     ]
    },
    {
     "name": "stdout",
     "output_type": "stream",
     "text": [
      "[CV 5/5] END criterion=entropy, max_depth=10, n_estimators=200;, score=0.859 total time=  22.3s\n",
      "[CV 1/5] END criterion=entropy, max_depth=10, n_estimators=250;, score=0.861 total time=  27.8s\n",
      "[CV 2/5] END criterion=entropy, max_depth=10, n_estimators=250;, score=0.855 total time=  27.5s\n",
      "[CV 3/5] END criterion=entropy, max_depth=10, n_estimators=250;, score=0.858 total time=  27.7s\n",
      "[CV 4/5] END criterion=entropy, max_depth=10, n_estimators=250;, score=0.858 total time=  27.7s\n",
      "[CV 5/5] END criterion=entropy, max_depth=10, n_estimators=250;, score=0.859 total time=  27.9s\n",
      "[CV 1/5] END criterion=entropy, max_depth=10, n_estimators=300;, score=0.861 total time=  33.2s\n",
      "[CV 2/5] END criterion=entropy, max_depth=10, n_estimators=300;, score=0.855 total time=  33.3s\n",
      "[CV 3/5] END criterion=entropy, max_depth=10, n_estimators=300;, score=0.857 total time=  33.3s\n",
      "[CV 4/5] END criterion=entropy, max_depth=10, n_estimators=300;, score=0.858 total time=  33.3s\n",
      "[CV 5/5] END criterion=entropy, max_depth=10, n_estimators=300;, score=0.859 total time=  33.3s\n",
      "[CV 1/5] END criterion=entropy, max_depth=10, n_estimators=350;, score=0.862 total time=  39.0s\n",
      "[CV 2/5] END criterion=entropy, max_depth=10, n_estimators=350;, score=0.855 total time=  38.8s\n",
      "[CV 3/5] END criterion=entropy, max_depth=10, n_estimators=350;, score=0.858 total time=  38.8s\n",
      "[CV 4/5] END criterion=entropy, max_depth=10, n_estimators=350;, score=0.859 total time=  38.8s\n",
      "[CV 5/5] END criterion=entropy, max_depth=10, n_estimators=350;, score=0.858 total time=  38.9s\n",
      "[CV 1/5] END criterion=entropy, max_depth=15, n_estimators=10;, score=0.895 total time=   1.4s\n",
      "[CV 2/5] END criterion=entropy, max_depth=15, n_estimators=10;, score=0.895 total time=   1.4s\n",
      "[CV 3/5] END criterion=entropy, max_depth=15, n_estimators=10;, score=0.895 total time=   1.4s\n",
      "[CV 4/5] END criterion=entropy, max_depth=15, n_estimators=10;, score=0.894 total time=   1.4s\n",
      "[CV 5/5] END criterion=entropy, max_depth=15, n_estimators=10;, score=0.895 total time=   1.4s\n",
      "[CV 1/5] END criterion=entropy, max_depth=15, n_estimators=100;, score=0.911 total time=  14.4s\n",
      "[CV 2/5] END criterion=entropy, max_depth=15, n_estimators=100;, score=0.907 total time=  14.2s\n",
      "[CV 3/5] END criterion=entropy, max_depth=15, n_estimators=100;, score=0.907 total time=  14.2s\n",
      "[CV 4/5] END criterion=entropy, max_depth=15, n_estimators=100;, score=0.908 total time=  14.4s\n",
      "[CV 5/5] END criterion=entropy, max_depth=15, n_estimators=100;, score=0.912 total time=  14.2s\n",
      "[CV 1/5] END criterion=entropy, max_depth=15, n_estimators=150;, score=0.911 total time=  21.4s\n",
      "[CV 2/5] END criterion=entropy, max_depth=15, n_estimators=150;, score=0.908 total time=  21.4s\n",
      "[CV 3/5] END criterion=entropy, max_depth=15, n_estimators=150;, score=0.908 total time=  21.3s\n",
      "[CV 4/5] END criterion=entropy, max_depth=15, n_estimators=150;, score=0.908 total time=  21.5s\n",
      "[CV 5/5] END criterion=entropy, max_depth=15, n_estimators=150;, score=0.914 total time=  21.4s\n",
      "[CV 1/5] END criterion=entropy, max_depth=15, n_estimators=200;, score=0.912 total time=  28.6s\n",
      "[CV 2/5] END criterion=entropy, max_depth=15, n_estimators=200;, score=0.909 total time=  28.5s\n",
      "[CV 3/5] END criterion=entropy, max_depth=15, n_estimators=200;, score=0.908 total time=  28.6s\n",
      "[CV 4/5] END criterion=entropy, max_depth=15, n_estimators=200;, score=0.908 total time=  28.6s\n",
      "[CV 5/5] END criterion=entropy, max_depth=15, n_estimators=200;, score=0.913 total time=  28.6s\n",
      "[CV 1/5] END criterion=entropy, max_depth=15, n_estimators=250;, score=0.912 total time=  35.7s\n",
      "[CV 2/5] END criterion=entropy, max_depth=15, n_estimators=250;, score=0.910 total time=  35.6s\n",
      "[CV 3/5] END criterion=entropy, max_depth=15, n_estimators=250;, score=0.908 total time=  35.5s\n",
      "[CV 4/5] END criterion=entropy, max_depth=15, n_estimators=250;, score=0.908 total time=  35.7s\n",
      "[CV 5/5] END criterion=entropy, max_depth=15, n_estimators=250;, score=0.913 total time=  35.4s\n",
      "[CV 1/5] END criterion=entropy, max_depth=15, n_estimators=300;, score=0.912 total time=  42.5s\n",
      "[CV 2/5] END criterion=entropy, max_depth=15, n_estimators=300;, score=0.910 total time=  42.5s\n",
      "[CV 3/5] END criterion=entropy, max_depth=15, n_estimators=300;, score=0.909 total time=  42.3s\n",
      "[CV 4/5] END criterion=entropy, max_depth=15, n_estimators=300;, score=0.909 total time=  42.3s\n",
      "[CV 5/5] END criterion=entropy, max_depth=15, n_estimators=300;, score=0.912 total time=  42.5s\n",
      "[CV 1/5] END criterion=entropy, max_depth=15, n_estimators=350;, score=0.912 total time=  49.2s\n",
      "[CV 2/5] END criterion=entropy, max_depth=15, n_estimators=350;, score=0.911 total time=  49.4s\n",
      "[CV 3/5] END criterion=entropy, max_depth=15, n_estimators=350;, score=0.909 total time=  49.5s\n",
      "[CV 4/5] END criterion=entropy, max_depth=15, n_estimators=350;, score=0.910 total time=  49.2s\n",
      "[CV 5/5] END criterion=entropy, max_depth=15, n_estimators=350;, score=0.912 total time=  49.6s\n",
      "[CV 1/5] END criterion=entropy, max_depth=20, n_estimators=10;, score=0.913 total time=   1.5s\n",
      "[CV 2/5] END criterion=entropy, max_depth=20, n_estimators=10;, score=0.910 total time=   1.6s\n",
      "[CV 3/5] END criterion=entropy, max_depth=20, n_estimators=10;, score=0.912 total time=   1.6s\n",
      "[CV 4/5] END criterion=entropy, max_depth=20, n_estimators=10;, score=0.913 total time=   1.6s\n",
      "[CV 5/5] END criterion=entropy, max_depth=20, n_estimators=10;, score=0.911 total time=   1.8s\n",
      "[CV 1/5] END criterion=entropy, max_depth=20, n_estimators=100;, score=0.926 total time=  15.6s\n",
      "[CV 2/5] END criterion=entropy, max_depth=20, n_estimators=100;, score=0.924 total time=  15.5s\n",
      "[CV 3/5] END criterion=entropy, max_depth=20, n_estimators=100;, score=0.924 total time=  15.8s\n",
      "[CV 4/5] END criterion=entropy, max_depth=20, n_estimators=100;, score=0.927 total time=  15.4s\n",
      "[CV 5/5] END criterion=entropy, max_depth=20, n_estimators=100;, score=0.927 total time=  15.6s\n",
      "[CV 1/5] END criterion=entropy, max_depth=20, n_estimators=150;, score=0.928 total time=  23.3s\n",
      "[CV 2/5] END criterion=entropy, max_depth=20, n_estimators=150;, score=0.924 total time=  23.4s\n",
      "[CV 3/5] END criterion=entropy, max_depth=20, n_estimators=150;, score=0.922 total time=  23.5s\n",
      "[CV 4/5] END criterion=entropy, max_depth=20, n_estimators=150;, score=0.927 total time=  23.8s\n",
      "[CV 5/5] END criterion=entropy, max_depth=20, n_estimators=150;, score=0.928 total time=  23.3s\n",
      "[CV 1/5] END criterion=entropy, max_depth=20, n_estimators=200;, score=0.927 total time=  31.3s\n",
      "[CV 2/5] END criterion=entropy, max_depth=20, n_estimators=200;, score=0.925 total time=  31.3s\n",
      "[CV 3/5] END criterion=entropy, max_depth=20, n_estimators=200;, score=0.922 total time=  31.2s\n",
      "[CV 4/5] END criterion=entropy, max_depth=20, n_estimators=200;, score=0.927 total time=  30.9s\n",
      "[CV 5/5] END criterion=entropy, max_depth=20, n_estimators=200;, score=0.929 total time=  31.2s\n",
      "[CV 1/5] END criterion=entropy, max_depth=20, n_estimators=250;, score=0.927 total time=  39.0s\n",
      "[CV 2/5] END criterion=entropy, max_depth=20, n_estimators=250;, score=0.926 total time=  39.1s\n",
      "[CV 3/5] END criterion=entropy, max_depth=20, n_estimators=250;, score=0.922 total time=  39.0s\n",
      "[CV 4/5] END criterion=entropy, max_depth=20, n_estimators=250;, score=0.927 total time=  38.9s\n",
      "[CV 5/5] END criterion=entropy, max_depth=20, n_estimators=250;, score=0.929 total time=  38.9s\n",
      "[CV 1/5] END criterion=entropy, max_depth=20, n_estimators=300;, score=0.927 total time=  47.3s\n",
      "[CV 2/5] END criterion=entropy, max_depth=20, n_estimators=300;, score=0.926 total time=  46.7s\n",
      "[CV 3/5] END criterion=entropy, max_depth=20, n_estimators=300;, score=0.922 total time=  47.1s\n",
      "[CV 4/5] END criterion=entropy, max_depth=20, n_estimators=300;, score=0.928 total time=  47.4s\n",
      "[CV 5/5] END criterion=entropy, max_depth=20, n_estimators=300;, score=0.929 total time=  47.9s\n",
      "[CV 1/5] END criterion=entropy, max_depth=20, n_estimators=350;, score=0.927 total time=  55.8s\n",
      "[CV 2/5] END criterion=entropy, max_depth=20, n_estimators=350;, score=0.926 total time=  55.1s\n",
      "[CV 3/5] END criterion=entropy, max_depth=20, n_estimators=350;, score=0.923 total time=  55.2s\n",
      "[CV 4/5] END criterion=entropy, max_depth=20, n_estimators=350;, score=0.927 total time=  54.9s\n",
      "[CV 5/5] END criterion=entropy, max_depth=20, n_estimators=350;, score=0.930 total time=  55.4s\n"
     ]
    },
    {
     "name": "stdout",
     "output_type": "stream",
     "text": [
      "[CV 1/5] END criterion=entropy, max_depth=25, n_estimators=10;, score=0.918 total time=   1.8s\n",
      "[CV 2/5] END criterion=entropy, max_depth=25, n_estimators=10;, score=0.914 total time=   1.6s\n",
      "[CV 3/5] END criterion=entropy, max_depth=25, n_estimators=10;, score=0.914 total time= 7.6min\n",
      "[CV 4/5] END criterion=entropy, max_depth=25, n_estimators=10;, score=0.915 total time=   6.9s\n",
      "[CV 5/5] END criterion=entropy, max_depth=25, n_estimators=10;, score=0.918 total time=   4.6s\n",
      "[CV 1/5] END criterion=entropy, max_depth=25, n_estimators=100;, score=0.933 total time=  17.2s\n",
      "[CV 2/5] END criterion=entropy, max_depth=25, n_estimators=100;, score=0.929 total time=  17.2s\n",
      "[CV 3/5] END criterion=entropy, max_depth=25, n_estimators=100;, score=0.928 total time=  16.6s\n",
      "[CV 4/5] END criterion=entropy, max_depth=25, n_estimators=100;, score=0.931 total time=  16.1s\n",
      "[CV 5/5] END criterion=entropy, max_depth=25, n_estimators=100;, score=0.932 total time=  16.4s\n",
      "[CV 1/5] END criterion=entropy, max_depth=25, n_estimators=150;, score=0.935 total time=  24.1s\n",
      "[CV 2/5] END criterion=entropy, max_depth=25, n_estimators=150;, score=0.931 total time=  24.4s\n",
      "[CV 3/5] END criterion=entropy, max_depth=25, n_estimators=150;, score=0.930 total time=  24.3s\n",
      "[CV 4/5] END criterion=entropy, max_depth=25, n_estimators=150;, score=0.932 total time=  24.2s\n",
      "[CV 5/5] END criterion=entropy, max_depth=25, n_estimators=150;, score=0.933 total time=  24.1s\n",
      "[CV 1/5] END criterion=entropy, max_depth=25, n_estimators=200;, score=0.935 total time=  32.3s\n",
      "[CV 2/5] END criterion=entropy, max_depth=25, n_estimators=200;, score=0.931 total time=  33.2s\n",
      "[CV 3/5] END criterion=entropy, max_depth=25, n_estimators=200;, score=0.929 total time=  33.7s\n",
      "[CV 4/5] END criterion=entropy, max_depth=25, n_estimators=200;, score=0.931 total time=  33.4s\n",
      "[CV 5/5] END criterion=entropy, max_depth=25, n_estimators=200;, score=0.933 total time=  33.5s\n",
      "[CV 1/5] END criterion=entropy, max_depth=25, n_estimators=250;, score=0.936 total time=  41.0s\n",
      "[CV 2/5] END criterion=entropy, max_depth=25, n_estimators=250;, score=0.932 total time=  41.2s\n",
      "[CV 3/5] END criterion=entropy, max_depth=25, n_estimators=250;, score=0.929 total time=  41.1s\n",
      "[CV 4/5] END criterion=entropy, max_depth=25, n_estimators=250;, score=0.932 total time=  40.9s\n",
      "[CV 5/5] END criterion=entropy, max_depth=25, n_estimators=250;, score=0.933 total time=  40.6s\n",
      "[CV 1/5] END criterion=entropy, max_depth=25, n_estimators=300;, score=0.935 total time=  48.6s\n",
      "[CV 2/5] END criterion=entropy, max_depth=25, n_estimators=300;, score=0.931 total time=  48.6s\n",
      "[CV 3/5] END criterion=entropy, max_depth=25, n_estimators=300;, score=0.929 total time=  48.7s\n",
      "[CV 4/5] END criterion=entropy, max_depth=25, n_estimators=300;, score=0.932 total time=  48.4s\n",
      "[CV 5/5] END criterion=entropy, max_depth=25, n_estimators=300;, score=0.933 total time=  48.6s\n",
      "[CV 1/5] END criterion=entropy, max_depth=25, n_estimators=350;, score=0.935 total time=  58.0s\n",
      "[CV 2/5] END criterion=entropy, max_depth=25, n_estimators=350;, score=0.931 total time=  57.3s\n",
      "[CV 3/5] END criterion=entropy, max_depth=25, n_estimators=350;, score=0.930 total time=  56.8s\n",
      "[CV 4/5] END criterion=entropy, max_depth=25, n_estimators=350;, score=0.932 total time=  56.8s\n",
      "[CV 5/5] END criterion=entropy, max_depth=25, n_estimators=350;, score=0.933 total time=  57.0s\n",
      "[CV 1/5] END criterion=entropy, max_depth=30, n_estimators=10;, score=0.916 total time=   1.6s\n",
      "[CV 2/5] END criterion=entropy, max_depth=30, n_estimators=10;, score=0.916 total time=   1.6s\n",
      "[CV 3/5] END criterion=entropy, max_depth=30, n_estimators=10;, score=0.919 total time=   1.6s\n",
      "[CV 4/5] END criterion=entropy, max_depth=30, n_estimators=10;, score=0.917 total time=   1.6s\n",
      "[CV 5/5] END criterion=entropy, max_depth=30, n_estimators=10;, score=0.918 total time=   1.6s\n",
      "[CV 1/5] END criterion=entropy, max_depth=30, n_estimators=100;, score=0.934 total time=  16.3s\n",
      "[CV 2/5] END criterion=entropy, max_depth=30, n_estimators=100;, score=0.932 total time=  16.3s\n",
      "[CV 3/5] END criterion=entropy, max_depth=30, n_estimators=100;, score=0.930 total time=  16.5s\n",
      "[CV 4/5] END criterion=entropy, max_depth=30, n_estimators=100;, score=0.931 total time=  16.1s\n",
      "[CV 5/5] END criterion=entropy, max_depth=30, n_estimators=100;, score=0.932 total time=  16.4s\n",
      "[CV 1/5] END criterion=entropy, max_depth=30, n_estimators=150;, score=0.935 total time=  24.4s\n",
      "[CV 2/5] END criterion=entropy, max_depth=30, n_estimators=150;, score=0.932 total time=  24.6s\n",
      "[CV 3/5] END criterion=entropy, max_depth=30, n_estimators=150;, score=0.931 total time=  24.5s\n",
      "[CV 4/5] END criterion=entropy, max_depth=30, n_estimators=150;, score=0.933 total time=  24.6s\n",
      "[CV 5/5] END criterion=entropy, max_depth=30, n_estimators=150;, score=0.932 total time=  24.9s\n",
      "[CV 1/5] END criterion=entropy, max_depth=30, n_estimators=200;, score=0.936 total time=  33.5s\n",
      "[CV 2/5] END criterion=entropy, max_depth=30, n_estimators=200;, score=0.933 total time=  32.5s\n",
      "[CV 3/5] END criterion=entropy, max_depth=30, n_estimators=200;, score=0.931 total time=  32.6s\n",
      "[CV 4/5] END criterion=entropy, max_depth=30, n_estimators=200;, score=0.933 total time=  32.5s\n",
      "[CV 5/5] END criterion=entropy, max_depth=30, n_estimators=200;, score=0.932 total time=  32.5s\n",
      "[CV 1/5] END criterion=entropy, max_depth=30, n_estimators=250;, score=0.936 total time=  40.7s\n",
      "[CV 2/5] END criterion=entropy, max_depth=30, n_estimators=250;, score=0.932 total time=  40.5s\n",
      "[CV 3/5] END criterion=entropy, max_depth=30, n_estimators=250;, score=0.931 total time=  40.7s\n",
      "[CV 4/5] END criterion=entropy, max_depth=30, n_estimators=250;, score=0.932 total time=  40.7s\n",
      "[CV 5/5] END criterion=entropy, max_depth=30, n_estimators=250;, score=0.932 total time=  40.8s\n",
      "[CV 1/5] END criterion=entropy, max_depth=30, n_estimators=300;, score=0.935 total time=  48.9s\n",
      "[CV 2/5] END criterion=entropy, max_depth=30, n_estimators=300;, score=0.933 total time=  49.5s\n",
      "[CV 3/5] END criterion=entropy, max_depth=30, n_estimators=300;, score=0.931 total time=  49.4s\n",
      "[CV 4/5] END criterion=entropy, max_depth=30, n_estimators=300;, score=0.933 total time=  48.6s\n",
      "[CV 5/5] END criterion=entropy, max_depth=30, n_estimators=300;, score=0.932 total time=  49.2s\n",
      "[CV 1/5] END criterion=entropy, max_depth=30, n_estimators=350;, score=0.936 total time=  56.9s\n",
      "[CV 2/5] END criterion=entropy, max_depth=30, n_estimators=350;, score=0.933 total time=  56.6s\n",
      "[CV 3/5] END criterion=entropy, max_depth=30, n_estimators=350;, score=0.932 total time=  57.1s\n",
      "[CV 4/5] END criterion=entropy, max_depth=30, n_estimators=350;, score=0.933 total time=  56.7s\n",
      "[CV 5/5] END criterion=entropy, max_depth=30, n_estimators=350;, score=0.932 total time=14.1min\n",
      "CPU times: user 2h 39min 37s, sys: 30 s, total: 2h 40min 7s\n",
      "Wall time: 4h 23min 17s\n",
      "{'criterion': 'entropy', 'max_depth': 30, 'n_estimators': 350}\n"
     ]
    }
   ],
   "source": [
    "rfc = RandomForestClassifier(random_state= 1234)\n",
    "\n",
    "grid_params = {\n",
    "    'n_estimators': [10, 100, 150, 200, 250, 300, 350],\n",
    "    'max_depth': [5, 10, 15, 20, 25, 30],\n",
    "    'criterion' :['gini', 'entropy']\n",
    "}\n",
    "\n",
    "rf_grid_cv = GridSearchCV(estimator=rfc, param_grid=grid_params, cv=5, verbose=3)\n",
    "\n",
    "%time rf_grid_cv.fit(X_train, y_train)\n",
    "\n",
    "print(rf_grid_cv.best_params_)"
   ]
  },
  {
   "cell_type": "code",
   "execution_count": 66,
   "id": "f655de4b",
   "metadata": {},
   "outputs": [],
   "source": [
    "\n",
    "X = NHANES_final_df[['Gender',\n",
    "        'Age(Months)',\n",
    "        'Race',\n",
    "        'PregnStat',\n",
    "        'HIV',\n",
    "        'alco_dks_daily#',\n",
    "        'smokescigs_daily#',\n",
    "        'had_anemia_treatment',\n",
    "        'had_cancer',\n",
    "        'Cu(umol/L)',\n",
    "        'Se(umol/L)',\n",
    "        'Zn(umol/L)',\n",
    "        'Fe(ug/L)',\n",
    "        'Folate(nmol/L)',\n",
    "        'VitB12(pmol/L)',\n",
    "        'VitB6',\n",
    "        'VitD2',\n",
    "        'VitD3',\n",
    "        'VitD(nmol/L)',\n",
    "        'VitC(umol/L)',\n",
    "        'VitE(umol/L)',\n",
    "        'VitA(umol/L)',\n",
    "        'Weight',\n",
    "        'BMI']]\n",
    "\n",
    "y = NHANES_final_df['immunity_strength']\n",
    "X_train, X_test, y_train, y_test = train_test_split(X, y, test_size=0.3, random_state=42)"
   ]
  },
  {
   "cell_type": "code",
   "execution_count": 70,
   "id": "d699b9b9",
   "metadata": {},
   "outputs": [
    {
     "data": {
      "text/plain": [
       "RandomForestClassifier(criterion='entropy', max_depth=30, n_estimators=350,\n",
       "                       random_state=1234)"
      ]
     },
     "execution_count": 70,
     "metadata": {},
     "output_type": "execute_result"
    }
   ],
   "source": [
    "best_model = RandomForestClassifier(criterion = 'entropy', n_estimators=350, max_depth=30, random_state= 1234)\n",
    "best_model.fit(X_train, y_train)\n",
    "\n",
    "y_pred = best_model.predict(X_test)\n",
    "y_pred = pd.Series(y_pred)\n",
    "best_model"
   ]
  },
  {
   "cell_type": "code",
   "execution_count": 71,
   "id": "c27bda7f",
   "metadata": {},
   "outputs": [
    {
     "name": "stdout",
     "output_type": "stream",
     "text": [
      "Random Forest  model bestestimator\n",
      "Accuracy: 0.9377996213189381\n",
      "Balanced accuracy: 0.9349669064405084\n",
      "Precision score for \"1\" 0.9532868590787673\n",
      "Precision score for \"2\" 0.9127084652733798\n",
      "Recall score for \"1\" 0.9465036548289023\n",
      "Recall score for \"2\" 0.9234301580521145\n"
     ]
    }
   ],
   "source": [
    "print(\"Random Forest  model bestestimator\")\n",
    "print(\"Accuracy:\", metrics.accuracy_score(y_test,y_pred))\n",
    "print(\"Balanced accuracy:\", metrics.balanced_accuracy_score(y_test,y_pred))\n",
    "print('Precision score for \"1\"' , metrics.precision_score(y_test,y_pred, pos_label = 1))\n",
    "print('Precision score for \"2\"' , metrics.precision_score(y_test,y_pred, pos_label = 2))\n",
    "print('Recall score for \"1\"' , metrics.recall_score(y_test,y_pred, pos_label = 1))\n",
    "print('Recall score for \"2\"' , metrics.recall_score(y_test,y_pred, pos_label = 2))\n"
   ]
  },
  {
   "cell_type": "code",
   "execution_count": 72,
   "id": "d90914f6",
   "metadata": {},
   "outputs": [
    {
     "data": {
      "text/plain": [
       "Text(0.5, 0, 'Permutation Importance')"
      ]
     },
     "execution_count": 72,
     "metadata": {},
     "output_type": "execute_result"
    },
    {
     "data": {
      "image/png": "[encoded data removed]",
      "text/plain": [
       "<Figure size 432x288 with 1 Axes>"
      ]
     },
     "metadata": {
      "needs_background": "light"
     },
     "output_type": "display_data"
    }
   ],
   "source": [
    "\n",
    "perm_importance = permutation_importance(best_model, X_test, y_test)\n",
    "\n",
    "feature_names = ['Gender',\n",
    "                'Age(Months)',\n",
    "                'Race',\n",
    "                'PregnStat',\n",
    "                'HIV',\n",
    "                'alco_dks_daily#',\n",
    "                'smokescigs_daily#',\n",
    "                'had_anemia_treatment',\n",
    "                'had_cancer',\n",
    "                'Cu(umol/L)',\n",
    "                'Se(umol/L)',\n",
    "                'Zn(umol/L)',\n",
    "                'Fe(ug/L)',\n",
    "                'Folate(nmol/L)',\n",
    "                'VitB12(pmol/L)',\n",
    "                'VitB6',\n",
    "                'VitD2',\n",
    "                'VitD3',\n",
    "                'VitD(nmol/L)',\n",
    "                'VitC(umol/L)',\n",
    "                'VitE(umol/L)',\n",
    "                'VitA(umol/L)',\n",
    "                'Weight',\n",
    "                'BMI']\n",
    "                \n",
    "features = np.array(feature_names)\n",
    "\n",
    "sorted_idx = perm_importance.importances_mean.argsort()\n",
    "plt.barh(features[sorted_idx], perm_importance.importances_mean[sorted_idx])\n",
    "plt.xlabel(\"Permutation Importance\")\n"
   ]
  },
  {
   "cell_type": "markdown",
   "id": "c6176a0b",
   "metadata": {},
   "source": [
    "+++++++++++++++++++++++++++++++++++++++++++++++++++++++++++++++++++++++++++++++++++++++++++++++++++++++++++++++"
   ]
  },
  {
   "cell_type": "markdown",
   "id": "5e476fd0",
   "metadata": {},
   "source": [
    "### Conclusion"
   ]
  },
  {
   "cell_type": "code",
   "execution_count": null,
   "id": "7fcc9f89",
   "metadata": {},
   "outputs": [],
   "source": [
    "The top features that consistently show are Vitamin B12 and Zn "
   ]
  },
  {
   "cell_type": "code",
   "execution_count": null,
   "id": "92cbe6cd",
   "metadata": {},
   "outputs": [],
   "source": []
  },
  {
   "cell_type": "code",
   "execution_count": null,
   "id": "9c829c4f",
   "metadata": {},
   "outputs": [],
   "source": []
  },
  {
   "cell_type": "markdown",
   "id": "410e75ef",
   "metadata": {},
   "source": [
    "## IGNORE THE REST"
   ]
  },
  {
   "cell_type": "code",
   "execution_count": 46,
   "id": "e295950f",
   "metadata": {},
   "outputs": [],
   "source": [
    "ZnSeCu_df = pd.read_csv('ZnSeCu_merged.csv')"
   ]
  },
  {
   "cell_type": "code",
   "execution_count": 47,
   "id": "b6a8a090",
   "metadata": {},
   "outputs": [
    {
     "data": {
      "text/html": [
       "<div>\n",
       "<style scoped>\n",
       "    .dataframe tbody tr th:only-of-type {\n",
       "        vertical-align: middle;\n",
       "    }\n",
       "\n",
       "    .dataframe tbody tr th {\n",
       "        vertical-align: top;\n",
       "    }\n",
       "\n",
       "    .dataframe thead th {\n",
       "        text-align: right;\n",
       "    }\n",
       "</style>\n",
       "<table border=\"1\" class=\"dataframe\">\n",
       "  <thead>\n",
       "    <tr style=\"text-align: right;\">\n",
       "      <th></th>\n",
       "      <th>ID</th>\n",
       "      <th>Yr_Cycle</th>\n",
       "      <th>Gender</th>\n",
       "      <th>Age(yr)</th>\n",
       "      <th>Age(Months)</th>\n",
       "      <th>Race</th>\n",
       "      <th>PregnStat</th>\n",
       "      <th>Weight</th>\n",
       "      <th>BMI</th>\n",
       "      <th>alco_dks_daily#</th>\n",
       "      <th>...</th>\n",
       "      <th>VitD3</th>\n",
       "      <th>epiVitD3</th>\n",
       "      <th>VitD(nmol/L)</th>\n",
       "      <th>VitC(mg/dL)</th>\n",
       "      <th>VitC(umol/L)</th>\n",
       "      <th>VitE(ug/dL)</th>\n",
       "      <th>VitE(umol/L)</th>\n",
       "      <th>VitA(ug/dL)</th>\n",
       "      <th>VitA(umol/L)</th>\n",
       "      <th>immunity_strength</th>\n",
       "    </tr>\n",
       "  </thead>\n",
       "  <tbody>\n",
       "    <tr>\n",
       "      <th>0</th>\n",
       "      <td>62168.0</td>\n",
       "      <td>7.0</td>\n",
       "      <td>1</td>\n",
       "      <td>6.0</td>\n",
       "      <td>72.0</td>\n",
       "      <td>5</td>\n",
       "      <td>2</td>\n",
       "      <td>23.6</td>\n",
       "      <td>15.4</td>\n",
       "      <td>0.0</td>\n",
       "      <td>...</td>\n",
       "      <td>74.18</td>\n",
       "      <td>5.34</td>\n",
       "      <td>NaN</td>\n",
       "      <td>NaN</td>\n",
       "      <td>NaN</td>\n",
       "      <td>NaN</td>\n",
       "      <td>NaN</td>\n",
       "      <td>NaN</td>\n",
       "      <td>NaN</td>\n",
       "      <td>1</td>\n",
       "    </tr>\n",
       "    <tr>\n",
       "      <th>1</th>\n",
       "      <td>62169.0</td>\n",
       "      <td>7.0</td>\n",
       "      <td>1</td>\n",
       "      <td>21.0</td>\n",
       "      <td>252.0</td>\n",
       "      <td>5</td>\n",
       "      <td>2</td>\n",
       "      <td>54.6</td>\n",
       "      <td>20.1</td>\n",
       "      <td>2.0</td>\n",
       "      <td>...</td>\n",
       "      <td>24.39</td>\n",
       "      <td>1.16</td>\n",
       "      <td>NaN</td>\n",
       "      <td>NaN</td>\n",
       "      <td>NaN</td>\n",
       "      <td>NaN</td>\n",
       "      <td>NaN</td>\n",
       "      <td>NaN</td>\n",
       "      <td>NaN</td>\n",
       "      <td>1</td>\n",
       "    </tr>\n",
       "    <tr>\n",
       "      <th>2</th>\n",
       "      <td>62170.0</td>\n",
       "      <td>7.0</td>\n",
       "      <td>1</td>\n",
       "      <td>15.0</td>\n",
       "      <td>180.0</td>\n",
       "      <td>5</td>\n",
       "      <td>2</td>\n",
       "      <td>63.5</td>\n",
       "      <td>18.2</td>\n",
       "      <td>0.0</td>\n",
       "      <td>...</td>\n",
       "      <td>82.49</td>\n",
       "      <td>3.09</td>\n",
       "      <td>NaN</td>\n",
       "      <td>NaN</td>\n",
       "      <td>NaN</td>\n",
       "      <td>NaN</td>\n",
       "      <td>NaN</td>\n",
       "      <td>NaN</td>\n",
       "      <td>NaN</td>\n",
       "      <td>1</td>\n",
       "    </tr>\n",
       "    <tr>\n",
       "      <th>3</th>\n",
       "      <td>62171.0</td>\n",
       "      <td>7.0</td>\n",
       "      <td>1</td>\n",
       "      <td>14.0</td>\n",
       "      <td>168.0</td>\n",
       "      <td>1</td>\n",
       "      <td>2</td>\n",
       "      <td>58.2</td>\n",
       "      <td>19.9</td>\n",
       "      <td>0.0</td>\n",
       "      <td>...</td>\n",
       "      <td>55.75</td>\n",
       "      <td>5.16</td>\n",
       "      <td>NaN</td>\n",
       "      <td>NaN</td>\n",
       "      <td>NaN</td>\n",
       "      <td>NaN</td>\n",
       "      <td>NaN</td>\n",
       "      <td>NaN</td>\n",
       "      <td>NaN</td>\n",
       "      <td>2</td>\n",
       "    </tr>\n",
       "    <tr>\n",
       "      <th>4</th>\n",
       "      <td>62172.0</td>\n",
       "      <td>7.0</td>\n",
       "      <td>2</td>\n",
       "      <td>43.0</td>\n",
       "      <td>516.0</td>\n",
       "      <td>4</td>\n",
       "      <td>2</td>\n",
       "      <td>98.6</td>\n",
       "      <td>33.3</td>\n",
       "      <td>3.0</td>\n",
       "      <td>...</td>\n",
       "      <td>35.13</td>\n",
       "      <td>3.10</td>\n",
       "      <td>NaN</td>\n",
       "      <td>NaN</td>\n",
       "      <td>NaN</td>\n",
       "      <td>NaN</td>\n",
       "      <td>NaN</td>\n",
       "      <td>NaN</td>\n",
       "      <td>NaN</td>\n",
       "      <td>2</td>\n",
       "    </tr>\n",
       "  </tbody>\n",
       "</table>\n",
       "<p>5 rows × 53 columns</p>\n",
       "</div>"
      ],
      "text/plain": [
       "        ID  Yr_Cycle  Gender  Age(yr)  Age(Months)  Race  PregnStat  Weight  \\\n",
       "0  62168.0       7.0       1      6.0         72.0     5          2    23.6   \n",
       "1  62169.0       7.0       1     21.0        252.0     5          2    54.6   \n",
       "2  62170.0       7.0       1     15.0        180.0     5          2    63.5   \n",
       "3  62171.0       7.0       1     14.0        168.0     1          2    58.2   \n",
       "4  62172.0       7.0       2     43.0        516.0     4          2    98.6   \n",
       "\n",
       "    BMI  alco_dks_daily#  ...  VitD3  epiVitD3  VitD(nmol/L)  VitC(mg/dL)  \\\n",
       "0  15.4              0.0  ...  74.18      5.34           NaN          NaN   \n",
       "1  20.1              2.0  ...  24.39      1.16           NaN          NaN   \n",
       "2  18.2              0.0  ...  82.49      3.09           NaN          NaN   \n",
       "3  19.9              0.0  ...  55.75      5.16           NaN          NaN   \n",
       "4  33.3              3.0  ...  35.13      3.10           NaN          NaN   \n",
       "\n",
       "   VitC(umol/L)  VitE(ug/dL)  VitE(umol/L)  VitA(ug/dL)  VitA(umol/L)  \\\n",
       "0           NaN          NaN           NaN          NaN           NaN   \n",
       "1           NaN          NaN           NaN          NaN           NaN   \n",
       "2           NaN          NaN           NaN          NaN           NaN   \n",
       "3           NaN          NaN           NaN          NaN           NaN   \n",
       "4           NaN          NaN           NaN          NaN           NaN   \n",
       "\n",
       "   immunity_strength  \n",
       "0                  1  \n",
       "1                  1  \n",
       "2                  1  \n",
       "3                  2  \n",
       "4                  2  \n",
       "\n",
       "[5 rows x 53 columns]"
      ]
     },
     "execution_count": 47,
     "metadata": {},
     "output_type": "execute_result"
    }
   ],
   "source": [
    "ZnSeCu_df.head()"
   ]
  },
  {
   "cell_type": "code",
   "execution_count": 48,
   "id": "a953041c",
   "metadata": {},
   "outputs": [
    {
     "name": "stdout",
     "output_type": "stream",
     "text": [
      "<class 'pandas.core.frame.DataFrame'>\n",
      "RangeIndex: 7259 entries, 0 to 7258\n",
      "Data columns (total 53 columns):\n",
      " #   Column                Non-Null Count  Dtype  \n",
      "---  ------                --------------  -----  \n",
      " 0   ID                    7259 non-null   float64\n",
      " 1   Yr_Cycle              7259 non-null   float64\n",
      " 2   Gender                7259 non-null   int64  \n",
      " 3   Age(yr)               7259 non-null   float64\n",
      " 4   Age(Months)           7259 non-null   float64\n",
      " 5   Race                  7259 non-null   int64  \n",
      " 6   PregnStat             7259 non-null   int64  \n",
      " 7   Weight                7184 non-null   float64\n",
      " 8   BMI                   7176 non-null   float64\n",
      " 9   alco_dks_daily#       7259 non-null   float64\n",
      " 10  smokescigs_daily#     7259 non-null   float64\n",
      " 11  had_anemia_treatment  2326 non-null   float64\n",
      " 12  had_cancer            1645 non-null   float64\n",
      " 13  cancertype1           135 non-null    float64\n",
      " 14  cancertype2           12 non-null     float64\n",
      " 15  cancertype3           1 non-null      float64\n",
      " 16  HIV                   3706 non-null   float64\n",
      " 17  White_Cell_num        7259 non-null   float64\n",
      " 18  Lymphocyte(%)         7259 non-null   float64\n",
      " 19  Monocyte(%)           7259 non-null   float64\n",
      " 20  SegNeutrophil(%)      7259 non-null   float64\n",
      " 21  Eosinophil(%)         7259 non-null   float64\n",
      " 22  Basophil(%)           7259 non-null   float64\n",
      " 23  Lymphocyte_num        7259 non-null   float64\n",
      " 24  Monocyte_num          7259 non-null   float64\n",
      " 25  SegNeutrophil_num     7259 non-null   float64\n",
      " 26  Eosinophil_num        7259 non-null   float64\n",
      " 27  Basophil_num          7259 non-null   float64\n",
      " 28  Red_Cell_num          7259 non-null   float64\n",
      " 29  Subsweights           7259 non-null   float64\n",
      " 30  Cu(ug/dL)             7259 non-null   float64\n",
      " 31  Cu(umol/L)            7259 non-null   float64\n",
      " 32  Se(ug/L)              7259 non-null   float64\n",
      " 33  Se(umol/L)            7259 non-null   float64\n",
      " 34  Zn(ug/dL)             7258 non-null   float64\n",
      " 35  Zn(umol/L)            7258 non-null   float64\n",
      " 36  Fe(ug/L)              641 non-null    float64\n",
      " 37  Folate(ng/mL)         7208 non-null   float64\n",
      " 38  Folate(nmol/L)        7208 non-null   float64\n",
      " 39  VitB12(pg/mL)         3390 non-null   float64\n",
      " 40  VitB12(pmol/L)        3390 non-null   float64\n",
      " 41  VitB6                 0 non-null      float64\n",
      " 42  VitD2                 7221 non-null   float64\n",
      " 43  VitD3                 7219 non-null   float64\n",
      " 44  epiVitD3              7141 non-null   float64\n",
      " 45  VitD(nmol/L)          0 non-null      float64\n",
      " 46  VitC(mg/dL)           0 non-null      float64\n",
      " 47  VitC(umol/L)          0 non-null      float64\n",
      " 48  VitE(ug/dL)           0 non-null      float64\n",
      " 49  VitE(umol/L)          0 non-null      float64\n",
      " 50  VitA(ug/dL)           0 non-null      float64\n",
      " 51  VitA(umol/L)          0 non-null      float64\n",
      " 52  immunity_strength     7259 non-null   int64  \n",
      "dtypes: float64(49), int64(4)\n",
      "memory usage: 2.9 MB\n"
     ]
    }
   ],
   "source": [
    "ZnSeCu_df.info()"
   ]
  },
  {
   "cell_type": "code",
   "execution_count": 49,
   "id": "183eeb0d",
   "metadata": {},
   "outputs": [],
   "source": [
    "znsecu_feature_names = ['Gender',\n",
    "                'Age(Months)',\n",
    "                'Race',\n",
    "                'PregnStat',\n",
    "                'HIV',\n",
    "                'alco_dks_daily#',\n",
    "                'smokescigs_daily#',\n",
    "                'had_anemia_treatment',\n",
    "                'had_cancer',\n",
    "                'Cu(umol/L)',\n",
    "                'Se(umol/L)',\n",
    "                'Zn(umol/L)',\n",
    "                'Fe(ug/L)',\n",
    "                'Folate(nmol/L)',\n",
    "                'VitB12(pmol/L)',\n",
    "                'VitD2',\n",
    "                'VitD3',\n",
    "                'Weight',\n",
    "                'BMI',\n",
    "                'immunity_strength']"
   ]
  },
  {
   "cell_type": "code",
   "execution_count": 50,
   "id": "42beae7f",
   "metadata": {},
   "outputs": [],
   "source": [
    "ZnSeCu_df = ZnSeCu_df[znsecu_feature_names]"
   ]
  },
  {
   "cell_type": "code",
   "execution_count": 51,
   "id": "0b1feea2",
   "metadata": {},
   "outputs": [
    {
     "name": "stdout",
     "output_type": "stream",
     "text": [
      "<class 'pandas.core.frame.DataFrame'>\n",
      "RangeIndex: 7259 entries, 0 to 7258\n",
      "Data columns (total 20 columns):\n",
      " #   Column                Non-Null Count  Dtype  \n",
      "---  ------                --------------  -----  \n",
      " 0   Gender                7259 non-null   int64  \n",
      " 1   Age(Months)           7259 non-null   float64\n",
      " 2   Race                  7259 non-null   int64  \n",
      " 3   PregnStat             7259 non-null   int64  \n",
      " 4   HIV                   3706 non-null   float64\n",
      " 5   alco_dks_daily#       7259 non-null   float64\n",
      " 6   smokescigs_daily#     7259 non-null   float64\n",
      " 7   had_anemia_treatment  2326 non-null   float64\n",
      " 8   had_cancer            1645 non-null   float64\n",
      " 9   Cu(umol/L)            7259 non-null   float64\n",
      " 10  Se(umol/L)            7259 non-null   float64\n",
      " 11  Zn(umol/L)            7258 non-null   float64\n",
      " 12  Fe(ug/L)              641 non-null    float64\n",
      " 13  Folate(nmol/L)        7208 non-null   float64\n",
      " 14  VitB12(pmol/L)        3390 non-null   float64\n",
      " 15  VitD2                 7221 non-null   float64\n",
      " 16  VitD3                 7219 non-null   float64\n",
      " 17  Weight                7184 non-null   float64\n",
      " 18  BMI                   7176 non-null   float64\n",
      " 19  immunity_strength     7259 non-null   int64  \n",
      "dtypes: float64(16), int64(4)\n",
      "memory usage: 1.1 MB\n"
     ]
    }
   ],
   "source": [
    "ZnSeCu_df.info()"
   ]
  },
  {
   "cell_type": "code",
   "execution_count": 52,
   "id": "dd14ebf9",
   "metadata": {},
   "outputs": [],
   "source": [
    "ZnSeCu_df['HIV'].fillna(ZnSeCu_df['HIV'].median(),inplace=True)\n",
    "ZnSeCu_df['had_anemia_treatment'].fillna(ZnSeCu_df['had_anemia_treatment'].median(),inplace=True)\n",
    "ZnSeCu_df['had_cancer'].fillna(ZnSeCu_df['had_cancer'].median(),inplace=True)\n",
    "ZnSeCu_df2 = ZnSeCu_df.drop(['Fe(ug/L)', 'VitB12(pmol/L)'], axis=1)"
   ]
  },
  {
   "cell_type": "code",
   "execution_count": 53,
   "id": "67b1139b",
   "metadata": {},
   "outputs": [
    {
     "name": "stdout",
     "output_type": "stream",
     "text": [
      "<class 'pandas.core.frame.DataFrame'>\n",
      "RangeIndex: 7259 entries, 0 to 7258\n",
      "Data columns (total 18 columns):\n",
      " #   Column                Non-Null Count  Dtype  \n",
      "---  ------                --------------  -----  \n",
      " 0   Gender                7259 non-null   int64  \n",
      " 1   Age(Months)           7259 non-null   float64\n",
      " 2   Race                  7259 non-null   int64  \n",
      " 3   PregnStat             7259 non-null   int64  \n",
      " 4   HIV                   7259 non-null   float64\n",
      " 5   alco_dks_daily#       7259 non-null   float64\n",
      " 6   smokescigs_daily#     7259 non-null   float64\n",
      " 7   had_anemia_treatment  7259 non-null   float64\n",
      " 8   had_cancer            7259 non-null   float64\n",
      " 9   Cu(umol/L)            7259 non-null   float64\n",
      " 10  Se(umol/L)            7259 non-null   float64\n",
      " 11  Zn(umol/L)            7258 non-null   float64\n",
      " 12  Folate(nmol/L)        7208 non-null   float64\n",
      " 13  VitD2                 7221 non-null   float64\n",
      " 14  VitD3                 7219 non-null   float64\n",
      " 15  Weight                7184 non-null   float64\n",
      " 16  BMI                   7176 non-null   float64\n",
      " 17  immunity_strength     7259 non-null   int64  \n",
      "dtypes: float64(14), int64(4)\n",
      "memory usage: 1020.9 KB\n"
     ]
    }
   ],
   "source": [
    "ZnSeCu_df2.info()"
   ]
  },
  {
   "cell_type": "code",
   "execution_count": 54,
   "id": "e807b847",
   "metadata": {},
   "outputs": [
    {
     "name": "stdout",
     "output_type": "stream",
     "text": [
      "<class 'pandas.core.frame.DataFrame'>\n",
      "Int64Index: 7084 entries, 0 to 7258\n",
      "Data columns (total 18 columns):\n",
      " #   Column                Non-Null Count  Dtype  \n",
      "---  ------                --------------  -----  \n",
      " 0   Gender                7084 non-null   int64  \n",
      " 1   Age(Months)           7084 non-null   float64\n",
      " 2   Race                  7084 non-null   int64  \n",
      " 3   PregnStat             7084 non-null   int64  \n",
      " 4   HIV                   7084 non-null   float64\n",
      " 5   alco_dks_daily#       7084 non-null   float64\n",
      " 6   smokescigs_daily#     7084 non-null   float64\n",
      " 7   had_anemia_treatment  7084 non-null   float64\n",
      " 8   had_cancer            7084 non-null   float64\n",
      " 9   Cu(umol/L)            7084 non-null   float64\n",
      " 10  Se(umol/L)            7084 non-null   float64\n",
      " 11  Zn(umol/L)            7084 non-null   float64\n",
      " 12  Folate(nmol/L)        7084 non-null   float64\n",
      " 13  VitD2                 7084 non-null   float64\n",
      " 14  VitD3                 7084 non-null   float64\n",
      " 15  Weight                7084 non-null   float64\n",
      " 16  BMI                   7084 non-null   float64\n",
      " 17  immunity_strength     7084 non-null   int64  \n",
      "dtypes: float64(14), int64(4)\n",
      "memory usage: 1.0 MB\n"
     ]
    }
   ],
   "source": [
    "ZnSeCu_df3 = ZnSeCu_df2.dropna()\n",
    "ZnSeCu_df3.info()"
   ]
  },
  {
   "cell_type": "code",
   "execution_count": 55,
   "id": "6c2209fc",
   "metadata": {},
   "outputs": [],
   "source": [
    "from sklearn.model_selection import train_test_split\n",
    "\n",
    "X = ZnSeCu_df3[[\n",
    "        'Cu(umol/L)',\n",
    "        'Se(umol/L)',\n",
    "        'Zn(umol/L)']]\n",
    "\n",
    "y = ZnSeCu_df3['immunity_strength']\n",
    "X_train, X_test, y_train, y_test = train_test_split(X, y, test_size=0.3, random_state=42)"
   ]
  },
  {
   "cell_type": "code",
   "execution_count": 56,
   "id": "8ad5233b",
   "metadata": {},
   "outputs": [
    {
     "data": {
      "text/plain": [
       "RandomForestClassifier(random_state=1234)"
      ]
     },
     "execution_count": 56,
     "metadata": {},
     "output_type": "execute_result"
    }
   ],
   "source": [
    "# Plug in appropriate n_estimators=10, and random_state parameters \n",
    "znsecuRFModel = RandomForestClassifier(random_state= 1234)\n",
    "znsecuRFModel.fit(X_train, y_train)\n",
    "\n",
    "y_pred = znsecuRFModel.predict(X_test)\n",
    "y_pred = pd.Series(y_pred)\n",
    "znsecuRFModel"
   ]
  },
  {
   "cell_type": "code",
   "execution_count": 57,
   "id": "337739a4",
   "metadata": {},
   "outputs": [
    {
     "name": "stdout",
     "output_type": "stream",
     "text": [
      "Random Forest  model -n_estimators=10\n",
      "Accuracy: 0.5451552210724365\n",
      "Balanced accuracy: 0.5095355132180716\n",
      "Precision score for \"1\" 0.5930851063829787\n",
      "Precision score for \"2\" 0.4292604501607717\n",
      "Recall score for \"1\" 0.7153167602245389\n",
      "Recall score for \"2\" 0.3037542662116041\n"
     ]
    }
   ],
   "source": [
    "print(\"Random Forest  model -n_estimators=10\")\n",
    "print(\"Accuracy:\", metrics.accuracy_score(y_test,y_pred))\n",
    "print(\"Balanced accuracy:\", metrics.balanced_accuracy_score(y_test,y_pred))\n",
    "print('Precision score for \"1\"' , metrics.precision_score(y_test,y_pred, pos_label = 1))\n",
    "print('Precision score for \"2\"' , metrics.precision_score(y_test,y_pred, pos_label = 2))\n",
    "print('Recall score for \"1\"' , metrics.recall_score(y_test,y_pred, pos_label = 1))\n",
    "print('Recall score for \"2\"' , metrics.recall_score(y_test,y_pred, pos_label = 2))"
   ]
  },
  {
   "cell_type": "code",
   "execution_count": 58,
   "id": "a18d8b8d",
   "metadata": {},
   "outputs": [
    {
     "data": {
      "text/plain": [
       "Text(0.5, 0, 'Permutation Importance')"
      ]
     },
     "execution_count": 58,
     "metadata": {},
     "output_type": "execute_result"
    },
    {
     "data": {
      "image/png": "[encoded data removed]",
      "text/plain": [
       "<Figure size 432x288 with 1 Axes>"
      ]
     },
     "metadata": {
      "needs_background": "light"
     },
     "output_type": "display_data"
    }
   ],
   "source": [
    "perm_importance = permutation_importance(znsecuRFModel, X_test, y_test)\n",
    "\n",
    "feature_names = [\n",
    "                'Cu(umol/L)',\n",
    "                'Se(umol/L)',\n",
    "                'Zn(umol/L)',\n",
    "               ]\n",
    "                \n",
    "features = np.array(feature_names)\n",
    "\n",
    "sorted_idx = perm_importance.importances_mean.argsort()\n",
    "plt.barh(features[sorted_idx], perm_importance.importances_mean[sorted_idx])\n",
    "plt.xlabel(\"Permutation Importance\")"
   ]
  },
  {
   "cell_type": "code",
   "execution_count": null,
   "id": "ee37024a",
   "metadata": {},
   "outputs": [],
   "source": []
  },
  {
   "cell_type": "code",
   "execution_count": null,
   "id": "e0ca8f75",
   "metadata": {},
   "outputs": [],
   "source": []
  }
 ],
 "metadata": {
  "kernelspec": {
   "display_name": "Python 3 (ipykernel)",
   "language": "python",
   "name": "python3"
  },
  "language_info": {
   "codemirror_mode": {
    "name": "ipython",
    "version": 3
   },
   "file_extension": ".py",
   "mimetype": "text/x-python",
   "name": "python",
   "nbconvert_exporter": "python",
   "pygments_lexer": "ipython3",
   "version": "3.8.12"
  }
 },
 "nbformat": 4,
 "nbformat_minor": 5
}
