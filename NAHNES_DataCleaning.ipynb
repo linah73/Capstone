{
 "cells": [
  {
   "cell_type": "markdown",
   "metadata": {},
   "source": [
    "## Data Wrangling"
   ]
  },
  {
   "cell_type": "markdown",
   "metadata": {},
   "source": [
    "This part of the project aims to join all relevant columns from the NHANES tables that were downloaded. The data was collected in 10 different cycles: \n",
    "\n",
    "cyle No.1 = 1999-2000 <br> \n",
    "cyle No.2 = 2001-2002 <br> \n",
    "cyle No.3 = 2003-2004 <br> \n",
    "cyle No.4 = 2005-2006<br> \n",
    "cyle No.5 = 2007-2008<br> \n",
    "cyle No.6 = 2009-2010<br> \n",
    "cyle No.7 = 2011-2012<br> \n",
    "cyle No.8 = 2013-2014<br>  \n",
    "cyle No.9 = 2015-2016<br> \n",
    "cyle No.10 = 2017-2018<br> \n",
    "\n",
    "Each cycle has its own set of data tables. However, there are gaps in the data where some data was collected in some cycles but not others. In some cases similar data was lebeled differently from year to year.\n",
    "\n",
    "The survey participants were given unique identifiers \"SEQN\". The SEQN numbers continues from cycle to cycle. The majority of the data tables that were downloaded contain irrelevant columns that will not be included in the final dataset. The relevant columns were extracted from each table using similar code series. In some cases where the same data column was represented with different names in different cycle, the columns were renamed to the same uniform name.  \n",
    "\n",
    "The tables were initially concatenated by row, combining all the data from all the cycles. Then the columns were merged using an outer join to form the final data frame."
   ]
  },
  {
   "cell_type": "markdown",
   "metadata": {},
   "source": [
    "## Selecting Relevant Features"
   ]
  },
  {
   "cell_type": "markdown",
   "metadata": {},
   "source": [
    "The features used in this study were carefully selected based on previous studies and literature reviews that have suggested there may be direct or indirect impact of these features on the health and immunity of individuals."
   ]
  },
  {
   "cell_type": "markdown",
   "metadata": {},
   "source": [
    "White blood cell count cutoffs were used ] to classify the survey participant's systems as strong or weak. A white blood cell (WBC) differential gives the count and/or percentage of the five major white blood cell types. Having a normal level for each subtype is important for your immune health.\n",
    "\n",
    "Neutrophils — these first-responders at infection and inflammation sites help fight infection by ingesting microbes and releasing enzymes that kill them.\n",
    "\n",
    "Lymphocytes(T cells, B cells, and Natural Killer cells) — these are cells that produce antibodies against microbes, kill cancer or virus-infected cells, and help direct the immune response.\n",
    "\n",
    "Monocytes — cells that kill microbes, ingest foreign particles, remove dead cells, and boost the immune response.\n",
    "\n",
    "Eosinophils — cells that fight parasite infections and are involved in the allergic response.\n",
    "\n",
    "Basophils — cells involved in inflammatory responses."
   ]
  },
  {
   "cell_type": "markdown",
   "metadata": {},
   "source": [
    "Some vitamins and minerals e.g Vitamins A B C D E and folic acid and iron are believed play a crucial role in WBC formation.  Low levels of selenium, copper, and zinc are suspected to play a role in low WBC production although not yet proven scientifically. A blood test can identify whether these nutrients are low. The extent to which there nutrients contribute to a increased levels of WBC has not been scientifically determined. "
   ]
  },
  {
   "cell_type": "markdown",
   "metadata": {},
   "source": [
    "Pregnancy and Smoking can cause lower levels of WBC"
   ]
  },
  {
   "cell_type": "markdown",
   "metadata": {},
   "source": [
    "Alcoholism can also result in these chronnic malnutrition and can therefore also be a cause of low WBC.\n",
    "\n",
    "Weight and BMI can lead to increased or decreased WBC count."
   ]
  },
  {
   "cell_type": "markdown",
   "metadata": {},
   "source": [
    "Viral infections that last for several months (or indefinitely) and diseases that affect the immune system such HIV can causes low white blood cell count"
   ]
  },
  {
   "cell_type": "markdown",
   "metadata": {},
   "source": [
    "Cancers that impact the bone marrow can cause low WBC counts, as most most white blood cells are produced in the bone marrow. Most cancer treatments also cause a drop in WBC counts. WBC counts would be extremely low in these situations, not just mildly below the normal range."
   ]
  },
  {
   "cell_type": "markdown",
   "metadata": {},
   "source": [
    "Age has also been understood as a general determinant of immune system health. Generally elderly people tend to have weaker immune systems."
   ]
  },
  {
   "cell_type": "markdown",
   "metadata": {},
   "source": [
    "Race can also have an impact of an indviduals WBC count. For example people of African origin can have a strong immune system even when their base level of white blood cell count are lower than normal"
   ]
  },
  {
   "cell_type": "code",
   "execution_count": null,
   "metadata": {},
   "outputs": [],
   "source": []
  },
  {
   "cell_type": "code",
   "execution_count": 1,
   "metadata": {},
   "outputs": [],
   "source": [
    "import warnings\n",
    "warnings.filterwarnings('ignore')"
   ]
  },
  {
   "cell_type": "code",
   "execution_count": 2,
   "metadata": {},
   "outputs": [],
   "source": [
    "import pandas as pd"
   ]
  },
  {
   "cell_type": "markdown",
   "metadata": {},
   "source": [
    "### Demographic data"
   ]
  },
  {
   "cell_type": "code",
   "execution_count": 3,
   "metadata": {},
   "outputs": [],
   "source": [
    "#Make dictionary of columns of interest to be extracted from the demographic table\n",
    "DEM_Columns = {\n",
    "    \"SEQN\": \"Respondent sequence number\",\n",
    "    \"SDDSRVYR\": \"Data release cycle\",\n",
    "    \"RIAGENDR\": \"Gender\",\n",
    "    \"RIDAGEYR\": \"Age in years at screening\",\n",
    "    \"RIDAGEMN\": \"Age in months at screening - 0 to 24 mos\",\n",
    "    \"RIDRETH1\": \"Race/Hispanic origin\",\n",
    "    \"RIDEXPRG\": \"Pregnancy status at exam\"\n",
    "}"
   ]
  },
  {
   "cell_type": "code",
   "execution_count": 4,
   "metadata": {
    "scrolled": true
   },
   "outputs": [
    {
     "data": {
      "text/html": [
       "<div>\n",
       "<style scoped>\n",
       "    .dataframe tbody tr th:only-of-type {\n",
       "        vertical-align: middle;\n",
       "    }\n",
       "\n",
       "    .dataframe tbody tr th {\n",
       "        vertical-align: top;\n",
       "    }\n",
       "\n",
       "    .dataframe thead th {\n",
       "        text-align: right;\n",
       "    }\n",
       "</style>\n",
       "<table border=\"1\" class=\"dataframe\">\n",
       "  <thead>\n",
       "    <tr style=\"text-align: right;\">\n",
       "      <th></th>\n",
       "      <th>SEQN</th>\n",
       "      <th>SDDSRVYR</th>\n",
       "      <th>RIAGENDR</th>\n",
       "      <th>RIDAGEYR</th>\n",
       "      <th>RIDAGEMN</th>\n",
       "      <th>RIDRETH1</th>\n",
       "      <th>RIDEXPRG</th>\n",
       "    </tr>\n",
       "  </thead>\n",
       "  <tbody>\n",
       "    <tr>\n",
       "      <th>0</th>\n",
       "      <td>1.0</td>\n",
       "      <td>1.0</td>\n",
       "      <td>2.0</td>\n",
       "      <td>2.0</td>\n",
       "      <td>29.0</td>\n",
       "      <td>4.0</td>\n",
       "      <td>NaN</td>\n",
       "    </tr>\n",
       "    <tr>\n",
       "      <th>1</th>\n",
       "      <td>2.0</td>\n",
       "      <td>1.0</td>\n",
       "      <td>1.0</td>\n",
       "      <td>77.0</td>\n",
       "      <td>926.0</td>\n",
       "      <td>3.0</td>\n",
       "      <td>NaN</td>\n",
       "    </tr>\n",
       "  </tbody>\n",
       "</table>\n",
       "</div>"
      ],
      "text/plain": [
       "   SEQN  SDDSRVYR  RIAGENDR  RIDAGEYR  RIDAGEMN  RIDRETH1  RIDEXPRG\n",
       "0   1.0       1.0       2.0       2.0      29.0       4.0       NaN\n",
       "1   2.0       1.0       1.0      77.0     926.0       3.0       NaN"
      ]
     },
     "execution_count": 4,
     "metadata": {},
     "output_type": "execute_result"
    }
   ],
   "source": [
    "#load demographic data of cycle No. 1\n",
    "#Extract relevant columns\n",
    "df_1999demo = pd.read_sas('/Users/ruserel/DEMO.XPT', format='xport', encoding='utf-8')\n",
    "df_1999demo = df_1999demo[list(DEM_Columns.keys())]\n",
    "df_1999demo.head(2)"
   ]
  },
  {
   "cell_type": "code",
   "execution_count": 5,
   "metadata": {},
   "outputs": [
    {
     "name": "stdout",
     "output_type": "stream",
     "text": [
      "<class 'pandas.core.frame.DataFrame'>\n",
      "RangeIndex: 9965 entries, 0 to 9964\n",
      "Data columns (total 7 columns):\n",
      " #   Column    Non-Null Count  Dtype  \n",
      "---  ------    --------------  -----  \n",
      " 0   SEQN      9965 non-null   float64\n",
      " 1   SDDSRVYR  9965 non-null   float64\n",
      " 2   RIAGENDR  9965 non-null   float64\n",
      " 3   RIDAGEYR  9965 non-null   float64\n",
      " 4   RIDAGEMN  9792 non-null   float64\n",
      " 5   RIDRETH1  9965 non-null   float64\n",
      " 6   RIDEXPRG  1962 non-null   float64\n",
      "dtypes: float64(7)\n",
      "memory usage: 545.1 KB\n"
     ]
    }
   ],
   "source": [
    "df_1999demo.info()"
   ]
  },
  {
   "cell_type": "code",
   "execution_count": 6,
   "metadata": {},
   "outputs": [
    {
     "data": {
      "text/plain": [
       "(9965, 7)"
      ]
     },
     "execution_count": 6,
     "metadata": {},
     "output_type": "execute_result"
    }
   ],
   "source": [
    "df_1999demo.shape"
   ]
  },
  {
   "cell_type": "code",
   "execution_count": 7,
   "metadata": {},
   "outputs": [
    {
     "data": {
      "text/plain": [
       "2.0    1443\n",
       "1.0     311\n",
       "3.0     208\n",
       "Name: RIDEXPRG, dtype: int64"
      ]
     },
     "execution_count": 7,
     "metadata": {},
     "output_type": "execute_result"
    }
   ],
   "source": [
    "# There a many missing values in the pregnancy column. Check to see the value_counts\n",
    "df_1999demo['RIDEXPRG'].value_counts()"
   ]
  },
  {
   "cell_type": "code",
   "execution_count": 8,
   "metadata": {},
   "outputs": [
    {
     "data": {
      "text/html": [
       "<div>\n",
       "<style scoped>\n",
       "    .dataframe tbody tr th:only-of-type {\n",
       "        vertical-align: middle;\n",
       "    }\n",
       "\n",
       "    .dataframe tbody tr th {\n",
       "        vertical-align: top;\n",
       "    }\n",
       "\n",
       "    .dataframe thead th {\n",
       "        text-align: right;\n",
       "    }\n",
       "</style>\n",
       "<table border=\"1\" class=\"dataframe\">\n",
       "  <thead>\n",
       "    <tr style=\"text-align: right;\">\n",
       "      <th></th>\n",
       "      <th>SEQN</th>\n",
       "      <th>SDDSRVYR</th>\n",
       "      <th>RIAGENDR</th>\n",
       "      <th>RIDAGEYR</th>\n",
       "      <th>RIDAGEMN</th>\n",
       "      <th>RIDRETH1</th>\n",
       "      <th>RIDEXPRG</th>\n",
       "    </tr>\n",
       "  </thead>\n",
       "  <tbody>\n",
       "    <tr>\n",
       "      <th>5</th>\n",
       "      <td>6.0</td>\n",
       "      <td>1.0</td>\n",
       "      <td>2.0</td>\n",
       "      <td>19.0</td>\n",
       "      <td>230.0</td>\n",
       "      <td>5.0</td>\n",
       "      <td>2.0</td>\n",
       "    </tr>\n",
       "    <tr>\n",
       "      <th>6</th>\n",
       "      <td>7.0</td>\n",
       "      <td>1.0</td>\n",
       "      <td>2.0</td>\n",
       "      <td>59.0</td>\n",
       "      <td>712.0</td>\n",
       "      <td>4.0</td>\n",
       "      <td>2.0</td>\n",
       "    </tr>\n",
       "    <tr>\n",
       "      <th>14</th>\n",
       "      <td>15.0</td>\n",
       "      <td>1.0</td>\n",
       "      <td>2.0</td>\n",
       "      <td>38.0</td>\n",
       "      <td>459.0</td>\n",
       "      <td>3.0</td>\n",
       "      <td>2.0</td>\n",
       "    </tr>\n",
       "    <tr>\n",
       "      <th>15</th>\n",
       "      <td>16.0</td>\n",
       "      <td>1.0</td>\n",
       "      <td>2.0</td>\n",
       "      <td>85.0</td>\n",
       "      <td>NaN</td>\n",
       "      <td>4.0</td>\n",
       "      <td>NaN</td>\n",
       "    </tr>\n",
       "    <tr>\n",
       "      <th>19</th>\n",
       "      <td>20.0</td>\n",
       "      <td>1.0</td>\n",
       "      <td>2.0</td>\n",
       "      <td>23.0</td>\n",
       "      <td>285.0</td>\n",
       "      <td>1.0</td>\n",
       "      <td>1.0</td>\n",
       "    </tr>\n",
       "    <tr>\n",
       "      <th>...</th>\n",
       "      <td>...</td>\n",
       "      <td>...</td>\n",
       "      <td>...</td>\n",
       "      <td>...</td>\n",
       "      <td>...</td>\n",
       "      <td>...</td>\n",
       "      <td>...</td>\n",
       "    </tr>\n",
       "    <tr>\n",
       "      <th>9953</th>\n",
       "      <td>9954.0</td>\n",
       "      <td>1.0</td>\n",
       "      <td>2.0</td>\n",
       "      <td>36.0</td>\n",
       "      <td>441.0</td>\n",
       "      <td>4.0</td>\n",
       "      <td>2.0</td>\n",
       "    </tr>\n",
       "    <tr>\n",
       "      <th>9955</th>\n",
       "      <td>9956.0</td>\n",
       "      <td>1.0</td>\n",
       "      <td>2.0</td>\n",
       "      <td>46.0</td>\n",
       "      <td>558.0</td>\n",
       "      <td>4.0</td>\n",
       "      <td>2.0</td>\n",
       "    </tr>\n",
       "    <tr>\n",
       "      <th>9957</th>\n",
       "      <td>9958.0</td>\n",
       "      <td>1.0</td>\n",
       "      <td>2.0</td>\n",
       "      <td>43.0</td>\n",
       "      <td>527.0</td>\n",
       "      <td>1.0</td>\n",
       "      <td>2.0</td>\n",
       "    </tr>\n",
       "    <tr>\n",
       "      <th>9962</th>\n",
       "      <td>9963.0</td>\n",
       "      <td>1.0</td>\n",
       "      <td>2.0</td>\n",
       "      <td>18.0</td>\n",
       "      <td>224.0</td>\n",
       "      <td>3.0</td>\n",
       "      <td>1.0</td>\n",
       "    </tr>\n",
       "    <tr>\n",
       "      <th>9964</th>\n",
       "      <td>9965.0</td>\n",
       "      <td>1.0</td>\n",
       "      <td>2.0</td>\n",
       "      <td>84.0</td>\n",
       "      <td>1014.0</td>\n",
       "      <td>3.0</td>\n",
       "      <td>NaN</td>\n",
       "    </tr>\n",
       "  </tbody>\n",
       "</table>\n",
       "<p>3182 rows × 7 columns</p>\n",
       "</div>"
      ],
      "text/plain": [
       "        SEQN  SDDSRVYR  RIAGENDR  RIDAGEYR  RIDAGEMN  RIDRETH1  RIDEXPRG\n",
       "5        6.0       1.0       2.0      19.0     230.0       5.0       2.0\n",
       "6        7.0       1.0       2.0      59.0     712.0       4.0       2.0\n",
       "14      15.0       1.0       2.0      38.0     459.0       3.0       2.0\n",
       "15      16.0       1.0       2.0      85.0       NaN       4.0       NaN\n",
       "19      20.0       1.0       2.0      23.0     285.0       1.0       1.0\n",
       "...      ...       ...       ...       ...       ...       ...       ...\n",
       "9953  9954.0       1.0       2.0      36.0     441.0       4.0       2.0\n",
       "9955  9956.0       1.0       2.0      46.0     558.0       4.0       2.0\n",
       "9957  9958.0       1.0       2.0      43.0     527.0       1.0       2.0\n",
       "9962  9963.0       1.0       2.0      18.0     224.0       3.0       1.0\n",
       "9964  9965.0       1.0       2.0      84.0    1014.0       3.0       NaN\n",
       "\n",
       "[3182 rows x 7 columns]"
      ]
     },
     "execution_count": 8,
     "metadata": {},
     "output_type": "execute_result"
    }
   ],
   "source": [
    "#Check to see if NaN only correspond with individuals who are biologically incapable of getting pregnant\n",
    "df_1999demo[df_1999demo['RIAGENDR'] == 2][df_1999demo['RIDAGEYR'] >= 16]"
   ]
  },
  {
   "cell_type": "code",
   "execution_count": 9,
   "metadata": {
    "scrolled": true
   },
   "outputs": [
    {
     "data": {
      "text/html": [
       "<div>\n",
       "<style scoped>\n",
       "    .dataframe tbody tr th:only-of-type {\n",
       "        vertical-align: middle;\n",
       "    }\n",
       "\n",
       "    .dataframe tbody tr th {\n",
       "        vertical-align: top;\n",
       "    }\n",
       "\n",
       "    .dataframe thead th {\n",
       "        text-align: right;\n",
       "    }\n",
       "</style>\n",
       "<table border=\"1\" class=\"dataframe\">\n",
       "  <thead>\n",
       "    <tr style=\"text-align: right;\">\n",
       "      <th></th>\n",
       "      <th>SEQN</th>\n",
       "      <th>SDDSRVYR</th>\n",
       "      <th>RIAGENDR</th>\n",
       "      <th>RIDAGEYR</th>\n",
       "      <th>RIDAGEMN</th>\n",
       "      <th>RIDRETH1</th>\n",
       "      <th>RIDEXPRG</th>\n",
       "    </tr>\n",
       "  </thead>\n",
       "  <tbody>\n",
       "    <tr>\n",
       "      <th>0</th>\n",
       "      <td>1.0</td>\n",
       "      <td>1.0</td>\n",
       "      <td>2.0</td>\n",
       "      <td>2.0</td>\n",
       "      <td>29.0</td>\n",
       "      <td>4.0</td>\n",
       "      <td>N\\A</td>\n",
       "    </tr>\n",
       "    <tr>\n",
       "      <th>1</th>\n",
       "      <td>2.0</td>\n",
       "      <td>1.0</td>\n",
       "      <td>1.0</td>\n",
       "      <td>77.0</td>\n",
       "      <td>926.0</td>\n",
       "      <td>3.0</td>\n",
       "      <td>N\\A</td>\n",
       "    </tr>\n",
       "    <tr>\n",
       "      <th>2</th>\n",
       "      <td>3.0</td>\n",
       "      <td>1.0</td>\n",
       "      <td>2.0</td>\n",
       "      <td>10.0</td>\n",
       "      <td>125.0</td>\n",
       "      <td>3.0</td>\n",
       "      <td>N\\A</td>\n",
       "    </tr>\n",
       "    <tr>\n",
       "      <th>3</th>\n",
       "      <td>4.0</td>\n",
       "      <td>1.0</td>\n",
       "      <td>1.0</td>\n",
       "      <td>1.0</td>\n",
       "      <td>22.0</td>\n",
       "      <td>4.0</td>\n",
       "      <td>N\\A</td>\n",
       "    </tr>\n",
       "    <tr>\n",
       "      <th>4</th>\n",
       "      <td>5.0</td>\n",
       "      <td>1.0</td>\n",
       "      <td>1.0</td>\n",
       "      <td>49.0</td>\n",
       "      <td>597.0</td>\n",
       "      <td>3.0</td>\n",
       "      <td>N\\A</td>\n",
       "    </tr>\n",
       "  </tbody>\n",
       "</table>\n",
       "</div>"
      ],
      "text/plain": [
       "   SEQN  SDDSRVYR  RIAGENDR  RIDAGEYR  RIDAGEMN  RIDRETH1 RIDEXPRG\n",
       "0   1.0       1.0       2.0       2.0      29.0       4.0      N\\A\n",
       "1   2.0       1.0       1.0      77.0     926.0       3.0      N\\A\n",
       "2   3.0       1.0       2.0      10.0     125.0       3.0      N\\A\n",
       "3   4.0       1.0       1.0       1.0      22.0       4.0      N\\A\n",
       "4   5.0       1.0       1.0      49.0     597.0       3.0      N\\A"
      ]
     },
     "execution_count": 9,
     "metadata": {},
     "output_type": "execute_result"
    }
   ],
   "source": [
    "#It seems like NaN values correspond to individuals who cannot get pregnant\n",
    "#Replace NaN with \"Not applicable\" for individuals who cannot get pregnant\n",
    "df_1999demo[\"RIDEXPRG\"].fillna(\"N\\A\", inplace = True)\n",
    "\n",
    "df_1999demo.head()"
   ]
  },
  {
   "cell_type": "code",
   "execution_count": 10,
   "metadata": {},
   "outputs": [
    {
     "name": "stdout",
     "output_type": "stream",
     "text": [
      "<class 'pandas.core.frame.DataFrame'>\n",
      "RangeIndex: 9965 entries, 0 to 9964\n",
      "Data columns (total 7 columns):\n",
      " #   Column    Non-Null Count  Dtype  \n",
      "---  ------    --------------  -----  \n",
      " 0   SEQN      9965 non-null   float64\n",
      " 1   SDDSRVYR  9965 non-null   float64\n",
      " 2   RIAGENDR  9965 non-null   float64\n",
      " 3   RIDAGEYR  9965 non-null   float64\n",
      " 4   RIDAGEMN  9792 non-null   float64\n",
      " 5   RIDRETH1  9965 non-null   float64\n",
      " 6   RIDEXPRG  9965 non-null   object \n",
      "dtypes: float64(6), object(1)\n",
      "memory usage: 545.1+ KB\n"
     ]
    }
   ],
   "source": [
    "df_1999demo.info()"
   ]
  },
  {
   "cell_type": "markdown",
   "metadata": {},
   "source": [
    "Column for age in months 'RIDAGEMN' has missing values. We need to examine what the missing values are compared to the corresponding age in years 'RIDAGEYR'"
   ]
  },
  {
   "cell_type": "code",
   "execution_count": 11,
   "metadata": {},
   "outputs": [
    {
     "data": {
      "text/html": [
       "<div>\n",
       "<style scoped>\n",
       "    .dataframe tbody tr th:only-of-type {\n",
       "        vertical-align: middle;\n",
       "    }\n",
       "\n",
       "    .dataframe tbody tr th {\n",
       "        vertical-align: top;\n",
       "    }\n",
       "\n",
       "    .dataframe thead th {\n",
       "        text-align: right;\n",
       "    }\n",
       "</style>\n",
       "<table border=\"1\" class=\"dataframe\">\n",
       "  <thead>\n",
       "    <tr style=\"text-align: right;\">\n",
       "      <th></th>\n",
       "      <th>SEQN</th>\n",
       "      <th>SDDSRVYR</th>\n",
       "      <th>RIAGENDR</th>\n",
       "      <th>RIDAGEYR</th>\n",
       "      <th>RIDAGEMN</th>\n",
       "      <th>RIDRETH1</th>\n",
       "      <th>RIDEXPRG</th>\n",
       "    </tr>\n",
       "  </thead>\n",
       "  <tbody>\n",
       "    <tr>\n",
       "      <th>18</th>\n",
       "      <td>19.0</td>\n",
       "      <td>1.0</td>\n",
       "      <td>1.0</td>\n",
       "      <td>5.397605e-79</td>\n",
       "      <td>1.100000e+01</td>\n",
       "      <td>1.0</td>\n",
       "      <td>N\\A</td>\n",
       "    </tr>\n",
       "    <tr>\n",
       "      <th>47</th>\n",
       "      <td>48.0</td>\n",
       "      <td>1.0</td>\n",
       "      <td>2.0</td>\n",
       "      <td>5.397605e-79</td>\n",
       "      <td>5.397605e-79</td>\n",
       "      <td>3.0</td>\n",
       "      <td>N\\A</td>\n",
       "    </tr>\n",
       "    <tr>\n",
       "      <th>50</th>\n",
       "      <td>51.0</td>\n",
       "      <td>1.0</td>\n",
       "      <td>2.0</td>\n",
       "      <td>5.397605e-79</td>\n",
       "      <td>3.000000e+00</td>\n",
       "      <td>3.0</td>\n",
       "      <td>N\\A</td>\n",
       "    </tr>\n",
       "    <tr>\n",
       "      <th>62</th>\n",
       "      <td>63.0</td>\n",
       "      <td>1.0</td>\n",
       "      <td>2.0</td>\n",
       "      <td>5.397605e-79</td>\n",
       "      <td>7.000000e+00</td>\n",
       "      <td>1.0</td>\n",
       "      <td>N\\A</td>\n",
       "    </tr>\n",
       "    <tr>\n",
       "      <th>98</th>\n",
       "      <td>99.0</td>\n",
       "      <td>1.0</td>\n",
       "      <td>2.0</td>\n",
       "      <td>5.397605e-79</td>\n",
       "      <td>4.000000e+00</td>\n",
       "      <td>1.0</td>\n",
       "      <td>N\\A</td>\n",
       "    </tr>\n",
       "    <tr>\n",
       "      <th>...</th>\n",
       "      <td>...</td>\n",
       "      <td>...</td>\n",
       "      <td>...</td>\n",
       "      <td>...</td>\n",
       "      <td>...</td>\n",
       "      <td>...</td>\n",
       "      <td>...</td>\n",
       "    </tr>\n",
       "    <tr>\n",
       "      <th>9765</th>\n",
       "      <td>9766.0</td>\n",
       "      <td>1.0</td>\n",
       "      <td>2.0</td>\n",
       "      <td>5.397605e-79</td>\n",
       "      <td>4.000000e+00</td>\n",
       "      <td>1.0</td>\n",
       "      <td>N\\A</td>\n",
       "    </tr>\n",
       "    <tr>\n",
       "      <th>9811</th>\n",
       "      <td>9812.0</td>\n",
       "      <td>1.0</td>\n",
       "      <td>2.0</td>\n",
       "      <td>5.397605e-79</td>\n",
       "      <td>4.000000e+00</td>\n",
       "      <td>3.0</td>\n",
       "      <td>N\\A</td>\n",
       "    </tr>\n",
       "    <tr>\n",
       "      <th>9883</th>\n",
       "      <td>9884.0</td>\n",
       "      <td>1.0</td>\n",
       "      <td>1.0</td>\n",
       "      <td>5.397605e-79</td>\n",
       "      <td>9.000000e+00</td>\n",
       "      <td>1.0</td>\n",
       "      <td>N\\A</td>\n",
       "    </tr>\n",
       "    <tr>\n",
       "      <th>9890</th>\n",
       "      <td>9891.0</td>\n",
       "      <td>1.0</td>\n",
       "      <td>2.0</td>\n",
       "      <td>5.397605e-79</td>\n",
       "      <td>1.100000e+01</td>\n",
       "      <td>2.0</td>\n",
       "      <td>N\\A</td>\n",
       "    </tr>\n",
       "    <tr>\n",
       "      <th>9958</th>\n",
       "      <td>9959.0</td>\n",
       "      <td>1.0</td>\n",
       "      <td>2.0</td>\n",
       "      <td>5.397605e-79</td>\n",
       "      <td>3.000000e+00</td>\n",
       "      <td>1.0</td>\n",
       "      <td>N\\A</td>\n",
       "    </tr>\n",
       "  </tbody>\n",
       "</table>\n",
       "<p>472 rows × 7 columns</p>\n",
       "</div>"
      ],
      "text/plain": [
       "        SEQN  SDDSRVYR  RIAGENDR      RIDAGEYR      RIDAGEMN  RIDRETH1  \\\n",
       "18      19.0       1.0       1.0  5.397605e-79  1.100000e+01       1.0   \n",
       "47      48.0       1.0       2.0  5.397605e-79  5.397605e-79       3.0   \n",
       "50      51.0       1.0       2.0  5.397605e-79  3.000000e+00       3.0   \n",
       "62      63.0       1.0       2.0  5.397605e-79  7.000000e+00       1.0   \n",
       "98      99.0       1.0       2.0  5.397605e-79  4.000000e+00       1.0   \n",
       "...      ...       ...       ...           ...           ...       ...   \n",
       "9765  9766.0       1.0       2.0  5.397605e-79  4.000000e+00       1.0   \n",
       "9811  9812.0       1.0       2.0  5.397605e-79  4.000000e+00       3.0   \n",
       "9883  9884.0       1.0       1.0  5.397605e-79  9.000000e+00       1.0   \n",
       "9890  9891.0       1.0       2.0  5.397605e-79  1.100000e+01       2.0   \n",
       "9958  9959.0       1.0       2.0  5.397605e-79  3.000000e+00       1.0   \n",
       "\n",
       "     RIDEXPRG  \n",
       "18        N\\A  \n",
       "47        N\\A  \n",
       "50        N\\A  \n",
       "62        N\\A  \n",
       "98        N\\A  \n",
       "...       ...  \n",
       "9765      N\\A  \n",
       "9811      N\\A  \n",
       "9883      N\\A  \n",
       "9890      N\\A  \n",
       "9958      N\\A  \n",
       "\n",
       "[472 rows x 7 columns]"
      ]
     },
     "execution_count": 11,
     "metadata": {},
     "output_type": "execute_result"
    }
   ],
   "source": [
    "# Column for age in years has unreasonable value of 5.397605e-79 which is essentially 0. It seems the individuals with \n",
    "#0 years have corresponding months less than 12months in the age in months column\n",
    "df_1999demo[df_1999demo['RIDAGEYR'] == df_1999demo['RIDAGEYR'].min()]"
   ]
  },
  {
   "cell_type": "code",
   "execution_count": 12,
   "metadata": {},
   "outputs": [],
   "source": [
    "#Round the age in years and age in months to the nearest integer\n",
    "df_1999demo['RIDAGEMN'] = df_1999demo['RIDAGEMN'].round()\n",
    "df_1999demo[\"RIDAGEYR\"] = df_1999demo[\"RIDAGEYR\"].round()"
   ]
  },
  {
   "cell_type": "code",
   "execution_count": 13,
   "metadata": {},
   "outputs": [
    {
     "data": {
      "text/html": [
       "<div>\n",
       "<style scoped>\n",
       "    .dataframe tbody tr th:only-of-type {\n",
       "        vertical-align: middle;\n",
       "    }\n",
       "\n",
       "    .dataframe tbody tr th {\n",
       "        vertical-align: top;\n",
       "    }\n",
       "\n",
       "    .dataframe thead th {\n",
       "        text-align: right;\n",
       "    }\n",
       "</style>\n",
       "<table border=\"1\" class=\"dataframe\">\n",
       "  <thead>\n",
       "    <tr style=\"text-align: right;\">\n",
       "      <th></th>\n",
       "      <th>SEQN</th>\n",
       "      <th>SDDSRVYR</th>\n",
       "      <th>RIAGENDR</th>\n",
       "      <th>RIDAGEYR</th>\n",
       "      <th>RIDAGEMN</th>\n",
       "      <th>RIDRETH1</th>\n",
       "      <th>RIDEXPRG</th>\n",
       "    </tr>\n",
       "  </thead>\n",
       "  <tbody>\n",
       "    <tr>\n",
       "      <th>0</th>\n",
       "      <td>1.0</td>\n",
       "      <td>1.0</td>\n",
       "      <td>2.0</td>\n",
       "      <td>2.0</td>\n",
       "      <td>29.0</td>\n",
       "      <td>4.0</td>\n",
       "      <td>N\\A</td>\n",
       "    </tr>\n",
       "    <tr>\n",
       "      <th>1</th>\n",
       "      <td>2.0</td>\n",
       "      <td>1.0</td>\n",
       "      <td>1.0</td>\n",
       "      <td>77.0</td>\n",
       "      <td>926.0</td>\n",
       "      <td>3.0</td>\n",
       "      <td>N\\A</td>\n",
       "    </tr>\n",
       "    <tr>\n",
       "      <th>2</th>\n",
       "      <td>3.0</td>\n",
       "      <td>1.0</td>\n",
       "      <td>2.0</td>\n",
       "      <td>10.0</td>\n",
       "      <td>125.0</td>\n",
       "      <td>3.0</td>\n",
       "      <td>N\\A</td>\n",
       "    </tr>\n",
       "    <tr>\n",
       "      <th>3</th>\n",
       "      <td>4.0</td>\n",
       "      <td>1.0</td>\n",
       "      <td>1.0</td>\n",
       "      <td>1.0</td>\n",
       "      <td>22.0</td>\n",
       "      <td>4.0</td>\n",
       "      <td>N\\A</td>\n",
       "    </tr>\n",
       "    <tr>\n",
       "      <th>4</th>\n",
       "      <td>5.0</td>\n",
       "      <td>1.0</td>\n",
       "      <td>1.0</td>\n",
       "      <td>49.0</td>\n",
       "      <td>597.0</td>\n",
       "      <td>3.0</td>\n",
       "      <td>N\\A</td>\n",
       "    </tr>\n",
       "  </tbody>\n",
       "</table>\n",
       "</div>"
      ],
      "text/plain": [
       "   SEQN  SDDSRVYR  RIAGENDR  RIDAGEYR  RIDAGEMN  RIDRETH1 RIDEXPRG\n",
       "0   1.0       1.0       2.0       2.0      29.0       4.0      N\\A\n",
       "1   2.0       1.0       1.0      77.0     926.0       3.0      N\\A\n",
       "2   3.0       1.0       2.0      10.0     125.0       3.0      N\\A\n",
       "3   4.0       1.0       1.0       1.0      22.0       4.0      N\\A\n",
       "4   5.0       1.0       1.0      49.0     597.0       3.0      N\\A"
      ]
     },
     "execution_count": 13,
     "metadata": {},
     "output_type": "execute_result"
    }
   ],
   "source": [
    "df_1999demo.head()"
   ]
  },
  {
   "cell_type": "code",
   "execution_count": 14,
   "metadata": {},
   "outputs": [
    {
     "data": {
      "text/html": [
       "<div>\n",
       "<style scoped>\n",
       "    .dataframe tbody tr th:only-of-type {\n",
       "        vertical-align: middle;\n",
       "    }\n",
       "\n",
       "    .dataframe tbody tr th {\n",
       "        vertical-align: top;\n",
       "    }\n",
       "\n",
       "    .dataframe thead th {\n",
       "        text-align: right;\n",
       "    }\n",
       "</style>\n",
       "<table border=\"1\" class=\"dataframe\">\n",
       "  <thead>\n",
       "    <tr style=\"text-align: right;\">\n",
       "      <th></th>\n",
       "      <th>SEQN</th>\n",
       "      <th>SDDSRVYR</th>\n",
       "      <th>RIAGENDR</th>\n",
       "      <th>RIDAGEYR</th>\n",
       "      <th>RIDAGEMN</th>\n",
       "      <th>RIDRETH1</th>\n",
       "      <th>RIDEXPRG</th>\n",
       "    </tr>\n",
       "  </thead>\n",
       "  <tbody>\n",
       "    <tr>\n",
       "      <th>18</th>\n",
       "      <td>19.0</td>\n",
       "      <td>1.0</td>\n",
       "      <td>1.0</td>\n",
       "      <td>0.0</td>\n",
       "      <td>11.0</td>\n",
       "      <td>1.0</td>\n",
       "      <td>N\\A</td>\n",
       "    </tr>\n",
       "    <tr>\n",
       "      <th>47</th>\n",
       "      <td>48.0</td>\n",
       "      <td>1.0</td>\n",
       "      <td>2.0</td>\n",
       "      <td>0.0</td>\n",
       "      <td>0.0</td>\n",
       "      <td>3.0</td>\n",
       "      <td>N\\A</td>\n",
       "    </tr>\n",
       "    <tr>\n",
       "      <th>50</th>\n",
       "      <td>51.0</td>\n",
       "      <td>1.0</td>\n",
       "      <td>2.0</td>\n",
       "      <td>0.0</td>\n",
       "      <td>3.0</td>\n",
       "      <td>3.0</td>\n",
       "      <td>N\\A</td>\n",
       "    </tr>\n",
       "    <tr>\n",
       "      <th>62</th>\n",
       "      <td>63.0</td>\n",
       "      <td>1.0</td>\n",
       "      <td>2.0</td>\n",
       "      <td>0.0</td>\n",
       "      <td>7.0</td>\n",
       "      <td>1.0</td>\n",
       "      <td>N\\A</td>\n",
       "    </tr>\n",
       "    <tr>\n",
       "      <th>98</th>\n",
       "      <td>99.0</td>\n",
       "      <td>1.0</td>\n",
       "      <td>2.0</td>\n",
       "      <td>0.0</td>\n",
       "      <td>4.0</td>\n",
       "      <td>1.0</td>\n",
       "      <td>N\\A</td>\n",
       "    </tr>\n",
       "    <tr>\n",
       "      <th>...</th>\n",
       "      <td>...</td>\n",
       "      <td>...</td>\n",
       "      <td>...</td>\n",
       "      <td>...</td>\n",
       "      <td>...</td>\n",
       "      <td>...</td>\n",
       "      <td>...</td>\n",
       "    </tr>\n",
       "    <tr>\n",
       "      <th>9765</th>\n",
       "      <td>9766.0</td>\n",
       "      <td>1.0</td>\n",
       "      <td>2.0</td>\n",
       "      <td>0.0</td>\n",
       "      <td>4.0</td>\n",
       "      <td>1.0</td>\n",
       "      <td>N\\A</td>\n",
       "    </tr>\n",
       "    <tr>\n",
       "      <th>9811</th>\n",
       "      <td>9812.0</td>\n",
       "      <td>1.0</td>\n",
       "      <td>2.0</td>\n",
       "      <td>0.0</td>\n",
       "      <td>4.0</td>\n",
       "      <td>3.0</td>\n",
       "      <td>N\\A</td>\n",
       "    </tr>\n",
       "    <tr>\n",
       "      <th>9883</th>\n",
       "      <td>9884.0</td>\n",
       "      <td>1.0</td>\n",
       "      <td>1.0</td>\n",
       "      <td>0.0</td>\n",
       "      <td>9.0</td>\n",
       "      <td>1.0</td>\n",
       "      <td>N\\A</td>\n",
       "    </tr>\n",
       "    <tr>\n",
       "      <th>9890</th>\n",
       "      <td>9891.0</td>\n",
       "      <td>1.0</td>\n",
       "      <td>2.0</td>\n",
       "      <td>0.0</td>\n",
       "      <td>11.0</td>\n",
       "      <td>2.0</td>\n",
       "      <td>N\\A</td>\n",
       "    </tr>\n",
       "    <tr>\n",
       "      <th>9958</th>\n",
       "      <td>9959.0</td>\n",
       "      <td>1.0</td>\n",
       "      <td>2.0</td>\n",
       "      <td>0.0</td>\n",
       "      <td>3.0</td>\n",
       "      <td>1.0</td>\n",
       "      <td>N\\A</td>\n",
       "    </tr>\n",
       "  </tbody>\n",
       "</table>\n",
       "<p>472 rows × 7 columns</p>\n",
       "</div>"
      ],
      "text/plain": [
       "        SEQN  SDDSRVYR  RIAGENDR  RIDAGEYR  RIDAGEMN  RIDRETH1 RIDEXPRG\n",
       "18      19.0       1.0       1.0       0.0      11.0       1.0      N\\A\n",
       "47      48.0       1.0       2.0       0.0       0.0       3.0      N\\A\n",
       "50      51.0       1.0       2.0       0.0       3.0       3.0      N\\A\n",
       "62      63.0       1.0       2.0       0.0       7.0       1.0      N\\A\n",
       "98      99.0       1.0       2.0       0.0       4.0       1.0      N\\A\n",
       "...      ...       ...       ...       ...       ...       ...      ...\n",
       "9765  9766.0       1.0       2.0       0.0       4.0       1.0      N\\A\n",
       "9811  9812.0       1.0       2.0       0.0       4.0       3.0      N\\A\n",
       "9883  9884.0       1.0       1.0       0.0       9.0       1.0      N\\A\n",
       "9890  9891.0       1.0       2.0       0.0      11.0       2.0      N\\A\n",
       "9958  9959.0       1.0       2.0       0.0       3.0       1.0      N\\A\n",
       "\n",
       "[472 rows x 7 columns]"
      ]
     },
     "execution_count": 14,
     "metadata": {},
     "output_type": "execute_result"
    }
   ],
   "source": [
    "#Check df to see if it worked for individuals less than 12 months\n",
    "df_1999demo[df_1999demo['RIDAGEYR'] == df_1999demo['RIDAGEYR'].min()]"
   ]
  },
  {
   "cell_type": "code",
   "execution_count": 15,
   "metadata": {},
   "outputs": [],
   "source": [
    "#Fill in null values in age in month col by multiplying age in years by 12\n",
    "df_1999demo[\"RIDAGEMN\"].fillna(df_1999demo[\"RIDAGEYR\"]*12, inplace = True)"
   ]
  },
  {
   "cell_type": "code",
   "execution_count": 16,
   "metadata": {},
   "outputs": [
    {
     "name": "stdout",
     "output_type": "stream",
     "text": [
      "<class 'pandas.core.frame.DataFrame'>\n",
      "RangeIndex: 9965 entries, 0 to 9964\n",
      "Data columns (total 7 columns):\n",
      " #   Column    Non-Null Count  Dtype  \n",
      "---  ------    --------------  -----  \n",
      " 0   SEQN      9965 non-null   float64\n",
      " 1   SDDSRVYR  9965 non-null   float64\n",
      " 2   RIAGENDR  9965 non-null   float64\n",
      " 3   RIDAGEYR  9965 non-null   float64\n",
      " 4   RIDAGEMN  9965 non-null   float64\n",
      " 5   RIDRETH1  9965 non-null   float64\n",
      " 6   RIDEXPRG  9965 non-null   object \n",
      "dtypes: float64(6), object(1)\n",
      "memory usage: 545.1+ KB\n"
     ]
    }
   ],
   "source": [
    "df_1999demo.info()"
   ]
  },
  {
   "cell_type": "code",
   "execution_count": 17,
   "metadata": {},
   "outputs": [],
   "source": [
    "#define a function to clean the demography data frames\n",
    "\n",
    "def demography_dataframe_cleaning(df, DEM_Columns = DEM_Columns):\n",
    "    #Select desired columns\n",
    "    df = df[list(DEM_Columns.keys())]\n",
    "    #Replace NaN with \"Not applicable\" for individuals who cannot get pregnant\n",
    "    df[\"RIDEXPRG\"].fillna(\"N\\A\", inplace = True)\n",
    "    #Round the age in years and age in months to the nearest integer\n",
    "    df['RIDAGEMN'] = df['RIDAGEMN'].round()\n",
    "    df[\"RIDAGEYR\"] = df[\"RIDAGEYR\"].round()\n",
    "    #Fill in null values in age in month col by multiplying age in years by 12\n",
    "    df[\"RIDAGEMN\"].fillna(df[\"RIDAGEYR\"]*12, inplace = True)\n",
    "    \n",
    "    return df"
   ]
  },
  {
   "cell_type": "code",
   "execution_count": 18,
   "metadata": {},
   "outputs": [],
   "source": [
    "df_2001demo = pd.read_sas('/Users/ruserel/DEMO_B.XPT', format='xport', encoding='utf-8')\n"
   ]
  },
  {
   "cell_type": "code",
   "execution_count": 19,
   "metadata": {},
   "outputs": [
    {
     "data": {
      "text/html": [
       "<div>\n",
       "<style scoped>\n",
       "    .dataframe tbody tr th:only-of-type {\n",
       "        vertical-align: middle;\n",
       "    }\n",
       "\n",
       "    .dataframe tbody tr th {\n",
       "        vertical-align: top;\n",
       "    }\n",
       "\n",
       "    .dataframe thead th {\n",
       "        text-align: right;\n",
       "    }\n",
       "</style>\n",
       "<table border=\"1\" class=\"dataframe\">\n",
       "  <thead>\n",
       "    <tr style=\"text-align: right;\">\n",
       "      <th></th>\n",
       "      <th>SEQN</th>\n",
       "      <th>SDDSRVYR</th>\n",
       "      <th>RIAGENDR</th>\n",
       "      <th>RIDAGEYR</th>\n",
       "      <th>RIDAGEMN</th>\n",
       "      <th>RIDRETH1</th>\n",
       "      <th>RIDEXPRG</th>\n",
       "    </tr>\n",
       "  </thead>\n",
       "  <tbody>\n",
       "    <tr>\n",
       "      <th>0</th>\n",
       "      <td>9966.0</td>\n",
       "      <td>2.0</td>\n",
       "      <td>1.0</td>\n",
       "      <td>39.0</td>\n",
       "      <td>472.0</td>\n",
       "      <td>3.0</td>\n",
       "      <td>N\\A</td>\n",
       "    </tr>\n",
       "    <tr>\n",
       "      <th>1</th>\n",
       "      <td>9967.0</td>\n",
       "      <td>2.0</td>\n",
       "      <td>1.0</td>\n",
       "      <td>23.0</td>\n",
       "      <td>283.0</td>\n",
       "      <td>4.0</td>\n",
       "      <td>N\\A</td>\n",
       "    </tr>\n",
       "    <tr>\n",
       "      <th>2</th>\n",
       "      <td>9968.0</td>\n",
       "      <td>2.0</td>\n",
       "      <td>2.0</td>\n",
       "      <td>84.0</td>\n",
       "      <td>1011.0</td>\n",
       "      <td>3.0</td>\n",
       "      <td>N\\A</td>\n",
       "    </tr>\n",
       "    <tr>\n",
       "      <th>3</th>\n",
       "      <td>9969.0</td>\n",
       "      <td>2.0</td>\n",
       "      <td>2.0</td>\n",
       "      <td>51.0</td>\n",
       "      <td>612.0</td>\n",
       "      <td>3.0</td>\n",
       "      <td>2.0</td>\n",
       "    </tr>\n",
       "    <tr>\n",
       "      <th>4</th>\n",
       "      <td>9970.0</td>\n",
       "      <td>2.0</td>\n",
       "      <td>1.0</td>\n",
       "      <td>16.0</td>\n",
       "      <td>200.0</td>\n",
       "      <td>2.0</td>\n",
       "      <td>N\\A</td>\n",
       "    </tr>\n",
       "  </tbody>\n",
       "</table>\n",
       "</div>"
      ],
      "text/plain": [
       "     SEQN  SDDSRVYR  RIAGENDR  RIDAGEYR  RIDAGEMN  RIDRETH1 RIDEXPRG\n",
       "0  9966.0       2.0       1.0      39.0     472.0       3.0      N\\A\n",
       "1  9967.0       2.0       1.0      23.0     283.0       4.0      N\\A\n",
       "2  9968.0       2.0       2.0      84.0    1011.0       3.0      N\\A\n",
       "3  9969.0       2.0       2.0      51.0     612.0       3.0      2.0\n",
       "4  9970.0       2.0       1.0      16.0     200.0       2.0      N\\A"
      ]
     },
     "execution_count": 19,
     "metadata": {},
     "output_type": "execute_result"
    }
   ],
   "source": [
    "df_temp = demography_dataframe_cleaning(df_2001demo)\n",
    "df_temp.head()"
   ]
  },
  {
   "cell_type": "code",
   "execution_count": 20,
   "metadata": {},
   "outputs": [
    {
     "name": "stdout",
     "output_type": "stream",
     "text": [
      "<class 'pandas.core.frame.DataFrame'>\n",
      "RangeIndex: 11039 entries, 0 to 11038\n",
      "Data columns (total 7 columns):\n",
      " #   Column    Non-Null Count  Dtype  \n",
      "---  ------    --------------  -----  \n",
      " 0   SEQN      11039 non-null  float64\n",
      " 1   SDDSRVYR  11039 non-null  float64\n",
      " 2   RIAGENDR  11039 non-null  float64\n",
      " 3   RIDAGEYR  11039 non-null  float64\n",
      " 4   RIDAGEMN  11039 non-null  float64\n",
      " 5   RIDRETH1  11039 non-null  float64\n",
      " 6   RIDEXPRG  11039 non-null  object \n",
      "dtypes: float64(6), object(1)\n",
      "memory usage: 603.8+ KB\n"
     ]
    }
   ],
   "source": [
    "df_temp.info()"
   ]
  },
  {
   "cell_type": "code",
   "execution_count": 21,
   "metadata": {},
   "outputs": [],
   "source": [
    "#Load all the demography data tables for all the cycles which are stored in the 'NHANES_Demography' folder and store \n",
    "#them in the 'DataFrame_Collection' list\n",
    "import glob\n",
    "\n",
    "DataFrame_Collection = list()\n",
    "\n",
    "files = glob.glob(\"/Users/ruserel/NHANES_Demography/*.XPT\")\n",
    "for a in files:\n",
    "    DataFrame_Collection.append( pd.read_sas(a, format='xport', encoding='utf-8'))"
   ]
  },
  {
   "cell_type": "code",
   "execution_count": 22,
   "metadata": {},
   "outputs": [
    {
     "data": {
      "text/plain": [
       "10"
      ]
     },
     "execution_count": 22,
     "metadata": {},
     "output_type": "execute_result"
    }
   ],
   "source": [
    "len(DataFrame_Collection)"
   ]
  },
  {
   "cell_type": "code",
   "execution_count": 23,
   "metadata": {},
   "outputs": [],
   "source": [
    "#Use the data cleaning function to clean each data frame in \"DataFrame_Collection\" list and add them to a new list \"demolist\"\n",
    "demolist = list()\n",
    "for df in DataFrame_Collection:\n",
    "    demolist.append(demography_dataframe_cleaning(df))"
   ]
  },
  {
   "cell_type": "code",
   "execution_count": 24,
   "metadata": {},
   "outputs": [],
   "source": [
    "#concatenate the data from all the 10 dataframes into one data frame\n",
    "demo_merged_df = demolist[0]\n",
    "for i in range(1,10):\n",
    "    demo_merged_df = pd.concat([demo_merged_df, demolist[i]])"
   ]
  },
  {
   "cell_type": "code",
   "execution_count": 25,
   "metadata": {},
   "outputs": [
    {
     "data": {
      "text/plain": [
       "(101316, 7)"
      ]
     },
     "execution_count": 25,
     "metadata": {},
     "output_type": "execute_result"
    }
   ],
   "source": [
    "demo_merged_df.shape"
   ]
  },
  {
   "cell_type": "code",
   "execution_count": 26,
   "metadata": {},
   "outputs": [
    {
     "data": {
      "text/html": [
       "<div>\n",
       "<style scoped>\n",
       "    .dataframe tbody tr th:only-of-type {\n",
       "        vertical-align: middle;\n",
       "    }\n",
       "\n",
       "    .dataframe tbody tr th {\n",
       "        vertical-align: top;\n",
       "    }\n",
       "\n",
       "    .dataframe thead th {\n",
       "        text-align: right;\n",
       "    }\n",
       "</style>\n",
       "<table border=\"1\" class=\"dataframe\">\n",
       "  <thead>\n",
       "    <tr style=\"text-align: right;\">\n",
       "      <th></th>\n",
       "      <th>SEQN</th>\n",
       "      <th>SDDSRVYR</th>\n",
       "      <th>RIAGENDR</th>\n",
       "      <th>RIDAGEYR</th>\n",
       "      <th>RIDAGEMN</th>\n",
       "      <th>RIDRETH1</th>\n",
       "      <th>RIDEXPRG</th>\n",
       "    </tr>\n",
       "  </thead>\n",
       "  <tbody>\n",
       "    <tr>\n",
       "      <th>0</th>\n",
       "      <td>62161.0</td>\n",
       "      <td>7.0</td>\n",
       "      <td>1.0</td>\n",
       "      <td>22.0</td>\n",
       "      <td>264.0</td>\n",
       "      <td>3.0</td>\n",
       "      <td>N\\A</td>\n",
       "    </tr>\n",
       "    <tr>\n",
       "      <th>1</th>\n",
       "      <td>62162.0</td>\n",
       "      <td>7.0</td>\n",
       "      <td>2.0</td>\n",
       "      <td>3.0</td>\n",
       "      <td>36.0</td>\n",
       "      <td>1.0</td>\n",
       "      <td>N\\A</td>\n",
       "    </tr>\n",
       "    <tr>\n",
       "      <th>2</th>\n",
       "      <td>62163.0</td>\n",
       "      <td>7.0</td>\n",
       "      <td>1.0</td>\n",
       "      <td>14.0</td>\n",
       "      <td>168.0</td>\n",
       "      <td>5.0</td>\n",
       "      <td>N\\A</td>\n",
       "    </tr>\n",
       "    <tr>\n",
       "      <th>3</th>\n",
       "      <td>62164.0</td>\n",
       "      <td>7.0</td>\n",
       "      <td>2.0</td>\n",
       "      <td>44.0</td>\n",
       "      <td>528.0</td>\n",
       "      <td>3.0</td>\n",
       "      <td>2.0</td>\n",
       "    </tr>\n",
       "    <tr>\n",
       "      <th>4</th>\n",
       "      <td>62165.0</td>\n",
       "      <td>7.0</td>\n",
       "      <td>2.0</td>\n",
       "      <td>14.0</td>\n",
       "      <td>168.0</td>\n",
       "      <td>4.0</td>\n",
       "      <td>N\\A</td>\n",
       "    </tr>\n",
       "  </tbody>\n",
       "</table>\n",
       "</div>"
      ],
      "text/plain": [
       "      SEQN  SDDSRVYR  RIAGENDR  RIDAGEYR  RIDAGEMN  RIDRETH1 RIDEXPRG\n",
       "0  62161.0       7.0       1.0      22.0     264.0       3.0      N\\A\n",
       "1  62162.0       7.0       2.0       3.0      36.0       1.0      N\\A\n",
       "2  62163.0       7.0       1.0      14.0     168.0       5.0      N\\A\n",
       "3  62164.0       7.0       2.0      44.0     528.0       3.0      2.0\n",
       "4  62165.0       7.0       2.0      14.0     168.0       4.0      N\\A"
      ]
     },
     "execution_count": 26,
     "metadata": {},
     "output_type": "execute_result"
    }
   ],
   "source": [
    "#combine demography data frame\n",
    "\n",
    "demo_merged_df.head()"
   ]
  },
  {
   "cell_type": "code",
   "execution_count": 27,
   "metadata": {},
   "outputs": [
    {
     "data": {
      "text/plain": [
       "2.0     11039\n",
       "6.0     10537\n",
       "4.0     10348\n",
       "8.0     10175\n",
       "5.0     10149\n",
       "3.0     10122\n",
       "9.0      9971\n",
       "1.0      9965\n",
       "7.0      9756\n",
       "10.0     9254\n",
       "Name: SDDSRVYR, dtype: int64"
      ]
     },
     "execution_count": 27,
     "metadata": {},
     "output_type": "execute_result"
    }
   ],
   "source": [
    "demo_merged_df[\"SDDSRVYR\"].value_counts()"
   ]
  },
  {
   "cell_type": "markdown",
   "metadata": {},
   "source": [
    "#### ******************************END OF DEMOGRAPHIC DATA******************************"
   ]
  },
  {
   "cell_type": "markdown",
   "metadata": {},
   "source": [
    "### Body measurements data"
   ]
  },
  {
   "cell_type": "code",
   "execution_count": 28,
   "metadata": {},
   "outputs": [],
   "source": [
    "Body_columns = {'SEQN':'Respondent sequence number', \n",
    "                 'BMXWT':'Weight (kg)', \n",
    "                 'BMXBMI':'Body Mass Index (kg/m**2)'\n",
    "    \n",
    "}"
   ]
  },
  {
   "cell_type": "code",
   "execution_count": 29,
   "metadata": {},
   "outputs": [],
   "source": [
    "def BODY_dataframe_cleaning(df,Body_columns = Body_columns):\n",
    "    df = df[list(Body_columns.keys())]\n",
    "    return df"
   ]
  },
  {
   "cell_type": "code",
   "execution_count": 30,
   "metadata": {},
   "outputs": [],
   "source": [
    "import glob\n",
    "\n",
    "DataFrame_Collection = list()\n",
    "\n",
    "files = glob.glob(\"/Users/ruserel/NHANES-Body_weight/*.XPT\")\n",
    "for a in files:\n",
    "    DataFrame_Collection.append( pd.read_sas(a, format='xport', encoding='utf-8'))"
   ]
  },
  {
   "cell_type": "code",
   "execution_count": 31,
   "metadata": {},
   "outputs": [],
   "source": [
    "bodylist = list()\n",
    "for df in DataFrame_Collection:\n",
    "    bodylist.append(BODY_dataframe_cleaning(df))"
   ]
  },
  {
   "cell_type": "code",
   "execution_count": 32,
   "metadata": {},
   "outputs": [],
   "source": [
    "# merge the data from all files into one data frame\n",
    "Body_merged_df = bodylist[0]\n",
    "for i in range(1,10):\n",
    "    Body_merged_df = pd.concat([Body_merged_df, bodylist[i]])"
   ]
  },
  {
   "cell_type": "code",
   "execution_count": 33,
   "metadata": {},
   "outputs": [
    {
     "data": {
      "text/html": [
       "<div>\n",
       "<style scoped>\n",
       "    .dataframe tbody tr th:only-of-type {\n",
       "        vertical-align: middle;\n",
       "    }\n",
       "\n",
       "    .dataframe tbody tr th {\n",
       "        vertical-align: top;\n",
       "    }\n",
       "\n",
       "    .dataframe thead th {\n",
       "        text-align: right;\n",
       "    }\n",
       "</style>\n",
       "<table border=\"1\" class=\"dataframe\">\n",
       "  <thead>\n",
       "    <tr style=\"text-align: right;\">\n",
       "      <th></th>\n",
       "      <th>SEQN</th>\n",
       "      <th>BMXWT</th>\n",
       "      <th>BMXBMI</th>\n",
       "    </tr>\n",
       "  </thead>\n",
       "  <tbody>\n",
       "    <tr>\n",
       "      <th>0</th>\n",
       "      <td>1.0</td>\n",
       "      <td>12.5</td>\n",
       "      <td>14.90</td>\n",
       "    </tr>\n",
       "    <tr>\n",
       "      <th>1</th>\n",
       "      <td>2.0</td>\n",
       "      <td>75.4</td>\n",
       "      <td>24.90</td>\n",
       "    </tr>\n",
       "    <tr>\n",
       "      <th>2</th>\n",
       "      <td>3.0</td>\n",
       "      <td>32.9</td>\n",
       "      <td>17.63</td>\n",
       "    </tr>\n",
       "    <tr>\n",
       "      <th>3</th>\n",
       "      <td>4.0</td>\n",
       "      <td>13.3</td>\n",
       "      <td>NaN</td>\n",
       "    </tr>\n",
       "    <tr>\n",
       "      <th>4</th>\n",
       "      <td>5.0</td>\n",
       "      <td>92.5</td>\n",
       "      <td>29.10</td>\n",
       "    </tr>\n",
       "  </tbody>\n",
       "</table>\n",
       "</div>"
      ],
      "text/plain": [
       "   SEQN  BMXWT  BMXBMI\n",
       "0   1.0   12.5   14.90\n",
       "1   2.0   75.4   24.90\n",
       "2   3.0   32.9   17.63\n",
       "3   4.0   13.3     NaN\n",
       "4   5.0   92.5   29.10"
      ]
     },
     "execution_count": 33,
     "metadata": {},
     "output_type": "execute_result"
    }
   ],
   "source": [
    "Body_merged_df.head()"
   ]
  },
  {
   "cell_type": "markdown",
   "metadata": {},
   "source": [
    "****END OF BODY MEASUREMENTS DATA *******"
   ]
  },
  {
   "cell_type": "markdown",
   "metadata": {},
   "source": [
    "### Alcohol Consumption Data"
   ]
  },
  {
   "cell_type": "code",
   "execution_count": 34,
   "metadata": {},
   "outputs": [],
   "source": [
    "Alcohol_columns = {'SEQN':'Respondent sequence number',\n",
    "                   'ALQ130': 'Avg # alcoholic drinks/day -past 12 mos'\n",
    "}"
   ]
  },
  {
   "cell_type": "code",
   "execution_count": 35,
   "metadata": {},
   "outputs": [],
   "source": [
    "def ALCOHOL_dataframe_cleaning(df,Alcohol_columns = Alcohol_columns):\n",
    "    df = df[list(Alcohol_columns.keys())]\n",
    "    return df"
   ]
  },
  {
   "cell_type": "code",
   "execution_count": 36,
   "metadata": {},
   "outputs": [],
   "source": [
    "import glob\n",
    "\n",
    "DataFrame_Collection = list()\n",
    "\n",
    "files = glob.glob(\"/Users/ruserel/NHANES_alcohol/*.XPT\")\n",
    "for a in files:\n",
    "    DataFrame_Collection.append( pd.read_sas(a, format='xport', encoding='utf-8'))"
   ]
  },
  {
   "cell_type": "code",
   "execution_count": 37,
   "metadata": {},
   "outputs": [],
   "source": [
    "alcohollist = list()\n",
    "for df in DataFrame_Collection:\n",
    "    alcohollist.append(ALCOHOL_dataframe_cleaning(df))"
   ]
  },
  {
   "cell_type": "code",
   "execution_count": 38,
   "metadata": {},
   "outputs": [],
   "source": [
    "# merge the data from all files into one data frame\n",
    "Alcohol_merged_df = alcohollist[0]\n",
    "for i in range(1,10):\n",
    "    Alcohol_merged_df = pd.concat([Alcohol_merged_df, alcohollist[i]])"
   ]
  },
  {
   "cell_type": "code",
   "execution_count": 39,
   "metadata": {},
   "outputs": [
    {
     "data": {
      "text/html": [
       "<div>\n",
       "<style scoped>\n",
       "    .dataframe tbody tr th:only-of-type {\n",
       "        vertical-align: middle;\n",
       "    }\n",
       "\n",
       "    .dataframe tbody tr th {\n",
       "        vertical-align: top;\n",
       "    }\n",
       "\n",
       "    .dataframe thead th {\n",
       "        text-align: right;\n",
       "    }\n",
       "</style>\n",
       "<table border=\"1\" class=\"dataframe\">\n",
       "  <thead>\n",
       "    <tr style=\"text-align: right;\">\n",
       "      <th></th>\n",
       "      <th>SEQN</th>\n",
       "      <th>ALQ130</th>\n",
       "    </tr>\n",
       "  </thead>\n",
       "  <tbody>\n",
       "    <tr>\n",
       "      <th>0</th>\n",
       "      <td>9966.0</td>\n",
       "      <td>2.0</td>\n",
       "    </tr>\n",
       "    <tr>\n",
       "      <th>1</th>\n",
       "      <td>9967.0</td>\n",
       "      <td>1.0</td>\n",
       "    </tr>\n",
       "    <tr>\n",
       "      <th>2</th>\n",
       "      <td>9968.0</td>\n",
       "      <td>1.0</td>\n",
       "    </tr>\n",
       "    <tr>\n",
       "      <th>3</th>\n",
       "      <td>9969.0</td>\n",
       "      <td>2.0</td>\n",
       "    </tr>\n",
       "    <tr>\n",
       "      <th>4</th>\n",
       "      <td>9972.0</td>\n",
       "      <td>NaN</td>\n",
       "    </tr>\n",
       "    <tr>\n",
       "      <th>...</th>\n",
       "      <td>...</td>\n",
       "      <td>...</td>\n",
       "    </tr>\n",
       "    <tr>\n",
       "      <th>5528</th>\n",
       "      <td>102949.0</td>\n",
       "      <td>NaN</td>\n",
       "    </tr>\n",
       "    <tr>\n",
       "      <th>5529</th>\n",
       "      <td>102952.0</td>\n",
       "      <td>NaN</td>\n",
       "    </tr>\n",
       "    <tr>\n",
       "      <th>5530</th>\n",
       "      <td>102953.0</td>\n",
       "      <td>12.0</td>\n",
       "    </tr>\n",
       "    <tr>\n",
       "      <th>5531</th>\n",
       "      <td>102954.0</td>\n",
       "      <td>NaN</td>\n",
       "    </tr>\n",
       "    <tr>\n",
       "      <th>5532</th>\n",
       "      <td>102956.0</td>\n",
       "      <td>2.0</td>\n",
       "    </tr>\n",
       "  </tbody>\n",
       "</table>\n",
       "<p>53559 rows × 2 columns</p>\n",
       "</div>"
      ],
      "text/plain": [
       "          SEQN  ALQ130\n",
       "0       9966.0     2.0\n",
       "1       9967.0     1.0\n",
       "2       9968.0     1.0\n",
       "3       9969.0     2.0\n",
       "4       9972.0     NaN\n",
       "...        ...     ...\n",
       "5528  102949.0     NaN\n",
       "5529  102952.0     NaN\n",
       "5530  102953.0    12.0\n",
       "5531  102954.0     NaN\n",
       "5532  102956.0     2.0\n",
       "\n",
       "[53559 rows x 2 columns]"
      ]
     },
     "execution_count": 39,
     "metadata": {},
     "output_type": "execute_result"
    }
   ],
   "source": [
    "Alcohol_merged_df"
   ]
  },
  {
   "cell_type": "markdown",
   "metadata": {},
   "source": [
    "****END OF ALCOHOL DATA *****"
   ]
  },
  {
   "cell_type": "markdown",
   "metadata": {},
   "source": [
    "### Smoking Data"
   ]
  },
  {
   "cell_type": "code",
   "execution_count": 40,
   "metadata": {},
   "outputs": [],
   "source": [
    "Smoking2_columns = {'SEQN':'Respondent sequence number',\n",
    "                   'SMQ650': 'Avg # cigarettes/day during past 30 days'\n",
    "                \n",
    "    \n",
    "}"
   ]
  },
  {
   "cell_type": "code",
   "execution_count": 41,
   "metadata": {},
   "outputs": [],
   "source": [
    "def SMOKING2_dataframe_cleaning(df,Smoking2_columns = Smoking2_columns):\n",
    "    df = df[list(Smoking2_columns.keys())]\n",
    "    df = df.rename(columns = {'SMQ650':'SMD650'})\n",
    "    return df"
   ]
  },
  {
   "cell_type": "code",
   "execution_count": 42,
   "metadata": {},
   "outputs": [],
   "source": [
    "import glob\n",
    "\n",
    "DataFrame_Collection = list()\n",
    "\n",
    "files = glob.glob(\"/Users/ruserel/NHANES_smoking_2/*.XPT\")\n",
    "for a in files:\n",
    "    DataFrame_Collection.append( pd.read_sas(a, format='xport', encoding='utf-8'))"
   ]
  },
  {
   "cell_type": "code",
   "execution_count": 43,
   "metadata": {},
   "outputs": [],
   "source": [
    "smokinglist = list()\n",
    "for df in DataFrame_Collection:\n",
    "    smokinglist.append(SMOKING2_dataframe_cleaning(df))"
   ]
  },
  {
   "cell_type": "markdown",
   "metadata": {},
   "source": [
    "Some tables containg 'SMD650' in place of 'SMQ650'. The data should be combined and stored in the same column"
   ]
  },
  {
   "cell_type": "code",
   "execution_count": 44,
   "metadata": {},
   "outputs": [],
   "source": [
    "Smoking_columns = {'SEQN':'Respondent sequence number',\n",
    "                   'SMD650': 'Avg # cigarettes/day during past 30 days'\n",
    "                \n",
    "    \n",
    "}"
   ]
  },
  {
   "cell_type": "code",
   "execution_count": 45,
   "metadata": {},
   "outputs": [],
   "source": [
    "def SMOKING_dataframe_cleaning(df,Smoking_columns = Smoking_columns):\n",
    "    df = df[list(Smoking_columns.keys())]\n",
    "    return df"
   ]
  },
  {
   "cell_type": "code",
   "execution_count": 46,
   "metadata": {},
   "outputs": [],
   "source": [
    "import glob\n",
    "\n",
    "DataFrame_Collection = list()\n",
    "\n",
    "files = glob.glob(\"/Users/ruserel/NHANES_smoking_1/*.XPT\")\n",
    "for a in files:\n",
    "    DataFrame_Collection.append( pd.read_sas(a, format='xport', encoding='utf-8'))"
   ]
  },
  {
   "cell_type": "code",
   "execution_count": 47,
   "metadata": {},
   "outputs": [],
   "source": [
    "\n",
    "for df in DataFrame_Collection:\n",
    "    smokinglist.append(SMOKING_dataframe_cleaning(df))"
   ]
  },
  {
   "cell_type": "code",
   "execution_count": 48,
   "metadata": {},
   "outputs": [],
   "source": [
    "#merge the data from all files into one data frame\n",
    "Smoking_merged_df = smokinglist[0]\n",
    "for i in range(1,10):\n",
    "    Smoking_merged_df = pd.concat([Smoking_merged_df, smokinglist[i]])"
   ]
  },
  {
   "cell_type": "code",
   "execution_count": 49,
   "metadata": {},
   "outputs": [
    {
     "data": {
      "text/html": [
       "<div>\n",
       "<style scoped>\n",
       "    .dataframe tbody tr th:only-of-type {\n",
       "        vertical-align: middle;\n",
       "    }\n",
       "\n",
       "    .dataframe tbody tr th {\n",
       "        vertical-align: top;\n",
       "    }\n",
       "\n",
       "    .dataframe thead th {\n",
       "        text-align: right;\n",
       "    }\n",
       "</style>\n",
       "<table border=\"1\" class=\"dataframe\">\n",
       "  <thead>\n",
       "    <tr style=\"text-align: right;\">\n",
       "      <th></th>\n",
       "      <th>SEQN</th>\n",
       "      <th>SMD650</th>\n",
       "    </tr>\n",
       "  </thead>\n",
       "  <tbody>\n",
       "    <tr>\n",
       "      <th>0</th>\n",
       "      <td>9966.0</td>\n",
       "      <td>NaN</td>\n",
       "    </tr>\n",
       "    <tr>\n",
       "      <th>1</th>\n",
       "      <td>9967.0</td>\n",
       "      <td>NaN</td>\n",
       "    </tr>\n",
       "    <tr>\n",
       "      <th>2</th>\n",
       "      <td>9968.0</td>\n",
       "      <td>NaN</td>\n",
       "    </tr>\n",
       "    <tr>\n",
       "      <th>3</th>\n",
       "      <td>9969.0</td>\n",
       "      <td>NaN</td>\n",
       "    </tr>\n",
       "    <tr>\n",
       "      <th>4</th>\n",
       "      <td>9970.0</td>\n",
       "      <td>NaN</td>\n",
       "    </tr>\n",
       "    <tr>\n",
       "      <th>...</th>\n",
       "      <td>...</td>\n",
       "      <td>...</td>\n",
       "    </tr>\n",
       "    <tr>\n",
       "      <th>6719</th>\n",
       "      <td>102952.0</td>\n",
       "      <td>NaN</td>\n",
       "    </tr>\n",
       "    <tr>\n",
       "      <th>6720</th>\n",
       "      <td>102953.0</td>\n",
       "      <td>NaN</td>\n",
       "    </tr>\n",
       "    <tr>\n",
       "      <th>6721</th>\n",
       "      <td>102954.0</td>\n",
       "      <td>NaN</td>\n",
       "    </tr>\n",
       "    <tr>\n",
       "      <th>6722</th>\n",
       "      <td>102955.0</td>\n",
       "      <td>NaN</td>\n",
       "    </tr>\n",
       "    <tr>\n",
       "      <th>6723</th>\n",
       "      <td>102956.0</td>\n",
       "      <td>20.0</td>\n",
       "    </tr>\n",
       "  </tbody>\n",
       "</table>\n",
       "<p>70735 rows × 2 columns</p>\n",
       "</div>"
      ],
      "text/plain": [
       "          SEQN  SMD650\n",
       "0       9966.0     NaN\n",
       "1       9967.0     NaN\n",
       "2       9968.0     NaN\n",
       "3       9969.0     NaN\n",
       "4       9970.0     NaN\n",
       "...        ...     ...\n",
       "6719  102952.0     NaN\n",
       "6720  102953.0     NaN\n",
       "6721  102954.0     NaN\n",
       "6722  102955.0     NaN\n",
       "6723  102956.0    20.0\n",
       "\n",
       "[70735 rows x 2 columns]"
      ]
     },
     "execution_count": 49,
     "metadata": {},
     "output_type": "execute_result"
    }
   ],
   "source": [
    "Smoking_merged_df"
   ]
  },
  {
   "cell_type": "markdown",
   "metadata": {},
   "source": [
    "*****END OF SMOKING DATA*****"
   ]
  },
  {
   "cell_type": "markdown",
   "metadata": {},
   "source": [
    "### MEDICAL CONDITIONS DATA"
   ]
  },
  {
   "cell_type": "code",
   "execution_count": 50,
   "metadata": {},
   "outputs": [],
   "source": [
    "medcond_columns = {'SEQN':'Respondent sequence number',\n",
    "                   'MCQ053': 'Taking treatment for anemia/past 3 mos',\n",
    "                   'MCQ220': 'Ever told you had cancer or malignancy',\n",
    "                   'MCQ230A': 'What kind of cancer',\n",
    "                   'MCQ230B': 'What kind of cancer',\n",
    "                   'MCQ230C': 'What kind of cancer'\n",
    "}"
   ]
  },
  {
   "cell_type": "code",
   "execution_count": 51,
   "metadata": {},
   "outputs": [],
   "source": [
    "def MEDCOND_dataframe_cleaning(df,medcond_columns = medcond_columns):\n",
    "    df = df[list(medcond_columns.keys())]\n",
    "    return df"
   ]
  },
  {
   "cell_type": "code",
   "execution_count": 52,
   "metadata": {},
   "outputs": [],
   "source": [
    "import glob\n",
    "\n",
    "DataFrame_Collection = list()\n",
    "\n",
    "files = glob.glob(\"/Users/ruserel/NHANES_medicalConditions_2/*.XPT\")\n",
    "for a in files:\n",
    "    DataFrame_Collection.append( pd.read_sas(a, format='xport', encoding='utf-8'))"
   ]
  },
  {
   "cell_type": "code",
   "execution_count": 53,
   "metadata": {},
   "outputs": [],
   "source": [
    "medcondlist = list()\n",
    "for df in DataFrame_Collection:\n",
    "    medcondlist.append(MEDCOND_dataframe_cleaning(df))"
   ]
  },
  {
   "cell_type": "code",
   "execution_count": 54,
   "metadata": {},
   "outputs": [],
   "source": [
    "# merge the data from all files into one data frame\n",
    "MedicalCond_merged_df = medcondlist[0]\n",
    "for i in range(1,6):\n",
    "    MedicalCond_merged_df = pd.concat([MedicalCond_merged_df, medcondlist[i]])"
   ]
  },
  {
   "cell_type": "code",
   "execution_count": 55,
   "metadata": {},
   "outputs": [
    {
     "data": {
      "text/html": [
       "<div>\n",
       "<style scoped>\n",
       "    .dataframe tbody tr th:only-of-type {\n",
       "        vertical-align: middle;\n",
       "    }\n",
       "\n",
       "    .dataframe tbody tr th {\n",
       "        vertical-align: top;\n",
       "    }\n",
       "\n",
       "    .dataframe thead th {\n",
       "        text-align: right;\n",
       "    }\n",
       "</style>\n",
       "<table border=\"1\" class=\"dataframe\">\n",
       "  <thead>\n",
       "    <tr style=\"text-align: right;\">\n",
       "      <th></th>\n",
       "      <th>SEQN</th>\n",
       "      <th>MCQ053</th>\n",
       "      <th>MCQ220</th>\n",
       "      <th>MCQ230A</th>\n",
       "      <th>MCQ230B</th>\n",
       "      <th>MCQ230C</th>\n",
       "    </tr>\n",
       "  </thead>\n",
       "  <tbody>\n",
       "    <tr>\n",
       "      <th>0</th>\n",
       "      <td>9966.0</td>\n",
       "      <td>2.0</td>\n",
       "      <td>2.0</td>\n",
       "      <td>NaN</td>\n",
       "      <td>NaN</td>\n",
       "      <td>NaN</td>\n",
       "    </tr>\n",
       "    <tr>\n",
       "      <th>1</th>\n",
       "      <td>9967.0</td>\n",
       "      <td>2.0</td>\n",
       "      <td>2.0</td>\n",
       "      <td>NaN</td>\n",
       "      <td>NaN</td>\n",
       "      <td>NaN</td>\n",
       "    </tr>\n",
       "    <tr>\n",
       "      <th>2</th>\n",
       "      <td>9968.0</td>\n",
       "      <td>2.0</td>\n",
       "      <td>2.0</td>\n",
       "      <td>NaN</td>\n",
       "      <td>NaN</td>\n",
       "      <td>NaN</td>\n",
       "    </tr>\n",
       "    <tr>\n",
       "      <th>3</th>\n",
       "      <td>9969.0</td>\n",
       "      <td>2.0</td>\n",
       "      <td>2.0</td>\n",
       "      <td>NaN</td>\n",
       "      <td>NaN</td>\n",
       "      <td>NaN</td>\n",
       "    </tr>\n",
       "    <tr>\n",
       "      <th>4</th>\n",
       "      <td>9970.0</td>\n",
       "      <td>2.0</td>\n",
       "      <td>NaN</td>\n",
       "      <td>NaN</td>\n",
       "      <td>NaN</td>\n",
       "      <td>NaN</td>\n",
       "    </tr>\n",
       "    <tr>\n",
       "      <th>...</th>\n",
       "      <td>...</td>\n",
       "      <td>...</td>\n",
       "      <td>...</td>\n",
       "      <td>...</td>\n",
       "      <td>...</td>\n",
       "      <td>...</td>\n",
       "    </tr>\n",
       "    <tr>\n",
       "      <th>9661</th>\n",
       "      <td>51619.0</td>\n",
       "      <td>2.0</td>\n",
       "      <td>2.0</td>\n",
       "      <td>NaN</td>\n",
       "      <td>NaN</td>\n",
       "      <td>NaN</td>\n",
       "    </tr>\n",
       "    <tr>\n",
       "      <th>9662</th>\n",
       "      <td>51620.0</td>\n",
       "      <td>1.0</td>\n",
       "      <td>2.0</td>\n",
       "      <td>NaN</td>\n",
       "      <td>NaN</td>\n",
       "      <td>NaN</td>\n",
       "    </tr>\n",
       "    <tr>\n",
       "      <th>9663</th>\n",
       "      <td>51621.0</td>\n",
       "      <td>2.0</td>\n",
       "      <td>NaN</td>\n",
       "      <td>NaN</td>\n",
       "      <td>NaN</td>\n",
       "      <td>NaN</td>\n",
       "    </tr>\n",
       "    <tr>\n",
       "      <th>9664</th>\n",
       "      <td>51622.0</td>\n",
       "      <td>2.0</td>\n",
       "      <td>2.0</td>\n",
       "      <td>NaN</td>\n",
       "      <td>NaN</td>\n",
       "      <td>NaN</td>\n",
       "    </tr>\n",
       "    <tr>\n",
       "      <th>9665</th>\n",
       "      <td>51623.0</td>\n",
       "      <td>2.0</td>\n",
       "      <td>2.0</td>\n",
       "      <td>NaN</td>\n",
       "      <td>NaN</td>\n",
       "      <td>NaN</td>\n",
       "    </tr>\n",
       "  </tbody>\n",
       "</table>\n",
       "<p>59076 rows × 6 columns</p>\n",
       "</div>"
      ],
      "text/plain": [
       "         SEQN  MCQ053  MCQ220  MCQ230A  MCQ230B  MCQ230C\n",
       "0      9966.0     2.0     2.0      NaN      NaN      NaN\n",
       "1      9967.0     2.0     2.0      NaN      NaN      NaN\n",
       "2      9968.0     2.0     2.0      NaN      NaN      NaN\n",
       "3      9969.0     2.0     2.0      NaN      NaN      NaN\n",
       "4      9970.0     2.0     NaN      NaN      NaN      NaN\n",
       "...       ...     ...     ...      ...      ...      ...\n",
       "9661  51619.0     2.0     2.0      NaN      NaN      NaN\n",
       "9662  51620.0     1.0     2.0      NaN      NaN      NaN\n",
       "9663  51621.0     2.0     NaN      NaN      NaN      NaN\n",
       "9664  51622.0     2.0     2.0      NaN      NaN      NaN\n",
       "9665  51623.0     2.0     2.0      NaN      NaN      NaN\n",
       "\n",
       "[59076 rows x 6 columns]"
      ]
     },
     "execution_count": 55,
     "metadata": {},
     "output_type": "execute_result"
    }
   ],
   "source": [
    "MedicalCond_merged_df"
   ]
  },
  {
   "cell_type": "markdown",
   "metadata": {},
   "source": [
    "***END OF MEDICAL CONDITIONS DATA*****"
   ]
  },
  {
   "cell_type": "markdown",
   "metadata": {},
   "source": [
    "### CBC data"
   ]
  },
  {
   "cell_type": "markdown",
   "metadata": {},
   "source": [
    "The columns of interest in the CBC data was for all the white blood cell counts. The data was represented in two different units"
   ]
  },
  {
   "cell_type": "code",
   "execution_count": 56,
   "metadata": {},
   "outputs": [],
   "source": [
    "CBC_column_names = {\n",
    "    \"SEQN\" : \"Respondent sequence number\",\n",
    "    \"LBXWBCSI\" : \"White blood cell count (1000 cells/uL)\",\n",
    "    \"LBXLYPCT\" : \"Lymphocyte percent (%)\",\n",
    "    \"LBXMOPCT\" : \"Monocyte percent (%)\",\n",
    "    \"LBXNEPCT\" : \"Segmented neutrophils percent (%)\",\n",
    "    \"LBXEOPCT\" : \"Eosinophils percent (%)\",\n",
    "    \"LBXBAPCT\" : \"Basophils percent (%)\",\n",
    "    \"LBDLYMNO\" : \"Lymphocyte number (1000 cells/uL)\",\n",
    "    \"LBDMONO\" : \"Monocyte number (1000 cells/uL)\",\n",
    "    \"LBDNENO\" : \"Segmented neutrophils num (1000 cell/uL)\",\n",
    "    \"LBDEONO\" : \"Eosinophils number (1000 cells/uL)\",\n",
    "    \"LBDBANO\" : \"Basophils number (1000 cells/uL)\",\n",
    "    \"LBXRBCSI\" : \"Red blood cell count (million cells/uL)\"\n",
    "}"
   ]
  },
  {
   "cell_type": "code",
   "execution_count": 57,
   "metadata": {},
   "outputs": [
    {
     "data": {
      "text/html": [
       "<div>\n",
       "<style scoped>\n",
       "    .dataframe tbody tr th:only-of-type {\n",
       "        vertical-align: middle;\n",
       "    }\n",
       "\n",
       "    .dataframe tbody tr th {\n",
       "        vertical-align: top;\n",
       "    }\n",
       "\n",
       "    .dataframe thead th {\n",
       "        text-align: right;\n",
       "    }\n",
       "</style>\n",
       "<table border=\"1\" class=\"dataframe\">\n",
       "  <thead>\n",
       "    <tr style=\"text-align: right;\">\n",
       "      <th></th>\n",
       "      <th>SEQN</th>\n",
       "      <th>LBXWBCSI</th>\n",
       "      <th>LBXLYPCT</th>\n",
       "      <th>LBXMOPCT</th>\n",
       "      <th>LBXNEPCT</th>\n",
       "      <th>LBXEOPCT</th>\n",
       "      <th>LBXBAPCT</th>\n",
       "      <th>LBDLYMNO</th>\n",
       "      <th>LBDMONO</th>\n",
       "      <th>LBDNENO</th>\n",
       "      <th>...</th>\n",
       "      <th>LBDBANO</th>\n",
       "      <th>LBXRBCSI</th>\n",
       "      <th>LBXHGB</th>\n",
       "      <th>LBXHCT</th>\n",
       "      <th>LBXMCVSI</th>\n",
       "      <th>LBXMCHSI</th>\n",
       "      <th>LBXMC</th>\n",
       "      <th>LBXRDW</th>\n",
       "      <th>LBXPLTSI</th>\n",
       "      <th>LBXMPSI</th>\n",
       "    </tr>\n",
       "  </thead>\n",
       "  <tbody>\n",
       "    <tr>\n",
       "      <th>0</th>\n",
       "      <td>73557.0</td>\n",
       "      <td>4.7</td>\n",
       "      <td>42.2</td>\n",
       "      <td>11.0</td>\n",
       "      <td>42.3</td>\n",
       "      <td>3.4</td>\n",
       "      <td>1.2</td>\n",
       "      <td>2.0</td>\n",
       "      <td>0.5</td>\n",
       "      <td>2.0</td>\n",
       "      <td>...</td>\n",
       "      <td>1.000000e-01</td>\n",
       "      <td>5.09</td>\n",
       "      <td>15.2</td>\n",
       "      <td>45.4</td>\n",
       "      <td>89.3</td>\n",
       "      <td>29.9</td>\n",
       "      <td>33.4</td>\n",
       "      <td>14.0</td>\n",
       "      <td>204.0</td>\n",
       "      <td>9.0</td>\n",
       "    </tr>\n",
       "    <tr>\n",
       "      <th>1</th>\n",
       "      <td>73558.0</td>\n",
       "      <td>12.6</td>\n",
       "      <td>27.3</td>\n",
       "      <td>7.6</td>\n",
       "      <td>58.4</td>\n",
       "      <td>6.1</td>\n",
       "      <td>0.6</td>\n",
       "      <td>3.4</td>\n",
       "      <td>1.0</td>\n",
       "      <td>7.4</td>\n",
       "      <td>...</td>\n",
       "      <td>1.000000e-01</td>\n",
       "      <td>3.84</td>\n",
       "      <td>11.9</td>\n",
       "      <td>36.7</td>\n",
       "      <td>95.4</td>\n",
       "      <td>31.0</td>\n",
       "      <td>32.5</td>\n",
       "      <td>13.4</td>\n",
       "      <td>314.0</td>\n",
       "      <td>8.4</td>\n",
       "    </tr>\n",
       "    <tr>\n",
       "      <th>2</th>\n",
       "      <td>73559.0</td>\n",
       "      <td>7.2</td>\n",
       "      <td>13.9</td>\n",
       "      <td>11.5</td>\n",
       "      <td>68.2</td>\n",
       "      <td>5.6</td>\n",
       "      <td>0.9</td>\n",
       "      <td>1.0</td>\n",
       "      <td>0.8</td>\n",
       "      <td>4.9</td>\n",
       "      <td>...</td>\n",
       "      <td>1.000000e-01</td>\n",
       "      <td>5.53</td>\n",
       "      <td>17.2</td>\n",
       "      <td>49.9</td>\n",
       "      <td>90.5</td>\n",
       "      <td>31.1</td>\n",
       "      <td>34.3</td>\n",
       "      <td>13.4</td>\n",
       "      <td>237.0</td>\n",
       "      <td>9.3</td>\n",
       "    </tr>\n",
       "    <tr>\n",
       "      <th>3</th>\n",
       "      <td>73560.0</td>\n",
       "      <td>7.8</td>\n",
       "      <td>29.6</td>\n",
       "      <td>9.2</td>\n",
       "      <td>59.1</td>\n",
       "      <td>1.7</td>\n",
       "      <td>0.4</td>\n",
       "      <td>2.3</td>\n",
       "      <td>0.7</td>\n",
       "      <td>4.6</td>\n",
       "      <td>...</td>\n",
       "      <td>5.397605e-79</td>\n",
       "      <td>4.61</td>\n",
       "      <td>12.9</td>\n",
       "      <td>37.8</td>\n",
       "      <td>82.1</td>\n",
       "      <td>28.0</td>\n",
       "      <td>34.0</td>\n",
       "      <td>13.7</td>\n",
       "      <td>240.0</td>\n",
       "      <td>8.0</td>\n",
       "    </tr>\n",
       "    <tr>\n",
       "      <th>4</th>\n",
       "      <td>73561.0</td>\n",
       "      <td>6.6</td>\n",
       "      <td>20.5</td>\n",
       "      <td>6.9</td>\n",
       "      <td>68.7</td>\n",
       "      <td>2.4</td>\n",
       "      <td>1.4</td>\n",
       "      <td>1.4</td>\n",
       "      <td>0.5</td>\n",
       "      <td>4.5</td>\n",
       "      <td>...</td>\n",
       "      <td>1.000000e-01</td>\n",
       "      <td>4.72</td>\n",
       "      <td>14.5</td>\n",
       "      <td>43.8</td>\n",
       "      <td>92.8</td>\n",
       "      <td>30.6</td>\n",
       "      <td>33.0</td>\n",
       "      <td>12.3</td>\n",
       "      <td>300.0</td>\n",
       "      <td>8.6</td>\n",
       "    </tr>\n",
       "    <tr>\n",
       "      <th>5</th>\n",
       "      <td>73562.0</td>\n",
       "      <td>9.4</td>\n",
       "      <td>17.4</td>\n",
       "      <td>6.6</td>\n",
       "      <td>69.2</td>\n",
       "      <td>5.9</td>\n",
       "      <td>0.9</td>\n",
       "      <td>1.6</td>\n",
       "      <td>0.6</td>\n",
       "      <td>6.5</td>\n",
       "      <td>...</td>\n",
       "      <td>1.000000e-01</td>\n",
       "      <td>4.93</td>\n",
       "      <td>14.2</td>\n",
       "      <td>41.5</td>\n",
       "      <td>84.1</td>\n",
       "      <td>28.8</td>\n",
       "      <td>34.2</td>\n",
       "      <td>13.5</td>\n",
       "      <td>249.0</td>\n",
       "      <td>8.1</td>\n",
       "    </tr>\n",
       "    <tr>\n",
       "      <th>6</th>\n",
       "      <td>73564.0</td>\n",
       "      <td>5.2</td>\n",
       "      <td>30.2</td>\n",
       "      <td>5.9</td>\n",
       "      <td>58.3</td>\n",
       "      <td>5.1</td>\n",
       "      <td>0.6</td>\n",
       "      <td>1.6</td>\n",
       "      <td>0.3</td>\n",
       "      <td>3.0</td>\n",
       "      <td>...</td>\n",
       "      <td>5.397605e-79</td>\n",
       "      <td>4.66</td>\n",
       "      <td>13.5</td>\n",
       "      <td>39.8</td>\n",
       "      <td>85.1</td>\n",
       "      <td>28.8</td>\n",
       "      <td>33.8</td>\n",
       "      <td>13.7</td>\n",
       "      <td>180.0</td>\n",
       "      <td>9.0</td>\n",
       "    </tr>\n",
       "    <tr>\n",
       "      <th>7</th>\n",
       "      <td>73566.0</td>\n",
       "      <td>9.5</td>\n",
       "      <td>31.3</td>\n",
       "      <td>7.7</td>\n",
       "      <td>57.5</td>\n",
       "      <td>3.3</td>\n",
       "      <td>0.3</td>\n",
       "      <td>3.0</td>\n",
       "      <td>0.7</td>\n",
       "      <td>5.5</td>\n",
       "      <td>...</td>\n",
       "      <td>5.397605e-79</td>\n",
       "      <td>4.43</td>\n",
       "      <td>14.3</td>\n",
       "      <td>41.4</td>\n",
       "      <td>93.5</td>\n",
       "      <td>32.3</td>\n",
       "      <td>34.6</td>\n",
       "      <td>12.9</td>\n",
       "      <td>296.0</td>\n",
       "      <td>7.2</td>\n",
       "    </tr>\n",
       "    <tr>\n",
       "      <th>8</th>\n",
       "      <td>73567.0</td>\n",
       "      <td>6.3</td>\n",
       "      <td>22.0</td>\n",
       "      <td>9.4</td>\n",
       "      <td>64.0</td>\n",
       "      <td>3.2</td>\n",
       "      <td>1.4</td>\n",
       "      <td>1.4</td>\n",
       "      <td>0.6</td>\n",
       "      <td>4.0</td>\n",
       "      <td>...</td>\n",
       "      <td>1.000000e-01</td>\n",
       "      <td>4.35</td>\n",
       "      <td>15.2</td>\n",
       "      <td>43.1</td>\n",
       "      <td>99.1</td>\n",
       "      <td>34.9</td>\n",
       "      <td>35.3</td>\n",
       "      <td>13.7</td>\n",
       "      <td>187.0</td>\n",
       "      <td>7.7</td>\n",
       "    </tr>\n",
       "    <tr>\n",
       "      <th>9</th>\n",
       "      <td>73568.0</td>\n",
       "      <td>6.0</td>\n",
       "      <td>20.9</td>\n",
       "      <td>7.7</td>\n",
       "      <td>70.1</td>\n",
       "      <td>0.8</td>\n",
       "      <td>0.7</td>\n",
       "      <td>1.3</td>\n",
       "      <td>0.5</td>\n",
       "      <td>4.2</td>\n",
       "      <td>...</td>\n",
       "      <td>5.397605e-79</td>\n",
       "      <td>4.81</td>\n",
       "      <td>15.1</td>\n",
       "      <td>44.2</td>\n",
       "      <td>91.9</td>\n",
       "      <td>31.3</td>\n",
       "      <td>34.1</td>\n",
       "      <td>13.1</td>\n",
       "      <td>231.0</td>\n",
       "      <td>9.3</td>\n",
       "    </tr>\n",
       "  </tbody>\n",
       "</table>\n",
       "<p>10 rows × 21 columns</p>\n",
       "</div>"
      ],
      "text/plain": [
       "      SEQN  LBXWBCSI  LBXLYPCT  LBXMOPCT  LBXNEPCT  LBXEOPCT  LBXBAPCT  \\\n",
       "0  73557.0       4.7      42.2      11.0      42.3       3.4       1.2   \n",
       "1  73558.0      12.6      27.3       7.6      58.4       6.1       0.6   \n",
       "2  73559.0       7.2      13.9      11.5      68.2       5.6       0.9   \n",
       "3  73560.0       7.8      29.6       9.2      59.1       1.7       0.4   \n",
       "4  73561.0       6.6      20.5       6.9      68.7       2.4       1.4   \n",
       "5  73562.0       9.4      17.4       6.6      69.2       5.9       0.9   \n",
       "6  73564.0       5.2      30.2       5.9      58.3       5.1       0.6   \n",
       "7  73566.0       9.5      31.3       7.7      57.5       3.3       0.3   \n",
       "8  73567.0       6.3      22.0       9.4      64.0       3.2       1.4   \n",
       "9  73568.0       6.0      20.9       7.7      70.1       0.8       0.7   \n",
       "\n",
       "   LBDLYMNO  LBDMONO  LBDNENO  ...       LBDBANO  LBXRBCSI  LBXHGB  LBXHCT  \\\n",
       "0       2.0      0.5      2.0  ...  1.000000e-01      5.09    15.2    45.4   \n",
       "1       3.4      1.0      7.4  ...  1.000000e-01      3.84    11.9    36.7   \n",
       "2       1.0      0.8      4.9  ...  1.000000e-01      5.53    17.2    49.9   \n",
       "3       2.3      0.7      4.6  ...  5.397605e-79      4.61    12.9    37.8   \n",
       "4       1.4      0.5      4.5  ...  1.000000e-01      4.72    14.5    43.8   \n",
       "5       1.6      0.6      6.5  ...  1.000000e-01      4.93    14.2    41.5   \n",
       "6       1.6      0.3      3.0  ...  5.397605e-79      4.66    13.5    39.8   \n",
       "7       3.0      0.7      5.5  ...  5.397605e-79      4.43    14.3    41.4   \n",
       "8       1.4      0.6      4.0  ...  1.000000e-01      4.35    15.2    43.1   \n",
       "9       1.3      0.5      4.2  ...  5.397605e-79      4.81    15.1    44.2   \n",
       "\n",
       "   LBXMCVSI  LBXMCHSI  LBXMC  LBXRDW  LBXPLTSI  LBXMPSI  \n",
       "0      89.3      29.9   33.4    14.0     204.0      9.0  \n",
       "1      95.4      31.0   32.5    13.4     314.0      8.4  \n",
       "2      90.5      31.1   34.3    13.4     237.0      9.3  \n",
       "3      82.1      28.0   34.0    13.7     240.0      8.0  \n",
       "4      92.8      30.6   33.0    12.3     300.0      8.6  \n",
       "5      84.1      28.8   34.2    13.5     249.0      8.1  \n",
       "6      85.1      28.8   33.8    13.7     180.0      9.0  \n",
       "7      93.5      32.3   34.6    12.9     296.0      7.2  \n",
       "8      99.1      34.9   35.3    13.7     187.0      7.7  \n",
       "9      91.9      31.3   34.1    13.1     231.0      9.3  \n",
       "\n",
       "[10 rows x 21 columns]"
      ]
     },
     "execution_count": 57,
     "metadata": {},
     "output_type": "execute_result"
    }
   ],
   "source": [
    "df_2013cbc = pd.read_sas('/Users/ruserel/CBC_H.XPT', format='xport', encoding='utf-8')\n",
    "df_2013cbc.head(10)"
   ]
  },
  {
   "cell_type": "code",
   "execution_count": 58,
   "metadata": {},
   "outputs": [
    {
     "name": "stdout",
     "output_type": "stream",
     "text": [
      "<class 'pandas.core.frame.DataFrame'>\n",
      "RangeIndex: 9422 entries, 0 to 9421\n",
      "Data columns (total 21 columns):\n",
      " #   Column    Non-Null Count  Dtype  \n",
      "---  ------    --------------  -----  \n",
      " 0   SEQN      9422 non-null   float64\n",
      " 1   LBXWBCSI  8544 non-null   float64\n",
      " 2   LBXLYPCT  8519 non-null   float64\n",
      " 3   LBXMOPCT  8519 non-null   float64\n",
      " 4   LBXNEPCT  8519 non-null   float64\n",
      " 5   LBXEOPCT  8519 non-null   float64\n",
      " 6   LBXBAPCT  8519 non-null   float64\n",
      " 7   LBDLYMNO  8519 non-null   float64\n",
      " 8   LBDMONO   8519 non-null   float64\n",
      " 9   LBDNENO   8519 non-null   float64\n",
      " 10  LBDEONO   8519 non-null   float64\n",
      " 11  LBDBANO   8519 non-null   float64\n",
      " 12  LBXRBCSI  8544 non-null   float64\n",
      " 13  LBXHGB    8544 non-null   float64\n",
      " 14  LBXHCT    8544 non-null   float64\n",
      " 15  LBXMCVSI  8544 non-null   float64\n",
      " 16  LBXMCHSI  8544 non-null   float64\n",
      " 17  LBXMC     8544 non-null   float64\n",
      " 18  LBXRDW    8544 non-null   float64\n",
      " 19  LBXPLTSI  8544 non-null   float64\n",
      " 20  LBXMPSI   8544 non-null   float64\n",
      "dtypes: float64(21)\n",
      "memory usage: 1.5 MB\n"
     ]
    }
   ],
   "source": [
    "df_2013cbc.info()"
   ]
  },
  {
   "cell_type": "code",
   "execution_count": 59,
   "metadata": {},
   "outputs": [
    {
     "data": {
      "text/html": [
       "<div>\n",
       "<style scoped>\n",
       "    .dataframe tbody tr th:only-of-type {\n",
       "        vertical-align: middle;\n",
       "    }\n",
       "\n",
       "    .dataframe tbody tr th {\n",
       "        vertical-align: top;\n",
       "    }\n",
       "\n",
       "    .dataframe thead th {\n",
       "        text-align: right;\n",
       "    }\n",
       "</style>\n",
       "<table border=\"1\" class=\"dataframe\">\n",
       "  <thead>\n",
       "    <tr style=\"text-align: right;\">\n",
       "      <th></th>\n",
       "      <th>SEQN</th>\n",
       "      <th>LBXWBCSI</th>\n",
       "      <th>LBXLYPCT</th>\n",
       "      <th>LBXMOPCT</th>\n",
       "      <th>LBXNEPCT</th>\n",
       "      <th>LBXEOPCT</th>\n",
       "      <th>LBXBAPCT</th>\n",
       "      <th>LBDLYMNO</th>\n",
       "      <th>LBDMONO</th>\n",
       "      <th>LBDNENO</th>\n",
       "      <th>LBDEONO</th>\n",
       "      <th>LBDBANO</th>\n",
       "      <th>LBXRBCSI</th>\n",
       "    </tr>\n",
       "  </thead>\n",
       "  <tbody>\n",
       "    <tr>\n",
       "      <th>0</th>\n",
       "      <td>73557.0</td>\n",
       "      <td>4.7</td>\n",
       "      <td>42.2</td>\n",
       "      <td>11.0</td>\n",
       "      <td>42.3</td>\n",
       "      <td>3.4</td>\n",
       "      <td>1.2</td>\n",
       "      <td>2.0</td>\n",
       "      <td>0.5</td>\n",
       "      <td>2.0</td>\n",
       "      <td>0.2</td>\n",
       "      <td>1.000000e-01</td>\n",
       "      <td>5.09</td>\n",
       "    </tr>\n",
       "    <tr>\n",
       "      <th>1</th>\n",
       "      <td>73558.0</td>\n",
       "      <td>12.6</td>\n",
       "      <td>27.3</td>\n",
       "      <td>7.6</td>\n",
       "      <td>58.4</td>\n",
       "      <td>6.1</td>\n",
       "      <td>0.6</td>\n",
       "      <td>3.4</td>\n",
       "      <td>1.0</td>\n",
       "      <td>7.4</td>\n",
       "      <td>0.8</td>\n",
       "      <td>1.000000e-01</td>\n",
       "      <td>3.84</td>\n",
       "    </tr>\n",
       "    <tr>\n",
       "      <th>2</th>\n",
       "      <td>73559.0</td>\n",
       "      <td>7.2</td>\n",
       "      <td>13.9</td>\n",
       "      <td>11.5</td>\n",
       "      <td>68.2</td>\n",
       "      <td>5.6</td>\n",
       "      <td>0.9</td>\n",
       "      <td>1.0</td>\n",
       "      <td>0.8</td>\n",
       "      <td>4.9</td>\n",
       "      <td>0.4</td>\n",
       "      <td>1.000000e-01</td>\n",
       "      <td>5.53</td>\n",
       "    </tr>\n",
       "    <tr>\n",
       "      <th>3</th>\n",
       "      <td>73560.0</td>\n",
       "      <td>7.8</td>\n",
       "      <td>29.6</td>\n",
       "      <td>9.2</td>\n",
       "      <td>59.1</td>\n",
       "      <td>1.7</td>\n",
       "      <td>0.4</td>\n",
       "      <td>2.3</td>\n",
       "      <td>0.7</td>\n",
       "      <td>4.6</td>\n",
       "      <td>0.1</td>\n",
       "      <td>5.397605e-79</td>\n",
       "      <td>4.61</td>\n",
       "    </tr>\n",
       "    <tr>\n",
       "      <th>4</th>\n",
       "      <td>73561.0</td>\n",
       "      <td>6.6</td>\n",
       "      <td>20.5</td>\n",
       "      <td>6.9</td>\n",
       "      <td>68.7</td>\n",
       "      <td>2.4</td>\n",
       "      <td>1.4</td>\n",
       "      <td>1.4</td>\n",
       "      <td>0.5</td>\n",
       "      <td>4.5</td>\n",
       "      <td>0.2</td>\n",
       "      <td>1.000000e-01</td>\n",
       "      <td>4.72</td>\n",
       "    </tr>\n",
       "  </tbody>\n",
       "</table>\n",
       "</div>"
      ],
      "text/plain": [
       "      SEQN  LBXWBCSI  LBXLYPCT  LBXMOPCT  LBXNEPCT  LBXEOPCT  LBXBAPCT  \\\n",
       "0  73557.0       4.7      42.2      11.0      42.3       3.4       1.2   \n",
       "1  73558.0      12.6      27.3       7.6      58.4       6.1       0.6   \n",
       "2  73559.0       7.2      13.9      11.5      68.2       5.6       0.9   \n",
       "3  73560.0       7.8      29.6       9.2      59.1       1.7       0.4   \n",
       "4  73561.0       6.6      20.5       6.9      68.7       2.4       1.4   \n",
       "\n",
       "   LBDLYMNO  LBDMONO  LBDNENO  LBDEONO       LBDBANO  LBXRBCSI  \n",
       "0       2.0      0.5      2.0      0.2  1.000000e-01      5.09  \n",
       "1       3.4      1.0      7.4      0.8  1.000000e-01      3.84  \n",
       "2       1.0      0.8      4.9      0.4  1.000000e-01      5.53  \n",
       "3       2.3      0.7      4.6      0.1  5.397605e-79      4.61  \n",
       "4       1.4      0.5      4.5      0.2  1.000000e-01      4.72  "
      ]
     },
     "execution_count": 59,
     "metadata": {},
     "output_type": "execute_result"
    }
   ],
   "source": [
    "df_2013cbc = df_2013cbc[list(CBC_column_names.keys())]\n",
    "df_2013cbc.head()"
   ]
  },
  {
   "cell_type": "code",
   "execution_count": 60,
   "metadata": {},
   "outputs": [
    {
     "data": {
      "text/plain": [
       "(9422, 13)"
      ]
     },
     "execution_count": 60,
     "metadata": {},
     "output_type": "execute_result"
    }
   ],
   "source": [
    "df_2013cbc.shape"
   ]
  },
  {
   "cell_type": "code",
   "execution_count": 61,
   "metadata": {},
   "outputs": [
    {
     "name": "stdout",
     "output_type": "stream",
     "text": [
      "<class 'pandas.core.frame.DataFrame'>\n",
      "RangeIndex: 9422 entries, 0 to 9421\n",
      "Data columns (total 13 columns):\n",
      " #   Column    Non-Null Count  Dtype  \n",
      "---  ------    --------------  -----  \n",
      " 0   SEQN      9422 non-null   float64\n",
      " 1   LBXWBCSI  8544 non-null   float64\n",
      " 2   LBXLYPCT  8519 non-null   float64\n",
      " 3   LBXMOPCT  8519 non-null   float64\n",
      " 4   LBXNEPCT  8519 non-null   float64\n",
      " 5   LBXEOPCT  8519 non-null   float64\n",
      " 6   LBXBAPCT  8519 non-null   float64\n",
      " 7   LBDLYMNO  8519 non-null   float64\n",
      " 8   LBDMONO   8519 non-null   float64\n",
      " 9   LBDNENO   8519 non-null   float64\n",
      " 10  LBDEONO   8519 non-null   float64\n",
      " 11  LBDBANO   8519 non-null   float64\n",
      " 12  LBXRBCSI  8544 non-null   float64\n",
      "dtypes: float64(13)\n",
      "memory usage: 957.0 KB\n"
     ]
    }
   ],
   "source": [
    "df_2013cbc.info()"
   ]
  },
  {
   "cell_type": "code",
   "execution_count": 62,
   "metadata": {},
   "outputs": [
    {
     "data": {
      "text/plain": [
       "SEQN          0\n",
       "LBXWBCSI    878\n",
       "LBXLYPCT    903\n",
       "LBXMOPCT    903\n",
       "LBXNEPCT    903\n",
       "LBXEOPCT    903\n",
       "LBXBAPCT    903\n",
       "LBDLYMNO    903\n",
       "LBDMONO     903\n",
       "LBDNENO     903\n",
       "LBDEONO     903\n",
       "LBDBANO     903\n",
       "LBXRBCSI    878\n",
       "dtype: int64"
      ]
     },
     "execution_count": 62,
     "metadata": {},
     "output_type": "execute_result"
    }
   ],
   "source": [
    "df_2013cbc.isna().sum()"
   ]
  },
  {
   "cell_type": "code",
   "execution_count": 63,
   "metadata": {
    "scrolled": true
   },
   "outputs": [
    {
     "data": {
      "text/html": [
       "<div>\n",
       "<style scoped>\n",
       "    .dataframe tbody tr th:only-of-type {\n",
       "        vertical-align: middle;\n",
       "    }\n",
       "\n",
       "    .dataframe tbody tr th {\n",
       "        vertical-align: top;\n",
       "    }\n",
       "\n",
       "    .dataframe thead th {\n",
       "        text-align: right;\n",
       "    }\n",
       "</style>\n",
       "<table border=\"1\" class=\"dataframe\">\n",
       "  <thead>\n",
       "    <tr style=\"text-align: right;\">\n",
       "      <th></th>\n",
       "      <th>SEQN</th>\n",
       "      <th>LBXWBCSI</th>\n",
       "      <th>LBXLYPCT</th>\n",
       "      <th>LBXMOPCT</th>\n",
       "      <th>LBXNEPCT</th>\n",
       "      <th>LBXEOPCT</th>\n",
       "      <th>LBXBAPCT</th>\n",
       "      <th>LBDLYMNO</th>\n",
       "      <th>LBDMONO</th>\n",
       "      <th>LBDNENO</th>\n",
       "      <th>LBDEONO</th>\n",
       "      <th>LBDBANO</th>\n",
       "      <th>LBXRBCSI</th>\n",
       "    </tr>\n",
       "  </thead>\n",
       "  <tbody>\n",
       "    <tr>\n",
       "      <th>10</th>\n",
       "      <td>73570.0</td>\n",
       "      <td>NaN</td>\n",
       "      <td>NaN</td>\n",
       "      <td>NaN</td>\n",
       "      <td>NaN</td>\n",
       "      <td>NaN</td>\n",
       "      <td>NaN</td>\n",
       "      <td>NaN</td>\n",
       "      <td>NaN</td>\n",
       "      <td>NaN</td>\n",
       "      <td>NaN</td>\n",
       "      <td>NaN</td>\n",
       "      <td>NaN</td>\n",
       "    </tr>\n",
       "    <tr>\n",
       "      <th>13</th>\n",
       "      <td>73573.0</td>\n",
       "      <td>NaN</td>\n",
       "      <td>NaN</td>\n",
       "      <td>NaN</td>\n",
       "      <td>NaN</td>\n",
       "      <td>NaN</td>\n",
       "      <td>NaN</td>\n",
       "      <td>NaN</td>\n",
       "      <td>NaN</td>\n",
       "      <td>NaN</td>\n",
       "      <td>NaN</td>\n",
       "      <td>NaN</td>\n",
       "      <td>NaN</td>\n",
       "    </tr>\n",
       "    <tr>\n",
       "      <th>18</th>\n",
       "      <td>73578.0</td>\n",
       "      <td>NaN</td>\n",
       "      <td>NaN</td>\n",
       "      <td>NaN</td>\n",
       "      <td>NaN</td>\n",
       "      <td>NaN</td>\n",
       "      <td>NaN</td>\n",
       "      <td>NaN</td>\n",
       "      <td>NaN</td>\n",
       "      <td>NaN</td>\n",
       "      <td>NaN</td>\n",
       "      <td>NaN</td>\n",
       "      <td>NaN</td>\n",
       "    </tr>\n",
       "    <tr>\n",
       "      <th>22</th>\n",
       "      <td>73582.0</td>\n",
       "      <td>NaN</td>\n",
       "      <td>NaN</td>\n",
       "      <td>NaN</td>\n",
       "      <td>NaN</td>\n",
       "      <td>NaN</td>\n",
       "      <td>NaN</td>\n",
       "      <td>NaN</td>\n",
       "      <td>NaN</td>\n",
       "      <td>NaN</td>\n",
       "      <td>NaN</td>\n",
       "      <td>NaN</td>\n",
       "      <td>NaN</td>\n",
       "    </tr>\n",
       "    <tr>\n",
       "      <th>23</th>\n",
       "      <td>73583.0</td>\n",
       "      <td>NaN</td>\n",
       "      <td>NaN</td>\n",
       "      <td>NaN</td>\n",
       "      <td>NaN</td>\n",
       "      <td>NaN</td>\n",
       "      <td>NaN</td>\n",
       "      <td>NaN</td>\n",
       "      <td>NaN</td>\n",
       "      <td>NaN</td>\n",
       "      <td>NaN</td>\n",
       "      <td>NaN</td>\n",
       "      <td>NaN</td>\n",
       "    </tr>\n",
       "    <tr>\n",
       "      <th>...</th>\n",
       "      <td>...</td>\n",
       "      <td>...</td>\n",
       "      <td>...</td>\n",
       "      <td>...</td>\n",
       "      <td>...</td>\n",
       "      <td>...</td>\n",
       "      <td>...</td>\n",
       "      <td>...</td>\n",
       "      <td>...</td>\n",
       "      <td>...</td>\n",
       "      <td>...</td>\n",
       "      <td>...</td>\n",
       "      <td>...</td>\n",
       "    </tr>\n",
       "    <tr>\n",
       "      <th>9374</th>\n",
       "      <td>83681.0</td>\n",
       "      <td>NaN</td>\n",
       "      <td>NaN</td>\n",
       "      <td>NaN</td>\n",
       "      <td>NaN</td>\n",
       "      <td>NaN</td>\n",
       "      <td>NaN</td>\n",
       "      <td>NaN</td>\n",
       "      <td>NaN</td>\n",
       "      <td>NaN</td>\n",
       "      <td>NaN</td>\n",
       "      <td>NaN</td>\n",
       "      <td>NaN</td>\n",
       "    </tr>\n",
       "    <tr>\n",
       "      <th>9389</th>\n",
       "      <td>83697.0</td>\n",
       "      <td>NaN</td>\n",
       "      <td>NaN</td>\n",
       "      <td>NaN</td>\n",
       "      <td>NaN</td>\n",
       "      <td>NaN</td>\n",
       "      <td>NaN</td>\n",
       "      <td>NaN</td>\n",
       "      <td>NaN</td>\n",
       "      <td>NaN</td>\n",
       "      <td>NaN</td>\n",
       "      <td>NaN</td>\n",
       "      <td>NaN</td>\n",
       "    </tr>\n",
       "    <tr>\n",
       "      <th>9410</th>\n",
       "      <td>83719.0</td>\n",
       "      <td>NaN</td>\n",
       "      <td>NaN</td>\n",
       "      <td>NaN</td>\n",
       "      <td>NaN</td>\n",
       "      <td>NaN</td>\n",
       "      <td>NaN</td>\n",
       "      <td>NaN</td>\n",
       "      <td>NaN</td>\n",
       "      <td>NaN</td>\n",
       "      <td>NaN</td>\n",
       "      <td>NaN</td>\n",
       "      <td>NaN</td>\n",
       "    </tr>\n",
       "    <tr>\n",
       "      <th>9416</th>\n",
       "      <td>83726.0</td>\n",
       "      <td>NaN</td>\n",
       "      <td>NaN</td>\n",
       "      <td>NaN</td>\n",
       "      <td>NaN</td>\n",
       "      <td>NaN</td>\n",
       "      <td>NaN</td>\n",
       "      <td>NaN</td>\n",
       "      <td>NaN</td>\n",
       "      <td>NaN</td>\n",
       "      <td>NaN</td>\n",
       "      <td>NaN</td>\n",
       "      <td>NaN</td>\n",
       "    </tr>\n",
       "    <tr>\n",
       "      <th>9421</th>\n",
       "      <td>83731.0</td>\n",
       "      <td>NaN</td>\n",
       "      <td>NaN</td>\n",
       "      <td>NaN</td>\n",
       "      <td>NaN</td>\n",
       "      <td>NaN</td>\n",
       "      <td>NaN</td>\n",
       "      <td>NaN</td>\n",
       "      <td>NaN</td>\n",
       "      <td>NaN</td>\n",
       "      <td>NaN</td>\n",
       "      <td>NaN</td>\n",
       "      <td>NaN</td>\n",
       "    </tr>\n",
       "  </tbody>\n",
       "</table>\n",
       "<p>878 rows × 13 columns</p>\n",
       "</div>"
      ],
      "text/plain": [
       "         SEQN  LBXWBCSI  LBXLYPCT  LBXMOPCT  LBXNEPCT  LBXEOPCT  LBXBAPCT  \\\n",
       "10    73570.0       NaN       NaN       NaN       NaN       NaN       NaN   \n",
       "13    73573.0       NaN       NaN       NaN       NaN       NaN       NaN   \n",
       "18    73578.0       NaN       NaN       NaN       NaN       NaN       NaN   \n",
       "22    73582.0       NaN       NaN       NaN       NaN       NaN       NaN   \n",
       "23    73583.0       NaN       NaN       NaN       NaN       NaN       NaN   \n",
       "...       ...       ...       ...       ...       ...       ...       ...   \n",
       "9374  83681.0       NaN       NaN       NaN       NaN       NaN       NaN   \n",
       "9389  83697.0       NaN       NaN       NaN       NaN       NaN       NaN   \n",
       "9410  83719.0       NaN       NaN       NaN       NaN       NaN       NaN   \n",
       "9416  83726.0       NaN       NaN       NaN       NaN       NaN       NaN   \n",
       "9421  83731.0       NaN       NaN       NaN       NaN       NaN       NaN   \n",
       "\n",
       "      LBDLYMNO  LBDMONO  LBDNENO  LBDEONO  LBDBANO  LBXRBCSI  \n",
       "10         NaN      NaN      NaN      NaN      NaN       NaN  \n",
       "13         NaN      NaN      NaN      NaN      NaN       NaN  \n",
       "18         NaN      NaN      NaN      NaN      NaN       NaN  \n",
       "22         NaN      NaN      NaN      NaN      NaN       NaN  \n",
       "23         NaN      NaN      NaN      NaN      NaN       NaN  \n",
       "...        ...      ...      ...      ...      ...       ...  \n",
       "9374       NaN      NaN      NaN      NaN      NaN       NaN  \n",
       "9389       NaN      NaN      NaN      NaN      NaN       NaN  \n",
       "9410       NaN      NaN      NaN      NaN      NaN       NaN  \n",
       "9416       NaN      NaN      NaN      NaN      NaN       NaN  \n",
       "9421       NaN      NaN      NaN      NaN      NaN       NaN  \n",
       "\n",
       "[878 rows x 13 columns]"
      ]
     },
     "execution_count": 63,
     "metadata": {},
     "output_type": "execute_result"
    }
   ],
   "source": [
    "df_2013cbc[df_2013cbc[\"LBXRBCSI\"].isna()]"
   ]
  },
  {
   "cell_type": "code",
   "execution_count": 64,
   "metadata": {},
   "outputs": [
    {
     "data": {
      "text/plain": [
       "'Basophils number (1000 cells/uL)'"
      ]
     },
     "execution_count": 64,
     "metadata": {},
     "output_type": "execute_result"
    }
   ],
   "source": [
    "CBC_column_names.get(\"LBDBANO\")"
   ]
  },
  {
   "cell_type": "code",
   "execution_count": 65,
   "metadata": {},
   "outputs": [
    {
     "data": {
      "text/plain": [
       "count    8.519000e+03\n",
       "mean     4.440662e-02\n",
       "std      5.174914e-02\n",
       "min      5.397605e-79\n",
       "25%      5.397605e-79\n",
       "50%      5.397605e-79\n",
       "75%      1.000000e-01\n",
       "max      8.000000e-01\n",
       "Name: LBDBANO, dtype: float64"
      ]
     },
     "execution_count": 65,
     "metadata": {},
     "output_type": "execute_result"
    }
   ],
   "source": [
    "df_2013cbc[\"LBDBANO\"].describe()"
   ]
  },
  {
   "cell_type": "code",
   "execution_count": 66,
   "metadata": {},
   "outputs": [],
   "source": [
    "def CBC_dataframe_cleaning(df,CBC_column_names = CBC_column_names):\n",
    "    df = df[list(CBC_column_names.keys())]\n",
    "    return df"
   ]
  },
  {
   "cell_type": "code",
   "execution_count": 67,
   "metadata": {},
   "outputs": [],
   "source": [
    "import glob\n",
    "\n",
    "DataFrame_Collection = list()\n",
    "\n",
    "files = glob.glob(\"/Users/ruserel/NHANES_CBC_data/*.XPT\")\n",
    "for a in files:\n",
    "    DataFrame_Collection.append( pd.read_sas(a, format='xport', encoding='utf-8'))"
   ]
  },
  {
   "cell_type": "code",
   "execution_count": 68,
   "metadata": {},
   "outputs": [],
   "source": [
    "cbclist = list()\n",
    "for df in DataFrame_Collection:\n",
    "    cbclist.append(CBC_dataframe_cleaning(df))"
   ]
  },
  {
   "cell_type": "code",
   "execution_count": 69,
   "metadata": {},
   "outputs": [],
   "source": [
    "#we are going to merge the data from all files into one data frame\n",
    "CBC_merged_df = cbclist[0]\n",
    "for i in range(1,10):\n",
    "    CBC_merged_df = pd.concat([CBC_merged_df, cbclist[i]])"
   ]
  },
  {
   "cell_type": "code",
   "execution_count": 70,
   "metadata": {
    "scrolled": false
   },
   "outputs": [
    {
     "data": {
      "text/html": [
       "<div>\n",
       "<style scoped>\n",
       "    .dataframe tbody tr th:only-of-type {\n",
       "        vertical-align: middle;\n",
       "    }\n",
       "\n",
       "    .dataframe tbody tr th {\n",
       "        vertical-align: top;\n",
       "    }\n",
       "\n",
       "    .dataframe thead th {\n",
       "        text-align: right;\n",
       "    }\n",
       "</style>\n",
       "<table border=\"1\" class=\"dataframe\">\n",
       "  <thead>\n",
       "    <tr style=\"text-align: right;\">\n",
       "      <th></th>\n",
       "      <th>SEQN</th>\n",
       "      <th>LBXWBCSI</th>\n",
       "      <th>LBXLYPCT</th>\n",
       "      <th>LBXMOPCT</th>\n",
       "      <th>LBXNEPCT</th>\n",
       "      <th>LBXEOPCT</th>\n",
       "      <th>LBXBAPCT</th>\n",
       "      <th>LBDLYMNO</th>\n",
       "      <th>LBDMONO</th>\n",
       "      <th>LBDNENO</th>\n",
       "      <th>LBDEONO</th>\n",
       "      <th>LBDBANO</th>\n",
       "      <th>LBXRBCSI</th>\n",
       "    </tr>\n",
       "  </thead>\n",
       "  <tbody>\n",
       "    <tr>\n",
       "      <th>0</th>\n",
       "      <td>73557.0</td>\n",
       "      <td>4.7</td>\n",
       "      <td>42.2</td>\n",
       "      <td>11.0</td>\n",
       "      <td>42.3</td>\n",
       "      <td>3.4</td>\n",
       "      <td>1.2</td>\n",
       "      <td>2.0</td>\n",
       "      <td>0.5</td>\n",
       "      <td>2.0</td>\n",
       "      <td>0.2</td>\n",
       "      <td>1.000000e-01</td>\n",
       "      <td>5.09</td>\n",
       "    </tr>\n",
       "    <tr>\n",
       "      <th>1</th>\n",
       "      <td>73558.0</td>\n",
       "      <td>12.6</td>\n",
       "      <td>27.3</td>\n",
       "      <td>7.6</td>\n",
       "      <td>58.4</td>\n",
       "      <td>6.1</td>\n",
       "      <td>0.6</td>\n",
       "      <td>3.4</td>\n",
       "      <td>1.0</td>\n",
       "      <td>7.4</td>\n",
       "      <td>0.8</td>\n",
       "      <td>1.000000e-01</td>\n",
       "      <td>3.84</td>\n",
       "    </tr>\n",
       "    <tr>\n",
       "      <th>2</th>\n",
       "      <td>73559.0</td>\n",
       "      <td>7.2</td>\n",
       "      <td>13.9</td>\n",
       "      <td>11.5</td>\n",
       "      <td>68.2</td>\n",
       "      <td>5.6</td>\n",
       "      <td>0.9</td>\n",
       "      <td>1.0</td>\n",
       "      <td>0.8</td>\n",
       "      <td>4.9</td>\n",
       "      <td>0.4</td>\n",
       "      <td>1.000000e-01</td>\n",
       "      <td>5.53</td>\n",
       "    </tr>\n",
       "    <tr>\n",
       "      <th>3</th>\n",
       "      <td>73560.0</td>\n",
       "      <td>7.8</td>\n",
       "      <td>29.6</td>\n",
       "      <td>9.2</td>\n",
       "      <td>59.1</td>\n",
       "      <td>1.7</td>\n",
       "      <td>0.4</td>\n",
       "      <td>2.3</td>\n",
       "      <td>0.7</td>\n",
       "      <td>4.6</td>\n",
       "      <td>0.1</td>\n",
       "      <td>5.397605e-79</td>\n",
       "      <td>4.61</td>\n",
       "    </tr>\n",
       "    <tr>\n",
       "      <th>4</th>\n",
       "      <td>73561.0</td>\n",
       "      <td>6.6</td>\n",
       "      <td>20.5</td>\n",
       "      <td>6.9</td>\n",
       "      <td>68.7</td>\n",
       "      <td>2.4</td>\n",
       "      <td>1.4</td>\n",
       "      <td>1.4</td>\n",
       "      <td>0.5</td>\n",
       "      <td>4.5</td>\n",
       "      <td>0.2</td>\n",
       "      <td>1.000000e-01</td>\n",
       "      <td>4.72</td>\n",
       "    </tr>\n",
       "  </tbody>\n",
       "</table>\n",
       "</div>"
      ],
      "text/plain": [
       "      SEQN  LBXWBCSI  LBXLYPCT  LBXMOPCT  LBXNEPCT  LBXEOPCT  LBXBAPCT  \\\n",
       "0  73557.0       4.7      42.2      11.0      42.3       3.4       1.2   \n",
       "1  73558.0      12.6      27.3       7.6      58.4       6.1       0.6   \n",
       "2  73559.0       7.2      13.9      11.5      68.2       5.6       0.9   \n",
       "3  73560.0       7.8      29.6       9.2      59.1       1.7       0.4   \n",
       "4  73561.0       6.6      20.5       6.9      68.7       2.4       1.4   \n",
       "\n",
       "   LBDLYMNO  LBDMONO  LBDNENO  LBDEONO       LBDBANO  LBXRBCSI  \n",
       "0       2.0      0.5      2.0      0.2  1.000000e-01      5.09  \n",
       "1       3.4      1.0      7.4      0.8  1.000000e-01      3.84  \n",
       "2       1.0      0.8      4.9      0.4  1.000000e-01      5.53  \n",
       "3       2.3      0.7      4.6      0.1  5.397605e-79      4.61  \n",
       "4       1.4      0.5      4.5      0.2  1.000000e-01      4.72  "
      ]
     },
     "execution_count": 70,
     "metadata": {},
     "output_type": "execute_result"
    }
   ],
   "source": [
    "CBC_merged_df.head()"
   ]
  },
  {
   "cell_type": "code",
   "execution_count": 71,
   "metadata": {},
   "outputs": [
    {
     "data": {
      "text/plain": [
       "(92431, 13)"
      ]
     },
     "execution_count": 71,
     "metadata": {},
     "output_type": "execute_result"
    }
   ],
   "source": [
    "CBC_merged_df.shape"
   ]
  },
  {
   "cell_type": "code",
   "execution_count": 72,
   "metadata": {},
   "outputs": [
    {
     "name": "stdout",
     "output_type": "stream",
     "text": [
      "<class 'pandas.core.frame.DataFrame'>\n",
      "Int64Index: 92431 entries, 0 to 9306\n",
      "Data columns (total 13 columns):\n",
      " #   Column    Non-Null Count  Dtype  \n",
      "---  ------    --------------  -----  \n",
      " 0   SEQN      92431 non-null  float64\n",
      " 1   LBXWBCSI  82923 non-null  float64\n",
      " 2   LBXLYPCT  82744 non-null  float64\n",
      " 3   LBXMOPCT  82744 non-null  float64\n",
      " 4   LBXNEPCT  82744 non-null  float64\n",
      " 5   LBXEOPCT  82744 non-null  float64\n",
      " 6   LBXBAPCT  82744 non-null  float64\n",
      " 7   LBDLYMNO  82741 non-null  float64\n",
      " 8   LBDMONO   82741 non-null  float64\n",
      " 9   LBDNENO   82741 non-null  float64\n",
      " 10  LBDEONO   82741 non-null  float64\n",
      " 11  LBDBANO   82741 non-null  float64\n",
      " 12  LBXRBCSI  82926 non-null  float64\n",
      "dtypes: float64(13)\n",
      "memory usage: 9.9 MB\n"
     ]
    }
   ],
   "source": [
    "CBC_merged_df.info()"
   ]
  },
  {
   "cell_type": "code",
   "execution_count": null,
   "metadata": {},
   "outputs": [],
   "source": []
  },
  {
   "cell_type": "code",
   "execution_count": 73,
   "metadata": {},
   "outputs": [
    {
     "data": {
      "text/html": [
       "<div>\n",
       "<style scoped>\n",
       "    .dataframe tbody tr th:only-of-type {\n",
       "        vertical-align: middle;\n",
       "    }\n",
       "\n",
       "    .dataframe tbody tr th {\n",
       "        vertical-align: top;\n",
       "    }\n",
       "\n",
       "    .dataframe thead th {\n",
       "        text-align: right;\n",
       "    }\n",
       "</style>\n",
       "<table border=\"1\" class=\"dataframe\">\n",
       "  <thead>\n",
       "    <tr style=\"text-align: right;\">\n",
       "      <th></th>\n",
       "      <th>SEQN</th>\n",
       "      <th>LBXWBCSI</th>\n",
       "      <th>LBXLYPCT</th>\n",
       "      <th>LBXMOPCT</th>\n",
       "      <th>LBXNEPCT</th>\n",
       "      <th>LBXEOPCT</th>\n",
       "      <th>LBXBAPCT</th>\n",
       "      <th>LBDLYMNO</th>\n",
       "      <th>LBDMONO</th>\n",
       "      <th>LBDNENO</th>\n",
       "      <th>LBDEONO</th>\n",
       "      <th>LBDBANO</th>\n",
       "      <th>LBXRBCSI</th>\n",
       "    </tr>\n",
       "  </thead>\n",
       "  <tbody>\n",
       "    <tr>\n",
       "      <th>0</th>\n",
       "      <td>73557.0</td>\n",
       "      <td>4.7</td>\n",
       "      <td>42.2</td>\n",
       "      <td>11.0</td>\n",
       "      <td>42.3</td>\n",
       "      <td>3.4</td>\n",
       "      <td>1.2</td>\n",
       "      <td>2.0</td>\n",
       "      <td>0.5</td>\n",
       "      <td>2.0</td>\n",
       "      <td>0.2</td>\n",
       "      <td>1.000000e-01</td>\n",
       "      <td>5.09</td>\n",
       "    </tr>\n",
       "    <tr>\n",
       "      <th>1</th>\n",
       "      <td>73558.0</td>\n",
       "      <td>12.6</td>\n",
       "      <td>27.3</td>\n",
       "      <td>7.6</td>\n",
       "      <td>58.4</td>\n",
       "      <td>6.1</td>\n",
       "      <td>0.6</td>\n",
       "      <td>3.4</td>\n",
       "      <td>1.0</td>\n",
       "      <td>7.4</td>\n",
       "      <td>0.8</td>\n",
       "      <td>1.000000e-01</td>\n",
       "      <td>3.84</td>\n",
       "    </tr>\n",
       "    <tr>\n",
       "      <th>2</th>\n",
       "      <td>73559.0</td>\n",
       "      <td>7.2</td>\n",
       "      <td>13.9</td>\n",
       "      <td>11.5</td>\n",
       "      <td>68.2</td>\n",
       "      <td>5.6</td>\n",
       "      <td>0.9</td>\n",
       "      <td>1.0</td>\n",
       "      <td>0.8</td>\n",
       "      <td>4.9</td>\n",
       "      <td>0.4</td>\n",
       "      <td>1.000000e-01</td>\n",
       "      <td>5.53</td>\n",
       "    </tr>\n",
       "    <tr>\n",
       "      <th>3</th>\n",
       "      <td>73560.0</td>\n",
       "      <td>7.8</td>\n",
       "      <td>29.6</td>\n",
       "      <td>9.2</td>\n",
       "      <td>59.1</td>\n",
       "      <td>1.7</td>\n",
       "      <td>0.4</td>\n",
       "      <td>2.3</td>\n",
       "      <td>0.7</td>\n",
       "      <td>4.6</td>\n",
       "      <td>0.1</td>\n",
       "      <td>5.397605e-79</td>\n",
       "      <td>4.61</td>\n",
       "    </tr>\n",
       "    <tr>\n",
       "      <th>4</th>\n",
       "      <td>73561.0</td>\n",
       "      <td>6.6</td>\n",
       "      <td>20.5</td>\n",
       "      <td>6.9</td>\n",
       "      <td>68.7</td>\n",
       "      <td>2.4</td>\n",
       "      <td>1.4</td>\n",
       "      <td>1.4</td>\n",
       "      <td>0.5</td>\n",
       "      <td>4.5</td>\n",
       "      <td>0.2</td>\n",
       "      <td>1.000000e-01</td>\n",
       "      <td>4.72</td>\n",
       "    </tr>\n",
       "  </tbody>\n",
       "</table>\n",
       "</div>"
      ],
      "text/plain": [
       "      SEQN  LBXWBCSI  LBXLYPCT  LBXMOPCT  LBXNEPCT  LBXEOPCT  LBXBAPCT  \\\n",
       "0  73557.0       4.7      42.2      11.0      42.3       3.4       1.2   \n",
       "1  73558.0      12.6      27.3       7.6      58.4       6.1       0.6   \n",
       "2  73559.0       7.2      13.9      11.5      68.2       5.6       0.9   \n",
       "3  73560.0       7.8      29.6       9.2      59.1       1.7       0.4   \n",
       "4  73561.0       6.6      20.5       6.9      68.7       2.4       1.4   \n",
       "\n",
       "   LBDLYMNO  LBDMONO  LBDNENO  LBDEONO       LBDBANO  LBXRBCSI  \n",
       "0       2.0      0.5      2.0      0.2  1.000000e-01      5.09  \n",
       "1       3.4      1.0      7.4      0.8  1.000000e-01      3.84  \n",
       "2       1.0      0.8      4.9      0.4  1.000000e-01      5.53  \n",
       "3       2.3      0.7      4.6      0.1  5.397605e-79      4.61  \n",
       "4       1.4      0.5      4.5      0.2  1.000000e-01      4.72  "
      ]
     },
     "execution_count": 73,
     "metadata": {},
     "output_type": "execute_result"
    }
   ],
   "source": [
    "CBC_merged_df.head()"
   ]
  },
  {
   "cell_type": "markdown",
   "metadata": {},
   "source": [
    "**END OF CBC DATA**"
   ]
  },
  {
   "cell_type": "code",
   "execution_count": 74,
   "metadata": {},
   "outputs": [],
   "source": [
    "HIV_column_names = {'SEQN': 'Respondent sequence number', \n",
    "                    'LBDHI': 'HIV Result (western blot)'\n",
    "}"
   ]
  },
  {
   "cell_type": "code",
   "execution_count": 75,
   "metadata": {},
   "outputs": [
    {
     "data": {
      "text/html": [
       "<div>\n",
       "<style scoped>\n",
       "    .dataframe tbody tr th:only-of-type {\n",
       "        vertical-align: middle;\n",
       "    }\n",
       "\n",
       "    .dataframe tbody tr th {\n",
       "        vertical-align: top;\n",
       "    }\n",
       "\n",
       "    .dataframe thead th {\n",
       "        text-align: right;\n",
       "    }\n",
       "</style>\n",
       "<table border=\"1\" class=\"dataframe\">\n",
       "  <thead>\n",
       "    <tr style=\"text-align: right;\">\n",
       "      <th></th>\n",
       "      <th>SEQN</th>\n",
       "      <th>LBXHIVC</th>\n",
       "      <th>LBXHIV1</th>\n",
       "      <th>LBXHIV2</th>\n",
       "      <th>LBXHNAT</th>\n",
       "    </tr>\n",
       "  </thead>\n",
       "  <tbody>\n",
       "    <tr>\n",
       "      <th>0</th>\n",
       "      <td>83733.0</td>\n",
       "      <td>2.0</td>\n",
       "      <td>NaN</td>\n",
       "      <td>NaN</td>\n",
       "      <td>NaN</td>\n",
       "    </tr>\n",
       "    <tr>\n",
       "      <th>1</th>\n",
       "      <td>83735.0</td>\n",
       "      <td>2.0</td>\n",
       "      <td>NaN</td>\n",
       "      <td>NaN</td>\n",
       "      <td>NaN</td>\n",
       "    </tr>\n",
       "    <tr>\n",
       "      <th>2</th>\n",
       "      <td>83736.0</td>\n",
       "      <td>2.0</td>\n",
       "      <td>NaN</td>\n",
       "      <td>NaN</td>\n",
       "      <td>NaN</td>\n",
       "    </tr>\n",
       "    <tr>\n",
       "      <th>3</th>\n",
       "      <td>83741.0</td>\n",
       "      <td>2.0</td>\n",
       "      <td>NaN</td>\n",
       "      <td>NaN</td>\n",
       "      <td>NaN</td>\n",
       "    </tr>\n",
       "    <tr>\n",
       "      <th>4</th>\n",
       "      <td>83742.0</td>\n",
       "      <td>2.0</td>\n",
       "      <td>NaN</td>\n",
       "      <td>NaN</td>\n",
       "      <td>NaN</td>\n",
       "    </tr>\n",
       "  </tbody>\n",
       "</table>\n",
       "</div>"
      ],
      "text/plain": [
       "      SEQN  LBXHIVC  LBXHIV1  LBXHIV2  LBXHNAT\n",
       "0  83733.0      2.0      NaN      NaN      NaN\n",
       "1  83735.0      2.0      NaN      NaN      NaN\n",
       "2  83736.0      2.0      NaN      NaN      NaN\n",
       "3  83741.0      2.0      NaN      NaN      NaN\n",
       "4  83742.0      2.0      NaN      NaN      NaN"
      ]
     },
     "execution_count": 75,
     "metadata": {},
     "output_type": "execute_result"
    }
   ],
   "source": [
    "df_2015HIV = pd.read_sas('/Users/ruserel/HIV_I.XPT', format='xport', encoding='utf-8')\n",
    "df_2015HIV.head(5)"
   ]
  },
  {
   "cell_type": "code",
   "execution_count": 76,
   "metadata": {},
   "outputs": [
    {
     "data": {
      "text/html": [
       "<div>\n",
       "<style scoped>\n",
       "    .dataframe tbody tr th:only-of-type {\n",
       "        vertical-align: middle;\n",
       "    }\n",
       "\n",
       "    .dataframe tbody tr th {\n",
       "        vertical-align: top;\n",
       "    }\n",
       "\n",
       "    .dataframe thead th {\n",
       "        text-align: right;\n",
       "    }\n",
       "</style>\n",
       "<table border=\"1\" class=\"dataframe\">\n",
       "  <thead>\n",
       "    <tr style=\"text-align: right;\">\n",
       "      <th></th>\n",
       "      <th>SEQN</th>\n",
       "      <th>LBDHI</th>\n",
       "      <th>LBXHIV1</th>\n",
       "      <th>LBXHIV2</th>\n",
       "      <th>LBXHNAT</th>\n",
       "    </tr>\n",
       "  </thead>\n",
       "  <tbody>\n",
       "    <tr>\n",
       "      <th>0</th>\n",
       "      <td>83733.0</td>\n",
       "      <td>2.0</td>\n",
       "      <td>NaN</td>\n",
       "      <td>NaN</td>\n",
       "      <td>NaN</td>\n",
       "    </tr>\n",
       "    <tr>\n",
       "      <th>1</th>\n",
       "      <td>83735.0</td>\n",
       "      <td>2.0</td>\n",
       "      <td>NaN</td>\n",
       "      <td>NaN</td>\n",
       "      <td>NaN</td>\n",
       "    </tr>\n",
       "    <tr>\n",
       "      <th>2</th>\n",
       "      <td>83736.0</td>\n",
       "      <td>2.0</td>\n",
       "      <td>NaN</td>\n",
       "      <td>NaN</td>\n",
       "      <td>NaN</td>\n",
       "    </tr>\n",
       "    <tr>\n",
       "      <th>3</th>\n",
       "      <td>83741.0</td>\n",
       "      <td>2.0</td>\n",
       "      <td>NaN</td>\n",
       "      <td>NaN</td>\n",
       "      <td>NaN</td>\n",
       "    </tr>\n",
       "    <tr>\n",
       "      <th>4</th>\n",
       "      <td>83742.0</td>\n",
       "      <td>2.0</td>\n",
       "      <td>NaN</td>\n",
       "      <td>NaN</td>\n",
       "      <td>NaN</td>\n",
       "    </tr>\n",
       "  </tbody>\n",
       "</table>\n",
       "</div>"
      ],
      "text/plain": [
       "      SEQN  LBDHI  LBXHIV1  LBXHIV2  LBXHNAT\n",
       "0  83733.0    2.0      NaN      NaN      NaN\n",
       "1  83735.0    2.0      NaN      NaN      NaN\n",
       "2  83736.0    2.0      NaN      NaN      NaN\n",
       "3  83741.0    2.0      NaN      NaN      NaN\n",
       "4  83742.0    2.0      NaN      NaN      NaN"
      ]
     },
     "execution_count": 76,
     "metadata": {},
     "output_type": "execute_result"
    }
   ],
   "source": [
    "df_2015HIV = df_2015HIV.rename(columns = {'LBXHIVC':'LBDHI'})\n",
    "df_2015HIV.head()"
   ]
  },
  {
   "cell_type": "code",
   "execution_count": 77,
   "metadata": {},
   "outputs": [
    {
     "data": {
      "text/html": [
       "<div>\n",
       "<style scoped>\n",
       "    .dataframe tbody tr th:only-of-type {\n",
       "        vertical-align: middle;\n",
       "    }\n",
       "\n",
       "    .dataframe tbody tr th {\n",
       "        vertical-align: top;\n",
       "    }\n",
       "\n",
       "    .dataframe thead th {\n",
       "        text-align: right;\n",
       "    }\n",
       "</style>\n",
       "<table border=\"1\" class=\"dataframe\">\n",
       "  <thead>\n",
       "    <tr style=\"text-align: right;\">\n",
       "      <th></th>\n",
       "      <th>SEQN</th>\n",
       "      <th>LBXHIVC</th>\n",
       "      <th>LBXHIV1</th>\n",
       "      <th>LBXHIV2</th>\n",
       "      <th>LBXHNAT</th>\n",
       "    </tr>\n",
       "  </thead>\n",
       "  <tbody>\n",
       "    <tr>\n",
       "      <th>0</th>\n",
       "      <td>93706.0</td>\n",
       "      <td>2.0</td>\n",
       "      <td>NaN</td>\n",
       "      <td>NaN</td>\n",
       "      <td>NaN</td>\n",
       "    </tr>\n",
       "    <tr>\n",
       "      <th>1</th>\n",
       "      <td>93711.0</td>\n",
       "      <td>2.0</td>\n",
       "      <td>NaN</td>\n",
       "      <td>NaN</td>\n",
       "      <td>NaN</td>\n",
       "    </tr>\n",
       "    <tr>\n",
       "      <th>2</th>\n",
       "      <td>93712.0</td>\n",
       "      <td>2.0</td>\n",
       "      <td>NaN</td>\n",
       "      <td>NaN</td>\n",
       "      <td>NaN</td>\n",
       "    </tr>\n",
       "    <tr>\n",
       "      <th>3</th>\n",
       "      <td>93714.0</td>\n",
       "      <td>2.0</td>\n",
       "      <td>NaN</td>\n",
       "      <td>NaN</td>\n",
       "      <td>NaN</td>\n",
       "    </tr>\n",
       "    <tr>\n",
       "      <th>4</th>\n",
       "      <td>93717.0</td>\n",
       "      <td>2.0</td>\n",
       "      <td>NaN</td>\n",
       "      <td>NaN</td>\n",
       "      <td>NaN</td>\n",
       "    </tr>\n",
       "  </tbody>\n",
       "</table>\n",
       "</div>"
      ],
      "text/plain": [
       "      SEQN  LBXHIVC  LBXHIV1  LBXHIV2  LBXHNAT\n",
       "0  93706.0      2.0      NaN      NaN      NaN\n",
       "1  93711.0      2.0      NaN      NaN      NaN\n",
       "2  93712.0      2.0      NaN      NaN      NaN\n",
       "3  93714.0      2.0      NaN      NaN      NaN\n",
       "4  93717.0      2.0      NaN      NaN      NaN"
      ]
     },
     "execution_count": 77,
     "metadata": {},
     "output_type": "execute_result"
    }
   ],
   "source": [
    "df_2017HIV = pd.read_sas('/Users/ruserel/HIV_J.XPT', format='xport', encoding='utf-8')\n",
    "df_2017HIV.head(5)"
   ]
  },
  {
   "cell_type": "code",
   "execution_count": 78,
   "metadata": {},
   "outputs": [
    {
     "data": {
      "text/html": [
       "<div>\n",
       "<style scoped>\n",
       "    .dataframe tbody tr th:only-of-type {\n",
       "        vertical-align: middle;\n",
       "    }\n",
       "\n",
       "    .dataframe tbody tr th {\n",
       "        vertical-align: top;\n",
       "    }\n",
       "\n",
       "    .dataframe thead th {\n",
       "        text-align: right;\n",
       "    }\n",
       "</style>\n",
       "<table border=\"1\" class=\"dataframe\">\n",
       "  <thead>\n",
       "    <tr style=\"text-align: right;\">\n",
       "      <th></th>\n",
       "      <th>SEQN</th>\n",
       "      <th>LBDHI</th>\n",
       "      <th>LBXHIV1</th>\n",
       "      <th>LBXHIV2</th>\n",
       "      <th>LBXHNAT</th>\n",
       "    </tr>\n",
       "  </thead>\n",
       "  <tbody>\n",
       "    <tr>\n",
       "      <th>0</th>\n",
       "      <td>93706.0</td>\n",
       "      <td>2.0</td>\n",
       "      <td>NaN</td>\n",
       "      <td>NaN</td>\n",
       "      <td>NaN</td>\n",
       "    </tr>\n",
       "    <tr>\n",
       "      <th>1</th>\n",
       "      <td>93711.0</td>\n",
       "      <td>2.0</td>\n",
       "      <td>NaN</td>\n",
       "      <td>NaN</td>\n",
       "      <td>NaN</td>\n",
       "    </tr>\n",
       "    <tr>\n",
       "      <th>2</th>\n",
       "      <td>93712.0</td>\n",
       "      <td>2.0</td>\n",
       "      <td>NaN</td>\n",
       "      <td>NaN</td>\n",
       "      <td>NaN</td>\n",
       "    </tr>\n",
       "    <tr>\n",
       "      <th>3</th>\n",
       "      <td>93714.0</td>\n",
       "      <td>2.0</td>\n",
       "      <td>NaN</td>\n",
       "      <td>NaN</td>\n",
       "      <td>NaN</td>\n",
       "    </tr>\n",
       "    <tr>\n",
       "      <th>4</th>\n",
       "      <td>93717.0</td>\n",
       "      <td>2.0</td>\n",
       "      <td>NaN</td>\n",
       "      <td>NaN</td>\n",
       "      <td>NaN</td>\n",
       "    </tr>\n",
       "  </tbody>\n",
       "</table>\n",
       "</div>"
      ],
      "text/plain": [
       "      SEQN  LBDHI  LBXHIV1  LBXHIV2  LBXHNAT\n",
       "0  93706.0    2.0      NaN      NaN      NaN\n",
       "1  93711.0    2.0      NaN      NaN      NaN\n",
       "2  93712.0    2.0      NaN      NaN      NaN\n",
       "3  93714.0    2.0      NaN      NaN      NaN\n",
       "4  93717.0    2.0      NaN      NaN      NaN"
      ]
     },
     "execution_count": 78,
     "metadata": {},
     "output_type": "execute_result"
    }
   ],
   "source": [
    "df_2017HIV = df_2017HIV.rename(columns = {'LBXHIVC':'LBDHI'})\n",
    "df_2017HIV.head()"
   ]
  },
  {
   "cell_type": "code",
   "execution_count": 79,
   "metadata": {},
   "outputs": [
    {
     "data": {
      "text/html": [
       "<div>\n",
       "<style scoped>\n",
       "    .dataframe tbody tr th:only-of-type {\n",
       "        vertical-align: middle;\n",
       "    }\n",
       "\n",
       "    .dataframe tbody tr th {\n",
       "        vertical-align: top;\n",
       "    }\n",
       "\n",
       "    .dataframe thead th {\n",
       "        text-align: right;\n",
       "    }\n",
       "</style>\n",
       "<table border=\"1\" class=\"dataframe\">\n",
       "  <thead>\n",
       "    <tr style=\"text-align: right;\">\n",
       "      <th></th>\n",
       "      <th>SEQN</th>\n",
       "      <th>LBDHI</th>\n",
       "      <th>LBXCD4</th>\n",
       "      <th>LBXCD8</th>\n",
       "    </tr>\n",
       "  </thead>\n",
       "  <tbody>\n",
       "    <tr>\n",
       "      <th>0</th>\n",
       "      <td>9966.0</td>\n",
       "      <td>2.0</td>\n",
       "      <td>NaN</td>\n",
       "      <td>NaN</td>\n",
       "    </tr>\n",
       "    <tr>\n",
       "      <th>1</th>\n",
       "      <td>9967.0</td>\n",
       "      <td>2.0</td>\n",
       "      <td>NaN</td>\n",
       "      <td>NaN</td>\n",
       "    </tr>\n",
       "    <tr>\n",
       "      <th>2</th>\n",
       "      <td>9972.0</td>\n",
       "      <td>2.0</td>\n",
       "      <td>NaN</td>\n",
       "      <td>NaN</td>\n",
       "    </tr>\n",
       "    <tr>\n",
       "      <th>3</th>\n",
       "      <td>9976.0</td>\n",
       "      <td>2.0</td>\n",
       "      <td>NaN</td>\n",
       "      <td>NaN</td>\n",
       "    </tr>\n",
       "    <tr>\n",
       "      <th>4</th>\n",
       "      <td>9984.0</td>\n",
       "      <td>2.0</td>\n",
       "      <td>NaN</td>\n",
       "      <td>NaN</td>\n",
       "    </tr>\n",
       "  </tbody>\n",
       "</table>\n",
       "</div>"
      ],
      "text/plain": [
       "     SEQN  LBDHI  LBXCD4  LBXCD8\n",
       "0  9966.0    2.0     NaN     NaN\n",
       "1  9967.0    2.0     NaN     NaN\n",
       "2  9972.0    2.0     NaN     NaN\n",
       "3  9976.0    2.0     NaN     NaN\n",
       "4  9984.0    2.0     NaN     NaN"
      ]
     },
     "execution_count": 79,
     "metadata": {},
     "output_type": "execute_result"
    }
   ],
   "source": [
    "df_2001HIV = pd.read_sas('/Users/ruserel/L03_B.XPT', format='xport', encoding='utf-8')\n",
    "df_2001HIV.head(5)\n"
   ]
  },
  {
   "cell_type": "code",
   "execution_count": 80,
   "metadata": {},
   "outputs": [
    {
     "data": {
      "text/html": [
       "<div>\n",
       "<style scoped>\n",
       "    .dataframe tbody tr th:only-of-type {\n",
       "        vertical-align: middle;\n",
       "    }\n",
       "\n",
       "    .dataframe tbody tr th {\n",
       "        vertical-align: top;\n",
       "    }\n",
       "\n",
       "    .dataframe thead th {\n",
       "        text-align: right;\n",
       "    }\n",
       "</style>\n",
       "<table border=\"1\" class=\"dataframe\">\n",
       "  <thead>\n",
       "    <tr style=\"text-align: right;\">\n",
       "      <th></th>\n",
       "      <th>SEQN</th>\n",
       "      <th>LBDHI</th>\n",
       "    </tr>\n",
       "  </thead>\n",
       "  <tbody>\n",
       "    <tr>\n",
       "      <th>0</th>\n",
       "      <td>9966.0</td>\n",
       "      <td>2.0</td>\n",
       "    </tr>\n",
       "    <tr>\n",
       "      <th>1</th>\n",
       "      <td>9967.0</td>\n",
       "      <td>2.0</td>\n",
       "    </tr>\n",
       "    <tr>\n",
       "      <th>2</th>\n",
       "      <td>9972.0</td>\n",
       "      <td>2.0</td>\n",
       "    </tr>\n",
       "    <tr>\n",
       "      <th>3</th>\n",
       "      <td>9976.0</td>\n",
       "      <td>2.0</td>\n",
       "    </tr>\n",
       "    <tr>\n",
       "      <th>4</th>\n",
       "      <td>9984.0</td>\n",
       "      <td>2.0</td>\n",
       "    </tr>\n",
       "  </tbody>\n",
       "</table>\n",
       "</div>"
      ],
      "text/plain": [
       "     SEQN  LBDHI\n",
       "0  9966.0    2.0\n",
       "1  9967.0    2.0\n",
       "2  9972.0    2.0\n",
       "3  9976.0    2.0\n",
       "4  9984.0    2.0"
      ]
     },
     "execution_count": 80,
     "metadata": {},
     "output_type": "execute_result"
    }
   ],
   "source": [
    "df_2001HIV = df_2001HIV[['SEQN', 'LBDHI']]\n",
    "df_2001HIV.head()\n"
   ]
  },
  {
   "cell_type": "code",
   "execution_count": 81,
   "metadata": {},
   "outputs": [],
   "source": [
    "def LBDHI_dataframe_cleaning(df,):\n",
    "    df = df[['SEQN', 'LBDHI']]\n",
    "    return df"
   ]
  },
  {
   "cell_type": "code",
   "execution_count": 82,
   "metadata": {},
   "outputs": [],
   "source": [
    "import glob\n",
    "\n",
    "DataFrame_Collection = list()\n",
    "DataFrame_Collection.append(df_2015HIV)\n",
    "DataFrame_Collection.append(df_2017HIV)\n",
    "\n",
    "files = glob.glob(\"/Users/ruserel/NHANES_HIV_data/LBDHI/*.XPT\")\n",
    "for a in files:\n",
    "    DataFrame_Collection.append( pd.read_sas(a, format='xport', encoding='utf-8'))"
   ]
  },
  {
   "cell_type": "code",
   "execution_count": 83,
   "metadata": {},
   "outputs": [],
   "source": [
    "hivlist = list()\n",
    "for df in DataFrame_Collection:\n",
    "    hivlist.append(LBDHI_dataframe_cleaning(df))"
   ]
  },
  {
   "cell_type": "code",
   "execution_count": 84,
   "metadata": {},
   "outputs": [],
   "source": [
    "hiv_merged_df = hivlist[0]\n",
    "for i in range(1,10):\n",
    "    hiv_merged_df = pd.concat([hiv_merged_df, hivlist[i]])"
   ]
  },
  {
   "cell_type": "code",
   "execution_count": 85,
   "metadata": {},
   "outputs": [
    {
     "data": {
      "text/plain": [
       "(35232, 2)"
      ]
     },
     "execution_count": 85,
     "metadata": {},
     "output_type": "execute_result"
    }
   ],
   "source": [
    "hiv_merged_df.shape"
   ]
  },
  {
   "cell_type": "markdown",
   "metadata": {},
   "source": [
    "END OF HIV DATA"
   ]
  },
  {
   "cell_type": "code",
   "execution_count": 86,
   "metadata": {},
   "outputs": [],
   "source": [
    "CUSEZN_column_names = {'SEQN': 'Respondent sequence number',\n",
    "'WTSA2YR': 'Subsample A weights',\n",
    "'LBXSCU': 'Serum Copper (ug/dL)',\n",
    "'LBDSCUSI': 'Serum Copper (umol/L)',\n",
    "'LBXSSE': 'Serum Selenium (ug/L)',\n",
    "'LBDSSESI': 'Serum Selenium (umol/L)',\n",
    "'LBXSZN': 'Serum Zinc (ug/dL)',\n",
    "'LBDSZNSI': 'Serum Zinc (umol/L)'\n",
    "}\n",
    "\n",
    "def CUSEZN_dataframe_cleaning(df):\n",
    "    df = df[list(CUSEZN_column_names.keys())]\n",
    "    return df"
   ]
  },
  {
   "cell_type": "code",
   "execution_count": 87,
   "metadata": {},
   "outputs": [],
   "source": [
    "import glob\n",
    "\n",
    "DataFrame_Collection = list()\n",
    "\n",
    "files = glob.glob(\"/Users/ruserel/NHANES_CUSEZN_data/*.XPT\")\n",
    "for a in files:\n",
    "    DataFrame_Collection.append( pd.read_sas(a, format='xport', encoding='utf-8'))"
   ]
  },
  {
   "cell_type": "code",
   "execution_count": 88,
   "metadata": {},
   "outputs": [],
   "source": [
    "cuseznlist = list()\n",
    "for df in DataFrame_Collection:\n",
    "    cuseznlist.append(CUSEZN_dataframe_cleaning(df))"
   ]
  },
  {
   "cell_type": "code",
   "execution_count": 89,
   "metadata": {},
   "outputs": [],
   "source": [
    "cusezn_merged_df = cuseznlist[0]\n",
    "for i in range(1,3):\n",
    "    cusezn_merged_df = pd.concat([cusezn_merged_df, cuseznlist[i]])"
   ]
  },
  {
   "cell_type": "code",
   "execution_count": 90,
   "metadata": {},
   "outputs": [
    {
     "data": {
      "text/plain": [
       "(8041, 8)"
      ]
     },
     "execution_count": 90,
     "metadata": {},
     "output_type": "execute_result"
    }
   ],
   "source": [
    "cusezn_merged_df.shape"
   ]
  },
  {
   "cell_type": "code",
   "execution_count": 91,
   "metadata": {},
   "outputs": [
    {
     "data": {
      "text/html": [
       "<div>\n",
       "<style scoped>\n",
       "    .dataframe tbody tr th:only-of-type {\n",
       "        vertical-align: middle;\n",
       "    }\n",
       "\n",
       "    .dataframe tbody tr th {\n",
       "        vertical-align: top;\n",
       "    }\n",
       "\n",
       "    .dataframe thead th {\n",
       "        text-align: right;\n",
       "    }\n",
       "</style>\n",
       "<table border=\"1\" class=\"dataframe\">\n",
       "  <thead>\n",
       "    <tr style=\"text-align: right;\">\n",
       "      <th></th>\n",
       "      <th>SEQN</th>\n",
       "      <th>WTSA2YR</th>\n",
       "      <th>LBXSCU</th>\n",
       "      <th>LBDSCUSI</th>\n",
       "      <th>LBXSSE</th>\n",
       "      <th>LBDSSESI</th>\n",
       "      <th>LBXSZN</th>\n",
       "      <th>LBDSZNSI</th>\n",
       "    </tr>\n",
       "  </thead>\n",
       "  <tbody>\n",
       "    <tr>\n",
       "      <th>0</th>\n",
       "      <td>83732.0</td>\n",
       "      <td>417813.769575</td>\n",
       "      <td>87.8</td>\n",
       "      <td>13.78</td>\n",
       "      <td>141.1</td>\n",
       "      <td>1.79</td>\n",
       "      <td>88.5</td>\n",
       "      <td>13.54</td>\n",
       "    </tr>\n",
       "    <tr>\n",
       "      <th>1</th>\n",
       "      <td>83733.0</td>\n",
       "      <td>69865.162481</td>\n",
       "      <td>100.7</td>\n",
       "      <td>15.81</td>\n",
       "      <td>130.4</td>\n",
       "      <td>1.66</td>\n",
       "      <td>100.6</td>\n",
       "      <td>15.39</td>\n",
       "    </tr>\n",
       "    <tr>\n",
       "      <th>2</th>\n",
       "      <td>83734.0</td>\n",
       "      <td>38740.527210</td>\n",
       "      <td>123.0</td>\n",
       "      <td>19.31</td>\n",
       "      <td>126.4</td>\n",
       "      <td>1.61</td>\n",
       "      <td>98.7</td>\n",
       "      <td>15.10</td>\n",
       "    </tr>\n",
       "    <tr>\n",
       "      <th>3</th>\n",
       "      <td>83738.0</td>\n",
       "      <td>30315.182631</td>\n",
       "      <td>120.0</td>\n",
       "      <td>18.84</td>\n",
       "      <td>110.4</td>\n",
       "      <td>1.40</td>\n",
       "      <td>61.1</td>\n",
       "      <td>9.35</td>\n",
       "    </tr>\n",
       "    <tr>\n",
       "      <th>4</th>\n",
       "      <td>83741.0</td>\n",
       "      <td>112509.311779</td>\n",
       "      <td>92.6</td>\n",
       "      <td>14.54</td>\n",
       "      <td>119.9</td>\n",
       "      <td>1.52</td>\n",
       "      <td>86.2</td>\n",
       "      <td>13.19</td>\n",
       "    </tr>\n",
       "  </tbody>\n",
       "</table>\n",
       "</div>"
      ],
      "text/plain": [
       "      SEQN        WTSA2YR  LBXSCU  LBDSCUSI  LBXSSE  LBDSSESI  LBXSZN  \\\n",
       "0  83732.0  417813.769575    87.8     13.78   141.1      1.79    88.5   \n",
       "1  83733.0   69865.162481   100.7     15.81   130.4      1.66   100.6   \n",
       "2  83734.0   38740.527210   123.0     19.31   126.4      1.61    98.7   \n",
       "3  83738.0   30315.182631   120.0     18.84   110.4      1.40    61.1   \n",
       "4  83741.0  112509.311779    92.6     14.54   119.9      1.52    86.2   \n",
       "\n",
       "   LBDSZNSI  \n",
       "0     13.54  \n",
       "1     15.39  \n",
       "2     15.10  \n",
       "3      9.35  \n",
       "4     13.19  "
      ]
     },
     "execution_count": 91,
     "metadata": {},
     "output_type": "execute_result"
    }
   ],
   "source": [
    "cusezn_merged_df.head()"
   ]
  },
  {
   "cell_type": "markdown",
   "metadata": {},
   "source": [
    "********END OF CUSEZN DATA*******"
   ]
  },
  {
   "cell_type": "code",
   "execution_count": 92,
   "metadata": {},
   "outputs": [],
   "source": [
    "FERRITIN_columns = {'SEQN': 'Respondent sequence number', \n",
    "                    'LBDFERSI': 'Ferritin (ug/L)'\n",
    "}"
   ]
  },
  {
   "cell_type": "code",
   "execution_count": 93,
   "metadata": {},
   "outputs": [
    {
     "data": {
      "text/html": [
       "<div>\n",
       "<style scoped>\n",
       "    .dataframe tbody tr th:only-of-type {\n",
       "        vertical-align: middle;\n",
       "    }\n",
       "\n",
       "    .dataframe tbody tr th {\n",
       "        vertical-align: top;\n",
       "    }\n",
       "\n",
       "    .dataframe thead th {\n",
       "        text-align: right;\n",
       "    }\n",
       "</style>\n",
       "<table border=\"1\" class=\"dataframe\">\n",
       "  <thead>\n",
       "    <tr style=\"text-align: right;\">\n",
       "      <th></th>\n",
       "      <th>SEQN</th>\n",
       "      <th>LBXFER</th>\n",
       "      <th>LBDFERSI</th>\n",
       "    </tr>\n",
       "  </thead>\n",
       "  <tbody>\n",
       "    <tr>\n",
       "      <th>0</th>\n",
       "      <td>93703.0</td>\n",
       "      <td>NaN</td>\n",
       "      <td>NaN</td>\n",
       "    </tr>\n",
       "    <tr>\n",
       "      <th>1</th>\n",
       "      <td>93704.0</td>\n",
       "      <td>36.6</td>\n",
       "      <td>36.6</td>\n",
       "    </tr>\n",
       "    <tr>\n",
       "      <th>2</th>\n",
       "      <td>93705.0</td>\n",
       "      <td>28.7</td>\n",
       "      <td>28.7</td>\n",
       "    </tr>\n",
       "    <tr>\n",
       "      <th>3</th>\n",
       "      <td>93706.0</td>\n",
       "      <td>284.0</td>\n",
       "      <td>284.0</td>\n",
       "    </tr>\n",
       "    <tr>\n",
       "      <th>4</th>\n",
       "      <td>93707.0</td>\n",
       "      <td>49.3</td>\n",
       "      <td>49.3</td>\n",
       "    </tr>\n",
       "  </tbody>\n",
       "</table>\n",
       "</div>"
      ],
      "text/plain": [
       "      SEQN  LBXFER  LBDFERSI\n",
       "0  93703.0     NaN       NaN\n",
       "1  93704.0    36.6      36.6\n",
       "2  93705.0    28.7      28.7\n",
       "3  93706.0   284.0     284.0\n",
       "4  93707.0    49.3      49.3"
      ]
     },
     "execution_count": 93,
     "metadata": {},
     "output_type": "execute_result"
    }
   ],
   "source": [
    "df_2017ferritin = pd.read_sas('/Users/ruserel/FERTIN_J.XPT', format='xport', encoding='utf-8')\n",
    "df_2017ferritin.head(5)"
   ]
  },
  {
   "cell_type": "code",
   "execution_count": 94,
   "metadata": {},
   "outputs": [],
   "source": [
    "def FERRITIN_dataframe_cleaning(df):\n",
    "    df = df[['SEQN', 'LBDFERSI']]\n",
    "    return df"
   ]
  },
  {
   "cell_type": "code",
   "execution_count": 95,
   "metadata": {},
   "outputs": [],
   "source": [
    "import glob\n",
    "\n",
    "DataFrame_Collection = list()\n",
    "\n",
    "files = glob.glob(\"/Users/ruserel/NHANES_Ferritin_data/*.XPT\")\n",
    "for a in files:\n",
    "    DataFrame_Collection.append( pd.read_sas(a, format='xport', encoding='utf-8'))"
   ]
  },
  {
   "cell_type": "code",
   "execution_count": 96,
   "metadata": {},
   "outputs": [],
   "source": [
    "fertinlist = list()\n",
    "for df in DataFrame_Collection:\n",
    "    fertinlist.append(FERRITIN_dataframe_cleaning(df))"
   ]
  },
  {
   "cell_type": "code",
   "execution_count": 97,
   "metadata": {},
   "outputs": [],
   "source": [
    "fertin_merged_df = fertinlist[0]\n",
    "for i in range(1,6):\n",
    "    fertin_merged_df = pd.concat([fertin_merged_df, fertinlist[i]])"
   ]
  },
  {
   "cell_type": "code",
   "execution_count": 98,
   "metadata": {},
   "outputs": [
    {
     "data": {
      "text/plain": [
       "(24758, 2)"
      ]
     },
     "execution_count": 98,
     "metadata": {},
     "output_type": "execute_result"
    }
   ],
   "source": [
    "fertin_merged_df.shape"
   ]
  },
  {
   "cell_type": "code",
   "execution_count": 99,
   "metadata": {},
   "outputs": [
    {
     "data": {
      "text/html": [
       "<div>\n",
       "<style scoped>\n",
       "    .dataframe tbody tr th:only-of-type {\n",
       "        vertical-align: middle;\n",
       "    }\n",
       "\n",
       "    .dataframe tbody tr th {\n",
       "        vertical-align: top;\n",
       "    }\n",
       "\n",
       "    .dataframe thead th {\n",
       "        text-align: right;\n",
       "    }\n",
       "</style>\n",
       "<table border=\"1\" class=\"dataframe\">\n",
       "  <thead>\n",
       "    <tr style=\"text-align: right;\">\n",
       "      <th></th>\n",
       "      <th>SEQN</th>\n",
       "      <th>LBDFERSI</th>\n",
       "    </tr>\n",
       "  </thead>\n",
       "  <tbody>\n",
       "    <tr>\n",
       "      <th>0</th>\n",
       "      <td>51625.0</td>\n",
       "      <td>18.0</td>\n",
       "    </tr>\n",
       "    <tr>\n",
       "      <th>1</th>\n",
       "      <td>51630.0</td>\n",
       "      <td>126.0</td>\n",
       "    </tr>\n",
       "    <tr>\n",
       "      <th>2</th>\n",
       "      <td>51631.0</td>\n",
       "      <td>NaN</td>\n",
       "    </tr>\n",
       "    <tr>\n",
       "      <th>3</th>\n",
       "      <td>51639.0</td>\n",
       "      <td>27.0</td>\n",
       "    </tr>\n",
       "    <tr>\n",
       "      <th>4</th>\n",
       "      <td>51643.0</td>\n",
       "      <td>91.0</td>\n",
       "    </tr>\n",
       "  </tbody>\n",
       "</table>\n",
       "</div>"
      ],
      "text/plain": [
       "      SEQN  LBDFERSI\n",
       "0  51625.0      18.0\n",
       "1  51630.0     126.0\n",
       "2  51631.0       NaN\n",
       "3  51639.0      27.0\n",
       "4  51643.0      91.0"
      ]
     },
     "execution_count": 99,
     "metadata": {},
     "output_type": "execute_result"
    }
   ],
   "source": [
    "fertin_merged_df.head()"
   ]
  },
  {
   "cell_type": "markdown",
   "metadata": {},
   "source": [
    "********END OF FERRITIN DATA*******"
   ]
  },
  {
   "cell_type": "code",
   "execution_count": 100,
   "metadata": {},
   "outputs": [],
   "source": [
    "FOLATE_columns ={'SEQN':'Respondent sequence number', \n",
    "                 'LBDRFO':'RBC folate (ng/mL)', \n",
    "                 'LBDRFOSI':'RBC folate (nmol/L)'\n",
    "    }"
   ]
  },
  {
   "cell_type": "code",
   "execution_count": 101,
   "metadata": {},
   "outputs": [
    {
     "data": {
      "text/html": [
       "<div>\n",
       "<style scoped>\n",
       "    .dataframe tbody tr th:only-of-type {\n",
       "        vertical-align: middle;\n",
       "    }\n",
       "\n",
       "    .dataframe tbody tr th {\n",
       "        vertical-align: top;\n",
       "    }\n",
       "\n",
       "    .dataframe thead th {\n",
       "        text-align: right;\n",
       "    }\n",
       "</style>\n",
       "<table border=\"1\" class=\"dataframe\">\n",
       "  <thead>\n",
       "    <tr style=\"text-align: right;\">\n",
       "      <th></th>\n",
       "      <th>SEQN</th>\n",
       "      <th>LBDRBF</th>\n",
       "      <th>LBXRBFSI</th>\n",
       "      <th>LBDFOL</th>\n",
       "      <th>LBXFOLSI</th>\n",
       "    </tr>\n",
       "  </thead>\n",
       "  <tbody>\n",
       "    <tr>\n",
       "      <th>0</th>\n",
       "      <td>51624.0</td>\n",
       "      <td>296.7</td>\n",
       "      <td>672.0</td>\n",
       "      <td>12.4</td>\n",
       "      <td>28.0</td>\n",
       "    </tr>\n",
       "    <tr>\n",
       "      <th>1</th>\n",
       "      <td>51625.0</td>\n",
       "      <td>472.4</td>\n",
       "      <td>1070.0</td>\n",
       "      <td>18.8</td>\n",
       "      <td>42.6</td>\n",
       "    </tr>\n",
       "    <tr>\n",
       "      <th>2</th>\n",
       "      <td>51626.0</td>\n",
       "      <td>158.5</td>\n",
       "      <td>359.0</td>\n",
       "      <td>14.2</td>\n",
       "      <td>32.2</td>\n",
       "    </tr>\n",
       "    <tr>\n",
       "      <th>3</th>\n",
       "      <td>51627.0</td>\n",
       "      <td>450.3</td>\n",
       "      <td>1020.0</td>\n",
       "      <td>15.1</td>\n",
       "      <td>34.3</td>\n",
       "    </tr>\n",
       "    <tr>\n",
       "      <th>4</th>\n",
       "      <td>51628.0</td>\n",
       "      <td>289.6</td>\n",
       "      <td>656.0</td>\n",
       "      <td>5.1</td>\n",
       "      <td>11.5</td>\n",
       "    </tr>\n",
       "  </tbody>\n",
       "</table>\n",
       "</div>"
      ],
      "text/plain": [
       "      SEQN  LBDRBF  LBXRBFSI  LBDFOL  LBXFOLSI\n",
       "0  51624.0   296.7     672.0    12.4      28.0\n",
       "1  51625.0   472.4    1070.0    18.8      42.6\n",
       "2  51626.0   158.5     359.0    14.2      32.2\n",
       "3  51627.0   450.3    1020.0    15.1      34.3\n",
       "4  51628.0   289.6     656.0     5.1      11.5"
      ]
     },
     "execution_count": 101,
     "metadata": {},
     "output_type": "execute_result"
    }
   ],
   "source": [
    "df_2009folate = pd.read_sas('/Users/ruserel/FOLATE_F.XPT', format='xport', encoding='utf-8')\n",
    "df_2009folate.head(5)"
   ]
  },
  {
   "cell_type": "code",
   "execution_count": 102,
   "metadata": {},
   "outputs": [],
   "source": [
    "def FOLATE2_dataframe_cleaning(df):\n",
    "    df = df[['SEQN', 'LBDRBF', 'LBXRBFSI']]\n",
    "    df = df.rename(columns = {'LBDRBF':'LBDRFO','LBXRBFSI':'LBDRFOSI'})\n",
    "    return df"
   ]
  },
  {
   "cell_type": "code",
   "execution_count": 103,
   "metadata": {},
   "outputs": [],
   "source": [
    "\n",
    "DataFrame_Collection = list()\n",
    "\n",
    "files = glob.glob(\"/Users/ruserel/NHANES_folate2_data/*.XPT\")\n",
    "for a in files:\n",
    "    DataFrame_Collection.append( pd.read_sas(a, format='xport', encoding='utf-8'))"
   ]
  },
  {
   "cell_type": "code",
   "execution_count": 104,
   "metadata": {},
   "outputs": [],
   "source": [
    "folatelist = list()\n",
    "for df in DataFrame_Collection:\n",
    "    folatelist.append(FOLATE2_dataframe_cleaning(df))"
   ]
  },
  {
   "cell_type": "code",
   "execution_count": 105,
   "metadata": {},
   "outputs": [],
   "source": [
    "def FOLATE3_dataframe_cleaning(df):\n",
    "    df = df[['SEQN', 'LBXRBF', 'LBDRBFSI']]\n",
    "    df = df.rename(columns = {'LBXRBF':'LBDRFO','LBDRBFSI':'LBDRFOSI'})\n",
    "    return df"
   ]
  },
  {
   "cell_type": "code",
   "execution_count": 106,
   "metadata": {},
   "outputs": [],
   "source": [
    "DataFrame_Collection = list()\n",
    "\n",
    "files = glob.glob(\"/Users/ruserel/NHANES_folate3_data/*.XPT\")\n",
    "for a in files:\n",
    "    DataFrame_Collection.append( pd.read_sas(a, format='xport', encoding='utf-8'))"
   ]
  },
  {
   "cell_type": "code",
   "execution_count": 107,
   "metadata": {},
   "outputs": [],
   "source": [
    "for df in DataFrame_Collection:\n",
    "    folatelist.append(FOLATE3_dataframe_cleaning(df))"
   ]
  },
  {
   "cell_type": "code",
   "execution_count": 108,
   "metadata": {},
   "outputs": [
    {
     "data": {
      "text/html": [
       "<div>\n",
       "<style scoped>\n",
       "    .dataframe tbody tr th:only-of-type {\n",
       "        vertical-align: middle;\n",
       "    }\n",
       "\n",
       "    .dataframe tbody tr th {\n",
       "        vertical-align: top;\n",
       "    }\n",
       "\n",
       "    .dataframe thead th {\n",
       "        text-align: right;\n",
       "    }\n",
       "</style>\n",
       "<table border=\"1\" class=\"dataframe\">\n",
       "  <thead>\n",
       "    <tr style=\"text-align: right;\">\n",
       "      <th></th>\n",
       "      <th>SEQN</th>\n",
       "      <th>LBDRFO</th>\n",
       "      <th>LBDRFOSI</th>\n",
       "    </tr>\n",
       "  </thead>\n",
       "  <tbody>\n",
       "    <tr>\n",
       "      <th>0</th>\n",
       "      <td>73557.0</td>\n",
       "      <td>503.0</td>\n",
       "      <td>1140.0</td>\n",
       "    </tr>\n",
       "    <tr>\n",
       "      <th>1</th>\n",
       "      <td>73558.0</td>\n",
       "      <td>259.0</td>\n",
       "      <td>586.0</td>\n",
       "    </tr>\n",
       "    <tr>\n",
       "      <th>2</th>\n",
       "      <td>73559.0</td>\n",
       "      <td>746.0</td>\n",
       "      <td>1690.0</td>\n",
       "    </tr>\n",
       "    <tr>\n",
       "      <th>3</th>\n",
       "      <td>73560.0</td>\n",
       "      <td>450.0</td>\n",
       "      <td>1020.0</td>\n",
       "    </tr>\n",
       "    <tr>\n",
       "      <th>4</th>\n",
       "      <td>73561.0</td>\n",
       "      <td>746.0</td>\n",
       "      <td>1690.0</td>\n",
       "    </tr>\n",
       "  </tbody>\n",
       "</table>\n",
       "</div>"
      ],
      "text/plain": [
       "      SEQN  LBDRFO  LBDRFOSI\n",
       "0  73557.0   503.0    1140.0\n",
       "1  73558.0   259.0     586.0\n",
       "2  73559.0   746.0    1690.0\n",
       "3  73560.0   450.0    1020.0\n",
       "4  73561.0   746.0    1690.0"
      ]
     },
     "execution_count": 108,
     "metadata": {},
     "output_type": "execute_result"
    }
   ],
   "source": [
    "df_2013folate = pd.read_sas('/Users/ruserel/FOLATE_H.XPT', format='xport', encoding='utf-8')\n",
    "df_2013folate.head(5)"
   ]
  },
  {
   "cell_type": "code",
   "execution_count": 109,
   "metadata": {},
   "outputs": [],
   "source": [
    "def FOLATE1_dataframe_cleaning(df):\n",
    "    df = df[['SEQN', 'LBDRFO', 'LBDRFOSI']]\n",
    "    return df"
   ]
  },
  {
   "cell_type": "code",
   "execution_count": 110,
   "metadata": {},
   "outputs": [],
   "source": [
    "\n",
    "DataFrame_Collection = list()\n",
    "\n",
    "files = glob.glob(\"/Users/ruserel/NHANES_folate1_data/*.XPT\")\n",
    "for a in files:\n",
    "    DataFrame_Collection.append( pd.read_sas(a, format='xport', encoding='utf-8'))"
   ]
  },
  {
   "cell_type": "code",
   "execution_count": 111,
   "metadata": {},
   "outputs": [],
   "source": [
    "\n",
    "for df in DataFrame_Collection:\n",
    "    folatelist.append(FOLATE1_dataframe_cleaning(df))"
   ]
  },
  {
   "cell_type": "code",
   "execution_count": 112,
   "metadata": {},
   "outputs": [],
   "source": [
    "folate_merged_df = folatelist[0]\n",
    "for i in range(1,8):\n",
    "    folate_merged_df = pd.concat([folate_merged_df, folatelist[i]])"
   ]
  },
  {
   "cell_type": "code",
   "execution_count": 113,
   "metadata": {},
   "outputs": [
    {
     "data": {
      "text/html": [
       "<div>\n",
       "<style scoped>\n",
       "    .dataframe tbody tr th:only-of-type {\n",
       "        vertical-align: middle;\n",
       "    }\n",
       "\n",
       "    .dataframe tbody tr th {\n",
       "        vertical-align: top;\n",
       "    }\n",
       "\n",
       "    .dataframe thead th {\n",
       "        text-align: right;\n",
       "    }\n",
       "</style>\n",
       "<table border=\"1\" class=\"dataframe\">\n",
       "  <thead>\n",
       "    <tr style=\"text-align: right;\">\n",
       "      <th></th>\n",
       "      <th>SEQN</th>\n",
       "      <th>LBDRFO</th>\n",
       "      <th>LBDRFOSI</th>\n",
       "    </tr>\n",
       "  </thead>\n",
       "  <tbody>\n",
       "    <tr>\n",
       "      <th>0</th>\n",
       "      <td>41475.0</td>\n",
       "      <td>1099.3</td>\n",
       "      <td>2490.0</td>\n",
       "    </tr>\n",
       "    <tr>\n",
       "      <th>1</th>\n",
       "      <td>41476.0</td>\n",
       "      <td>396.0</td>\n",
       "      <td>897.0</td>\n",
       "    </tr>\n",
       "    <tr>\n",
       "      <th>2</th>\n",
       "      <td>41477.0</td>\n",
       "      <td>613.7</td>\n",
       "      <td>1390.0</td>\n",
       "    </tr>\n",
       "    <tr>\n",
       "      <th>3</th>\n",
       "      <td>41478.0</td>\n",
       "      <td>587.2</td>\n",
       "      <td>1330.0</td>\n",
       "    </tr>\n",
       "    <tr>\n",
       "      <th>4</th>\n",
       "      <td>41479.0</td>\n",
       "      <td>582.8</td>\n",
       "      <td>1320.0</td>\n",
       "    </tr>\n",
       "  </tbody>\n",
       "</table>\n",
       "</div>"
      ],
      "text/plain": [
       "      SEQN  LBDRFO  LBDRFOSI\n",
       "0  41475.0  1099.3    2490.0\n",
       "1  41476.0   396.0     897.0\n",
       "2  41477.0   613.7    1390.0\n",
       "3  41478.0   587.2    1330.0\n",
       "4  41479.0   582.8    1320.0"
      ]
     },
     "execution_count": 113,
     "metadata": {},
     "output_type": "execute_result"
    }
   ],
   "source": [
    "folate_merged_df.head()"
   ]
  },
  {
   "cell_type": "markdown",
   "metadata": {},
   "source": [
    "********END OF RBC-Folate DATA*******"
   ]
  },
  {
   "cell_type": "code",
   "execution_count": 114,
   "metadata": {},
   "outputs": [],
   "source": [
    "VITB12_columns ={'SEQN':'Respondent sequence number', \n",
    "                 'LBXB12':'Vitamin B12( pg/mL)', \n",
    "                 'LBDB12SI':'Vitamin B12 (pmol/L)'   \n",
    "}"
   ]
  },
  {
   "cell_type": "code",
   "execution_count": 115,
   "metadata": {},
   "outputs": [
    {
     "data": {
      "text/html": [
       "<div>\n",
       "<style scoped>\n",
       "    .dataframe tbody tr th:only-of-type {\n",
       "        vertical-align: middle;\n",
       "    }\n",
       "\n",
       "    .dataframe tbody tr th {\n",
       "        vertical-align: top;\n",
       "    }\n",
       "\n",
       "    .dataframe thead th {\n",
       "        text-align: right;\n",
       "    }\n",
       "</style>\n",
       "<table border=\"1\" class=\"dataframe\">\n",
       "  <thead>\n",
       "    <tr style=\"text-align: right;\">\n",
       "      <th></th>\n",
       "      <th>SEQN</th>\n",
       "      <th>LBDB12</th>\n",
       "      <th>LBDB12SI</th>\n",
       "    </tr>\n",
       "  </thead>\n",
       "  <tbody>\n",
       "    <tr>\n",
       "      <th>0</th>\n",
       "      <td>73557.0</td>\n",
       "      <td>524.0</td>\n",
       "      <td>386.7</td>\n",
       "    </tr>\n",
       "  </tbody>\n",
       "</table>\n",
       "</div>"
      ],
      "text/plain": [
       "      SEQN  LBDB12  LBDB12SI\n",
       "0  73557.0   524.0     386.7"
      ]
     },
     "execution_count": 115,
     "metadata": {},
     "output_type": "execute_result"
    }
   ],
   "source": [
    "df_2013vitb12 = pd.read_sas('/Users/ruserel/VITB12_H.XPT', format='xport', encoding='utf-8')\n",
    "df_2013vitb12.head(1)"
   ]
  },
  {
   "cell_type": "code",
   "execution_count": 116,
   "metadata": {},
   "outputs": [
    {
     "data": {
      "text/html": [
       "<div>\n",
       "<style scoped>\n",
       "    .dataframe tbody tr th:only-of-type {\n",
       "        vertical-align: middle;\n",
       "    }\n",
       "\n",
       "    .dataframe tbody tr th {\n",
       "        vertical-align: top;\n",
       "    }\n",
       "\n",
       "    .dataframe thead th {\n",
       "        text-align: right;\n",
       "    }\n",
       "</style>\n",
       "<table border=\"1\" class=\"dataframe\">\n",
       "  <thead>\n",
       "    <tr style=\"text-align: right;\">\n",
       "      <th></th>\n",
       "      <th>SEQN</th>\n",
       "      <th>LBXB12</th>\n",
       "      <th>LBDB12SI</th>\n",
       "    </tr>\n",
       "  </thead>\n",
       "  <tbody>\n",
       "    <tr>\n",
       "      <th>0</th>\n",
       "      <td>73557.0</td>\n",
       "      <td>524.0</td>\n",
       "      <td>386.7</td>\n",
       "    </tr>\n",
       "  </tbody>\n",
       "</table>\n",
       "</div>"
      ],
      "text/plain": [
       "      SEQN  LBXB12  LBDB12SI\n",
       "0  73557.0   524.0     386.7"
      ]
     },
     "execution_count": 116,
     "metadata": {},
     "output_type": "execute_result"
    }
   ],
   "source": [
    "df_2013vitb12 = df_2013vitb12.rename(columns = {'LBDB12':'LBXB12','LBDB12SI':'LBDB12SI'})\n",
    "df_2013vitb12.head(1)"
   ]
  },
  {
   "cell_type": "code",
   "execution_count": 117,
   "metadata": {},
   "outputs": [],
   "source": [
    "def VITB12_dataframe_cleaning(df):\n",
    "    df = df[['SEQN', 'LBXB12', 'LBDB12SI']]\n",
    "    return df"
   ]
  },
  {
   "cell_type": "code",
   "execution_count": 118,
   "metadata": {},
   "outputs": [],
   "source": [
    "DataFrame_Collection = list()\n",
    "\n",
    "files = glob.glob(\"/Users/ruserel/NHANES_vitB12_data/*.XPT\")\n",
    "for a in files:\n",
    "    DataFrame_Collection.append( pd.read_sas(a, format='xport', encoding='utf-8'))"
   ]
  },
  {
   "cell_type": "code",
   "execution_count": 119,
   "metadata": {},
   "outputs": [],
   "source": [
    "vitB12list = list()\n",
    "vitB12list.append(df_2013vitb12)\n",
    "for df in DataFrame_Collection:\n",
    "    vitB12list.append(VITB12_dataframe_cleaning(df))"
   ]
  },
  {
   "cell_type": "code",
   "execution_count": 120,
   "metadata": {},
   "outputs": [],
   "source": [
    "vitB12_merged_df = vitB12list[0]\n",
    "for i in range(1,6):\n",
    "    vitB12_merged_df = pd.concat([vitB12_merged_df, vitB12list[i]])"
   ]
  },
  {
   "cell_type": "code",
   "execution_count": 121,
   "metadata": {},
   "outputs": [
    {
     "data": {
      "text/plain": [
       "(48435, 3)"
      ]
     },
     "execution_count": 121,
     "metadata": {},
     "output_type": "execute_result"
    }
   ],
   "source": [
    "vitB12_merged_df.shape"
   ]
  },
  {
   "cell_type": "markdown",
   "metadata": {},
   "source": [
    "********END OF vitB12 DATA*******"
   ]
  },
  {
   "cell_type": "code",
   "execution_count": 122,
   "metadata": {},
   "outputs": [],
   "source": [
    "VITB6_columns ={'SEQN':'Respondent sequence number', \n",
    "                'LBXPLP':'Pyridoxal 5-phosphate (nmol/L)'\n",
    "    \n",
    "}"
   ]
  },
  {
   "cell_type": "code",
   "execution_count": 123,
   "metadata": {},
   "outputs": [
    {
     "data": {
      "text/html": [
       "<div>\n",
       "<style scoped>\n",
       "    .dataframe tbody tr th:only-of-type {\n",
       "        vertical-align: middle;\n",
       "    }\n",
       "\n",
       "    .dataframe tbody tr th {\n",
       "        vertical-align: top;\n",
       "    }\n",
       "\n",
       "    .dataframe thead th {\n",
       "        text-align: right;\n",
       "    }\n",
       "</style>\n",
       "<table border=\"1\" class=\"dataframe\">\n",
       "  <thead>\n",
       "    <tr style=\"text-align: right;\">\n",
       "      <th></th>\n",
       "      <th>SEQN</th>\n",
       "      <th>LBX4PA</th>\n",
       "      <th>LBXPLP</th>\n",
       "    </tr>\n",
       "  </thead>\n",
       "  <tbody>\n",
       "    <tr>\n",
       "      <th>0</th>\n",
       "      <td>51624.0</td>\n",
       "      <td>30.3</td>\n",
       "      <td>86.5</td>\n",
       "    </tr>\n",
       "  </tbody>\n",
       "</table>\n",
       "</div>"
      ],
      "text/plain": [
       "      SEQN  LBX4PA  LBXPLP\n",
       "0  51624.0    30.3    86.5"
      ]
     },
     "execution_count": 123,
     "metadata": {},
     "output_type": "execute_result"
    }
   ],
   "source": [
    "df_2009vitb6 = pd.read_sas('/Users/ruserel/VIT_B6_F.XPT', format='xport', encoding='utf-8')\n",
    "df_2009vitb6.head(1)"
   ]
  },
  {
   "cell_type": "code",
   "execution_count": 124,
   "metadata": {},
   "outputs": [
    {
     "data": {
      "text/html": [
       "<div>\n",
       "<style scoped>\n",
       "    .dataframe tbody tr th:only-of-type {\n",
       "        vertical-align: middle;\n",
       "    }\n",
       "\n",
       "    .dataframe tbody tr th {\n",
       "        vertical-align: top;\n",
       "    }\n",
       "\n",
       "    .dataframe thead th {\n",
       "        text-align: right;\n",
       "    }\n",
       "</style>\n",
       "<table border=\"1\" class=\"dataframe\">\n",
       "  <thead>\n",
       "    <tr style=\"text-align: right;\">\n",
       "      <th></th>\n",
       "      <th>SEQN</th>\n",
       "      <th>LBXVB6</th>\n",
       "    </tr>\n",
       "  </thead>\n",
       "  <tbody>\n",
       "    <tr>\n",
       "      <th>0</th>\n",
       "      <td>21005.0</td>\n",
       "      <td>48.7</td>\n",
       "    </tr>\n",
       "  </tbody>\n",
       "</table>\n",
       "</div>"
      ],
      "text/plain": [
       "      SEQN  LBXVB6\n",
       "0  21005.0    48.7"
      ]
     },
     "execution_count": 124,
     "metadata": {},
     "output_type": "execute_result"
    }
   ],
   "source": [
    "df_2003vitb6 = pd.read_sas('/Users/ruserel/L43_C.XPT', format='xport', encoding='utf-8')\n",
    "df_2003vitb6.head(1)"
   ]
  },
  {
   "cell_type": "code",
   "execution_count": 125,
   "metadata": {},
   "outputs": [],
   "source": [
    "df_2003vitb6 = df_2003vitb6.rename(columns = {'LBXVB6':'LBXPLP'})"
   ]
  },
  {
   "cell_type": "code",
   "execution_count": 126,
   "metadata": {},
   "outputs": [],
   "source": [
    "def VITB6_dataframe_cleaning(df):\n",
    "    df = df[['SEQN', 'LBXPLP']]\n",
    "    return df"
   ]
  },
  {
   "cell_type": "code",
   "execution_count": 127,
   "metadata": {},
   "outputs": [],
   "source": [
    "DataFrame_Collection = list()\n",
    "\n",
    "files = glob.glob(\"/Users/ruserel/NHANES_vitB6_data/*.XPT\")\n",
    "for a in files:\n",
    "    DataFrame_Collection.append( pd.read_sas(a, format='xport', encoding='utf-8'))"
   ]
  },
  {
   "cell_type": "code",
   "execution_count": 128,
   "metadata": {},
   "outputs": [],
   "source": [
    "vitB6list = list()\n",
    "vitB6list.append(df_2003vitb6)\n",
    "for df in DataFrame_Collection:\n",
    "    vitB6list.append(VITB6_dataframe_cleaning(df))"
   ]
  },
  {
   "cell_type": "code",
   "execution_count": 129,
   "metadata": {},
   "outputs": [],
   "source": [
    "vitB6_merged_df = vitB6list[0]\n",
    "for i in range(1,4):\n",
    "    vitB6_merged_df = pd.concat([vitB6_merged_df, vitB6list[i]])"
   ]
  },
  {
   "cell_type": "code",
   "execution_count": 130,
   "metadata": {},
   "outputs": [
    {
     "data": {
      "text/plain": [
       "(37761, 2)"
      ]
     },
     "execution_count": 130,
     "metadata": {},
     "output_type": "execute_result"
    }
   ],
   "source": [
    "vitB6_merged_df.shape"
   ]
  },
  {
   "cell_type": "markdown",
   "metadata": {},
   "source": [
    "********END OF vitB6 DATA*******"
   ]
  },
  {
   "cell_type": "code",
   "execution_count": 131,
   "metadata": {},
   "outputs": [],
   "source": [
    "VITD23_columns = {'SEQN':' Respondent sequence number', \n",
    "                  'LBXVD2MS':'5OHD2 (nmol/L)', \n",
    "                  'LBXVD3MS':'25OHD3 (nmol/L)', \n",
    "                  'LBXVE3MS':'epi-25OHD3 (nmol/L)'\n",
    "    \n",
    "}"
   ]
  },
  {
   "cell_type": "code",
   "execution_count": 132,
   "metadata": {},
   "outputs": [
    {
     "data": {
      "text/html": [
       "<div>\n",
       "<style scoped>\n",
       "    .dataframe tbody tr th:only-of-type {\n",
       "        vertical-align: middle;\n",
       "    }\n",
       "\n",
       "    .dataframe tbody tr th {\n",
       "        vertical-align: top;\n",
       "    }\n",
       "\n",
       "    .dataframe thead th {\n",
       "        text-align: right;\n",
       "    }\n",
       "</style>\n",
       "<table border=\"1\" class=\"dataframe\">\n",
       "  <thead>\n",
       "    <tr style=\"text-align: right;\">\n",
       "      <th></th>\n",
       "      <th>SEQN</th>\n",
       "      <th>LBXVIDMS</th>\n",
       "      <th>LBDVIDLC</th>\n",
       "      <th>LBXVD2MS</th>\n",
       "      <th>LBDVD2LC</th>\n",
       "      <th>LBXVD3MS</th>\n",
       "      <th>LBDVD3LC</th>\n",
       "      <th>LBXVE3MS</th>\n",
       "      <th>LBDVE3LC</th>\n",
       "    </tr>\n",
       "  </thead>\n",
       "  <tbody>\n",
       "    <tr>\n",
       "      <th>0</th>\n",
       "      <td>83732.0</td>\n",
       "      <td>76.1</td>\n",
       "      <td>5.397605e-79</td>\n",
       "      <td>1.45</td>\n",
       "      <td>1.0</td>\n",
       "      <td>74.7</td>\n",
       "      <td>5.397605e-79</td>\n",
       "      <td>4.7</td>\n",
       "      <td>5.397605e-79</td>\n",
       "    </tr>\n",
       "  </tbody>\n",
       "</table>\n",
       "</div>"
      ],
      "text/plain": [
       "      SEQN  LBXVIDMS      LBDVIDLC  LBXVD2MS  LBDVD2LC  LBXVD3MS  \\\n",
       "0  83732.0      76.1  5.397605e-79      1.45       1.0      74.7   \n",
       "\n",
       "       LBDVD3LC  LBXVE3MS      LBDVE3LC  \n",
       "0  5.397605e-79       4.7  5.397605e-79  "
      ]
     },
     "execution_count": 132,
     "metadata": {},
     "output_type": "execute_result"
    }
   ],
   "source": [
    "df_2015vitD = pd.read_sas('/Users/ruserel/VID_I.XPT', format='xport', encoding='utf-8')\n",
    "df_2015vitD.head(1)"
   ]
  },
  {
   "cell_type": "code",
   "execution_count": 133,
   "metadata": {},
   "outputs": [],
   "source": [
    "def VITD23_dataframe_cleaning(df):\n",
    "    df = df[['SEQN', 'LBXVD2MS', 'LBXVD3MS', 'LBXVE3MS']]\n",
    "    return df"
   ]
  },
  {
   "cell_type": "code",
   "execution_count": 134,
   "metadata": {},
   "outputs": [],
   "source": [
    "DataFrame_Collection = list()\n",
    "\n",
    "files = glob.glob(\"/Users/ruserel/NHANES_vitd23_data/*.XPT\")\n",
    "for a in files:\n",
    "    DataFrame_Collection.append( pd.read_sas(a, format='xport', encoding='utf-8'))"
   ]
  },
  {
   "cell_type": "code",
   "execution_count": 135,
   "metadata": {},
   "outputs": [],
   "source": [
    "vitd23list = list()\n",
    "for df in DataFrame_Collection:\n",
    "    vitd23list.append(VITD23_dataframe_cleaning(df))"
   ]
  },
  {
   "cell_type": "code",
   "execution_count": 136,
   "metadata": {},
   "outputs": [],
   "source": [
    "vitd23_merged_df = vitd23list[0]\n",
    "for i in range(1,5):\n",
    "    vitd23_merged_df = pd.concat([vitd23_merged_df, vitd23list[i]])"
   ]
  },
  {
   "cell_type": "code",
   "execution_count": 137,
   "metadata": {},
   "outputs": [
    {
     "data": {
      "text/plain": [
       "(46685, 4)"
      ]
     },
     "execution_count": 137,
     "metadata": {},
     "output_type": "execute_result"
    }
   ],
   "source": [
    "#merged vvit D from 2007-2016\n",
    "vitd23_merged_df.shape"
   ]
  },
  {
   "cell_type": "code",
   "execution_count": 138,
   "metadata": {},
   "outputs": [
    {
     "data": {
      "text/html": [
       "<div>\n",
       "<style scoped>\n",
       "    .dataframe tbody tr th:only-of-type {\n",
       "        vertical-align: middle;\n",
       "    }\n",
       "\n",
       "    .dataframe tbody tr th {\n",
       "        vertical-align: top;\n",
       "    }\n",
       "\n",
       "    .dataframe thead th {\n",
       "        text-align: right;\n",
       "    }\n",
       "</style>\n",
       "<table border=\"1\" class=\"dataframe\">\n",
       "  <thead>\n",
       "    <tr style=\"text-align: right;\">\n",
       "      <th></th>\n",
       "      <th>SEQN</th>\n",
       "      <th>LBXVD2MS</th>\n",
       "      <th>LBXVD3MS</th>\n",
       "      <th>LBXVE3MS</th>\n",
       "    </tr>\n",
       "  </thead>\n",
       "  <tbody>\n",
       "    <tr>\n",
       "      <th>0</th>\n",
       "      <td>41475.0</td>\n",
       "      <td>1.45</td>\n",
       "      <td>57.3</td>\n",
       "      <td>4.17</td>\n",
       "    </tr>\n",
       "    <tr>\n",
       "      <th>1</th>\n",
       "      <td>41476.0</td>\n",
       "      <td>1.45</td>\n",
       "      <td>79.4</td>\n",
       "      <td>5.52</td>\n",
       "    </tr>\n",
       "    <tr>\n",
       "      <th>2</th>\n",
       "      <td>41477.0</td>\n",
       "      <td>1.45</td>\n",
       "      <td>80.3</td>\n",
       "      <td>2.42</td>\n",
       "    </tr>\n",
       "    <tr>\n",
       "      <th>3</th>\n",
       "      <td>41478.0</td>\n",
       "      <td>NaN</td>\n",
       "      <td>NaN</td>\n",
       "      <td>NaN</td>\n",
       "    </tr>\n",
       "    <tr>\n",
       "      <th>4</th>\n",
       "      <td>41479.0</td>\n",
       "      <td>1.45</td>\n",
       "      <td>76.9</td>\n",
       "      <td>3.07</td>\n",
       "    </tr>\n",
       "  </tbody>\n",
       "</table>\n",
       "</div>"
      ],
      "text/plain": [
       "      SEQN  LBXVD2MS  LBXVD3MS  LBXVE3MS\n",
       "0  41475.0      1.45      57.3      4.17\n",
       "1  41476.0      1.45      79.4      5.52\n",
       "2  41477.0      1.45      80.3      2.42\n",
       "3  41478.0       NaN       NaN       NaN\n",
       "4  41479.0      1.45      76.9      3.07"
      ]
     },
     "execution_count": 138,
     "metadata": {},
     "output_type": "execute_result"
    }
   ],
   "source": [
    "vitd23_merged_df.head()"
   ]
  },
  {
   "cell_type": "markdown",
   "metadata": {},
   "source": [
    "******END OF VITD23 *****"
   ]
  },
  {
   "cell_type": "code",
   "execution_count": 139,
   "metadata": {},
   "outputs": [],
   "source": [
    "VITD3_columns = {'SEQN':'Respondent sequence number', \n",
    "                 'LBDVIDMS':'Vitamin D (nmol/L)'\n",
    "    \n",
    "}"
   ]
  },
  {
   "cell_type": "code",
   "execution_count": 140,
   "metadata": {},
   "outputs": [],
   "source": [
    "def VITD3_dataframe_cleaning(df):\n",
    "    df = df[['SEQN', 'LBDVIDMS']]\n",
    "    return df"
   ]
  },
  {
   "cell_type": "code",
   "execution_count": 141,
   "metadata": {},
   "outputs": [],
   "source": [
    "DataFrame_Collection = list()\n",
    "\n",
    "files = glob.glob(\"/Users/ruserel/NHANES_vitd3_data/*.XPT\")\n",
    "for a in files:\n",
    "    DataFrame_Collection.append( pd.read_sas(a, format='xport', encoding='utf-8'))"
   ]
  },
  {
   "cell_type": "code",
   "execution_count": 142,
   "metadata": {},
   "outputs": [],
   "source": [
    "vitd3list = list()\n",
    "for df in DataFrame_Collection:\n",
    "    vitd3list.append(VITD3_dataframe_cleaning(df))"
   ]
  },
  {
   "cell_type": "code",
   "execution_count": 143,
   "metadata": {},
   "outputs": [],
   "source": [
    "vitd3_merged_df = vitd3list[0]\n",
    "for i in range(1,3):\n",
    "    vitd3_merged_df = pd.concat([vitd3_merged_df, vitd3list[i]])\n",
    "    "
   ]
  },
  {
   "cell_type": "code",
   "execution_count": null,
   "metadata": {},
   "outputs": [],
   "source": []
  },
  {
   "cell_type": "code",
   "execution_count": 144,
   "metadata": {},
   "outputs": [
    {
     "data": {
      "text/html": [
       "<div>\n",
       "<style scoped>\n",
       "    .dataframe tbody tr th:only-of-type {\n",
       "        vertical-align: middle;\n",
       "    }\n",
       "\n",
       "    .dataframe tbody tr th {\n",
       "        vertical-align: top;\n",
       "    }\n",
       "\n",
       "    .dataframe thead th {\n",
       "        text-align: right;\n",
       "    }\n",
       "</style>\n",
       "<table border=\"1\" class=\"dataframe\">\n",
       "  <thead>\n",
       "    <tr style=\"text-align: right;\">\n",
       "      <th></th>\n",
       "      <th>SEQN</th>\n",
       "      <th>LBDVIDMS</th>\n",
       "    </tr>\n",
       "  </thead>\n",
       "  <tbody>\n",
       "    <tr>\n",
       "      <th>0</th>\n",
       "      <td>31128.0</td>\n",
       "      <td>32.6</td>\n",
       "    </tr>\n",
       "  </tbody>\n",
       "</table>\n",
       "</div>"
      ],
      "text/plain": [
       "      SEQN  LBDVIDMS\n",
       "0  31128.0      32.6"
      ]
     },
     "execution_count": 144,
     "metadata": {},
     "output_type": "execute_result"
    }
   ],
   "source": [
    "vitd3_merged_df.head(1)"
   ]
  },
  {
   "cell_type": "code",
   "execution_count": 145,
   "metadata": {},
   "outputs": [
    {
     "data": {
      "text/plain": [
       "(27266, 2)"
      ]
     },
     "execution_count": 145,
     "metadata": {},
     "output_type": "execute_result"
    }
   ],
   "source": [
    "#merged vit D from 2001-2006\n",
    "vitd3_merged_df.shape"
   ]
  },
  {
   "cell_type": "markdown",
   "metadata": {},
   "source": [
    "******END OF VITD3 *****"
   ]
  },
  {
   "cell_type": "code",
   "execution_count": 146,
   "metadata": {},
   "outputs": [],
   "source": [
    "VITC_columns = {'SEQN':'Respondent sequence number', \n",
    "                'LBXVIC':'Vitamin C (mg/dL)', \n",
    "                'LBDVICSI':'Vitamin C (umol/L)'\n",
    "    \n",
    "}"
   ]
  },
  {
   "cell_type": "code",
   "execution_count": 147,
   "metadata": {},
   "outputs": [],
   "source": [
    "   def VITC_dataframe_cleaning(df):\n",
    "    df = df[['SEQN', 'LBXVIC', 'LBDVICSI']]\n",
    "    return df"
   ]
  },
  {
   "cell_type": "code",
   "execution_count": 148,
   "metadata": {},
   "outputs": [],
   "source": [
    "DataFrame_Collection = list()\n",
    "\n",
    "files = glob.glob(\"/Users/ruserel/NHANES_vitC_data/*.XPT\")\n",
    "for a in files:\n",
    "    DataFrame_Collection.append( pd.read_sas(a, format='xport', encoding='utf-8'))"
   ]
  },
  {
   "cell_type": "code",
   "execution_count": 149,
   "metadata": {},
   "outputs": [],
   "source": [
    "vitClist = list()\n",
    "for df in DataFrame_Collection:\n",
    "    vitClist.append(VITC_dataframe_cleaning(df))"
   ]
  },
  {
   "cell_type": "code",
   "execution_count": 150,
   "metadata": {},
   "outputs": [],
   "source": [
    "vitC_merged_df = vitClist[0]\n",
    "for i in range(1,3):\n",
    "    vitC_merged_df = pd.concat([vitC_merged_df, vitClist[i]])"
   ]
  },
  {
   "cell_type": "code",
   "execution_count": 151,
   "metadata": {},
   "outputs": [
    {
     "data": {
      "text/plain": [
       "(23503, 3)"
      ]
     },
     "execution_count": 151,
     "metadata": {},
     "output_type": "execute_result"
    }
   ],
   "source": [
    "vitC_merged_df.shape"
   ]
  },
  {
   "cell_type": "markdown",
   "metadata": {},
   "source": [
    "******END OF VITC *****"
   ]
  },
  {
   "cell_type": "code",
   "execution_count": 152,
   "metadata": {},
   "outputs": [],
   "source": [
    "VITAE_columns = {'SEQN':'Respondent sequence number', \n",
    "                 'LBXVIE':'Vitamin E (ug/dL)', \n",
    "                 'LBDVIESI':'Vitamin E (umol/L)', \n",
    "                 'LBXVIA':'Vitamin A (ug/dL)', \n",
    "                 'LBDVIASI':'Vitamin A (umol/L)'\n",
    "    \n",
    "}"
   ]
  },
  {
   "cell_type": "code",
   "execution_count": 153,
   "metadata": {},
   "outputs": [
    {
     "data": {
      "text/html": [
       "<div>\n",
       "<style scoped>\n",
       "    .dataframe tbody tr th:only-of-type {\n",
       "        vertical-align: middle;\n",
       "    }\n",
       "\n",
       "    .dataframe tbody tr th {\n",
       "        vertical-align: top;\n",
       "    }\n",
       "\n",
       "    .dataframe thead th {\n",
       "        text-align: right;\n",
       "    }\n",
       "</style>\n",
       "<table border=\"1\" class=\"dataframe\">\n",
       "  <thead>\n",
       "    <tr style=\"text-align: right;\">\n",
       "      <th></th>\n",
       "      <th>SEQN</th>\n",
       "      <th>LBXATC</th>\n",
       "      <th>LBDATCSI</th>\n",
       "      <th>LBXALC</th>\n",
       "      <th>LBDALCSI</th>\n",
       "      <th>LBXACY</th>\n",
       "      <th>LBDACYSI</th>\n",
       "      <th>LBXBEC</th>\n",
       "      <th>LBDBECSI</th>\n",
       "      <th>LBXBCC</th>\n",
       "      <th>...</th>\n",
       "      <th>LBXPHE</th>\n",
       "      <th>LBDPHESI</th>\n",
       "      <th>LBXRPL</th>\n",
       "      <th>LBDRPLSI</th>\n",
       "      <th>LBXRST</th>\n",
       "      <th>LBDRSTSI</th>\n",
       "      <th>LBXVIA</th>\n",
       "      <th>LBDVIASI</th>\n",
       "      <th>LBXZEA</th>\n",
       "      <th>LBDZEASI</th>\n",
       "    </tr>\n",
       "  </thead>\n",
       "  <tbody>\n",
       "    <tr>\n",
       "      <th>0</th>\n",
       "      <td>21005.0</td>\n",
       "      <td>791.0</td>\n",
       "      <td>18.367</td>\n",
       "      <td>0.39</td>\n",
       "      <td>0.0073</td>\n",
       "      <td>2.24</td>\n",
       "      <td>0.0405</td>\n",
       "      <td>1.85</td>\n",
       "      <td>0.0345</td>\n",
       "      <td>2.05</td>\n",
       "      <td>...</td>\n",
       "      <td>0.68</td>\n",
       "      <td>0.0125</td>\n",
       "      <td>0.37</td>\n",
       "      <td>0.0129</td>\n",
       "      <td>0.08</td>\n",
       "      <td>0.0028</td>\n",
       "      <td>45.29</td>\n",
       "      <td>1.5811</td>\n",
       "      <td>3.41</td>\n",
       "      <td>0.0599</td>\n",
       "    </tr>\n",
       "  </tbody>\n",
       "</table>\n",
       "<p>1 rows × 43 columns</p>\n",
       "</div>"
      ],
      "text/plain": [
       "      SEQN  LBXATC  LBDATCSI  LBXALC  LBDALCSI  LBXACY  LBDACYSI  LBXBEC  \\\n",
       "0  21005.0   791.0    18.367    0.39    0.0073    2.24    0.0405    1.85   \n",
       "\n",
       "   LBDBECSI  LBXBCC  ...  LBXPHE  LBDPHESI  LBXRPL  LBDRPLSI  LBXRST  \\\n",
       "0    0.0345    2.05  ...    0.68    0.0125    0.37    0.0129    0.08   \n",
       "\n",
       "   LBDRSTSI  LBXVIA  LBDVIASI  LBXZEA  LBDZEASI  \n",
       "0    0.0028   45.29    1.5811    3.41    0.0599  \n",
       "\n",
       "[1 rows x 43 columns]"
      ]
     },
     "execution_count": 153,
     "metadata": {},
     "output_type": "execute_result"
    }
   ],
   "source": [
    "df_2003VitAEC = pd.read_sas('/Users/ruserel/L45VIT_C.XPT', format='xport', encoding='utf-8')\n",
    "df_2003VitAEC.head(1)"
   ]
  },
  {
   "cell_type": "code",
   "execution_count": 154,
   "metadata": {},
   "outputs": [
    {
     "data": {
      "text/html": [
       "<div>\n",
       "<style scoped>\n",
       "    .dataframe tbody tr th:only-of-type {\n",
       "        vertical-align: middle;\n",
       "    }\n",
       "\n",
       "    .dataframe tbody tr th {\n",
       "        vertical-align: top;\n",
       "    }\n",
       "\n",
       "    .dataframe thead th {\n",
       "        text-align: right;\n",
       "    }\n",
       "</style>\n",
       "<table border=\"1\" class=\"dataframe\">\n",
       "  <thead>\n",
       "    <tr style=\"text-align: right;\">\n",
       "      <th></th>\n",
       "      <th>SEQN</th>\n",
       "      <th>LBXVIE</th>\n",
       "      <th>LBDVIESI</th>\n",
       "      <th>LBXVIA</th>\n",
       "      <th>LBDVIASI</th>\n",
       "    </tr>\n",
       "  </thead>\n",
       "  <tbody>\n",
       "    <tr>\n",
       "      <th>0</th>\n",
       "      <td>21005.0</td>\n",
       "      <td>791.0</td>\n",
       "      <td>18.367</td>\n",
       "      <td>45.29</td>\n",
       "      <td>1.5811</td>\n",
       "    </tr>\n",
       "  </tbody>\n",
       "</table>\n",
       "</div>"
      ],
      "text/plain": [
       "      SEQN  LBXVIE  LBDVIESI  LBXVIA  LBDVIASI\n",
       "0  21005.0   791.0    18.367   45.29    1.5811"
      ]
     },
     "execution_count": 154,
     "metadata": {},
     "output_type": "execute_result"
    }
   ],
   "source": [
    "df_2003VitAEC = df_2003VitAEC.rename(columns = {'LBXATC':'LBXVIE', 'LBDATCSI':'LBDVIESI'})\n",
    "df_2003VitAEC = df_2003VitAEC[['SEQN', 'LBXVIE', 'LBDVIESI', 'LBXVIA', 'LBDVIASI']]\n",
    "df_2003VitAEC.head(1)"
   ]
  },
  {
   "cell_type": "code",
   "execution_count": 155,
   "metadata": {},
   "outputs": [],
   "source": [
    "   def VITAE_dataframe_cleaning(df):\n",
    "    df = df[['SEQN', 'LBXVIE', 'LBDVIESI', 'LBXVIA', 'LBDVIASI']]\n",
    "    return df"
   ]
  },
  {
   "cell_type": "code",
   "execution_count": 156,
   "metadata": {},
   "outputs": [],
   "source": [
    "DataFrame_Collection = list()\n",
    "\n",
    "files = glob.glob(\"/Users/ruserel/NHANES_vitAE_data/*.XPT\")\n",
    "for a in files:\n",
    "    DataFrame_Collection.append( pd.read_sas(a, format='xport', encoding='utf-8'))"
   ]
  },
  {
   "cell_type": "code",
   "execution_count": 157,
   "metadata": {},
   "outputs": [],
   "source": [
    "vitAElist = list()\n",
    "vitAElist.append(df_2003VitAEC)\n",
    "for df in DataFrame_Collection:\n",
    "    vitAElist.append(VITAE_dataframe_cleaning(df))"
   ]
  },
  {
   "cell_type": "code",
   "execution_count": 158,
   "metadata": {},
   "outputs": [],
   "source": [
    "vitAE_merged_df = vitAElist[0]\n",
    "for i in range(1,4):\n",
    "    vitAE_merged_df = pd.concat([vitAE_merged_df, vitAElist[i]])"
   ]
  },
  {
   "cell_type": "code",
   "execution_count": 159,
   "metadata": {},
   "outputs": [
    {
     "data": {
      "text/plain": [
       "(34162, 5)"
      ]
     },
     "execution_count": 159,
     "metadata": {},
     "output_type": "execute_result"
    }
   ],
   "source": [
    "vitAE_merged_df.shape"
   ]
  },
  {
   "cell_type": "markdown",
   "metadata": {},
   "source": [
    "******END OF VITAE *****"
   ]
  },
  {
   "cell_type": "markdown",
   "metadata": {},
   "source": [
    "### Merging all the data frames"
   ]
  },
  {
   "cell_type": "code",
   "execution_count": null,
   "metadata": {},
   "outputs": [],
   "source": []
  },
  {
   "cell_type": "code",
   "execution_count": 160,
   "metadata": {},
   "outputs": [],
   "source": [
    "#List of all dataframes\n",
    "Combined_df_list = [demo_merged_df, Body_merged_df, Alcohol_merged_df, Smoking_merged_df, MedicalCond_merged_df, hiv_merged_df, CBC_merged_df, cusezn_merged_df, fertin_merged_df, \n",
    "                    folate_merged_df, vitB12_merged_df, vitB6_merged_df, vitd23_merged_df, vitd3_merged_df, \n",
    "                    vitC_merged_df, vitAE_merged_df]"
   ]
  },
  {
   "cell_type": "code",
   "execution_count": 161,
   "metadata": {},
   "outputs": [],
   "source": [
    "#List of dataframe names\n",
    "dfnames_list = ['demo_merged_df', 'Body_merged_df', 'Alcohol_merged_df', 'Smoking_merged_df', 'MedicalCond_merged_df', 'hiv_merged_df', 'CBC_merged_df', 'cusezn_merged_df', 'fertin_merged_df', \n",
    "                    'folate_merged_df', 'vitB12_merged_df', 'vitB6_merged_df', 'vitd23_merged_df', 'vitd3_merged_df', \n",
    "                    'vitC_merged_df', 'vitAE_merged_df']"
   ]
  },
  {
   "cell_type": "code",
   "execution_count": 162,
   "metadata": {},
   "outputs": [],
   "source": [
    "from functools import partial, reduce\n",
    "\n",
    "merge = partial(pd.merge, on=['SEQN'], how='outer')\n",
    "fdf = reduce(merge, Combined_df_list)"
   ]
  },
  {
   "cell_type": "code",
   "execution_count": 163,
   "metadata": {},
   "outputs": [
    {
     "data": {
      "text/plain": [
       "pandas.core.frame.DataFrame"
      ]
     },
     "execution_count": 163,
     "metadata": {},
     "output_type": "execute_result"
    }
   ],
   "source": [
    "type(fdf)"
   ]
  },
  {
   "cell_type": "code",
   "execution_count": 164,
   "metadata": {},
   "outputs": [
    {
     "data": {
      "text/html": [
       "<div>\n",
       "<style scoped>\n",
       "    .dataframe tbody tr th:only-of-type {\n",
       "        vertical-align: middle;\n",
       "    }\n",
       "\n",
       "    .dataframe tbody tr th {\n",
       "        vertical-align: top;\n",
       "    }\n",
       "\n",
       "    .dataframe thead th {\n",
       "        text-align: right;\n",
       "    }\n",
       "</style>\n",
       "<table border=\"1\" class=\"dataframe\">\n",
       "  <thead>\n",
       "    <tr style=\"text-align: right;\">\n",
       "      <th></th>\n",
       "      <th>SEQN</th>\n",
       "      <th>SDDSRVYR</th>\n",
       "      <th>RIAGENDR</th>\n",
       "      <th>RIDAGEYR</th>\n",
       "      <th>RIDAGEMN</th>\n",
       "      <th>RIDRETH1</th>\n",
       "      <th>RIDEXPRG</th>\n",
       "      <th>BMXWT</th>\n",
       "      <th>BMXBMI</th>\n",
       "      <th>ALQ130</th>\n",
       "      <th>...</th>\n",
       "      <th>LBXVD2MS</th>\n",
       "      <th>LBXVD3MS</th>\n",
       "      <th>LBXVE3MS</th>\n",
       "      <th>LBDVIDMS</th>\n",
       "      <th>LBXVIC</th>\n",
       "      <th>LBDVICSI</th>\n",
       "      <th>LBXVIE</th>\n",
       "      <th>LBDVIESI</th>\n",
       "      <th>LBXVIA</th>\n",
       "      <th>LBDVIASI</th>\n",
       "    </tr>\n",
       "  </thead>\n",
       "  <tbody>\n",
       "    <tr>\n",
       "      <th>0</th>\n",
       "      <td>62161.0</td>\n",
       "      <td>7.0</td>\n",
       "      <td>1.0</td>\n",
       "      <td>22.0</td>\n",
       "      <td>264.0</td>\n",
       "      <td>3.0</td>\n",
       "      <td>N\\A</td>\n",
       "      <td>69.2</td>\n",
       "      <td>23.3</td>\n",
       "      <td>NaN</td>\n",
       "      <td>...</td>\n",
       "      <td>1.45</td>\n",
       "      <td>75.36</td>\n",
       "      <td>4.26</td>\n",
       "      <td>NaN</td>\n",
       "      <td>NaN</td>\n",
       "      <td>NaN</td>\n",
       "      <td>NaN</td>\n",
       "      <td>NaN</td>\n",
       "      <td>NaN</td>\n",
       "      <td>NaN</td>\n",
       "    </tr>\n",
       "    <tr>\n",
       "      <th>1</th>\n",
       "      <td>62162.0</td>\n",
       "      <td>7.0</td>\n",
       "      <td>2.0</td>\n",
       "      <td>3.0</td>\n",
       "      <td>36.0</td>\n",
       "      <td>1.0</td>\n",
       "      <td>N\\A</td>\n",
       "      <td>12.7</td>\n",
       "      <td>14.2</td>\n",
       "      <td>NaN</td>\n",
       "      <td>...</td>\n",
       "      <td>NaN</td>\n",
       "      <td>NaN</td>\n",
       "      <td>NaN</td>\n",
       "      <td>NaN</td>\n",
       "      <td>NaN</td>\n",
       "      <td>NaN</td>\n",
       "      <td>NaN</td>\n",
       "      <td>NaN</td>\n",
       "      <td>NaN</td>\n",
       "      <td>NaN</td>\n",
       "    </tr>\n",
       "    <tr>\n",
       "      <th>2</th>\n",
       "      <td>62163.0</td>\n",
       "      <td>7.0</td>\n",
       "      <td>1.0</td>\n",
       "      <td>14.0</td>\n",
       "      <td>168.0</td>\n",
       "      <td>5.0</td>\n",
       "      <td>N\\A</td>\n",
       "      <td>49.4</td>\n",
       "      <td>17.3</td>\n",
       "      <td>NaN</td>\n",
       "      <td>...</td>\n",
       "      <td>1.45</td>\n",
       "      <td>45.69</td>\n",
       "      <td>1.16</td>\n",
       "      <td>NaN</td>\n",
       "      <td>NaN</td>\n",
       "      <td>NaN</td>\n",
       "      <td>NaN</td>\n",
       "      <td>NaN</td>\n",
       "      <td>NaN</td>\n",
       "      <td>NaN</td>\n",
       "    </tr>\n",
       "    <tr>\n",
       "      <th>3</th>\n",
       "      <td>62164.0</td>\n",
       "      <td>7.0</td>\n",
       "      <td>2.0</td>\n",
       "      <td>44.0</td>\n",
       "      <td>528.0</td>\n",
       "      <td>3.0</td>\n",
       "      <td>2.0</td>\n",
       "      <td>67.2</td>\n",
       "      <td>23.2</td>\n",
       "      <td>NaN</td>\n",
       "      <td>...</td>\n",
       "      <td>1.45</td>\n",
       "      <td>90.73</td>\n",
       "      <td>4.99</td>\n",
       "      <td>NaN</td>\n",
       "      <td>NaN</td>\n",
       "      <td>NaN</td>\n",
       "      <td>NaN</td>\n",
       "      <td>NaN</td>\n",
       "      <td>NaN</td>\n",
       "      <td>NaN</td>\n",
       "    </tr>\n",
       "    <tr>\n",
       "      <th>4</th>\n",
       "      <td>62165.0</td>\n",
       "      <td>7.0</td>\n",
       "      <td>2.0</td>\n",
       "      <td>14.0</td>\n",
       "      <td>168.0</td>\n",
       "      <td>4.0</td>\n",
       "      <td>N\\A</td>\n",
       "      <td>69.1</td>\n",
       "      <td>27.2</td>\n",
       "      <td>NaN</td>\n",
       "      <td>...</td>\n",
       "      <td>1.45</td>\n",
       "      <td>60.70</td>\n",
       "      <td>4.67</td>\n",
       "      <td>NaN</td>\n",
       "      <td>NaN</td>\n",
       "      <td>NaN</td>\n",
       "      <td>NaN</td>\n",
       "      <td>NaN</td>\n",
       "      <td>NaN</td>\n",
       "      <td>NaN</td>\n",
       "    </tr>\n",
       "  </tbody>\n",
       "</table>\n",
       "<p>5 rows × 52 columns</p>\n",
       "</div>"
      ],
      "text/plain": [
       "      SEQN  SDDSRVYR  RIAGENDR  RIDAGEYR  RIDAGEMN  RIDRETH1 RIDEXPRG  BMXWT  \\\n",
       "0  62161.0       7.0       1.0      22.0     264.0       3.0      N\\A   69.2   \n",
       "1  62162.0       7.0       2.0       3.0      36.0       1.0      N\\A   12.7   \n",
       "2  62163.0       7.0       1.0      14.0     168.0       5.0      N\\A   49.4   \n",
       "3  62164.0       7.0       2.0      44.0     528.0       3.0      2.0   67.2   \n",
       "4  62165.0       7.0       2.0      14.0     168.0       4.0      N\\A   69.1   \n",
       "\n",
       "   BMXBMI  ALQ130  ...  LBXVD2MS  LBXVD3MS  LBXVE3MS  LBDVIDMS  LBXVIC  \\\n",
       "0    23.3     NaN  ...      1.45     75.36      4.26       NaN     NaN   \n",
       "1    14.2     NaN  ...       NaN       NaN       NaN       NaN     NaN   \n",
       "2    17.3     NaN  ...      1.45     45.69      1.16       NaN     NaN   \n",
       "3    23.2     NaN  ...      1.45     90.73      4.99       NaN     NaN   \n",
       "4    27.2     NaN  ...      1.45     60.70      4.67       NaN     NaN   \n",
       "\n",
       "   LBDVICSI  LBXVIE  LBDVIESI  LBXVIA  LBDVIASI  \n",
       "0       NaN     NaN       NaN     NaN       NaN  \n",
       "1       NaN     NaN       NaN     NaN       NaN  \n",
       "2       NaN     NaN       NaN     NaN       NaN  \n",
       "3       NaN     NaN       NaN     NaN       NaN  \n",
       "4       NaN     NaN       NaN     NaN       NaN  \n",
       "\n",
       "[5 rows x 52 columns]"
      ]
     },
     "execution_count": 164,
     "metadata": {},
     "output_type": "execute_result"
    }
   ],
   "source": [
    "fdf.head(5)"
   ]
  },
  {
   "cell_type": "code",
   "execution_count": 165,
   "metadata": {},
   "outputs": [
    {
     "data": {
      "text/plain": [
       "(101316, 52)"
      ]
     },
     "execution_count": 165,
     "metadata": {},
     "output_type": "execute_result"
    }
   ],
   "source": [
    "fdf.shape"
   ]
  },
  {
   "cell_type": "code",
   "execution_count": 166,
   "metadata": {},
   "outputs": [],
   "source": [
    "\n",
    "for df,name in zip(Combined_df_list, dfnames_list): \n",
    "    df.to_csv(name + '.csv')"
   ]
  },
  {
   "cell_type": "code",
   "execution_count": 167,
   "metadata": {},
   "outputs": [],
   "source": [
    "df_cols = {\n",
    "    \"SEQN\": \"Respondent sequence number\",\n",
    "    \"SDDSRVYR\": \"Data release cycle\",\n",
    "    \"RIAGENDR\": \"Gender\",\n",
    "    \"RIDAGEYR\": \"Age in years at screening\",\n",
    "    \"RIDAGEMN\": \"Age in months at screening - 0 to 24 mos\",\n",
    "    \"RIDRETH1\": \"Race/Hispanic origin\",\n",
    "    \"RIDEXPRG\": \"Pregnancy status at exam\",\n",
    "    \"LBXWBCSI\" : \"White blood cell count (1000 cells/uL)\",\n",
    "    \"LBXLYPCT\" : \"Lymphocyte percent (%)\",\n",
    "    \"LBXMOPCT\" : \"Monocyte percent (%)\",\n",
    "    \"LBXNEPCT\" : \"Segmented neutrophils percent (%)\",\n",
    "    \"LBXEOPCT\" : \"Eosinophils percent (%)\",\n",
    "    \"LBXBAPCT\" : \"Basophils percent (%)\",\n",
    "    \"LBDLYMNO\" : \"Lymphocyte number (1000 cells/uL)\",\n",
    "    \"LBDMONO\" : \"Monocyte number (1000 cells/uL)\",\n",
    "    \"LBDNENO\" : \"Segmented neutrophils num (1000 cell/uL)\",\n",
    "    \"LBDEONO\" : \"Eosinophils number (1000 cells/uL)\",\n",
    "    \"LBDBANO\" : \"Basophils number (1000 cells/uL)\",\n",
    "    \"LBXRBCSI\" : \"Red blood cell count (million cells/uL)\",\n",
    "    'LBDHI': 'HIV Result (western blot)',\n",
    "    'WTSA2YR': 'Subsample A weights',\n",
    "    'LBXSCU': 'Serum Copper (ug/dL)',\n",
    "    'LBDSCUSI': 'Serum Copper (umol/L)',\n",
    "    'LBXSSE': 'Serum Selenium (ug/L)',\n",
    "    'LBDSSESI': 'Serum Selenium (umol/L)',\n",
    "    'LBXSZN': 'Serum Zinc (ug/dL)',\n",
    "    'LBDSZNSI': 'Serum Zinc (umol/L)',\n",
    "    'LBDFERSI': 'Ferritin (ug/L)',\n",
    "    'LBDRFO':'RBC folate (ng/mL)', \n",
    "    'LBDRFOSI':'RBC folate (nmol/L)',\n",
    "    'LBXB12':'Vitamin B12( pg/mL)', \n",
    "    'LBDB12SI':'Vitamin B12 (pmol/L)', \n",
    "    'LBXPLP':'Pyridoxal 5-phosphate (nmol/L)',\n",
    "    'LBXVD2MS':'5OHD2 (nmol/L)', \n",
    "    'LBXVD3MS':'25OHD3 (nmol/L)', \n",
    "    'LBXVE3MS':'epi-25OHD3 (nmol/L)',\n",
    "    'LBDVIDMS':'Vitamin D (nmol/L)',\n",
    "    'LBXVIC':'Vitamin C (mg/dL)', \n",
    "    'LBDVICSI':'Vitamin C (umol/L)',\n",
    "    'LBXVIE':'Vitamin E (ug/dL)', \n",
    "    'LBDVIESI':'Vitamin E (umol/L)', \n",
    "    'LBXVIA':'Vitamin A (ug/dL)', \n",
    "    'LBDVIASI':'Vitamin A (umol/L)',\n",
    "    'BMXWT':'Weight (kg)', \n",
    "    'BMXBMI':'Body Mass Index (kg/m**2)',\n",
    "    'ALQ130': 'Avg # alcoholic drinks/day -past 12 mos',\n",
    "    'SMD650': 'Avg # cigarettes/day during past 30 days',\n",
    "    'MCQ053': 'Taking treatment for anemia/past 3 mos',\n",
    "    'MCQ220': 'Ever told you had cancer or malignancy',\n",
    "    'MCQ230A': 'What kind of cancer',\n",
    "    'MCQ230B': 'What kind of cancer',\n",
    "    'MCQ230C': 'What kind of cancer'\n",
    "\n",
    "    \n",
    "}"
   ]
  },
  {
   "cell_type": "code",
   "execution_count": 168,
   "metadata": {},
   "outputs": [],
   "source": [
    "New_colnames = {\n",
    "    \"SEQN\": \"ID\",\n",
    "    \"SDDSRVYR\": \"Yr_Cycle\",\n",
    "    \"RIAGENDR\": \"Gender\",\n",
    "    \"RIDAGEYR\": \"Age(yr)\",\n",
    "    \"RIDAGEMN\": \"Age(Months)\",\n",
    "    \"RIDRETH1\": \"Race\",\n",
    "    \"RIDEXPRG\": \"PregnStat\",\n",
    "    \"LBXWBCSI\" : \"White_Cell_num\",\n",
    "    \"LBXLYPCT\" : \"Lymphocyte(%)\",\n",
    "    \"LBXMOPCT\" : \"Monocyte(%)\",\n",
    "    \"LBXNEPCT\" : \"SegNeutrophil(%)\",\n",
    "    \"LBXEOPCT\" : \"Eosinophil(%)\",\n",
    "    \"LBXBAPCT\" : \"Basophil(%)\",\n",
    "    \"LBDLYMNO\" : \"Lymphocyte_num\",\n",
    "    \"LBDMONO\" : \"Monocyte_num\",\n",
    "    \"LBDNENO\" : \"SegNeutrophil_num\",\n",
    "    \"LBDEONO\" : \"Eosinophil_num\",\n",
    "    \"LBDBANO\" : \"Basophil_num\",\n",
    "    \"LBXRBCSI\" : \"Red_Cell_num\",\n",
    "    'LBDHI': 'HIV',\n",
    "    'WTSA2YR': 'Subsweights',\n",
    "    'LBXSCU': 'Cu(ug/dL)',\n",
    "    'LBDSCUSI': 'Cu(umol/L)',\n",
    "    'LBXSSE': 'Se(ug/L)',\n",
    "    'LBDSSESI': 'Se(umol/L)',\n",
    "    'LBXSZN': 'Zn(ug/dL)',\n",
    "    'LBDSZNSI': 'Zn(umol/L)',\n",
    "    'LBDFERSI': 'Fe(ug/L)',\n",
    "    'LBDRFO':'Folate(ng/mL)', \n",
    "    'LBDRFOSI':'Folate(nmol/L)',\n",
    "    'LBXB12':'VitB12(pg/mL)', \n",
    "    'LBDB12SI':'VitB12(pmol/L)', \n",
    "    'LBXPLP':'VitB6',\n",
    "    'LBXVD2MS':'VitD2', \n",
    "    'LBXVD3MS':'VitD3', \n",
    "    'LBXVE3MS':'epiVitD3',\n",
    "    'LBDVIDMS':'VitD(nmol/L)',\n",
    "    'LBXVIC':'VitC(mg/dL)', \n",
    "    'LBDVICSI':'VitC(umol/L)',\n",
    "    'LBXVIE':'VitE(ug/dL)', \n",
    "    'LBDVIESI':'VitE(umol/L)', \n",
    "    'LBXVIA':'VitA(ug/dL)', \n",
    "    'LBDVIASI':'VitA(umol/L)',\n",
    "    'BMXWT':'Weight', \n",
    "    'BMXBMI':'BMI',\n",
    "    'ALQ130': 'alco_dks_daily#',\n",
    "    'SMD650': 'smokescigs_daily#',\n",
    "    'MCQ053': 'had_anemia_treatment',\n",
    "    'MCQ220': 'had_cancer',\n",
    "    'MCQ230A': 'cancertype1',\n",
    "    'MCQ230B': 'cancertype2',\n",
    "    'MCQ230C': 'cancertype3'\n",
    "}"
   ]
  },
  {
   "cell_type": "code",
   "execution_count": 169,
   "metadata": {},
   "outputs": [],
   "source": [
    "#Rename all the columns\n",
    "\n",
    "fdf.rename(columns=New_colnames,\n",
    "          inplace=True)"
   ]
  },
  {
   "cell_type": "code",
   "execution_count": 170,
   "metadata": {},
   "outputs": [
    {
     "data": {
      "text/plain": [
       "(101316, 52)"
      ]
     },
     "execution_count": 170,
     "metadata": {},
     "output_type": "execute_result"
    }
   ],
   "source": [
    "fdf.shape"
   ]
  },
  {
   "cell_type": "code",
   "execution_count": 171,
   "metadata": {},
   "outputs": [
    {
     "data": {
      "text/html": [
       "<div>\n",
       "<style scoped>\n",
       "    .dataframe tbody tr th:only-of-type {\n",
       "        vertical-align: middle;\n",
       "    }\n",
       "\n",
       "    .dataframe tbody tr th {\n",
       "        vertical-align: top;\n",
       "    }\n",
       "\n",
       "    .dataframe thead th {\n",
       "        text-align: right;\n",
       "    }\n",
       "</style>\n",
       "<table border=\"1\" class=\"dataframe\">\n",
       "  <thead>\n",
       "    <tr style=\"text-align: right;\">\n",
       "      <th></th>\n",
       "      <th>ID</th>\n",
       "      <th>Yr_Cycle</th>\n",
       "      <th>Gender</th>\n",
       "      <th>Age(yr)</th>\n",
       "      <th>Age(Months)</th>\n",
       "      <th>Race</th>\n",
       "      <th>PregnStat</th>\n",
       "      <th>Weight</th>\n",
       "      <th>BMI</th>\n",
       "      <th>alco_dks_daily#</th>\n",
       "      <th>...</th>\n",
       "      <th>VitD2</th>\n",
       "      <th>VitD3</th>\n",
       "      <th>epiVitD3</th>\n",
       "      <th>VitD(nmol/L)</th>\n",
       "      <th>VitC(mg/dL)</th>\n",
       "      <th>VitC(umol/L)</th>\n",
       "      <th>VitE(ug/dL)</th>\n",
       "      <th>VitE(umol/L)</th>\n",
       "      <th>VitA(ug/dL)</th>\n",
       "      <th>VitA(umol/L)</th>\n",
       "    </tr>\n",
       "  </thead>\n",
       "  <tbody>\n",
       "    <tr>\n",
       "      <th>0</th>\n",
       "      <td>62161.0</td>\n",
       "      <td>7.0</td>\n",
       "      <td>1.0</td>\n",
       "      <td>22.0</td>\n",
       "      <td>264.0</td>\n",
       "      <td>3.0</td>\n",
       "      <td>N\\A</td>\n",
       "      <td>69.2</td>\n",
       "      <td>23.3</td>\n",
       "      <td>NaN</td>\n",
       "      <td>...</td>\n",
       "      <td>1.45</td>\n",
       "      <td>75.36</td>\n",
       "      <td>4.26</td>\n",
       "      <td>NaN</td>\n",
       "      <td>NaN</td>\n",
       "      <td>NaN</td>\n",
       "      <td>NaN</td>\n",
       "      <td>NaN</td>\n",
       "      <td>NaN</td>\n",
       "      <td>NaN</td>\n",
       "    </tr>\n",
       "    <tr>\n",
       "      <th>1</th>\n",
       "      <td>62162.0</td>\n",
       "      <td>7.0</td>\n",
       "      <td>2.0</td>\n",
       "      <td>3.0</td>\n",
       "      <td>36.0</td>\n",
       "      <td>1.0</td>\n",
       "      <td>N\\A</td>\n",
       "      <td>12.7</td>\n",
       "      <td>14.2</td>\n",
       "      <td>NaN</td>\n",
       "      <td>...</td>\n",
       "      <td>NaN</td>\n",
       "      <td>NaN</td>\n",
       "      <td>NaN</td>\n",
       "      <td>NaN</td>\n",
       "      <td>NaN</td>\n",
       "      <td>NaN</td>\n",
       "      <td>NaN</td>\n",
       "      <td>NaN</td>\n",
       "      <td>NaN</td>\n",
       "      <td>NaN</td>\n",
       "    </tr>\n",
       "    <tr>\n",
       "      <th>2</th>\n",
       "      <td>62163.0</td>\n",
       "      <td>7.0</td>\n",
       "      <td>1.0</td>\n",
       "      <td>14.0</td>\n",
       "      <td>168.0</td>\n",
       "      <td>5.0</td>\n",
       "      <td>N\\A</td>\n",
       "      <td>49.4</td>\n",
       "      <td>17.3</td>\n",
       "      <td>NaN</td>\n",
       "      <td>...</td>\n",
       "      <td>1.45</td>\n",
       "      <td>45.69</td>\n",
       "      <td>1.16</td>\n",
       "      <td>NaN</td>\n",
       "      <td>NaN</td>\n",
       "      <td>NaN</td>\n",
       "      <td>NaN</td>\n",
       "      <td>NaN</td>\n",
       "      <td>NaN</td>\n",
       "      <td>NaN</td>\n",
       "    </tr>\n",
       "    <tr>\n",
       "      <th>3</th>\n",
       "      <td>62164.0</td>\n",
       "      <td>7.0</td>\n",
       "      <td>2.0</td>\n",
       "      <td>44.0</td>\n",
       "      <td>528.0</td>\n",
       "      <td>3.0</td>\n",
       "      <td>2.0</td>\n",
       "      <td>67.2</td>\n",
       "      <td>23.2</td>\n",
       "      <td>NaN</td>\n",
       "      <td>...</td>\n",
       "      <td>1.45</td>\n",
       "      <td>90.73</td>\n",
       "      <td>4.99</td>\n",
       "      <td>NaN</td>\n",
       "      <td>NaN</td>\n",
       "      <td>NaN</td>\n",
       "      <td>NaN</td>\n",
       "      <td>NaN</td>\n",
       "      <td>NaN</td>\n",
       "      <td>NaN</td>\n",
       "    </tr>\n",
       "    <tr>\n",
       "      <th>4</th>\n",
       "      <td>62165.0</td>\n",
       "      <td>7.0</td>\n",
       "      <td>2.0</td>\n",
       "      <td>14.0</td>\n",
       "      <td>168.0</td>\n",
       "      <td>4.0</td>\n",
       "      <td>N\\A</td>\n",
       "      <td>69.1</td>\n",
       "      <td>27.2</td>\n",
       "      <td>NaN</td>\n",
       "      <td>...</td>\n",
       "      <td>1.45</td>\n",
       "      <td>60.70</td>\n",
       "      <td>4.67</td>\n",
       "      <td>NaN</td>\n",
       "      <td>NaN</td>\n",
       "      <td>NaN</td>\n",
       "      <td>NaN</td>\n",
       "      <td>NaN</td>\n",
       "      <td>NaN</td>\n",
       "      <td>NaN</td>\n",
       "    </tr>\n",
       "  </tbody>\n",
       "</table>\n",
       "<p>5 rows × 52 columns</p>\n",
       "</div>"
      ],
      "text/plain": [
       "        ID  Yr_Cycle  Gender  Age(yr)  Age(Months)  Race PregnStat  Weight  \\\n",
       "0  62161.0       7.0     1.0     22.0        264.0   3.0       N\\A    69.2   \n",
       "1  62162.0       7.0     2.0      3.0         36.0   1.0       N\\A    12.7   \n",
       "2  62163.0       7.0     1.0     14.0        168.0   5.0       N\\A    49.4   \n",
       "3  62164.0       7.0     2.0     44.0        528.0   3.0       2.0    67.2   \n",
       "4  62165.0       7.0     2.0     14.0        168.0   4.0       N\\A    69.1   \n",
       "\n",
       "    BMI  alco_dks_daily#  ...  VitD2  VitD3  epiVitD3  VitD(nmol/L)  \\\n",
       "0  23.3              NaN  ...   1.45  75.36      4.26           NaN   \n",
       "1  14.2              NaN  ...    NaN    NaN       NaN           NaN   \n",
       "2  17.3              NaN  ...   1.45  45.69      1.16           NaN   \n",
       "3  23.2              NaN  ...   1.45  90.73      4.99           NaN   \n",
       "4  27.2              NaN  ...   1.45  60.70      4.67           NaN   \n",
       "\n",
       "   VitC(mg/dL)  VitC(umol/L)  VitE(ug/dL)  VitE(umol/L)  VitA(ug/dL)  \\\n",
       "0          NaN           NaN          NaN           NaN          NaN   \n",
       "1          NaN           NaN          NaN           NaN          NaN   \n",
       "2          NaN           NaN          NaN           NaN          NaN   \n",
       "3          NaN           NaN          NaN           NaN          NaN   \n",
       "4          NaN           NaN          NaN           NaN          NaN   \n",
       "\n",
       "   VitA(umol/L)  \n",
       "0           NaN  \n",
       "1           NaN  \n",
       "2           NaN  \n",
       "3           NaN  \n",
       "4           NaN  \n",
       "\n",
       "[5 rows x 52 columns]"
      ]
     },
     "execution_count": 171,
     "metadata": {},
     "output_type": "execute_result"
    }
   ],
   "source": [
    "fdf.head()"
   ]
  },
  {
   "cell_type": "markdown",
   "metadata": {},
   "source": [
    "### Final combined dataset saved as .csv file"
   ]
  },
  {
   "cell_type": "code",
   "execution_count": 172,
   "metadata": {},
   "outputs": [],
   "source": [
    "#Save df as csv file\n",
    "fdf.to_csv('NHANES_merged.csv', index=False)  "
   ]
  }
 ],
 "metadata": {
  "kernelspec": {
   "display_name": "Python 3",
   "language": "python",
   "name": "python3"
  },
  "language_info": {
   "codemirror_mode": {
    "name": "ipython",
    "version": 3
   },
   "file_extension": ".py",
   "mimetype": "text/x-python",
   "name": "python",
   "nbconvert_exporter": "python",
   "pygments_lexer": "ipython3",
   "version": "3.8.5"
  }
 },
 "nbformat": 4,
 "nbformat_minor": 5
}
