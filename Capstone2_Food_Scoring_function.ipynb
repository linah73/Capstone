{
 "cells": [
  {
   "cell_type": "code",
   "execution_count": 1,
   "metadata": {},
   "outputs": [],
   "source": [
    "import warnings\n",
    "warnings.filterwarnings('ignore')"
   ]
  },
  {
   "cell_type": "code",
   "execution_count": 2,
   "metadata": {},
   "outputs": [
    {
     "name": "stdout",
     "output_type": "stream",
     "text": [
      "Requirement already satisfied: scikit-learn in ./opt/anaconda3/lib/python3.8/site-packages (0.23.2)\n",
      "Requirement already satisfied: threadpoolctl>=2.0.0 in ./opt/anaconda3/lib/python3.8/site-packages (from scikit-learn) (2.1.0)\n",
      "Requirement already satisfied: joblib>=0.11 in ./opt/anaconda3/lib/python3.8/site-packages (from scikit-learn) (0.17.0)\n",
      "Requirement already satisfied: scipy>=0.19.1 in ./opt/anaconda3/lib/python3.8/site-packages (from scikit-learn) (1.5.2)\n",
      "Requirement already satisfied: numpy>=1.13.3 in ./opt/anaconda3/lib/python3.8/site-packages (from scikit-learn) (1.19.5)\n",
      "Note: you may need to restart the kernel to use updated packages.\n"
     ]
    }
   ],
   "source": [
    "pip install scikit-learn"
   ]
  },
  {
   "cell_type": "code",
   "execution_count": 3,
   "metadata": {},
   "outputs": [],
   "source": [
    "%matplotlib inline\n",
    "import pandas as pd\n",
    "import numpy as np\n",
    "import sklearn\n",
    "import matplotlib.pyplot as plt\n",
    "import seaborn as sns"
   ]
  },
  {
   "cell_type": "code",
   "execution_count": 4,
   "metadata": {},
   "outputs": [],
   "source": [
    "# nutrition_df = pd.read_csv('Nutritions_US.csv')\n",
    "\n",
    "    \n",
    "food_df = pd.read_csv('Nutritions_US.csv', encoding='cp1252')"
   ]
  },
  {
   "cell_type": "code",
   "execution_count": 5,
   "metadata": {},
   "outputs": [
    {
     "data": {
      "text/html": [
       "<div>\n",
       "<style scoped>\n",
       "    .dataframe tbody tr th:only-of-type {\n",
       "        vertical-align: middle;\n",
       "    }\n",
       "\n",
       "    .dataframe tbody tr th {\n",
       "        vertical-align: top;\n",
       "    }\n",
       "\n",
       "    .dataframe thead th {\n",
       "        text-align: right;\n",
       "    }\n",
       "</style>\n",
       "<table border=\"1\" class=\"dataframe\">\n",
       "  <thead>\n",
       "    <tr style=\"text-align: right;\">\n",
       "      <th></th>\n",
       "      <th>NDB_No</th>\n",
       "      <th>Shrt_Desc</th>\n",
       "      <th>Water_(g)</th>\n",
       "      <th>Energ_Kcal</th>\n",
       "      <th>Protein_(g)</th>\n",
       "      <th>Lipid_Tot_(g)</th>\n",
       "      <th>Ash_(g)</th>\n",
       "      <th>Carbohydrt_(g)</th>\n",
       "      <th>Fiber_TD_(g)</th>\n",
       "      <th>Sugar_Tot_(g)</th>\n",
       "      <th>...</th>\n",
       "      <th>Vit_D_IU</th>\n",
       "      <th>Vit_K_(¾g)</th>\n",
       "      <th>FA_Sat_(g)</th>\n",
       "      <th>FA_Mono_(g)</th>\n",
       "      <th>FA_Poly_(g)</th>\n",
       "      <th>Cholestrl_(mg)</th>\n",
       "      <th>GmWt_1</th>\n",
       "      <th>GmWt_Desc1</th>\n",
       "      <th>GmWt_2</th>\n",
       "      <th>GmWt_Desc2</th>\n",
       "    </tr>\n",
       "  </thead>\n",
       "  <tbody>\n",
       "    <tr>\n",
       "      <th>0</th>\n",
       "      <td>1001</td>\n",
       "      <td>BUTTER,WITH SALT</td>\n",
       "      <td>15.87</td>\n",
       "      <td>717</td>\n",
       "      <td>0.85</td>\n",
       "      <td>81.11</td>\n",
       "      <td>2.11</td>\n",
       "      <td>0.06</td>\n",
       "      <td>0.0</td>\n",
       "      <td>0.06</td>\n",
       "      <td>...</td>\n",
       "      <td>0.0</td>\n",
       "      <td>7.0</td>\n",
       "      <td>51.368</td>\n",
       "      <td>21.021</td>\n",
       "      <td>3.043</td>\n",
       "      <td>215.0</td>\n",
       "      <td>5.00</td>\n",
       "      <td>1 pat,  (1\" sq, 1/3\" high)</td>\n",
       "      <td>14.2</td>\n",
       "      <td>1 tbsp</td>\n",
       "    </tr>\n",
       "    <tr>\n",
       "      <th>1</th>\n",
       "      <td>1002</td>\n",
       "      <td>BUTTER,WHIPPED,W/ SALT</td>\n",
       "      <td>16.72</td>\n",
       "      <td>718</td>\n",
       "      <td>0.49</td>\n",
       "      <td>78.30</td>\n",
       "      <td>1.62</td>\n",
       "      <td>2.87</td>\n",
       "      <td>0.0</td>\n",
       "      <td>0.06</td>\n",
       "      <td>...</td>\n",
       "      <td>0.0</td>\n",
       "      <td>4.6</td>\n",
       "      <td>45.390</td>\n",
       "      <td>19.874</td>\n",
       "      <td>3.331</td>\n",
       "      <td>225.0</td>\n",
       "      <td>3.80</td>\n",
       "      <td>1 pat,  (1\" sq, 1/3\" high)</td>\n",
       "      <td>9.4</td>\n",
       "      <td>1 tbsp</td>\n",
       "    </tr>\n",
       "    <tr>\n",
       "      <th>2</th>\n",
       "      <td>1003</td>\n",
       "      <td>BUTTER OIL,ANHYDROUS</td>\n",
       "      <td>0.24</td>\n",
       "      <td>876</td>\n",
       "      <td>0.28</td>\n",
       "      <td>99.48</td>\n",
       "      <td>0.00</td>\n",
       "      <td>0.00</td>\n",
       "      <td>0.0</td>\n",
       "      <td>0.00</td>\n",
       "      <td>...</td>\n",
       "      <td>0.0</td>\n",
       "      <td>8.6</td>\n",
       "      <td>61.924</td>\n",
       "      <td>28.732</td>\n",
       "      <td>3.694</td>\n",
       "      <td>256.0</td>\n",
       "      <td>12.80</td>\n",
       "      <td>1 tbsp</td>\n",
       "      <td>205.0</td>\n",
       "      <td>1 cup</td>\n",
       "    </tr>\n",
       "    <tr>\n",
       "      <th>3</th>\n",
       "      <td>1004</td>\n",
       "      <td>CHEESE,BLUE</td>\n",
       "      <td>42.41</td>\n",
       "      <td>353</td>\n",
       "      <td>21.40</td>\n",
       "      <td>28.74</td>\n",
       "      <td>5.11</td>\n",
       "      <td>2.34</td>\n",
       "      <td>0.0</td>\n",
       "      <td>0.50</td>\n",
       "      <td>...</td>\n",
       "      <td>21.0</td>\n",
       "      <td>2.4</td>\n",
       "      <td>18.669</td>\n",
       "      <td>7.778</td>\n",
       "      <td>0.800</td>\n",
       "      <td>75.0</td>\n",
       "      <td>28.35</td>\n",
       "      <td>1 oz</td>\n",
       "      <td>17.0</td>\n",
       "      <td>1 cubic inch</td>\n",
       "    </tr>\n",
       "    <tr>\n",
       "      <th>4</th>\n",
       "      <td>1005</td>\n",
       "      <td>CHEESE,BRICK</td>\n",
       "      <td>41.11</td>\n",
       "      <td>371</td>\n",
       "      <td>23.24</td>\n",
       "      <td>29.68</td>\n",
       "      <td>3.18</td>\n",
       "      <td>2.79</td>\n",
       "      <td>0.0</td>\n",
       "      <td>0.51</td>\n",
       "      <td>...</td>\n",
       "      <td>22.0</td>\n",
       "      <td>2.5</td>\n",
       "      <td>18.764</td>\n",
       "      <td>8.598</td>\n",
       "      <td>0.784</td>\n",
       "      <td>94.0</td>\n",
       "      <td>132.00</td>\n",
       "      <td>1 cup, diced</td>\n",
       "      <td>113.0</td>\n",
       "      <td>1 cup, shredded</td>\n",
       "    </tr>\n",
       "  </tbody>\n",
       "</table>\n",
       "<p>5 rows × 52 columns</p>\n",
       "</div>"
      ],
      "text/plain": [
       "   NDB_No               Shrt_Desc  Water_(g)  Energ_Kcal  Protein_(g)  \\\n",
       "0    1001        BUTTER,WITH SALT      15.87         717         0.85   \n",
       "1    1002  BUTTER,WHIPPED,W/ SALT      16.72         718         0.49   \n",
       "2    1003    BUTTER OIL,ANHYDROUS       0.24         876         0.28   \n",
       "3    1004             CHEESE,BLUE      42.41         353        21.40   \n",
       "4    1005            CHEESE,BRICK      41.11         371        23.24   \n",
       "\n",
       "   Lipid_Tot_(g)  Ash_(g)  Carbohydrt_(g)  Fiber_TD_(g)  Sugar_Tot_(g)  ...  \\\n",
       "0          81.11     2.11            0.06           0.0           0.06  ...   \n",
       "1          78.30     1.62            2.87           0.0           0.06  ...   \n",
       "2          99.48     0.00            0.00           0.0           0.00  ...   \n",
       "3          28.74     5.11            2.34           0.0           0.50  ...   \n",
       "4          29.68     3.18            2.79           0.0           0.51  ...   \n",
       "\n",
       "   Vit_D_IU  Vit_K_(¾g)  FA_Sat_(g)  FA_Mono_(g)  FA_Poly_(g)  Cholestrl_(mg)  \\\n",
       "0       0.0         7.0      51.368       21.021        3.043           215.0   \n",
       "1       0.0         4.6      45.390       19.874        3.331           225.0   \n",
       "2       0.0         8.6      61.924       28.732        3.694           256.0   \n",
       "3      21.0         2.4      18.669        7.778        0.800            75.0   \n",
       "4      22.0         2.5      18.764        8.598        0.784            94.0   \n",
       "\n",
       "   GmWt_1                  GmWt_Desc1  GmWt_2       GmWt_Desc2  \n",
       "0    5.00  1 pat,  (1\" sq, 1/3\" high)    14.2           1 tbsp  \n",
       "1    3.80  1 pat,  (1\" sq, 1/3\" high)     9.4           1 tbsp  \n",
       "2   12.80                      1 tbsp   205.0            1 cup  \n",
       "3   28.35                        1 oz    17.0     1 cubic inch  \n",
       "4  132.00                1 cup, diced   113.0  1 cup, shredded  \n",
       "\n",
       "[5 rows x 52 columns]"
      ]
     },
     "execution_count": 5,
     "metadata": {},
     "output_type": "execute_result"
    }
   ],
   "source": [
    "food_df.head()"
   ]
  },
  {
   "cell_type": "code",
   "execution_count": 6,
   "metadata": {},
   "outputs": [
    {
     "name": "stdout",
     "output_type": "stream",
     "text": [
      "<class 'pandas.core.frame.DataFrame'>\n",
      "RangeIndex: 8790 entries, 0 to 8789\n",
      "Data columns (total 52 columns):\n",
      " #   Column             Non-Null Count  Dtype  \n",
      "---  ------             --------------  -----  \n",
      " 0   NDB_No             8790 non-null   int64  \n",
      " 1   Shrt_Desc          8790 non-null   object \n",
      " 2   Water_(g)          8789 non-null   float64\n",
      " 3   Energ_Kcal         8790 non-null   int64  \n",
      " 4   Protein_(g)        8790 non-null   float64\n",
      " 5   Lipid_Tot_(g)      8790 non-null   float64\n",
      " 6   Ash_(g)            8465 non-null   float64\n",
      " 7   Carbohydrt_(g)     8790 non-null   float64\n",
      " 8   Fiber_TD_(g)       8196 non-null   float64\n",
      " 9   Sugar_Tot_(g)      6958 non-null   float64\n",
      " 10  Calcium_(mg)       8442 non-null   float64\n",
      " 11  Iron_(mg)          8646 non-null   float64\n",
      " 12  Magnesium_(mg)     8051 non-null   float64\n",
      " 13  Phosphorus_(mg)    8211 non-null   float64\n",
      " 14  Potassium_(mg)     8364 non-null   float64\n",
      " 15  Sodium_(mg)        8707 non-null   float64\n",
      " 16  Zinc_(mg)          8084 non-null   float64\n",
      " 17  Copper_mg)         7533 non-null   float64\n",
      " 18  Manganese_(mg)     6630 non-null   float64\n",
      " 19  Selenium_(¾g)      7090 non-null   float64\n",
      " 20  Vit_C_(mg)         7972 non-null   float64\n",
      " 21  Thiamin_(mg)       8156 non-null   float64\n",
      " 22  Riboflavin_(mg)    8174 non-null   float64\n",
      " 23  Niacin_(mg)        8153 non-null   float64\n",
      " 24  Panto_Acid_mg)     6548 non-null   float64\n",
      " 25  Vit_B6_(mg)        7885 non-null   float64\n",
      " 26  Folate_Tot_(¾g)    7529 non-null   float64\n",
      " 27  Folic_Acid_(¾g)    6751 non-null   float64\n",
      " 28  Food_Folate_(¾g)   7022 non-null   float64\n",
      " 29  Folate_DFE_(¾g)    6733 non-null   float64\n",
      " 30  Choline_Tot_ (mg)  4774 non-null   float64\n",
      " 31  Vit_B12_(¾g)       7597 non-null   float64\n",
      " 32  Vit_A_IU           8079 non-null   float64\n",
      " 33  Vit_A_RAE          7255 non-null   float64\n",
      " 34  Retinol_(¾g)       6984 non-null   float64\n",
      " 35  Alpha_Carot_(¾g)   5532 non-null   float64\n",
      " 36  Beta_Carot_(¾g)    5628 non-null   float64\n",
      " 37  Beta_Crypt_(¾g)    5520 non-null   float64\n",
      " 38  Lycopene_(¾g)      5498 non-null   float64\n",
      " 39  Lut+Zea_ (¾g)      5475 non-null   float64\n",
      " 40  Vit_E_(mg)         5901 non-null   float64\n",
      " 41  Vit_D_¾g           5528 non-null   float64\n",
      " 42  Vit_D_IU           5579 non-null   float64\n",
      " 43  Vit_K_(¾g)         5227 non-null   float64\n",
      " 44  FA_Sat_(g)         8441 non-null   float64\n",
      " 45  FA_Mono_(g)        8124 non-null   float64\n",
      " 46  FA_Poly_(g)        8125 non-null   float64\n",
      " 47  Cholestrl_(mg)     8380 non-null   float64\n",
      " 48  GmWt_1             8490 non-null   float64\n",
      " 49  GmWt_Desc1         8491 non-null   object \n",
      " 50  GmWt_2             4825 non-null   float64\n",
      " 51  GmWt_Desc2         4825 non-null   object \n",
      "dtypes: float64(47), int64(2), object(3)\n",
      "memory usage: 3.5+ MB\n"
     ]
    }
   ],
   "source": [
    "food_df.info()"
   ]
  },
  {
   "cell_type": "code",
   "execution_count": 7,
   "metadata": {},
   "outputs": [],
   "source": [
    "Nutrition_features = { 'NDB_No': 'Nutrition database number',\n",
    "                      'Shrt_Desc': 'Short description',\n",
    "                      'Iron_(mg)': 'Iron',\n",
    "                      'Zinc_(mg)': 'Zinc',\n",
    "                      'Copper_mg)': 'Copper',\n",
    "                      'Selenium_(¾g)': 'Selenium',\n",
    "                      'Vit_C_(mg)': 'Vitamin C',\n",
    "                      'Vit_B6_(mg)': 'Vitamin B6',\n",
    "                      'Folate_Tot_(¾g)': 'Folate, total',\n",
    "                      'Folic_Acid_(¾g)': 'Folic acid',\n",
    "                      'Food_Folate_(¾g)': 'Food Folate',\n",
    "                      'Folate_DFE_(¾g)': 'Folate, DFE',\n",
    "                      'Vit_B12_(¾g)': 'Vitamin B12',\n",
    "                      'Vit_A_IU': 'Vitamin A, IU',\n",
    "                      'Vit_A_RAE': 'Vitamin A, RAE',\n",
    "                      'Retinol_(¾g)': 'Retinol',\n",
    "                      'Alpha_Carot_(¾g)': 'Carotene, alpha',\n",
    "                      'Beta_Carot_(¾g)': 'Carotene, beta',\n",
    "                      'Vit_E_(mg)': 'Vitamin E (alpha-tocopherol)',\n",
    "                      'Vit_D_¾g': 'Vitamin D (D2 + D3)',\n",
    "                      'Vit_D_IU': 'Vitamin D',\n",
    "                      'GmWt_1': 'gram weight 1',\n",
    "                      'GmWt_Desc1': 'gram weight 1 descriptions',\n",
    "                      'GmWt_2': 'gram weight 2',\n",
    "                      'GmWt_Desc2': 'gram weight 2 description'   \n",
    "}"
   ]
  },
  {
   "cell_type": "code",
   "execution_count": 8,
   "metadata": {},
   "outputs": [
    {
     "name": "stdout",
     "output_type": "stream",
     "text": [
      "<class 'pandas.core.frame.DataFrame'>\n",
      "RangeIndex: 8790 entries, 0 to 8789\n",
      "Data columns (total 25 columns):\n",
      " #   Column            Non-Null Count  Dtype  \n",
      "---  ------            --------------  -----  \n",
      " 0   NDB_No            8790 non-null   int64  \n",
      " 1   Shrt_Desc         8790 non-null   object \n",
      " 2   Iron_(mg)         8646 non-null   float64\n",
      " 3   Zinc_(mg)         8084 non-null   float64\n",
      " 4   Copper_mg)        7533 non-null   float64\n",
      " 5   Selenium_(¾g)     7090 non-null   float64\n",
      " 6   Vit_C_(mg)        7972 non-null   float64\n",
      " 7   Vit_B6_(mg)       7885 non-null   float64\n",
      " 8   Folate_Tot_(¾g)   7529 non-null   float64\n",
      " 9   Folic_Acid_(¾g)   6751 non-null   float64\n",
      " 10  Food_Folate_(¾g)  7022 non-null   float64\n",
      " 11  Folate_DFE_(¾g)   6733 non-null   float64\n",
      " 12  Vit_B12_(¾g)      7597 non-null   float64\n",
      " 13  Vit_A_IU          8079 non-null   float64\n",
      " 14  Vit_A_RAE         7255 non-null   float64\n",
      " 15  Retinol_(¾g)      6984 non-null   float64\n",
      " 16  Alpha_Carot_(¾g)  5532 non-null   float64\n",
      " 17  Beta_Carot_(¾g)   5628 non-null   float64\n",
      " 18  Vit_E_(mg)        5901 non-null   float64\n",
      " 19  Vit_D_¾g          5528 non-null   float64\n",
      " 20  Vit_D_IU          5579 non-null   float64\n",
      " 21  GmWt_1            8490 non-null   float64\n",
      " 22  GmWt_Desc1        8491 non-null   object \n",
      " 23  GmWt_2            4825 non-null   float64\n",
      " 24  GmWt_Desc2        4825 non-null   object \n",
      "dtypes: float64(21), int64(1), object(3)\n",
      "memory usage: 1.7+ MB\n"
     ]
    }
   ],
   "source": [
    "food_red_df = food_df[list(Nutrition_features.keys())]\n",
    "food_red_df.info()"
   ]
  },
  {
   "cell_type": "code",
   "execution_count": 9,
   "metadata": {},
   "outputs": [
    {
     "data": {
      "text/html": [
       "<div>\n",
       "<style scoped>\n",
       "    .dataframe tbody tr th:only-of-type {\n",
       "        vertical-align: middle;\n",
       "    }\n",
       "\n",
       "    .dataframe tbody tr th {\n",
       "        vertical-align: top;\n",
       "    }\n",
       "\n",
       "    .dataframe thead th {\n",
       "        text-align: right;\n",
       "    }\n",
       "</style>\n",
       "<table border=\"1\" class=\"dataframe\">\n",
       "  <thead>\n",
       "    <tr style=\"text-align: right;\">\n",
       "      <th></th>\n",
       "      <th>NDB_No</th>\n",
       "      <th>Shrt_Desc</th>\n",
       "      <th>Iron_(mg)</th>\n",
       "      <th>Zinc_(mg)</th>\n",
       "      <th>Copper_mg)</th>\n",
       "      <th>Selenium_(¾g)</th>\n",
       "      <th>Vit_C_(mg)</th>\n",
       "      <th>Vit_B6_(mg)</th>\n",
       "      <th>Folate_Tot_(¾g)</th>\n",
       "      <th>Folic_Acid_(¾g)</th>\n",
       "      <th>...</th>\n",
       "      <th>Retinol_(¾g)</th>\n",
       "      <th>Alpha_Carot_(¾g)</th>\n",
       "      <th>Beta_Carot_(¾g)</th>\n",
       "      <th>Vit_E_(mg)</th>\n",
       "      <th>Vit_D_¾g</th>\n",
       "      <th>Vit_D_IU</th>\n",
       "      <th>GmWt_1</th>\n",
       "      <th>GmWt_Desc1</th>\n",
       "      <th>GmWt_2</th>\n",
       "      <th>GmWt_Desc2</th>\n",
       "    </tr>\n",
       "  </thead>\n",
       "  <tbody>\n",
       "    <tr>\n",
       "      <th>0</th>\n",
       "      <td>1001</td>\n",
       "      <td>BUTTER,WITH SALT</td>\n",
       "      <td>0.02</td>\n",
       "      <td>0.09</td>\n",
       "      <td>0.000</td>\n",
       "      <td>1.0</td>\n",
       "      <td>0.0</td>\n",
       "      <td>0.003</td>\n",
       "      <td>3.0</td>\n",
       "      <td>0.0</td>\n",
       "      <td>...</td>\n",
       "      <td>671.0</td>\n",
       "      <td>0.0</td>\n",
       "      <td>158.0</td>\n",
       "      <td>2.32</td>\n",
       "      <td>0.0</td>\n",
       "      <td>0.0</td>\n",
       "      <td>5.00</td>\n",
       "      <td>1 pat,  (1\" sq, 1/3\" high)</td>\n",
       "      <td>14.2</td>\n",
       "      <td>1 tbsp</td>\n",
       "    </tr>\n",
       "    <tr>\n",
       "      <th>1</th>\n",
       "      <td>1002</td>\n",
       "      <td>BUTTER,WHIPPED,W/ SALT</td>\n",
       "      <td>0.05</td>\n",
       "      <td>0.05</td>\n",
       "      <td>0.010</td>\n",
       "      <td>0.0</td>\n",
       "      <td>0.0</td>\n",
       "      <td>0.008</td>\n",
       "      <td>4.0</td>\n",
       "      <td>0.0</td>\n",
       "      <td>...</td>\n",
       "      <td>671.0</td>\n",
       "      <td>1.0</td>\n",
       "      <td>135.0</td>\n",
       "      <td>1.37</td>\n",
       "      <td>0.0</td>\n",
       "      <td>0.0</td>\n",
       "      <td>3.80</td>\n",
       "      <td>1 pat,  (1\" sq, 1/3\" high)</td>\n",
       "      <td>9.4</td>\n",
       "      <td>1 tbsp</td>\n",
       "    </tr>\n",
       "    <tr>\n",
       "      <th>2</th>\n",
       "      <td>1003</td>\n",
       "      <td>BUTTER OIL,ANHYDROUS</td>\n",
       "      <td>0.00</td>\n",
       "      <td>0.01</td>\n",
       "      <td>0.001</td>\n",
       "      <td>0.0</td>\n",
       "      <td>0.0</td>\n",
       "      <td>0.001</td>\n",
       "      <td>0.0</td>\n",
       "      <td>0.0</td>\n",
       "      <td>...</td>\n",
       "      <td>824.0</td>\n",
       "      <td>0.0</td>\n",
       "      <td>193.0</td>\n",
       "      <td>2.80</td>\n",
       "      <td>0.0</td>\n",
       "      <td>0.0</td>\n",
       "      <td>12.80</td>\n",
       "      <td>1 tbsp</td>\n",
       "      <td>205.0</td>\n",
       "      <td>1 cup</td>\n",
       "    </tr>\n",
       "    <tr>\n",
       "      <th>3</th>\n",
       "      <td>1004</td>\n",
       "      <td>CHEESE,BLUE</td>\n",
       "      <td>0.31</td>\n",
       "      <td>2.66</td>\n",
       "      <td>0.040</td>\n",
       "      <td>14.5</td>\n",
       "      <td>0.0</td>\n",
       "      <td>0.166</td>\n",
       "      <td>36.0</td>\n",
       "      <td>0.0</td>\n",
       "      <td>...</td>\n",
       "      <td>192.0</td>\n",
       "      <td>0.0</td>\n",
       "      <td>74.0</td>\n",
       "      <td>0.25</td>\n",
       "      <td>0.5</td>\n",
       "      <td>21.0</td>\n",
       "      <td>28.35</td>\n",
       "      <td>1 oz</td>\n",
       "      <td>17.0</td>\n",
       "      <td>1 cubic inch</td>\n",
       "    </tr>\n",
       "    <tr>\n",
       "      <th>4</th>\n",
       "      <td>1005</td>\n",
       "      <td>CHEESE,BRICK</td>\n",
       "      <td>0.43</td>\n",
       "      <td>2.60</td>\n",
       "      <td>0.024</td>\n",
       "      <td>14.5</td>\n",
       "      <td>0.0</td>\n",
       "      <td>0.065</td>\n",
       "      <td>20.0</td>\n",
       "      <td>0.0</td>\n",
       "      <td>...</td>\n",
       "      <td>286.0</td>\n",
       "      <td>0.0</td>\n",
       "      <td>76.0</td>\n",
       "      <td>0.26</td>\n",
       "      <td>0.5</td>\n",
       "      <td>22.0</td>\n",
       "      <td>132.00</td>\n",
       "      <td>1 cup, diced</td>\n",
       "      <td>113.0</td>\n",
       "      <td>1 cup, shredded</td>\n",
       "    </tr>\n",
       "  </tbody>\n",
       "</table>\n",
       "<p>5 rows × 25 columns</p>\n",
       "</div>"
      ],
      "text/plain": [
       "   NDB_No               Shrt_Desc  Iron_(mg)  Zinc_(mg)  Copper_mg)  \\\n",
       "0    1001        BUTTER,WITH SALT       0.02       0.09       0.000   \n",
       "1    1002  BUTTER,WHIPPED,W/ SALT       0.05       0.05       0.010   \n",
       "2    1003    BUTTER OIL,ANHYDROUS       0.00       0.01       0.001   \n",
       "3    1004             CHEESE,BLUE       0.31       2.66       0.040   \n",
       "4    1005            CHEESE,BRICK       0.43       2.60       0.024   \n",
       "\n",
       "   Selenium_(¾g)  Vit_C_(mg)  Vit_B6_(mg)  Folate_Tot_(¾g)  Folic_Acid_(¾g)  \\\n",
       "0            1.0         0.0        0.003              3.0              0.0   \n",
       "1            0.0         0.0        0.008              4.0              0.0   \n",
       "2            0.0         0.0        0.001              0.0              0.0   \n",
       "3           14.5         0.0        0.166             36.0              0.0   \n",
       "4           14.5         0.0        0.065             20.0              0.0   \n",
       "\n",
       "   ...  Retinol_(¾g)  Alpha_Carot_(¾g)  Beta_Carot_(¾g)  Vit_E_(mg)  Vit_D_¾g  \\\n",
       "0  ...         671.0               0.0            158.0        2.32       0.0   \n",
       "1  ...         671.0               1.0            135.0        1.37       0.0   \n",
       "2  ...         824.0               0.0            193.0        2.80       0.0   \n",
       "3  ...         192.0               0.0             74.0        0.25       0.5   \n",
       "4  ...         286.0               0.0             76.0        0.26       0.5   \n",
       "\n",
       "   Vit_D_IU  GmWt_1                  GmWt_Desc1  GmWt_2       GmWt_Desc2  \n",
       "0       0.0    5.00  1 pat,  (1\" sq, 1/3\" high)    14.2           1 tbsp  \n",
       "1       0.0    3.80  1 pat,  (1\" sq, 1/3\" high)     9.4           1 tbsp  \n",
       "2       0.0   12.80                      1 tbsp   205.0            1 cup  \n",
       "3      21.0   28.35                        1 oz    17.0     1 cubic inch  \n",
       "4      22.0  132.00                1 cup, diced   113.0  1 cup, shredded  \n",
       "\n",
       "[5 rows x 25 columns]"
      ]
     },
     "execution_count": 9,
     "metadata": {},
     "output_type": "execute_result"
    }
   ],
   "source": [
    "food_red_df.head()"
   ]
  },
  {
   "cell_type": "code",
   "execution_count": 14,
   "metadata": {},
   "outputs": [],
   "source": [
    "#create new df with relevant columns\n",
    "food_df = food_red_df[['NDB_No', 'Shrt_Desc', 'Zinc_(mg)', 'Selenium_(¾g)', 'Vit_B6_(mg)',\n",
    "                                  'Vit_B12_(¾g)', 'GmWt_1', 'GmWt_Desc1','GmWt_2','GmWt_Desc2']]"
   ]
  },
  {
   "cell_type": "code",
   "execution_count": 15,
   "metadata": {},
   "outputs": [
    {
     "data": {
      "text/html": [
       "<div>\n",
       "<style scoped>\n",
       "    .dataframe tbody tr th:only-of-type {\n",
       "        vertical-align: middle;\n",
       "    }\n",
       "\n",
       "    .dataframe tbody tr th {\n",
       "        vertical-align: top;\n",
       "    }\n",
       "\n",
       "    .dataframe thead th {\n",
       "        text-align: right;\n",
       "    }\n",
       "</style>\n",
       "<table border=\"1\" class=\"dataframe\">\n",
       "  <thead>\n",
       "    <tr style=\"text-align: right;\">\n",
       "      <th></th>\n",
       "      <th>NDB_No</th>\n",
       "      <th>Shrt_Desc</th>\n",
       "      <th>Zinc_(mg)</th>\n",
       "      <th>Selenium_(¾g)</th>\n",
       "      <th>Vit_B6_(mg)</th>\n",
       "      <th>Vit_B12_(¾g)</th>\n",
       "      <th>GmWt_1</th>\n",
       "      <th>GmWt_Desc1</th>\n",
       "      <th>GmWt_2</th>\n",
       "      <th>GmWt_Desc2</th>\n",
       "    </tr>\n",
       "  </thead>\n",
       "  <tbody>\n",
       "    <tr>\n",
       "      <th>0</th>\n",
       "      <td>1001</td>\n",
       "      <td>BUTTER,WITH SALT</td>\n",
       "      <td>0.09</td>\n",
       "      <td>1.0</td>\n",
       "      <td>0.003</td>\n",
       "      <td>0.17</td>\n",
       "      <td>5.00</td>\n",
       "      <td>1 pat,  (1\" sq, 1/3\" high)</td>\n",
       "      <td>14.2</td>\n",
       "      <td>1 tbsp</td>\n",
       "    </tr>\n",
       "    <tr>\n",
       "      <th>1</th>\n",
       "      <td>1002</td>\n",
       "      <td>BUTTER,WHIPPED,W/ SALT</td>\n",
       "      <td>0.05</td>\n",
       "      <td>0.0</td>\n",
       "      <td>0.008</td>\n",
       "      <td>0.07</td>\n",
       "      <td>3.80</td>\n",
       "      <td>1 pat,  (1\" sq, 1/3\" high)</td>\n",
       "      <td>9.4</td>\n",
       "      <td>1 tbsp</td>\n",
       "    </tr>\n",
       "    <tr>\n",
       "      <th>2</th>\n",
       "      <td>1003</td>\n",
       "      <td>BUTTER OIL,ANHYDROUS</td>\n",
       "      <td>0.01</td>\n",
       "      <td>0.0</td>\n",
       "      <td>0.001</td>\n",
       "      <td>0.01</td>\n",
       "      <td>12.80</td>\n",
       "      <td>1 tbsp</td>\n",
       "      <td>205.0</td>\n",
       "      <td>1 cup</td>\n",
       "    </tr>\n",
       "    <tr>\n",
       "      <th>3</th>\n",
       "      <td>1004</td>\n",
       "      <td>CHEESE,BLUE</td>\n",
       "      <td>2.66</td>\n",
       "      <td>14.5</td>\n",
       "      <td>0.166</td>\n",
       "      <td>1.22</td>\n",
       "      <td>28.35</td>\n",
       "      <td>1 oz</td>\n",
       "      <td>17.0</td>\n",
       "      <td>1 cubic inch</td>\n",
       "    </tr>\n",
       "    <tr>\n",
       "      <th>4</th>\n",
       "      <td>1005</td>\n",
       "      <td>CHEESE,BRICK</td>\n",
       "      <td>2.60</td>\n",
       "      <td>14.5</td>\n",
       "      <td>0.065</td>\n",
       "      <td>1.26</td>\n",
       "      <td>132.00</td>\n",
       "      <td>1 cup, diced</td>\n",
       "      <td>113.0</td>\n",
       "      <td>1 cup, shredded</td>\n",
       "    </tr>\n",
       "  </tbody>\n",
       "</table>\n",
       "</div>"
      ],
      "text/plain": [
       "   NDB_No               Shrt_Desc  Zinc_(mg)  Selenium_(¾g)  Vit_B6_(mg)  \\\n",
       "0    1001        BUTTER,WITH SALT       0.09            1.0        0.003   \n",
       "1    1002  BUTTER,WHIPPED,W/ SALT       0.05            0.0        0.008   \n",
       "2    1003    BUTTER OIL,ANHYDROUS       0.01            0.0        0.001   \n",
       "3    1004             CHEESE,BLUE       2.66           14.5        0.166   \n",
       "4    1005            CHEESE,BRICK       2.60           14.5        0.065   \n",
       "\n",
       "   Vit_B12_(¾g)  GmWt_1                  GmWt_Desc1  GmWt_2       GmWt_Desc2  \n",
       "0          0.17    5.00  1 pat,  (1\" sq, 1/3\" high)    14.2           1 tbsp  \n",
       "1          0.07    3.80  1 pat,  (1\" sq, 1/3\" high)     9.4           1 tbsp  \n",
       "2          0.01   12.80                      1 tbsp   205.0            1 cup  \n",
       "3          1.22   28.35                        1 oz    17.0     1 cubic inch  \n",
       "4          1.26  132.00                1 cup, diced   113.0  1 cup, shredded  "
      ]
     },
     "execution_count": 15,
     "metadata": {},
     "output_type": "execute_result"
    }
   ],
   "source": [
    "food_df.head()"
   ]
  },
  {
   "cell_type": "code",
   "execution_count": 16,
   "metadata": {},
   "outputs": [
    {
     "data": {
      "text/html": [
       "<div>\n",
       "<style scoped>\n",
       "    .dataframe tbody tr th:only-of-type {\n",
       "        vertical-align: middle;\n",
       "    }\n",
       "\n",
       "    .dataframe tbody tr th {\n",
       "        vertical-align: top;\n",
       "    }\n",
       "\n",
       "    .dataframe thead th {\n",
       "        text-align: right;\n",
       "    }\n",
       "</style>\n",
       "<table border=\"1\" class=\"dataframe\">\n",
       "  <thead>\n",
       "    <tr style=\"text-align: right;\">\n",
       "      <th></th>\n",
       "      <th>NDB_No</th>\n",
       "      <th>Zinc_(mg)</th>\n",
       "      <th>Selenium_(¾g)</th>\n",
       "      <th>Vit_B6_(mg)</th>\n",
       "      <th>Vit_B12_(¾g)</th>\n",
       "      <th>GmWt_1</th>\n",
       "      <th>GmWt_2</th>\n",
       "    </tr>\n",
       "  </thead>\n",
       "  <tbody>\n",
       "    <tr>\n",
       "      <th>count</th>\n",
       "      <td>8790.000000</td>\n",
       "      <td>8084.000000</td>\n",
       "      <td>7090.000000</td>\n",
       "      <td>7885.000000</td>\n",
       "      <td>7597.000000</td>\n",
       "      <td>8490.000000</td>\n",
       "      <td>4825.000000</td>\n",
       "    </tr>\n",
       "    <tr>\n",
       "      <th>mean</th>\n",
       "      <td>15663.495222</td>\n",
       "      <td>2.117438</td>\n",
       "      <td>15.591016</td>\n",
       "      <td>0.291531</td>\n",
       "      <td>1.392472</td>\n",
       "      <td>96.395130</td>\n",
       "      <td>250.747668</td>\n",
       "    </tr>\n",
       "    <tr>\n",
       "      <th>std</th>\n",
       "      <td>9251.413586</td>\n",
       "      <td>3.437209</td>\n",
       "      <td>30.471099</td>\n",
       "      <td>0.485057</td>\n",
       "      <td>4.566460</td>\n",
       "      <td>84.337063</td>\n",
       "      <td>382.226774</td>\n",
       "    </tr>\n",
       "    <tr>\n",
       "      <th>min</th>\n",
       "      <td>1001.000000</td>\n",
       "      <td>0.000000</td>\n",
       "      <td>0.000000</td>\n",
       "      <td>0.000000</td>\n",
       "      <td>0.000000</td>\n",
       "      <td>0.100000</td>\n",
       "      <td>0.400000</td>\n",
       "    </tr>\n",
       "    <tr>\n",
       "      <th>25%</th>\n",
       "      <td>9086.250000</td>\n",
       "      <td>0.340000</td>\n",
       "      <td>1.300000</td>\n",
       "      <td>0.051000</td>\n",
       "      <td>0.000000</td>\n",
       "      <td>29.000000</td>\n",
       "      <td>42.000000</td>\n",
       "    </tr>\n",
       "    <tr>\n",
       "      <th>50%</th>\n",
       "      <td>14427.500000</td>\n",
       "      <td>0.990000</td>\n",
       "      <td>10.100000</td>\n",
       "      <td>0.150000</td>\n",
       "      <td>0.240000</td>\n",
       "      <td>85.000000</td>\n",
       "      <td>164.000000</td>\n",
       "    </tr>\n",
       "    <tr>\n",
       "      <th>75%</th>\n",
       "      <td>20142.750000</td>\n",
       "      <td>2.920000</td>\n",
       "      <td>24.300000</td>\n",
       "      <td>0.390000</td>\n",
       "      <td>1.610000</td>\n",
       "      <td>130.000000</td>\n",
       "      <td>305.000000</td>\n",
       "    </tr>\n",
       "    <tr>\n",
       "      <th>max</th>\n",
       "      <td>93600.000000</td>\n",
       "      <td>90.950000</td>\n",
       "      <td>1917.000000</td>\n",
       "      <td>12.000000</td>\n",
       "      <td>98.890000</td>\n",
       "      <td>1184.000000</td>\n",
       "      <td>5717.000000</td>\n",
       "    </tr>\n",
       "  </tbody>\n",
       "</table>\n",
       "</div>"
      ],
      "text/plain": [
       "             NDB_No    Zinc_(mg)  Selenium_(¾g)  Vit_B6_(mg)  Vit_B12_(¾g)  \\\n",
       "count   8790.000000  8084.000000    7090.000000  7885.000000   7597.000000   \n",
       "mean   15663.495222     2.117438      15.591016     0.291531      1.392472   \n",
       "std     9251.413586     3.437209      30.471099     0.485057      4.566460   \n",
       "min     1001.000000     0.000000       0.000000     0.000000      0.000000   \n",
       "25%     9086.250000     0.340000       1.300000     0.051000      0.000000   \n",
       "50%    14427.500000     0.990000      10.100000     0.150000      0.240000   \n",
       "75%    20142.750000     2.920000      24.300000     0.390000      1.610000   \n",
       "max    93600.000000    90.950000    1917.000000    12.000000     98.890000   \n",
       "\n",
       "            GmWt_1       GmWt_2  \n",
       "count  8490.000000  4825.000000  \n",
       "mean     96.395130   250.747668  \n",
       "std      84.337063   382.226774  \n",
       "min       0.100000     0.400000  \n",
       "25%      29.000000    42.000000  \n",
       "50%      85.000000   164.000000  \n",
       "75%     130.000000   305.000000  \n",
       "max    1184.000000  5717.000000  "
      ]
     },
     "execution_count": 16,
     "metadata": {},
     "output_type": "execute_result"
    }
   ],
   "source": [
    "food_df.describe()"
   ]
  },
  {
   "cell_type": "code",
   "execution_count": 19,
   "metadata": {},
   "outputs": [
    {
     "data": {
      "image/png": "[encoded data removed]",
      "text/plain": [
       "<Figure size 432x288 with 1 Axes>"
      ]
     },
     "metadata": {
      "needs_background": "light"
     },
     "output_type": "display_data"
    }
   ],
   "source": [
    "food_plt = food_df.boxplot(column ='Zinc_(mg)')"
   ]
  },
  {
   "cell_type": "code",
   "execution_count": 20,
   "metadata": {},
   "outputs": [
    {
     "data": {
      "image/png": "[encoded data removed]",
      "text/plain": [
       "<Figure size 432x288 with 1 Axes>"
      ]
     },
     "metadata": {
      "needs_background": "light"
     },
     "output_type": "display_data"
    }
   ],
   "source": [
    "food_plt = food_df.boxplot(column ='Selenium_(¾g)')"
   ]
  },
  {
   "cell_type": "code",
   "execution_count": 21,
   "metadata": {},
   "outputs": [
    {
     "data": {
      "image/png": "[encoded data removed]",
      "text/plain": [
       "<Figure size 432x288 with 1 Axes>"
      ]
     },
     "metadata": {
      "needs_background": "light"
     },
     "output_type": "display_data"
    }
   ],
   "source": [
    "food_plt = food_df.boxplot(column ='Vit_B6_(mg)')"
   ]
  },
  {
   "cell_type": "code",
   "execution_count": 22,
   "metadata": {},
   "outputs": [
    {
     "data": {
      "image/png": "[encoded data removed]",
      "text/plain": [
       "<Figure size 432x288 with 1 Axes>"
      ]
     },
     "metadata": {
      "needs_background": "light"
     },
     "output_type": "display_data"
    }
   ],
   "source": [
    "food_plt = food_df.boxplot(column ='Vit_B12_(¾g)')"
   ]
  },
  {
   "cell_type": "code",
   "execution_count": 91,
   "metadata": {},
   "outputs": [],
   "source": [
    "#  weighted feature importances in feature_importance_values.csv\n",
    "feature_importances_df = pd.read_csv('feature_importance_values.csv')"
   ]
  },
  {
   "cell_type": "code",
   "execution_count": 92,
   "metadata": {},
   "outputs": [
    {
     "data": {
      "text/html": [
       "<div>\n",
       "<style scoped>\n",
       "    .dataframe tbody tr th:only-of-type {\n",
       "        vertical-align: middle;\n",
       "    }\n",
       "\n",
       "    .dataframe tbody tr th {\n",
       "        vertical-align: top;\n",
       "    }\n",
       "\n",
       "    .dataframe thead th {\n",
       "        text-align: right;\n",
       "    }\n",
       "</style>\n",
       "<table border=\"1\" class=\"dataframe\">\n",
       "  <thead>\n",
       "    <tr style=\"text-align: right;\">\n",
       "      <th></th>\n",
       "      <th>0</th>\n",
       "      <th>1</th>\n",
       "      <th>2</th>\n",
       "      <th>3</th>\n",
       "      <th>4</th>\n",
       "      <th>5</th>\n",
       "      <th>6</th>\n",
       "      <th>7</th>\n",
       "      <th>8</th>\n",
       "      <th>9</th>\n",
       "      <th>...</th>\n",
       "      <th>14</th>\n",
       "      <th>15</th>\n",
       "      <th>16</th>\n",
       "      <th>17</th>\n",
       "      <th>18</th>\n",
       "      <th>19</th>\n",
       "      <th>20</th>\n",
       "      <th>21</th>\n",
       "      <th>22</th>\n",
       "      <th>23</th>\n",
       "    </tr>\n",
       "  </thead>\n",
       "  <tbody>\n",
       "    <tr>\n",
       "      <th>Unnamed: 0</th>\n",
       "      <td>alco_dks_daily#</td>\n",
       "      <td>had_anemia_treatment</td>\n",
       "      <td>HIV</td>\n",
       "      <td>PregnStat</td>\n",
       "      <td>had_cancer</td>\n",
       "      <td>smokescigs_daily#</td>\n",
       "      <td>Gender</td>\n",
       "      <td>VitE(umol/L)</td>\n",
       "      <td>Folate(nmol/L)</td>\n",
       "      <td>Age(Months)</td>\n",
       "      <td>...</td>\n",
       "      <td>VitD2</td>\n",
       "      <td>Race</td>\n",
       "      <td>Weight</td>\n",
       "      <td>VitD(nmol/L)</td>\n",
       "      <td>VitA(umol/L)</td>\n",
       "      <td>BMI</td>\n",
       "      <td>VitB6</td>\n",
       "      <td>Se(umol/L)</td>\n",
       "      <td>Zn(umol/L)</td>\n",
       "      <td>VitB12(pmol/L)</td>\n",
       "    </tr>\n",
       "    <tr>\n",
       "      <th>Features</th>\n",
       "      <td>-0.00006</td>\n",
       "      <td>-0.00002</td>\n",
       "      <td>0.0</td>\n",
       "      <td>0.00006</td>\n",
       "      <td>0.00007</td>\n",
       "      <td>0.00015</td>\n",
       "      <td>0.00086</td>\n",
       "      <td>0.00744</td>\n",
       "      <td>0.01004</td>\n",
       "      <td>0.01128</td>\n",
       "      <td>...</td>\n",
       "      <td>0.02037</td>\n",
       "      <td>0.0254</td>\n",
       "      <td>0.03661</td>\n",
       "      <td>0.04606</td>\n",
       "      <td>0.04655</td>\n",
       "      <td>0.04754</td>\n",
       "      <td>0.07251</td>\n",
       "      <td>0.07603</td>\n",
       "      <td>0.10632</td>\n",
       "      <td>0.12061</td>\n",
       "    </tr>\n",
       "  </tbody>\n",
       "</table>\n",
       "<p>2 rows × 24 columns</p>\n",
       "</div>"
      ],
      "text/plain": [
       "                         0                     1    2          3           4   \\\n",
       "Unnamed: 0  alco_dks_daily#  had_anemia_treatment  HIV  PregnStat  had_cancer   \n",
       "Features           -0.00006              -0.00002  0.0    0.00006     0.00007   \n",
       "\n",
       "                           5        6             7               8   \\\n",
       "Unnamed: 0  smokescigs_daily#   Gender  VitE(umol/L)  Folate(nmol/L)   \n",
       "Features              0.00015  0.00086       0.00744         0.01004   \n",
       "\n",
       "                     9   ...       14      15       16            17  \\\n",
       "Unnamed: 0  Age(Months)  ...    VitD2    Race   Weight  VitD(nmol/L)   \n",
       "Features        0.01128  ...  0.02037  0.0254  0.03661       0.04606   \n",
       "\n",
       "                      18       19       20          21          22  \\\n",
       "Unnamed: 0  VitA(umol/L)      BMI    VitB6  Se(umol/L)  Zn(umol/L)   \n",
       "Features         0.04655  0.04754  0.07251     0.07603     0.10632   \n",
       "\n",
       "                        23  \n",
       "Unnamed: 0  VitB12(pmol/L)  \n",
       "Features           0.12061  \n",
       "\n",
       "[2 rows x 24 columns]"
      ]
     },
     "execution_count": 92,
     "metadata": {},
     "output_type": "execute_result"
    }
   ],
   "source": [
    "feature_importances_df.T.head()"
   ]
  },
  {
   "cell_type": "code",
   "execution_count": 96,
   "metadata": {},
   "outputs": [
    {
     "name": "stdout",
     "output_type": "stream",
     "text": [
      "VitB6:  1.0\n",
      "Se:  1.0485450282719624\n",
      "Zn:  1.466280513032685\n",
      "VitB12:  1.6633567783753964\n"
     ]
    }
   ],
   "source": [
    "#Calculate ratios of the 4 important features\n",
    "VitB6 = 0.07251/0.07251\n",
    "Se = 0.07603/0.07251\n",
    "Zn = 0.10632/0.07251\n",
    "VitB12 = 0.12061/0.07251\n",
    "\n",
    "print('VitB6: ', VitB6)\n",
    "print('Se: ', Se)\n",
    "print('Zn: ', Zn)\n",
    "print('VitB12: ', VitB12)"
   ]
  },
  {
   "cell_type": "code",
   "execution_count": 99,
   "metadata": {},
   "outputs": [],
   "source": [
    "#Score foods by adding the relative feature importance if nutrient is in the 75th percentile\n",
    "def food_scores(NDB_No):\n",
    "    index = food_df[food_df[\"NDB_No\"] == NDB_No].index[0]\n",
    "    Score = 0\n",
    "    \n",
    "    if(food_df['Vit_B12_(¾g)'][index] >= 1.61):\n",
    "        Score += 1.6;\n",
    "    if(food_df['Zinc_(mg)'][index] >= 2.92):\n",
    "        Score += 1.4\n",
    "    if(food_df['Vit_B6_(mg)'][index]>= 0.39):\n",
    "        Score += 1.0\n",
    "    if(food_df['Selenium_(¾g)'][index]>= 24.3):\n",
    "            Score += 1.0\n",
    "\n",
    "    return Score\n",
    "    "
   ]
  },
  {
   "cell_type": "code",
   "execution_count": 100,
   "metadata": {},
   "outputs": [
    {
     "data": {
      "text/plain": [
       "0"
      ]
     },
     "execution_count": 100,
     "metadata": {},
     "output_type": "execute_result"
    }
   ],
   "source": [
    "food_scores(1004)"
   ]
  },
  {
   "cell_type": "code",
   "execution_count": 101,
   "metadata": {},
   "outputs": [],
   "source": [
    "food_df['Immune_boost_Score'] = food_df[\"NDB_No\"].apply(food_scores)"
   ]
  },
  {
   "cell_type": "code",
   "execution_count": 103,
   "metadata": {},
   "outputs": [
    {
     "data": {
      "text/html": [
       "<div>\n",
       "<style scoped>\n",
       "    .dataframe tbody tr th:only-of-type {\n",
       "        vertical-align: middle;\n",
       "    }\n",
       "\n",
       "    .dataframe tbody tr th {\n",
       "        vertical-align: top;\n",
       "    }\n",
       "\n",
       "    .dataframe thead th {\n",
       "        text-align: right;\n",
       "    }\n",
       "</style>\n",
       "<table border=\"1\" class=\"dataframe\">\n",
       "  <thead>\n",
       "    <tr style=\"text-align: right;\">\n",
       "      <th></th>\n",
       "      <th>NDB_No</th>\n",
       "      <th>Shrt_Desc</th>\n",
       "      <th>Zinc_(mg)</th>\n",
       "      <th>Selenium_(¾g)</th>\n",
       "      <th>Vit_B6_(mg)</th>\n",
       "      <th>Vit_B12_(¾g)</th>\n",
       "      <th>GmWt_1</th>\n",
       "      <th>GmWt_Desc1</th>\n",
       "      <th>GmWt_2</th>\n",
       "      <th>GmWt_Desc2</th>\n",
       "      <th>Immune_boost_Score</th>\n",
       "    </tr>\n",
       "  </thead>\n",
       "  <tbody>\n",
       "    <tr>\n",
       "      <th>0</th>\n",
       "      <td>1001</td>\n",
       "      <td>BUTTER,WITH SALT</td>\n",
       "      <td>0.09</td>\n",
       "      <td>1.0</td>\n",
       "      <td>0.003</td>\n",
       "      <td>0.17</td>\n",
       "      <td>5.00</td>\n",
       "      <td>1 pat,  (1\" sq, 1/3\" high)</td>\n",
       "      <td>14.2</td>\n",
       "      <td>1 tbsp</td>\n",
       "      <td>0.0</td>\n",
       "    </tr>\n",
       "    <tr>\n",
       "      <th>1</th>\n",
       "      <td>1002</td>\n",
       "      <td>BUTTER,WHIPPED,W/ SALT</td>\n",
       "      <td>0.05</td>\n",
       "      <td>0.0</td>\n",
       "      <td>0.008</td>\n",
       "      <td>0.07</td>\n",
       "      <td>3.80</td>\n",
       "      <td>1 pat,  (1\" sq, 1/3\" high)</td>\n",
       "      <td>9.4</td>\n",
       "      <td>1 tbsp</td>\n",
       "      <td>0.0</td>\n",
       "    </tr>\n",
       "    <tr>\n",
       "      <th>2</th>\n",
       "      <td>1003</td>\n",
       "      <td>BUTTER OIL,ANHYDROUS</td>\n",
       "      <td>0.01</td>\n",
       "      <td>0.0</td>\n",
       "      <td>0.001</td>\n",
       "      <td>0.01</td>\n",
       "      <td>12.80</td>\n",
       "      <td>1 tbsp</td>\n",
       "      <td>205.0</td>\n",
       "      <td>1 cup</td>\n",
       "      <td>0.0</td>\n",
       "    </tr>\n",
       "    <tr>\n",
       "      <th>3</th>\n",
       "      <td>1004</td>\n",
       "      <td>CHEESE,BLUE</td>\n",
       "      <td>2.66</td>\n",
       "      <td>14.5</td>\n",
       "      <td>0.166</td>\n",
       "      <td>1.22</td>\n",
       "      <td>28.35</td>\n",
       "      <td>1 oz</td>\n",
       "      <td>17.0</td>\n",
       "      <td>1 cubic inch</td>\n",
       "      <td>0.0</td>\n",
       "    </tr>\n",
       "    <tr>\n",
       "      <th>4</th>\n",
       "      <td>1005</td>\n",
       "      <td>CHEESE,BRICK</td>\n",
       "      <td>2.60</td>\n",
       "      <td>14.5</td>\n",
       "      <td>0.065</td>\n",
       "      <td>1.26</td>\n",
       "      <td>132.00</td>\n",
       "      <td>1 cup, diced</td>\n",
       "      <td>113.0</td>\n",
       "      <td>1 cup, shredded</td>\n",
       "      <td>0.0</td>\n",
       "    </tr>\n",
       "    <tr>\n",
       "      <th>5</th>\n",
       "      <td>1006</td>\n",
       "      <td>CHEESE,BRIE</td>\n",
       "      <td>2.38</td>\n",
       "      <td>14.5</td>\n",
       "      <td>0.235</td>\n",
       "      <td>1.65</td>\n",
       "      <td>28.35</td>\n",
       "      <td>1 oz</td>\n",
       "      <td>144.0</td>\n",
       "      <td>1 cup, sliced</td>\n",
       "      <td>1.6</td>\n",
       "    </tr>\n",
       "    <tr>\n",
       "      <th>6</th>\n",
       "      <td>1007</td>\n",
       "      <td>CHEESE,CAMEMBERT</td>\n",
       "      <td>2.38</td>\n",
       "      <td>14.5</td>\n",
       "      <td>0.227</td>\n",
       "      <td>1.30</td>\n",
       "      <td>28.35</td>\n",
       "      <td>1 oz</td>\n",
       "      <td>246.0</td>\n",
       "      <td>1 cup</td>\n",
       "      <td>0.0</td>\n",
       "    </tr>\n",
       "    <tr>\n",
       "      <th>7</th>\n",
       "      <td>1008</td>\n",
       "      <td>CHEESE,CARAWAY</td>\n",
       "      <td>2.94</td>\n",
       "      <td>14.5</td>\n",
       "      <td>0.074</td>\n",
       "      <td>0.27</td>\n",
       "      <td>28.35</td>\n",
       "      <td>1 oz</td>\n",
       "      <td>NaN</td>\n",
       "      <td>NaN</td>\n",
       "      <td>1.4</td>\n",
       "    </tr>\n",
       "    <tr>\n",
       "      <th>8</th>\n",
       "      <td>1009</td>\n",
       "      <td>CHEESE,CHEDDAR</td>\n",
       "      <td>3.64</td>\n",
       "      <td>28.5</td>\n",
       "      <td>0.066</td>\n",
       "      <td>1.10</td>\n",
       "      <td>132.00</td>\n",
       "      <td>1 cup, diced</td>\n",
       "      <td>244.0</td>\n",
       "      <td>1 cup, melted</td>\n",
       "      <td>2.4</td>\n",
       "    </tr>\n",
       "    <tr>\n",
       "      <th>9</th>\n",
       "      <td>1010</td>\n",
       "      <td>CHEESE,CHESHIRE</td>\n",
       "      <td>2.79</td>\n",
       "      <td>14.5</td>\n",
       "      <td>0.074</td>\n",
       "      <td>0.83</td>\n",
       "      <td>28.35</td>\n",
       "      <td>1 oz</td>\n",
       "      <td>NaN</td>\n",
       "      <td>NaN</td>\n",
       "      <td>0.0</td>\n",
       "    </tr>\n",
       "  </tbody>\n",
       "</table>\n",
       "</div>"
      ],
      "text/plain": [
       "   NDB_No               Shrt_Desc  Zinc_(mg)  Selenium_(¾g)  Vit_B6_(mg)  \\\n",
       "0    1001        BUTTER,WITH SALT       0.09            1.0        0.003   \n",
       "1    1002  BUTTER,WHIPPED,W/ SALT       0.05            0.0        0.008   \n",
       "2    1003    BUTTER OIL,ANHYDROUS       0.01            0.0        0.001   \n",
       "3    1004             CHEESE,BLUE       2.66           14.5        0.166   \n",
       "4    1005            CHEESE,BRICK       2.60           14.5        0.065   \n",
       "5    1006             CHEESE,BRIE       2.38           14.5        0.235   \n",
       "6    1007        CHEESE,CAMEMBERT       2.38           14.5        0.227   \n",
       "7    1008          CHEESE,CARAWAY       2.94           14.5        0.074   \n",
       "8    1009          CHEESE,CHEDDAR       3.64           28.5        0.066   \n",
       "9    1010         CHEESE,CHESHIRE       2.79           14.5        0.074   \n",
       "\n",
       "   Vit_B12_(¾g)  GmWt_1                  GmWt_Desc1  GmWt_2       GmWt_Desc2  \\\n",
       "0          0.17    5.00  1 pat,  (1\" sq, 1/3\" high)    14.2           1 tbsp   \n",
       "1          0.07    3.80  1 pat,  (1\" sq, 1/3\" high)     9.4           1 tbsp   \n",
       "2          0.01   12.80                      1 tbsp   205.0            1 cup   \n",
       "3          1.22   28.35                        1 oz    17.0     1 cubic inch   \n",
       "4          1.26  132.00                1 cup, diced   113.0  1 cup, shredded   \n",
       "5          1.65   28.35                        1 oz   144.0    1 cup, sliced   \n",
       "6          1.30   28.35                        1 oz   246.0            1 cup   \n",
       "7          0.27   28.35                        1 oz     NaN              NaN   \n",
       "8          1.10  132.00                1 cup, diced   244.0    1 cup, melted   \n",
       "9          0.83   28.35                        1 oz     NaN              NaN   \n",
       "\n",
       "   Immune_boost_Score  \n",
       "0                 0.0  \n",
       "1                 0.0  \n",
       "2                 0.0  \n",
       "3                 0.0  \n",
       "4                 0.0  \n",
       "5                 1.6  \n",
       "6                 0.0  \n",
       "7                 1.4  \n",
       "8                 2.4  \n",
       "9                 0.0  "
      ]
     },
     "execution_count": 103,
     "metadata": {},
     "output_type": "execute_result"
    }
   ],
   "source": [
    "food_df.head(10)"
   ]
  },
  {
   "cell_type": "code",
   "execution_count": 107,
   "metadata": {},
   "outputs": [
    {
     "data": {
      "text/plain": [
       "0.0    5147\n",
       "1.0     846\n",
       "4.0     579\n",
       "5.0     437\n",
       "3.0     327\n",
       "2.6     299\n",
       "1.4     290\n",
       "2.4     240\n",
       "2.0     217\n",
       "1.6     170\n",
       "3.4     150\n",
       "3.6      88\n",
       "Name: Immune_boost_Score, dtype: int64"
      ]
     },
     "execution_count": 107,
     "metadata": {},
     "output_type": "execute_result"
    }
   ],
   "source": [
    "food_df['Immune_boost_Score'].value_counts()"
   ]
  },
  {
   "cell_type": "code",
   "execution_count": 108,
   "metadata": {},
   "outputs": [],
   "source": [
    "Immune_boostersdf = food_df[food_df['Immune_boost_Score'] == 5]"
   ]
  },
  {
   "cell_type": "code",
   "execution_count": 109,
   "metadata": {},
   "outputs": [
    {
     "data": {
      "text/html": [
       "<div>\n",
       "<style scoped>\n",
       "    .dataframe tbody tr th:only-of-type {\n",
       "        vertical-align: middle;\n",
       "    }\n",
       "\n",
       "    .dataframe tbody tr th {\n",
       "        vertical-align: top;\n",
       "    }\n",
       "\n",
       "    .dataframe thead th {\n",
       "        text-align: right;\n",
       "    }\n",
       "</style>\n",
       "<table border=\"1\" class=\"dataframe\">\n",
       "  <thead>\n",
       "    <tr style=\"text-align: right;\">\n",
       "      <th></th>\n",
       "      <th>NDB_No</th>\n",
       "      <th>Shrt_Desc</th>\n",
       "      <th>Zinc_(mg)</th>\n",
       "      <th>Selenium_(¾g)</th>\n",
       "      <th>Vit_B6_(mg)</th>\n",
       "      <th>Vit_B12_(¾g)</th>\n",
       "      <th>GmWt_1</th>\n",
       "      <th>GmWt_Desc1</th>\n",
       "      <th>GmWt_2</th>\n",
       "      <th>GmWt_Desc2</th>\n",
       "      <th>Immune_boost_Score</th>\n",
       "    </tr>\n",
       "  </thead>\n",
       "  <tbody>\n",
       "    <tr>\n",
       "      <th>101</th>\n",
       "      <td>1113</td>\n",
       "      <td>WHEY,ACID,DRIED</td>\n",
       "      <td>6.31</td>\n",
       "      <td>27.3</td>\n",
       "      <td>0.620</td>\n",
       "      <td>2.50</td>\n",
       "      <td>57.00</td>\n",
       "      <td>1 cup</td>\n",
       "      <td>2.90</td>\n",
       "      <td>1 tbsp</td>\n",
       "      <td>5.0</td>\n",
       "    </tr>\n",
       "    <tr>\n",
       "      <th>114</th>\n",
       "      <td>1126</td>\n",
       "      <td>EGG,YOLK,RAW,FRZ,PAST</td>\n",
       "      <td>3.17</td>\n",
       "      <td>56.4</td>\n",
       "      <td>0.412</td>\n",
       "      <td>1.90</td>\n",
       "      <td>28.35</td>\n",
       "      <td>1 oz</td>\n",
       "      <td>227.00</td>\n",
       "      <td>.5 lb</td>\n",
       "      <td>5.0</td>\n",
       "    </tr>\n",
       "    <tr>\n",
       "      <th>115</th>\n",
       "      <td>1127</td>\n",
       "      <td>EGG,YOLK,RAW,FRZ,SUGARED,PAST</td>\n",
       "      <td>3.06</td>\n",
       "      <td>53.5</td>\n",
       "      <td>0.398</td>\n",
       "      <td>1.64</td>\n",
       "      <td>28.35</td>\n",
       "      <td>1 oz</td>\n",
       "      <td>227.00</td>\n",
       "      <td>.5 lb</td>\n",
       "      <td>5.0</td>\n",
       "    </tr>\n",
       "    <tr>\n",
       "      <th>121</th>\n",
       "      <td>1133</td>\n",
       "      <td>EGG,WHL,DRIED</td>\n",
       "      <td>3.15</td>\n",
       "      <td>164.7</td>\n",
       "      <td>0.499</td>\n",
       "      <td>2.96</td>\n",
       "      <td>85.00</td>\n",
       "      <td>1 cup,  sifted</td>\n",
       "      <td>5.00</td>\n",
       "      <td>1 tbsp</td>\n",
       "      <td>5.0</td>\n",
       "    </tr>\n",
       "    <tr>\n",
       "      <th>122</th>\n",
       "      <td>1134</td>\n",
       "      <td>EGG,WHL,DRIED,STABILIZED,GLUCOSE RED</td>\n",
       "      <td>5.71</td>\n",
       "      <td>121.1</td>\n",
       "      <td>0.420</td>\n",
       "      <td>10.51</td>\n",
       "      <td>85.00</td>\n",
       "      <td>1 cup,  sifted</td>\n",
       "      <td>5.00</td>\n",
       "      <td>1 tbsp</td>\n",
       "      <td>5.0</td>\n",
       "    </tr>\n",
       "    <tr>\n",
       "      <th>125</th>\n",
       "      <td>1137</td>\n",
       "      <td>EGG,YOLK,DRIED</td>\n",
       "      <td>7.73</td>\n",
       "      <td>139.3</td>\n",
       "      <td>0.742</td>\n",
       "      <td>5.11</td>\n",
       "      <td>67.00</td>\n",
       "      <td>1 cup,  sifted</td>\n",
       "      <td>4.00</td>\n",
       "      <td>1 tbsp</td>\n",
       "      <td>5.0</td>\n",
       "    </tr>\n",
       "    <tr>\n",
       "      <th>190</th>\n",
       "      <td>1223</td>\n",
       "      <td>PROTEIN SUPP,MILK BSD,MUSCLE MILK,PDR</td>\n",
       "      <td>7.14</td>\n",
       "      <td>33.8</td>\n",
       "      <td>1.000</td>\n",
       "      <td>3.00</td>\n",
       "      <td>11.00</td>\n",
       "      <td>1 tbsp</td>\n",
       "      <td>NaN</td>\n",
       "      <td>NaN</td>\n",
       "      <td>5.0</td>\n",
       "    </tr>\n",
       "    <tr>\n",
       "      <th>191</th>\n",
       "      <td>1224</td>\n",
       "      <td>PROTEIN SUPP,MILK BSD,MUSCLE MILK LT,PDR</td>\n",
       "      <td>10.00</td>\n",
       "      <td>33.8</td>\n",
       "      <td>1.400</td>\n",
       "      <td>4.20</td>\n",
       "      <td>50.00</td>\n",
       "      <td>2 scoop</td>\n",
       "      <td>NaN</td>\n",
       "      <td>NaN</td>\n",
       "      <td>5.0</td>\n",
       "    </tr>\n",
       "    <tr>\n",
       "      <th>442</th>\n",
       "      <td>3181</td>\n",
       "      <td>BABYFOOD,CRL,BARLEY,DRY FORT</td>\n",
       "      <td>3.13</td>\n",
       "      <td>30.2</td>\n",
       "      <td>0.714</td>\n",
       "      <td>3.57</td>\n",
       "      <td>2.40</td>\n",
       "      <td>1 tbsp</td>\n",
       "      <td>15.00</td>\n",
       "      <td>.5 oz</td>\n",
       "      <td>5.0</td>\n",
       "    </tr>\n",
       "    <tr>\n",
       "      <th>444</th>\n",
       "      <td>3185</td>\n",
       "      <td>BABYFOOD,CRL,MXD,DRY FORT</td>\n",
       "      <td>10.66</td>\n",
       "      <td>25.9</td>\n",
       "      <td>1.166</td>\n",
       "      <td>5.00</td>\n",
       "      <td>2.50</td>\n",
       "      <td>1 tbsp</td>\n",
       "      <td>15.00</td>\n",
       "      <td>.5 oz</td>\n",
       "      <td>5.0</td>\n",
       "    </tr>\n",
       "    <tr>\n",
       "      <th>629</th>\n",
       "      <td>3996</td>\n",
       "      <td>Babyfood, Multigrain whole grain cereal, dry f...</td>\n",
       "      <td>10.67</td>\n",
       "      <td>31.7</td>\n",
       "      <td>1.166</td>\n",
       "      <td>4.69</td>\n",
       "      <td>NaN</td>\n",
       "      <td>NaN</td>\n",
       "      <td>NaN</td>\n",
       "      <td>NaN</td>\n",
       "      <td>5.0</td>\n",
       "    </tr>\n",
       "    <tr>\n",
       "      <th>842</th>\n",
       "      <td>5020</td>\n",
       "      <td>CHICKEN,BROILERS OR FRYERS,GIBLETS,RAW</td>\n",
       "      <td>3.32</td>\n",
       "      <td>55.2</td>\n",
       "      <td>0.420</td>\n",
       "      <td>11.41</td>\n",
       "      <td>23.00</td>\n",
       "      <td>1 unit,  (yield from 1 lb ready-to-cook chicken)</td>\n",
       "      <td>75.00</td>\n",
       "      <td>1 giblets</td>\n",
       "      <td>5.0</td>\n",
       "    </tr>\n",
       "    <tr>\n",
       "      <th>843</th>\n",
       "      <td>5021</td>\n",
       "      <td>CHICKEN,BROILERS OR FRYERS,GIBLETS,CKD,FRIED</td>\n",
       "      <td>6.27</td>\n",
       "      <td>104.2</td>\n",
       "      <td>0.610</td>\n",
       "      <td>13.31</td>\n",
       "      <td>145.00</td>\n",
       "      <td>1 cup, chopped or diced</td>\n",
       "      <td>13.00</td>\n",
       "      <td>1 unit,  (yield from 1 lb ready-to-cook chicken)</td>\n",
       "      <td>5.0</td>\n",
       "    </tr>\n",
       "    <tr>\n",
       "      <th>844</th>\n",
       "      <td>5022</td>\n",
       "      <td>CHICKEN,BROILERS OR FRYERS,GIBLETS,CKD,SIMMRD</td>\n",
       "      <td>4.23</td>\n",
       "      <td>59.6</td>\n",
       "      <td>0.397</td>\n",
       "      <td>9.44</td>\n",
       "      <td>145.00</td>\n",
       "      <td>1 cup, chopped or dice</td>\n",
       "      <td>NaN</td>\n",
       "      <td>NaN</td>\n",
       "      <td>5.0</td>\n",
       "    </tr>\n",
       "    <tr>\n",
       "      <th>850</th>\n",
       "      <td>5028</td>\n",
       "      <td>CHICKEN,LIVER,ALL CLASSES,CKD,SIMMRD</td>\n",
       "      <td>3.98</td>\n",
       "      <td>82.4</td>\n",
       "      <td>0.755</td>\n",
       "      <td>16.85</td>\n",
       "      <td>44.00</td>\n",
       "      <td>1 liver</td>\n",
       "      <td>NaN</td>\n",
       "      <td>NaN</td>\n",
       "      <td>5.0</td>\n",
       "    </tr>\n",
       "    <tr>\n",
       "      <th>949</th>\n",
       "      <td>5127</td>\n",
       "      <td>CHICKEN,STEWING,GIBLETS,RAW</td>\n",
       "      <td>3.01</td>\n",
       "      <td>56.1</td>\n",
       "      <td>0.520</td>\n",
       "      <td>10.83</td>\n",
       "      <td>28.00</td>\n",
       "      <td>1 unit,  (yield from 1 lb ready-to-cook chicken)</td>\n",
       "      <td>81.00</td>\n",
       "      <td>1 giblets</td>\n",
       "      <td>5.0</td>\n",
       "    </tr>\n",
       "    <tr>\n",
       "      <th>950</th>\n",
       "      <td>5128</td>\n",
       "      <td>CHICKEN,STEWING,GIBLETS,CKD,SIMMRD</td>\n",
       "      <td>4.28</td>\n",
       "      <td>90.4</td>\n",
       "      <td>0.410</td>\n",
       "      <td>9.48</td>\n",
       "      <td>145.00</td>\n",
       "      <td>1 cup, chopped or diced</td>\n",
       "      <td>17.00</td>\n",
       "      <td>1 unit,  (yield from 1 lb ready-to-cook chicken)</td>\n",
       "      <td>5.0</td>\n",
       "    </tr>\n",
       "    <tr>\n",
       "      <th>959</th>\n",
       "      <td>5137</td>\n",
       "      <td>CHICKEN,CAPONS,GIBLETS,RAW</td>\n",
       "      <td>3.38</td>\n",
       "      <td>55.3</td>\n",
       "      <td>0.470</td>\n",
       "      <td>12.95</td>\n",
       "      <td>115.00</td>\n",
       "      <td>1 giblets</td>\n",
       "      <td>18.00</td>\n",
       "      <td>1 unit,  (yield from 1 lb ready-to cook capon)</td>\n",
       "      <td>5.0</td>\n",
       "    </tr>\n",
       "    <tr>\n",
       "      <th>965</th>\n",
       "      <td>5143</td>\n",
       "      <td>DUCK,DOMESTICATED,LIVER,RAW</td>\n",
       "      <td>3.07</td>\n",
       "      <td>67.0</td>\n",
       "      <td>0.760</td>\n",
       "      <td>54.00</td>\n",
       "      <td>44.00</td>\n",
       "      <td>1 liver</td>\n",
       "      <td>10.00</td>\n",
       "      <td>1 unit,  (yield from 1 lb ready-to-cook duck)</td>\n",
       "      <td>5.0</td>\n",
       "    </tr>\n",
       "    <tr>\n",
       "      <th>972</th>\n",
       "      <td>5150</td>\n",
       "      <td>GOOSE,LIVER,RAW</td>\n",
       "      <td>3.07</td>\n",
       "      <td>68.1</td>\n",
       "      <td>0.760</td>\n",
       "      <td>54.00</td>\n",
       "      <td>94.00</td>\n",
       "      <td>1 liver</td>\n",
       "      <td>11.00</td>\n",
       "      <td>1 unit,  (yield from 1 lb ready-to-cook goose)</td>\n",
       "      <td>5.0</td>\n",
       "    </tr>\n",
       "    <tr>\n",
       "      <th>991</th>\n",
       "      <td>5171</td>\n",
       "      <td>TURKEY,WHL,GIBLETS,RAW</td>\n",
       "      <td>3.23</td>\n",
       "      <td>49.3</td>\n",
       "      <td>0.654</td>\n",
       "      <td>13.06</td>\n",
       "      <td>85.00</td>\n",
       "      <td>3 oz</td>\n",
       "      <td>157.00</td>\n",
       "      <td>1 giblets</td>\n",
       "      <td>5.0</td>\n",
       "    </tr>\n",
       "    <tr>\n",
       "      <th>992</th>\n",
       "      <td>5172</td>\n",
       "      <td>TURKEY,WHL,GIBLETS,CKD,SIMMRD</td>\n",
       "      <td>4.29</td>\n",
       "      <td>71.1</td>\n",
       "      <td>0.546</td>\n",
       "      <td>15.89</td>\n",
       "      <td>95.00</td>\n",
       "      <td>1 giblets</td>\n",
       "      <td>NaN</td>\n",
       "      <td>NaN</td>\n",
       "      <td>5.0</td>\n",
       "    </tr>\n",
       "    <tr>\n",
       "      <th>995</th>\n",
       "      <td>5175</td>\n",
       "      <td>TURKEY,HEART,ALL CLASSES,RAW</td>\n",
       "      <td>3.21</td>\n",
       "      <td>35.4</td>\n",
       "      <td>0.479</td>\n",
       "      <td>13.30</td>\n",
       "      <td>24.00</td>\n",
       "      <td>1 piece</td>\n",
       "      <td>NaN</td>\n",
       "      <td>NaN</td>\n",
       "      <td>5.0</td>\n",
       "    </tr>\n",
       "    <tr>\n",
       "      <th>996</th>\n",
       "      <td>5176</td>\n",
       "      <td>TURKEY,HEART,ALL CLASSES,CKD,SIMMRD</td>\n",
       "      <td>4.60</td>\n",
       "      <td>56.8</td>\n",
       "      <td>0.608</td>\n",
       "      <td>13.90</td>\n",
       "      <td>20.00</td>\n",
       "      <td>1 heart</td>\n",
       "      <td>NaN</td>\n",
       "      <td>NaN</td>\n",
       "      <td>5.0</td>\n",
       "    </tr>\n",
       "    <tr>\n",
       "      <th>997</th>\n",
       "      <td>5177</td>\n",
       "      <td>TURKEY,LIVER,ALL CLASSES,RAW</td>\n",
       "      <td>3.37</td>\n",
       "      <td>68.7</td>\n",
       "      <td>1.040</td>\n",
       "      <td>19.73</td>\n",
       "      <td>78.00</td>\n",
       "      <td>1 raw liver</td>\n",
       "      <td>NaN</td>\n",
       "      <td>NaN</td>\n",
       "      <td>5.0</td>\n",
       "    </tr>\n",
       "    <tr>\n",
       "      <th>998</th>\n",
       "      <td>5178</td>\n",
       "      <td>TURKEY,LIVER,ALL CLASSES,CKD,SIMMRD</td>\n",
       "      <td>4.53</td>\n",
       "      <td>102.3</td>\n",
       "      <td>0.882</td>\n",
       "      <td>28.17</td>\n",
       "      <td>53.00</td>\n",
       "      <td>1 liver cooked</td>\n",
       "      <td>NaN</td>\n",
       "      <td>NaN</td>\n",
       "      <td>5.0</td>\n",
       "    </tr>\n",
       "    <tr>\n",
       "      <th>1004</th>\n",
       "      <td>5184</td>\n",
       "      <td>TURKEY,DK MEAT FROM WHL,MEAT &amp; SKN,CKD,RSTD</td>\n",
       "      <td>3.35</td>\n",
       "      <td>30.2</td>\n",
       "      <td>0.430</td>\n",
       "      <td>1.66</td>\n",
       "      <td>85.00</td>\n",
       "      <td>1 serving</td>\n",
       "      <td>NaN</td>\n",
       "      <td>NaN</td>\n",
       "      <td>5.0</td>\n",
       "    </tr>\n",
       "    <tr>\n",
       "      <th>1008</th>\n",
       "      <td>5188</td>\n",
       "      <td>TURKEY,FROM WHL,DK MEAT,CKD,RSTD</td>\n",
       "      <td>3.51</td>\n",
       "      <td>31.4</td>\n",
       "      <td>0.438</td>\n",
       "      <td>1.65</td>\n",
       "      <td>85.00</td>\n",
       "      <td>1 serving</td>\n",
       "      <td>NaN</td>\n",
       "      <td>NaN</td>\n",
       "      <td>5.0</td>\n",
       "    </tr>\n",
       "    <tr>\n",
       "      <th>1018</th>\n",
       "      <td>5216</td>\n",
       "      <td>TURKEY,BACK,FROM WHL BIRD,MEAT ONLY,RSTD</td>\n",
       "      <td>3.51</td>\n",
       "      <td>31.4</td>\n",
       "      <td>0.438</td>\n",
       "      <td>1.65</td>\n",
       "      <td>85.00</td>\n",
       "      <td>3 oz</td>\n",
       "      <td>911.00</td>\n",
       "      <td>1 back</td>\n",
       "      <td>5.0</td>\n",
       "    </tr>\n",
       "    <tr>\n",
       "      <th>1086</th>\n",
       "      <td>5621</td>\n",
       "      <td>EMU,GROUND,RAW</td>\n",
       "      <td>3.48</td>\n",
       "      <td>30.5</td>\n",
       "      <td>0.642</td>\n",
       "      <td>6.75</td>\n",
       "      <td>117.00</td>\n",
       "      <td>1 patty</td>\n",
       "      <td>NaN</td>\n",
       "      <td>NaN</td>\n",
       "      <td>5.0</td>\n",
       "    </tr>\n",
       "    <tr>\n",
       "      <th>1087</th>\n",
       "      <td>5622</td>\n",
       "      <td>EMU,GROUND,CKD,PAN-BROILED</td>\n",
       "      <td>4.56</td>\n",
       "      <td>43.5</td>\n",
       "      <td>0.833</td>\n",
       "      <td>8.52</td>\n",
       "      <td>109.00</td>\n",
       "      <td>1 patty,  (yield from 135.8 g raw meat)</td>\n",
       "      <td>85.00</td>\n",
       "      <td>1 serving,  ( 3 oz )</td>\n",
       "      <td>5.0</td>\n",
       "    </tr>\n",
       "    <tr>\n",
       "      <th>1088</th>\n",
       "      <td>5623</td>\n",
       "      <td>EMU,FAN FILLET,RAW</td>\n",
       "      <td>3.50</td>\n",
       "      <td>32.5</td>\n",
       "      <td>0.634</td>\n",
       "      <td>6.67</td>\n",
       "      <td>85.00</td>\n",
       "      <td>1 serving,  ( 3 oz )</td>\n",
       "      <td>513.00</td>\n",
       "      <td>1 fan fillet</td>\n",
       "      <td>5.0</td>\n",
       "    </tr>\n",
       "    <tr>\n",
       "      <th>1089</th>\n",
       "      <td>5624</td>\n",
       "      <td>EMU,FAN FILLET,CKD,BRLD</td>\n",
       "      <td>3.19</td>\n",
       "      <td>46.1</td>\n",
       "      <td>0.916</td>\n",
       "      <td>9.37</td>\n",
       "      <td>85.00</td>\n",
       "      <td>1 serving,  ( 3 oz )</td>\n",
       "      <td>394.00</td>\n",
       "      <td>1 steak</td>\n",
       "      <td>5.0</td>\n",
       "    </tr>\n",
       "    <tr>\n",
       "      <th>1090</th>\n",
       "      <td>5625</td>\n",
       "      <td>EMU,FLAT FILLET,RAW</td>\n",
       "      <td>3.00</td>\n",
       "      <td>31.5</td>\n",
       "      <td>0.582</td>\n",
       "      <td>6.12</td>\n",
       "      <td>85.00</td>\n",
       "      <td>3 oz</td>\n",
       "      <td>354.00</td>\n",
       "      <td>1 flat fillet</td>\n",
       "      <td>5.0</td>\n",
       "    </tr>\n",
       "    <tr>\n",
       "      <th>1091</th>\n",
       "      <td>5626</td>\n",
       "      <td>EMU,FULL RUMP,RAW</td>\n",
       "      <td>3.59</td>\n",
       "      <td>32.5</td>\n",
       "      <td>0.643</td>\n",
       "      <td>2.24</td>\n",
       "      <td>85.00</td>\n",
       "      <td>3 oz</td>\n",
       "      <td>695.00</td>\n",
       "      <td>1 full rump</td>\n",
       "      <td>5.0</td>\n",
       "    </tr>\n",
       "    <tr>\n",
       "      <th>1092</th>\n",
       "      <td>5627</td>\n",
       "      <td>EMU,FULL RUMP,CKD,BRLD</td>\n",
       "      <td>4.32</td>\n",
       "      <td>52.1</td>\n",
       "      <td>0.987</td>\n",
       "      <td>2.20</td>\n",
       "      <td>85.00</td>\n",
       "      <td>1 serving,  ( 3 oz )</td>\n",
       "      <td>496.00</td>\n",
       "      <td>1 full rump, cooked ( yield from 695 g raw meat )</td>\n",
       "      <td>5.0</td>\n",
       "    </tr>\n",
       "    <tr>\n",
       "      <th>1093</th>\n",
       "      <td>5628</td>\n",
       "      <td>EMU,INSIDE DRUM,RAW</td>\n",
       "      <td>4.33</td>\n",
       "      <td>31.4</td>\n",
       "      <td>0.626</td>\n",
       "      <td>2.26</td>\n",
       "      <td>85.00</td>\n",
       "      <td>3 oz</td>\n",
       "      <td>572.00</td>\n",
       "      <td>1 inside drum</td>\n",
       "      <td>5.0</td>\n",
       "    </tr>\n",
       "    <tr>\n",
       "      <th>1094</th>\n",
       "      <td>5629</td>\n",
       "      <td>EMU,INSIDE DRUMS,CKD,BRLD</td>\n",
       "      <td>5.09</td>\n",
       "      <td>49.6</td>\n",
       "      <td>0.949</td>\n",
       "      <td>2.40</td>\n",
       "      <td>85.00</td>\n",
       "      <td>1 serving,  ( 3 oz )</td>\n",
       "      <td>416.00</td>\n",
       "      <td>1 inside drum, cooked ( yield from 572 g raw m...</td>\n",
       "      <td>5.0</td>\n",
       "    </tr>\n",
       "    <tr>\n",
       "      <th>1095</th>\n",
       "      <td>5630</td>\n",
       "      <td>EMU,OUTSIDE DRUM,RAW</td>\n",
       "      <td>4.50</td>\n",
       "      <td>36.3</td>\n",
       "      <td>0.676</td>\n",
       "      <td>6.92</td>\n",
       "      <td>85.00</td>\n",
       "      <td>3 oz</td>\n",
       "      <td>422.00</td>\n",
       "      <td>1 outside drum</td>\n",
       "      <td>5.0</td>\n",
       "    </tr>\n",
       "    <tr>\n",
       "      <th>1096</th>\n",
       "      <td>5631</td>\n",
       "      <td>EMU,OYSTER,RAW</td>\n",
       "      <td>6.00</td>\n",
       "      <td>29.8</td>\n",
       "      <td>0.643</td>\n",
       "      <td>6.76</td>\n",
       "      <td>85.00</td>\n",
       "      <td>3 oz</td>\n",
       "      <td>300.00</td>\n",
       "      <td>1 steak</td>\n",
       "      <td>5.0</td>\n",
       "    </tr>\n",
       "    <tr>\n",
       "      <th>1097</th>\n",
       "      <td>5632</td>\n",
       "      <td>EMU,TOP LOIN,CKD,BRLD</td>\n",
       "      <td>3.42</td>\n",
       "      <td>43.5</td>\n",
       "      <td>0.852</td>\n",
       "      <td>8.71</td>\n",
       "      <td>85.00</td>\n",
       "      <td>1 serving,  ( 3 oz )</td>\n",
       "      <td>244.00</td>\n",
       "      <td>1 steak</td>\n",
       "      <td>5.0</td>\n",
       "    </tr>\n",
       "    <tr>\n",
       "      <th>1098</th>\n",
       "      <td>5641</td>\n",
       "      <td>OSTRICH,GROUND,RAW</td>\n",
       "      <td>3.51</td>\n",
       "      <td>33.0</td>\n",
       "      <td>0.475</td>\n",
       "      <td>4.61</td>\n",
       "      <td>109.00</td>\n",
       "      <td>1 patty</td>\n",
       "      <td>435.00</td>\n",
       "      <td>4 patty</td>\n",
       "      <td>5.0</td>\n",
       "    </tr>\n",
       "    <tr>\n",
       "      <th>1099</th>\n",
       "      <td>5642</td>\n",
       "      <td>OSTRICH,GROUND,CKD,PAN-BROILED</td>\n",
       "      <td>4.33</td>\n",
       "      <td>33.5</td>\n",
       "      <td>0.501</td>\n",
       "      <td>5.74</td>\n",
       "      <td>93.00</td>\n",
       "      <td>1 patty</td>\n",
       "      <td>85.00</td>\n",
       "      <td>1 serving,  ( 3 oz )</td>\n",
       "      <td>5.0</td>\n",
       "    </tr>\n",
       "    <tr>\n",
       "      <th>1100</th>\n",
       "      <td>5643</td>\n",
       "      <td>OSTRICH,FAN,RAW</td>\n",
       "      <td>3.71</td>\n",
       "      <td>34.9</td>\n",
       "      <td>0.513</td>\n",
       "      <td>4.97</td>\n",
       "      <td>85.00</td>\n",
       "      <td>1 serving,  ( cooked from 4oz raw)</td>\n",
       "      <td>28.35</td>\n",
       "      <td>1 oz</td>\n",
       "      <td>5.0</td>\n",
       "    </tr>\n",
       "    <tr>\n",
       "      <th>1101</th>\n",
       "      <td>5644</td>\n",
       "      <td>OSTRICH,INSIDE LEG,RAW</td>\n",
       "      <td>3.87</td>\n",
       "      <td>36.4</td>\n",
       "      <td>0.526</td>\n",
       "      <td>5.10</td>\n",
       "      <td>85.00</td>\n",
       "      <td>1 serving,  ( cooked from 4 oz raw )</td>\n",
       "      <td>28.35</td>\n",
       "      <td>1 oz</td>\n",
       "      <td>5.0</td>\n",
       "    </tr>\n",
       "    <tr>\n",
       "      <th>1102</th>\n",
       "      <td>5645</td>\n",
       "      <td>OSTRICH,INSIDE LEG,CKD</td>\n",
       "      <td>4.71</td>\n",
       "      <td>36.5</td>\n",
       "      <td>0.555</td>\n",
       "      <td>6.36</td>\n",
       "      <td>85.00</td>\n",
       "      <td>1 serving,  ( 3 oz )</td>\n",
       "      <td>NaN</td>\n",
       "      <td>NaN</td>\n",
       "      <td>5.0</td>\n",
       "    </tr>\n",
       "    <tr>\n",
       "      <th>1103</th>\n",
       "      <td>5646</td>\n",
       "      <td>OSTRICH,INSIDE STRIP,RAW</td>\n",
       "      <td>3.98</td>\n",
       "      <td>37.5</td>\n",
       "      <td>0.557</td>\n",
       "      <td>5.40</td>\n",
       "      <td>85.00</td>\n",
       "      <td>1 serving,  (cooked from 4 oz raw)</td>\n",
       "      <td>28.35</td>\n",
       "      <td>1 oz</td>\n",
       "      <td>5.0</td>\n",
       "    </tr>\n",
       "    <tr>\n",
       "      <th>1104</th>\n",
       "      <td>5647</td>\n",
       "      <td>OSTRICH,INSIDE STRIP,CKD</td>\n",
       "      <td>4.90</td>\n",
       "      <td>37.9</td>\n",
       "      <td>0.562</td>\n",
       "      <td>6.44</td>\n",
       "      <td>85.00</td>\n",
       "      <td>1 serving,  ( 3 oz )</td>\n",
       "      <td>NaN</td>\n",
       "      <td>NaN</td>\n",
       "      <td>5.0</td>\n",
       "    </tr>\n",
       "    <tr>\n",
       "      <th>1105</th>\n",
       "      <td>5648</td>\n",
       "      <td>OSTRICH,OUTSIDE LEG,RAW</td>\n",
       "      <td>3.89</td>\n",
       "      <td>36.6</td>\n",
       "      <td>0.537</td>\n",
       "      <td>5.21</td>\n",
       "      <td>85.00</td>\n",
       "      <td>1 serving,  (cooked from 4 oz raw)</td>\n",
       "      <td>28.35</td>\n",
       "      <td>1 oz</td>\n",
       "      <td>5.0</td>\n",
       "    </tr>\n",
       "    <tr>\n",
       "      <th>1106</th>\n",
       "      <td>5649</td>\n",
       "      <td>OSTRICH,OUTSIDE STRIP,RAW</td>\n",
       "      <td>4.02</td>\n",
       "      <td>37.9</td>\n",
       "      <td>0.549</td>\n",
       "      <td>5.33</td>\n",
       "      <td>85.00</td>\n",
       "      <td>1 serving,  (cooked from 4 oz raw)</td>\n",
       "      <td>28.35</td>\n",
       "      <td>1 oz</td>\n",
       "      <td>5.0</td>\n",
       "    </tr>\n",
       "  </tbody>\n",
       "</table>\n",
       "</div>"
      ],
      "text/plain": [
       "      NDB_No                                          Shrt_Desc  Zinc_(mg)  \\\n",
       "101     1113                                    WHEY,ACID,DRIED       6.31   \n",
       "114     1126                              EGG,YOLK,RAW,FRZ,PAST       3.17   \n",
       "115     1127                      EGG,YOLK,RAW,FRZ,SUGARED,PAST       3.06   \n",
       "121     1133                                      EGG,WHL,DRIED       3.15   \n",
       "122     1134               EGG,WHL,DRIED,STABILIZED,GLUCOSE RED       5.71   \n",
       "125     1137                                     EGG,YOLK,DRIED       7.73   \n",
       "190     1223              PROTEIN SUPP,MILK BSD,MUSCLE MILK,PDR       7.14   \n",
       "191     1224           PROTEIN SUPP,MILK BSD,MUSCLE MILK LT,PDR      10.00   \n",
       "442     3181                       BABYFOOD,CRL,BARLEY,DRY FORT       3.13   \n",
       "444     3185                          BABYFOOD,CRL,MXD,DRY FORT      10.66   \n",
       "629     3996  Babyfood, Multigrain whole grain cereal, dry f...      10.67   \n",
       "842     5020             CHICKEN,BROILERS OR FRYERS,GIBLETS,RAW       3.32   \n",
       "843     5021       CHICKEN,BROILERS OR FRYERS,GIBLETS,CKD,FRIED       6.27   \n",
       "844     5022      CHICKEN,BROILERS OR FRYERS,GIBLETS,CKD,SIMMRD       4.23   \n",
       "850     5028               CHICKEN,LIVER,ALL CLASSES,CKD,SIMMRD       3.98   \n",
       "949     5127                        CHICKEN,STEWING,GIBLETS,RAW       3.01   \n",
       "950     5128                 CHICKEN,STEWING,GIBLETS,CKD,SIMMRD       4.28   \n",
       "959     5137                         CHICKEN,CAPONS,GIBLETS,RAW       3.38   \n",
       "965     5143                        DUCK,DOMESTICATED,LIVER,RAW       3.07   \n",
       "972     5150                                    GOOSE,LIVER,RAW       3.07   \n",
       "991     5171                             TURKEY,WHL,GIBLETS,RAW       3.23   \n",
       "992     5172                      TURKEY,WHL,GIBLETS,CKD,SIMMRD       4.29   \n",
       "995     5175                       TURKEY,HEART,ALL CLASSES,RAW       3.21   \n",
       "996     5176                TURKEY,HEART,ALL CLASSES,CKD,SIMMRD       4.60   \n",
       "997     5177                       TURKEY,LIVER,ALL CLASSES,RAW       3.37   \n",
       "998     5178                TURKEY,LIVER,ALL CLASSES,CKD,SIMMRD       4.53   \n",
       "1004    5184        TURKEY,DK MEAT FROM WHL,MEAT & SKN,CKD,RSTD       3.35   \n",
       "1008    5188                   TURKEY,FROM WHL,DK MEAT,CKD,RSTD       3.51   \n",
       "1018    5216           TURKEY,BACK,FROM WHL BIRD,MEAT ONLY,RSTD       3.51   \n",
       "1086    5621                                     EMU,GROUND,RAW       3.48   \n",
       "1087    5622                         EMU,GROUND,CKD,PAN-BROILED       4.56   \n",
       "1088    5623                                 EMU,FAN FILLET,RAW       3.50   \n",
       "1089    5624                            EMU,FAN FILLET,CKD,BRLD       3.19   \n",
       "1090    5625                                EMU,FLAT FILLET,RAW       3.00   \n",
       "1091    5626                                  EMU,FULL RUMP,RAW       3.59   \n",
       "1092    5627                             EMU,FULL RUMP,CKD,BRLD       4.32   \n",
       "1093    5628                                EMU,INSIDE DRUM,RAW       4.33   \n",
       "1094    5629                          EMU,INSIDE DRUMS,CKD,BRLD       5.09   \n",
       "1095    5630                               EMU,OUTSIDE DRUM,RAW       4.50   \n",
       "1096    5631                                     EMU,OYSTER,RAW       6.00   \n",
       "1097    5632                              EMU,TOP LOIN,CKD,BRLD       3.42   \n",
       "1098    5641                                 OSTRICH,GROUND,RAW       3.51   \n",
       "1099    5642                     OSTRICH,GROUND,CKD,PAN-BROILED       4.33   \n",
       "1100    5643                                    OSTRICH,FAN,RAW       3.71   \n",
       "1101    5644                             OSTRICH,INSIDE LEG,RAW       3.87   \n",
       "1102    5645                             OSTRICH,INSIDE LEG,CKD       4.71   \n",
       "1103    5646                           OSTRICH,INSIDE STRIP,RAW       3.98   \n",
       "1104    5647                           OSTRICH,INSIDE STRIP,CKD       4.90   \n",
       "1105    5648                            OSTRICH,OUTSIDE LEG,RAW       3.89   \n",
       "1106    5649                          OSTRICH,OUTSIDE STRIP,RAW       4.02   \n",
       "\n",
       "      Selenium_(¾g)  Vit_B6_(mg)  Vit_B12_(¾g)  GmWt_1  \\\n",
       "101            27.3        0.620          2.50   57.00   \n",
       "114            56.4        0.412          1.90   28.35   \n",
       "115            53.5        0.398          1.64   28.35   \n",
       "121           164.7        0.499          2.96   85.00   \n",
       "122           121.1        0.420         10.51   85.00   \n",
       "125           139.3        0.742          5.11   67.00   \n",
       "190            33.8        1.000          3.00   11.00   \n",
       "191            33.8        1.400          4.20   50.00   \n",
       "442            30.2        0.714          3.57    2.40   \n",
       "444            25.9        1.166          5.00    2.50   \n",
       "629            31.7        1.166          4.69     NaN   \n",
       "842            55.2        0.420         11.41   23.00   \n",
       "843           104.2        0.610         13.31  145.00   \n",
       "844            59.6        0.397          9.44  145.00   \n",
       "850            82.4        0.755         16.85   44.00   \n",
       "949            56.1        0.520         10.83   28.00   \n",
       "950            90.4        0.410          9.48  145.00   \n",
       "959            55.3        0.470         12.95  115.00   \n",
       "965            67.0        0.760         54.00   44.00   \n",
       "972            68.1        0.760         54.00   94.00   \n",
       "991            49.3        0.654         13.06   85.00   \n",
       "992            71.1        0.546         15.89   95.00   \n",
       "995            35.4        0.479         13.30   24.00   \n",
       "996            56.8        0.608         13.90   20.00   \n",
       "997            68.7        1.040         19.73   78.00   \n",
       "998           102.3        0.882         28.17   53.00   \n",
       "1004           30.2        0.430          1.66   85.00   \n",
       "1008           31.4        0.438          1.65   85.00   \n",
       "1018           31.4        0.438          1.65   85.00   \n",
       "1086           30.5        0.642          6.75  117.00   \n",
       "1087           43.5        0.833          8.52  109.00   \n",
       "1088           32.5        0.634          6.67   85.00   \n",
       "1089           46.1        0.916          9.37   85.00   \n",
       "1090           31.5        0.582          6.12   85.00   \n",
       "1091           32.5        0.643          2.24   85.00   \n",
       "1092           52.1        0.987          2.20   85.00   \n",
       "1093           31.4        0.626          2.26   85.00   \n",
       "1094           49.6        0.949          2.40   85.00   \n",
       "1095           36.3        0.676          6.92   85.00   \n",
       "1096           29.8        0.643          6.76   85.00   \n",
       "1097           43.5        0.852          8.71   85.00   \n",
       "1098           33.0        0.475          4.61  109.00   \n",
       "1099           33.5        0.501          5.74   93.00   \n",
       "1100           34.9        0.513          4.97   85.00   \n",
       "1101           36.4        0.526          5.10   85.00   \n",
       "1102           36.5        0.555          6.36   85.00   \n",
       "1103           37.5        0.557          5.40   85.00   \n",
       "1104           37.9        0.562          6.44   85.00   \n",
       "1105           36.6        0.537          5.21   85.00   \n",
       "1106           37.9        0.549          5.33   85.00   \n",
       "\n",
       "                                            GmWt_Desc1  GmWt_2  \\\n",
       "101                                              1 cup    2.90   \n",
       "114                                               1 oz  227.00   \n",
       "115                                               1 oz  227.00   \n",
       "121                                     1 cup,  sifted    5.00   \n",
       "122                                     1 cup,  sifted    5.00   \n",
       "125                                     1 cup,  sifted    4.00   \n",
       "190                                             1 tbsp     NaN   \n",
       "191                                            2 scoop     NaN   \n",
       "442                                             1 tbsp   15.00   \n",
       "444                                             1 tbsp   15.00   \n",
       "629                                                NaN     NaN   \n",
       "842   1 unit,  (yield from 1 lb ready-to-cook chicken)   75.00   \n",
       "843                            1 cup, chopped or diced   13.00   \n",
       "844                             1 cup, chopped or dice     NaN   \n",
       "850                                            1 liver     NaN   \n",
       "949   1 unit,  (yield from 1 lb ready-to-cook chicken)   81.00   \n",
       "950                            1 cup, chopped or diced   17.00   \n",
       "959                                          1 giblets   18.00   \n",
       "965                                            1 liver   10.00   \n",
       "972                                            1 liver   11.00   \n",
       "991                                               3 oz  157.00   \n",
       "992                                          1 giblets     NaN   \n",
       "995                                            1 piece     NaN   \n",
       "996                                            1 heart     NaN   \n",
       "997                                        1 raw liver     NaN   \n",
       "998                                     1 liver cooked     NaN   \n",
       "1004                                         1 serving     NaN   \n",
       "1008                                         1 serving     NaN   \n",
       "1018                                              3 oz  911.00   \n",
       "1086                                           1 patty     NaN   \n",
       "1087           1 patty,  (yield from 135.8 g raw meat)   85.00   \n",
       "1088                              1 serving,  ( 3 oz )  513.00   \n",
       "1089                              1 serving,  ( 3 oz )  394.00   \n",
       "1090                                              3 oz  354.00   \n",
       "1091                                              3 oz  695.00   \n",
       "1092                              1 serving,  ( 3 oz )  496.00   \n",
       "1093                                              3 oz  572.00   \n",
       "1094                              1 serving,  ( 3 oz )  416.00   \n",
       "1095                                              3 oz  422.00   \n",
       "1096                                              3 oz  300.00   \n",
       "1097                              1 serving,  ( 3 oz )  244.00   \n",
       "1098                                           1 patty  435.00   \n",
       "1099                                           1 patty   85.00   \n",
       "1100                1 serving,  ( cooked from 4oz raw)   28.35   \n",
       "1101              1 serving,  ( cooked from 4 oz raw )   28.35   \n",
       "1102                              1 serving,  ( 3 oz )     NaN   \n",
       "1103                1 serving,  (cooked from 4 oz raw)   28.35   \n",
       "1104                              1 serving,  ( 3 oz )     NaN   \n",
       "1105                1 serving,  (cooked from 4 oz raw)   28.35   \n",
       "1106                1 serving,  (cooked from 4 oz raw)   28.35   \n",
       "\n",
       "                                             GmWt_Desc2  Immune_boost_Score  \n",
       "101                                              1 tbsp                 5.0  \n",
       "114                                               .5 lb                 5.0  \n",
       "115                                               .5 lb                 5.0  \n",
       "121                                              1 tbsp                 5.0  \n",
       "122                                              1 tbsp                 5.0  \n",
       "125                                              1 tbsp                 5.0  \n",
       "190                                                 NaN                 5.0  \n",
       "191                                                 NaN                 5.0  \n",
       "442                                               .5 oz                 5.0  \n",
       "444                                               .5 oz                 5.0  \n",
       "629                                                 NaN                 5.0  \n",
       "842                                           1 giblets                 5.0  \n",
       "843    1 unit,  (yield from 1 lb ready-to-cook chicken)                 5.0  \n",
       "844                                                 NaN                 5.0  \n",
       "850                                                 NaN                 5.0  \n",
       "949                                           1 giblets                 5.0  \n",
       "950    1 unit,  (yield from 1 lb ready-to-cook chicken)                 5.0  \n",
       "959      1 unit,  (yield from 1 lb ready-to cook capon)                 5.0  \n",
       "965       1 unit,  (yield from 1 lb ready-to-cook duck)                 5.0  \n",
       "972      1 unit,  (yield from 1 lb ready-to-cook goose)                 5.0  \n",
       "991                                           1 giblets                 5.0  \n",
       "992                                                 NaN                 5.0  \n",
       "995                                                 NaN                 5.0  \n",
       "996                                                 NaN                 5.0  \n",
       "997                                                 NaN                 5.0  \n",
       "998                                                 NaN                 5.0  \n",
       "1004                                                NaN                 5.0  \n",
       "1008                                                NaN                 5.0  \n",
       "1018                                             1 back                 5.0  \n",
       "1086                                                NaN                 5.0  \n",
       "1087                               1 serving,  ( 3 oz )                 5.0  \n",
       "1088                                       1 fan fillet                 5.0  \n",
       "1089                                            1 steak                 5.0  \n",
       "1090                                      1 flat fillet                 5.0  \n",
       "1091                                        1 full rump                 5.0  \n",
       "1092  1 full rump, cooked ( yield from 695 g raw meat )                 5.0  \n",
       "1093                                      1 inside drum                 5.0  \n",
       "1094  1 inside drum, cooked ( yield from 572 g raw m...                 5.0  \n",
       "1095                                     1 outside drum                 5.0  \n",
       "1096                                            1 steak                 5.0  \n",
       "1097                                            1 steak                 5.0  \n",
       "1098                                            4 patty                 5.0  \n",
       "1099                               1 serving,  ( 3 oz )                 5.0  \n",
       "1100                                               1 oz                 5.0  \n",
       "1101                                               1 oz                 5.0  \n",
       "1102                                                NaN                 5.0  \n",
       "1103                                               1 oz                 5.0  \n",
       "1104                                                NaN                 5.0  \n",
       "1105                                               1 oz                 5.0  \n",
       "1106                                               1 oz                 5.0  "
      ]
     },
     "execution_count": 109,
     "metadata": {},
     "output_type": "execute_result"
    }
   ],
   "source": [
    "Immune_boostersdf.head(50)"
   ]
  },
  {
   "cell_type": "code",
   "execution_count": 112,
   "metadata": {},
   "outputs": [
    {
     "name": "stdout",
     "output_type": "stream",
     "text": [
      "1009\n"
     ]
    },
    {
     "data": {
      "application/vnd.plotly.v1+json": {
       "config": {
        "plotlyServerURL": "https://plot.ly"
       },
       "data": [
        {
         "delta": {
          "reference": 2
         },
         "domain": {
          "x": [
           0,
           1
          ],
          "y": [
           0,
           1
          ]
         },
         "gauge": {
          "axis": {
           "range": [
            0,
            5
           ]
          },
          "steps": [
           {
            "color": "lightgray",
            "range": [
             0,
             1
            ]
           },
           {
            "color": "orange",
            "range": [
             1,
             2
            ]
           },
           {
            "color": "yellow",
            "range": [
             2,
             3
            ]
           },
           {
            "color": "lightgreen",
            "range": [
             3,
             4
            ]
           },
           {
            "color": "lightblue",
            "range": [
             4,
             5
            ]
           }
          ],
          "threshold": {
           "line": {
            "color": "red",
            "width": 4
           },
           "thickness": 0.75,
           "value": 5
          }
         },
         "mode": "gauge+number+delta",
         "title": {
          "text": "Immune System Support"
         },
         "type": "indicator",
         "value": 2.4
        }
       ],
       "layout": {
        "template": {
         "data": {
          "bar": [
           {
            "error_x": {
             "color": "#2a3f5f"
            },
            "error_y": {
             "color": "#2a3f5f"
            },
            "marker": {
             "line": {
              "color": "#E5ECF6",
              "width": 0.5
             },
             "pattern": {
              "fillmode": "overlay",
              "size": 10,
              "solidity": 0.2
             }
            },
            "type": "bar"
           }
          ],
          "barpolar": [
           {
            "marker": {
             "line": {
              "color": "#E5ECF6",
              "width": 0.5
             },
             "pattern": {
              "fillmode": "overlay",
              "size": 10,
              "solidity": 0.2
             }
            },
            "type": "barpolar"
           }
          ],
          "carpet": [
           {
            "aaxis": {
             "endlinecolor": "#2a3f5f",
             "gridcolor": "white",
             "linecolor": "white",
             "minorgridcolor": "white",
             "startlinecolor": "#2a3f5f"
            },
            "baxis": {
             "endlinecolor": "#2a3f5f",
             "gridcolor": "white",
             "linecolor": "white",
             "minorgridcolor": "white",
             "startlinecolor": "#2a3f5f"
            },
            "type": "carpet"
           }
          ],
          "choropleth": [
           {
            "colorbar": {
             "outlinewidth": 0,
             "ticks": ""
            },
            "type": "choropleth"
           }
          ],
          "contour": [
           {
            "colorbar": {
             "outlinewidth": 0,
             "ticks": ""
            },
            "colorscale": [
             [
              0,
              "#0d0887"
             ],
             [
              0.1111111111111111,
              "#46039f"
             ],
             [
              0.2222222222222222,
              "#7201a8"
             ],
             [
              0.3333333333333333,
              "#9c179e"
             ],
             [
              0.4444444444444444,
              "#bd3786"
             ],
             [
              0.5555555555555556,
              "#d8576b"
             ],
             [
              0.6666666666666666,
              "#ed7953"
             ],
             [
              0.7777777777777778,
              "#fb9f3a"
             ],
             [
              0.8888888888888888,
              "#fdca26"
             ],
             [
              1,
              "#f0f921"
             ]
            ],
            "type": "contour"
           }
          ],
          "contourcarpet": [
           {
            "colorbar": {
             "outlinewidth": 0,
             "ticks": ""
            },
            "type": "contourcarpet"
           }
          ],
          "heatmap": [
           {
            "colorbar": {
             "outlinewidth": 0,
             "ticks": ""
            },
            "colorscale": [
             [
              0,
              "#0d0887"
             ],
             [
              0.1111111111111111,
              "#46039f"
             ],
             [
              0.2222222222222222,
              "#7201a8"
             ],
             [
              0.3333333333333333,
              "#9c179e"
             ],
             [
              0.4444444444444444,
              "#bd3786"
             ],
             [
              0.5555555555555556,
              "#d8576b"
             ],
             [
              0.6666666666666666,
              "#ed7953"
             ],
             [
              0.7777777777777778,
              "#fb9f3a"
             ],
             [
              0.8888888888888888,
              "#fdca26"
             ],
             [
              1,
              "#f0f921"
             ]
            ],
            "type": "heatmap"
           }
          ],
          "heatmapgl": [
           {
            "colorbar": {
             "outlinewidth": 0,
             "ticks": ""
            },
            "colorscale": [
             [
              0,
              "#0d0887"
             ],
             [
              0.1111111111111111,
              "#46039f"
             ],
             [
              0.2222222222222222,
              "#7201a8"
             ],
             [
              0.3333333333333333,
              "#9c179e"
             ],
             [
              0.4444444444444444,
              "#bd3786"
             ],
             [
              0.5555555555555556,
              "#d8576b"
             ],
             [
              0.6666666666666666,
              "#ed7953"
             ],
             [
              0.7777777777777778,
              "#fb9f3a"
             ],
             [
              0.8888888888888888,
              "#fdca26"
             ],
             [
              1,
              "#f0f921"
             ]
            ],
            "type": "heatmapgl"
           }
          ],
          "histogram": [
           {
            "marker": {
             "pattern": {
              "fillmode": "overlay",
              "size": 10,
              "solidity": 0.2
             }
            },
            "type": "histogram"
           }
          ],
          "histogram2d": [
           {
            "colorbar": {
             "outlinewidth": 0,
             "ticks": ""
            },
            "colorscale": [
             [
              0,
              "#0d0887"
             ],
             [
              0.1111111111111111,
              "#46039f"
             ],
             [
              0.2222222222222222,
              "#7201a8"
             ],
             [
              0.3333333333333333,
              "#9c179e"
             ],
             [
              0.4444444444444444,
              "#bd3786"
             ],
             [
              0.5555555555555556,
              "#d8576b"
             ],
             [
              0.6666666666666666,
              "#ed7953"
             ],
             [
              0.7777777777777778,
              "#fb9f3a"
             ],
             [
              0.8888888888888888,
              "#fdca26"
             ],
             [
              1,
              "#f0f921"
             ]
            ],
            "type": "histogram2d"
           }
          ],
          "histogram2dcontour": [
           {
            "colorbar": {
             "outlinewidth": 0,
             "ticks": ""
            },
            "colorscale": [
             [
              0,
              "#0d0887"
             ],
             [
              0.1111111111111111,
              "#46039f"
             ],
             [
              0.2222222222222222,
              "#7201a8"
             ],
             [
              0.3333333333333333,
              "#9c179e"
             ],
             [
              0.4444444444444444,
              "#bd3786"
             ],
             [
              0.5555555555555556,
              "#d8576b"
             ],
             [
              0.6666666666666666,
              "#ed7953"
             ],
             [
              0.7777777777777778,
              "#fb9f3a"
             ],
             [
              0.8888888888888888,
              "#fdca26"
             ],
             [
              1,
              "#f0f921"
             ]
            ],
            "type": "histogram2dcontour"
           }
          ],
          "mesh3d": [
           {
            "colorbar": {
             "outlinewidth": 0,
             "ticks": ""
            },
            "type": "mesh3d"
           }
          ],
          "parcoords": [
           {
            "line": {
             "colorbar": {
              "outlinewidth": 0,
              "ticks": ""
             }
            },
            "type": "parcoords"
           }
          ],
          "pie": [
           {
            "automargin": true,
            "type": "pie"
           }
          ],
          "scatter": [
           {
            "marker": {
             "colorbar": {
              "outlinewidth": 0,
              "ticks": ""
             }
            },
            "type": "scatter"
           }
          ],
          "scatter3d": [
           {
            "line": {
             "colorbar": {
              "outlinewidth": 0,
              "ticks": ""
             }
            },
            "marker": {
             "colorbar": {
              "outlinewidth": 0,
              "ticks": ""
             }
            },
            "type": "scatter3d"
           }
          ],
          "scattercarpet": [
           {
            "marker": {
             "colorbar": {
              "outlinewidth": 0,
              "ticks": ""
             }
            },
            "type": "scattercarpet"
           }
          ],
          "scattergeo": [
           {
            "marker": {
             "colorbar": {
              "outlinewidth": 0,
              "ticks": ""
             }
            },
            "type": "scattergeo"
           }
          ],
          "scattergl": [
           {
            "marker": {
             "colorbar": {
              "outlinewidth": 0,
              "ticks": ""
             }
            },
            "type": "scattergl"
           }
          ],
          "scattermapbox": [
           {
            "marker": {
             "colorbar": {
              "outlinewidth": 0,
              "ticks": ""
             }
            },
            "type": "scattermapbox"
           }
          ],
          "scatterpolar": [
           {
            "marker": {
             "colorbar": {
              "outlinewidth": 0,
              "ticks": ""
             }
            },
            "type": "scatterpolar"
           }
          ],
          "scatterpolargl": [
           {
            "marker": {
             "colorbar": {
              "outlinewidth": 0,
              "ticks": ""
             }
            },
            "type": "scatterpolargl"
           }
          ],
          "scatterternary": [
           {
            "marker": {
             "colorbar": {
              "outlinewidth": 0,
              "ticks": ""
             }
            },
            "type": "scatterternary"
           }
          ],
          "surface": [
           {
            "colorbar": {
             "outlinewidth": 0,
             "ticks": ""
            },
            "colorscale": [
             [
              0,
              "#0d0887"
             ],
             [
              0.1111111111111111,
              "#46039f"
             ],
             [
              0.2222222222222222,
              "#7201a8"
             ],
             [
              0.3333333333333333,
              "#9c179e"
             ],
             [
              0.4444444444444444,
              "#bd3786"
             ],
             [
              0.5555555555555556,
              "#d8576b"
             ],
             [
              0.6666666666666666,
              "#ed7953"
             ],
             [
              0.7777777777777778,
              "#fb9f3a"
             ],
             [
              0.8888888888888888,
              "#fdca26"
             ],
             [
              1,
              "#f0f921"
             ]
            ],
            "type": "surface"
           }
          ],
          "table": [
           {
            "cells": {
             "fill": {
              "color": "#EBF0F8"
             },
             "line": {
              "color": "white"
             }
            },
            "header": {
             "fill": {
              "color": "#C8D4E3"
             },
             "line": {
              "color": "white"
             }
            },
            "type": "table"
           }
          ]
         },
         "layout": {
          "annotationdefaults": {
           "arrowcolor": "#2a3f5f",
           "arrowhead": 0,
           "arrowwidth": 1
          },
          "autotypenumbers": "strict",
          "coloraxis": {
           "colorbar": {
            "outlinewidth": 0,
            "ticks": ""
           }
          },
          "colorscale": {
           "diverging": [
            [
             0,
             "#8e0152"
            ],
            [
             0.1,
             "#c51b7d"
            ],
            [
             0.2,
             "#de77ae"
            ],
            [
             0.3,
             "#f1b6da"
            ],
            [
             0.4,
             "#fde0ef"
            ],
            [
             0.5,
             "#f7f7f7"
            ],
            [
             0.6,
             "#e6f5d0"
            ],
            [
             0.7,
             "#b8e186"
            ],
            [
             0.8,
             "#7fbc41"
            ],
            [
             0.9,
             "#4d9221"
            ],
            [
             1,
             "#276419"
            ]
           ],
           "sequential": [
            [
             0,
             "#0d0887"
            ],
            [
             0.1111111111111111,
             "#46039f"
            ],
            [
             0.2222222222222222,
             "#7201a8"
            ],
            [
             0.3333333333333333,
             "#9c179e"
            ],
            [
             0.4444444444444444,
             "#bd3786"
            ],
            [
             0.5555555555555556,
             "#d8576b"
            ],
            [
             0.6666666666666666,
             "#ed7953"
            ],
            [
             0.7777777777777778,
             "#fb9f3a"
            ],
            [
             0.8888888888888888,
             "#fdca26"
            ],
            [
             1,
             "#f0f921"
            ]
           ],
           "sequentialminus": [
            [
             0,
             "#0d0887"
            ],
            [
             0.1111111111111111,
             "#46039f"
            ],
            [
             0.2222222222222222,
             "#7201a8"
            ],
            [
             0.3333333333333333,
             "#9c179e"
            ],
            [
             0.4444444444444444,
             "#bd3786"
            ],
            [
             0.5555555555555556,
             "#d8576b"
            ],
            [
             0.6666666666666666,
             "#ed7953"
            ],
            [
             0.7777777777777778,
             "#fb9f3a"
            ],
            [
             0.8888888888888888,
             "#fdca26"
            ],
            [
             1,
             "#f0f921"
            ]
           ]
          },
          "colorway": [
           "#636efa",
           "#EF553B",
           "#00cc96",
           "#ab63fa",
           "#FFA15A",
           "#19d3f3",
           "#FF6692",
           "#B6E880",
           "#FF97FF",
           "#FECB52"
          ],
          "font": {
           "color": "#2a3f5f"
          },
          "geo": {
           "bgcolor": "white",
           "lakecolor": "white",
           "landcolor": "#E5ECF6",
           "showlakes": true,
           "showland": true,
           "subunitcolor": "white"
          },
          "hoverlabel": {
           "align": "left"
          },
          "hovermode": "closest",
          "mapbox": {
           "style": "light"
          },
          "paper_bgcolor": "white",
          "plot_bgcolor": "#E5ECF6",
          "polar": {
           "angularaxis": {
            "gridcolor": "white",
            "linecolor": "white",
            "ticks": ""
           },
           "bgcolor": "#E5ECF6",
           "radialaxis": {
            "gridcolor": "white",
            "linecolor": "white",
            "ticks": ""
           }
          },
          "scene": {
           "xaxis": {
            "backgroundcolor": "#E5ECF6",
            "gridcolor": "white",
            "gridwidth": 2,
            "linecolor": "white",
            "showbackground": true,
            "ticks": "",
            "zerolinecolor": "white"
           },
           "yaxis": {
            "backgroundcolor": "#E5ECF6",
            "gridcolor": "white",
            "gridwidth": 2,
            "linecolor": "white",
            "showbackground": true,
            "ticks": "",
            "zerolinecolor": "white"
           },
           "zaxis": {
            "backgroundcolor": "#E5ECF6",
            "gridcolor": "white",
            "gridwidth": 2,
            "linecolor": "white",
            "showbackground": true,
            "ticks": "",
            "zerolinecolor": "white"
           }
          },
          "shapedefaults": {
           "line": {
            "color": "#2a3f5f"
           }
          },
          "ternary": {
           "aaxis": {
            "gridcolor": "white",
            "linecolor": "white",
            "ticks": ""
           },
           "baxis": {
            "gridcolor": "white",
            "linecolor": "white",
            "ticks": ""
           },
           "bgcolor": "#E5ECF6",
           "caxis": {
            "gridcolor": "white",
            "linecolor": "white",
            "ticks": ""
           }
          },
          "title": {
           "x": 0.05
          },
          "xaxis": {
           "automargin": true,
           "gridcolor": "white",
           "linecolor": "white",
           "ticks": "",
           "title": {
            "standoff": 15
           },
           "zerolinecolor": "white",
           "zerolinewidth": 2
          },
          "yaxis": {
           "automargin": true,
           "gridcolor": "white",
           "linecolor": "white",
           "ticks": "",
           "title": {
            "standoff": 15
           },
           "zerolinecolor": "white",
           "zerolinewidth": 2
          }
         }
        }
       }
      },
      "text/html": [
       "<div>                            <div id=\"7f5c08e2-2363-48f7-b321-23f98893eb80\" class=\"plotly-graph-div\" style=\"height:525px; width:100%;\"></div>            <script type=\"text/javascript\">                require([\"plotly\"], function(Plotly) {                    window.PLOTLYENV=window.PLOTLYENV || {};                                    if (document.getElementById(\"7f5c08e2-2363-48f7-b321-23f98893eb80\")) {                    Plotly.newPlot(                        \"7f5c08e2-2363-48f7-b321-23f98893eb80\",                        [{\"delta\":{\"reference\":2},\"domain\":{\"x\":[0,1],\"y\":[0,1]},\"gauge\":{\"axis\":{\"range\":[0,5]},\"steps\":[{\"color\":\"lightgray\",\"range\":[0,1]},{\"color\":\"orange\",\"range\":[1,2]},{\"color\":\"yellow\",\"range\":[2,3]},{\"color\":\"lightgreen\",\"range\":[3,4]},{\"color\":\"lightblue\",\"range\":[4,5]}],\"threshold\":{\"line\":{\"color\":\"red\",\"width\":4},\"thickness\":0.75,\"value\":5}},\"mode\":\"gauge+number+delta\",\"title\":{\"text\":\"Immune System Support\"},\"value\":2.4,\"type\":\"indicator\"}],                        {\"template\":{\"data\":{\"bar\":[{\"error_x\":{\"color\":\"#2a3f5f\"},\"error_y\":{\"color\":\"#2a3f5f\"},\"marker\":{\"line\":{\"color\":\"#E5ECF6\",\"width\":0.5},\"pattern\":{\"fillmode\":\"overlay\",\"size\":10,\"solidity\":0.2}},\"type\":\"bar\"}],\"barpolar\":[{\"marker\":{\"line\":{\"color\":\"#E5ECF6\",\"width\":0.5},\"pattern\":{\"fillmode\":\"overlay\",\"size\":10,\"solidity\":0.2}},\"type\":\"barpolar\"}],\"carpet\":[{\"aaxis\":{\"endlinecolor\":\"#2a3f5f\",\"gridcolor\":\"white\",\"linecolor\":\"white\",\"minorgridcolor\":\"white\",\"startlinecolor\":\"#2a3f5f\"},\"baxis\":{\"endlinecolor\":\"#2a3f5f\",\"gridcolor\":\"white\",\"linecolor\":\"white\",\"minorgridcolor\":\"white\",\"startlinecolor\":\"#2a3f5f\"},\"type\":\"carpet\"}],\"choropleth\":[{\"colorbar\":{\"outlinewidth\":0,\"ticks\":\"\"},\"type\":\"choropleth\"}],\"contour\":[{\"colorbar\":{\"outlinewidth\":0,\"ticks\":\"\"},\"colorscale\":[[0.0,\"#0d0887\"],[0.1111111111111111,\"#46039f\"],[0.2222222222222222,\"#7201a8\"],[0.3333333333333333,\"#9c179e\"],[0.4444444444444444,\"#bd3786\"],[0.5555555555555556,\"#d8576b\"],[0.6666666666666666,\"#ed7953\"],[0.7777777777777778,\"#fb9f3a\"],[0.8888888888888888,\"#fdca26\"],[1.0,\"#f0f921\"]],\"type\":\"contour\"}],\"contourcarpet\":[{\"colorbar\":{\"outlinewidth\":0,\"ticks\":\"\"},\"type\":\"contourcarpet\"}],\"heatmap\":[{\"colorbar\":{\"outlinewidth\":0,\"ticks\":\"\"},\"colorscale\":[[0.0,\"#0d0887\"],[0.1111111111111111,\"#46039f\"],[0.2222222222222222,\"#7201a8\"],[0.3333333333333333,\"#9c179e\"],[0.4444444444444444,\"#bd3786\"],[0.5555555555555556,\"#d8576b\"],[0.6666666666666666,\"#ed7953\"],[0.7777777777777778,\"#fb9f3a\"],[0.8888888888888888,\"#fdca26\"],[1.0,\"#f0f921\"]],\"type\":\"heatmap\"}],\"heatmapgl\":[{\"colorbar\":{\"outlinewidth\":0,\"ticks\":\"\"},\"colorscale\":[[0.0,\"#0d0887\"],[0.1111111111111111,\"#46039f\"],[0.2222222222222222,\"#7201a8\"],[0.3333333333333333,\"#9c179e\"],[0.4444444444444444,\"#bd3786\"],[0.5555555555555556,\"#d8576b\"],[0.6666666666666666,\"#ed7953\"],[0.7777777777777778,\"#fb9f3a\"],[0.8888888888888888,\"#fdca26\"],[1.0,\"#f0f921\"]],\"type\":\"heatmapgl\"}],\"histogram\":[{\"marker\":{\"pattern\":{\"fillmode\":\"overlay\",\"size\":10,\"solidity\":0.2}},\"type\":\"histogram\"}],\"histogram2d\":[{\"colorbar\":{\"outlinewidth\":0,\"ticks\":\"\"},\"colorscale\":[[0.0,\"#0d0887\"],[0.1111111111111111,\"#46039f\"],[0.2222222222222222,\"#7201a8\"],[0.3333333333333333,\"#9c179e\"],[0.4444444444444444,\"#bd3786\"],[0.5555555555555556,\"#d8576b\"],[0.6666666666666666,\"#ed7953\"],[0.7777777777777778,\"#fb9f3a\"],[0.8888888888888888,\"#fdca26\"],[1.0,\"#f0f921\"]],\"type\":\"histogram2d\"}],\"histogram2dcontour\":[{\"colorbar\":{\"outlinewidth\":0,\"ticks\":\"\"},\"colorscale\":[[0.0,\"#0d0887\"],[0.1111111111111111,\"#46039f\"],[0.2222222222222222,\"#7201a8\"],[0.3333333333333333,\"#9c179e\"],[0.4444444444444444,\"#bd3786\"],[0.5555555555555556,\"#d8576b\"],[0.6666666666666666,\"#ed7953\"],[0.7777777777777778,\"#fb9f3a\"],[0.8888888888888888,\"#fdca26\"],[1.0,\"#f0f921\"]],\"type\":\"histogram2dcontour\"}],\"mesh3d\":[{\"colorbar\":{\"outlinewidth\":0,\"ticks\":\"\"},\"type\":\"mesh3d\"}],\"parcoords\":[{\"line\":{\"colorbar\":{\"outlinewidth\":0,\"ticks\":\"\"}},\"type\":\"parcoords\"}],\"pie\":[{\"automargin\":true,\"type\":\"pie\"}],\"scatter\":[{\"marker\":{\"colorbar\":{\"outlinewidth\":0,\"ticks\":\"\"}},\"type\":\"scatter\"}],\"scatter3d\":[{\"line\":{\"colorbar\":{\"outlinewidth\":0,\"ticks\":\"\"}},\"marker\":{\"colorbar\":{\"outlinewidth\":0,\"ticks\":\"\"}},\"type\":\"scatter3d\"}],\"scattercarpet\":[{\"marker\":{\"colorbar\":{\"outlinewidth\":0,\"ticks\":\"\"}},\"type\":\"scattercarpet\"}],\"scattergeo\":[{\"marker\":{\"colorbar\":{\"outlinewidth\":0,\"ticks\":\"\"}},\"type\":\"scattergeo\"}],\"scattergl\":[{\"marker\":{\"colorbar\":{\"outlinewidth\":0,\"ticks\":\"\"}},\"type\":\"scattergl\"}],\"scattermapbox\":[{\"marker\":{\"colorbar\":{\"outlinewidth\":0,\"ticks\":\"\"}},\"type\":\"scattermapbox\"}],\"scatterpolar\":[{\"marker\":{\"colorbar\":{\"outlinewidth\":0,\"ticks\":\"\"}},\"type\":\"scatterpolar\"}],\"scatterpolargl\":[{\"marker\":{\"colorbar\":{\"outlinewidth\":0,\"ticks\":\"\"}},\"type\":\"scatterpolargl\"}],\"scatterternary\":[{\"marker\":{\"colorbar\":{\"outlinewidth\":0,\"ticks\":\"\"}},\"type\":\"scatterternary\"}],\"surface\":[{\"colorbar\":{\"outlinewidth\":0,\"ticks\":\"\"},\"colorscale\":[[0.0,\"#0d0887\"],[0.1111111111111111,\"#46039f\"],[0.2222222222222222,\"#7201a8\"],[0.3333333333333333,\"#9c179e\"],[0.4444444444444444,\"#bd3786\"],[0.5555555555555556,\"#d8576b\"],[0.6666666666666666,\"#ed7953\"],[0.7777777777777778,\"#fb9f3a\"],[0.8888888888888888,\"#fdca26\"],[1.0,\"#f0f921\"]],\"type\":\"surface\"}],\"table\":[{\"cells\":{\"fill\":{\"color\":\"#EBF0F8\"},\"line\":{\"color\":\"white\"}},\"header\":{\"fill\":{\"color\":\"#C8D4E3\"},\"line\":{\"color\":\"white\"}},\"type\":\"table\"}]},\"layout\":{\"annotationdefaults\":{\"arrowcolor\":\"#2a3f5f\",\"arrowhead\":0,\"arrowwidth\":1},\"autotypenumbers\":\"strict\",\"coloraxis\":{\"colorbar\":{\"outlinewidth\":0,\"ticks\":\"\"}},\"colorscale\":{\"diverging\":[[0,\"#8e0152\"],[0.1,\"#c51b7d\"],[0.2,\"#de77ae\"],[0.3,\"#f1b6da\"],[0.4,\"#fde0ef\"],[0.5,\"#f7f7f7\"],[0.6,\"#e6f5d0\"],[0.7,\"#b8e186\"],[0.8,\"#7fbc41\"],[0.9,\"#4d9221\"],[1,\"#276419\"]],\"sequential\":[[0.0,\"#0d0887\"],[0.1111111111111111,\"#46039f\"],[0.2222222222222222,\"#7201a8\"],[0.3333333333333333,\"#9c179e\"],[0.4444444444444444,\"#bd3786\"],[0.5555555555555556,\"#d8576b\"],[0.6666666666666666,\"#ed7953\"],[0.7777777777777778,\"#fb9f3a\"],[0.8888888888888888,\"#fdca26\"],[1.0,\"#f0f921\"]],\"sequentialminus\":[[0.0,\"#0d0887\"],[0.1111111111111111,\"#46039f\"],[0.2222222222222222,\"#7201a8\"],[0.3333333333333333,\"#9c179e\"],[0.4444444444444444,\"#bd3786\"],[0.5555555555555556,\"#d8576b\"],[0.6666666666666666,\"#ed7953\"],[0.7777777777777778,\"#fb9f3a\"],[0.8888888888888888,\"#fdca26\"],[1.0,\"#f0f921\"]]},\"colorway\":[\"#636efa\",\"#EF553B\",\"#00cc96\",\"#ab63fa\",\"#FFA15A\",\"#19d3f3\",\"#FF6692\",\"#B6E880\",\"#FF97FF\",\"#FECB52\"],\"font\":{\"color\":\"#2a3f5f\"},\"geo\":{\"bgcolor\":\"white\",\"lakecolor\":\"white\",\"landcolor\":\"#E5ECF6\",\"showlakes\":true,\"showland\":true,\"subunitcolor\":\"white\"},\"hoverlabel\":{\"align\":\"left\"},\"hovermode\":\"closest\",\"mapbox\":{\"style\":\"light\"},\"paper_bgcolor\":\"white\",\"plot_bgcolor\":\"#E5ECF6\",\"polar\":{\"angularaxis\":{\"gridcolor\":\"white\",\"linecolor\":\"white\",\"ticks\":\"\"},\"bgcolor\":\"#E5ECF6\",\"radialaxis\":{\"gridcolor\":\"white\",\"linecolor\":\"white\",\"ticks\":\"\"}},\"scene\":{\"xaxis\":{\"backgroundcolor\":\"#E5ECF6\",\"gridcolor\":\"white\",\"gridwidth\":2,\"linecolor\":\"white\",\"showbackground\":true,\"ticks\":\"\",\"zerolinecolor\":\"white\"},\"yaxis\":{\"backgroundcolor\":\"#E5ECF6\",\"gridcolor\":\"white\",\"gridwidth\":2,\"linecolor\":\"white\",\"showbackground\":true,\"ticks\":\"\",\"zerolinecolor\":\"white\"},\"zaxis\":{\"backgroundcolor\":\"#E5ECF6\",\"gridcolor\":\"white\",\"gridwidth\":2,\"linecolor\":\"white\",\"showbackground\":true,\"ticks\":\"\",\"zerolinecolor\":\"white\"}},\"shapedefaults\":{\"line\":{\"color\":\"#2a3f5f\"}},\"ternary\":{\"aaxis\":{\"gridcolor\":\"white\",\"linecolor\":\"white\",\"ticks\":\"\"},\"baxis\":{\"gridcolor\":\"white\",\"linecolor\":\"white\",\"ticks\":\"\"},\"bgcolor\":\"#E5ECF6\",\"caxis\":{\"gridcolor\":\"white\",\"linecolor\":\"white\",\"ticks\":\"\"}},\"title\":{\"x\":0.05},\"xaxis\":{\"automargin\":true,\"gridcolor\":\"white\",\"linecolor\":\"white\",\"ticks\":\"\",\"title\":{\"standoff\":15},\"zerolinecolor\":\"white\",\"zerolinewidth\":2},\"yaxis\":{\"automargin\":true,\"gridcolor\":\"white\",\"linecolor\":\"white\",\"ticks\":\"\",\"title\":{\"standoff\":15},\"zerolinecolor\":\"white\",\"zerolinewidth\":2}}}},                        {\"responsive\": true}                    ).then(function(){\n",
       "                            \n",
       "var gd = document.getElementById('7f5c08e2-2363-48f7-b321-23f98893eb80');\n",
       "var x = new MutationObserver(function (mutations, observer) {{\n",
       "        var display = window.getComputedStyle(gd).display;\n",
       "        if (!display || display === 'none') {{\n",
       "            console.log([gd, 'removed!']);\n",
       "            Plotly.purge(gd);\n",
       "            observer.disconnect();\n",
       "        }}\n",
       "}});\n",
       "\n",
       "// Listen for the removal of the full notebook cells\n",
       "var notebookContainer = gd.closest('#notebook-container');\n",
       "if (notebookContainer) {{\n",
       "    x.observe(notebookContainer, {childList: true});\n",
       "}}\n",
       "\n",
       "// Listen for the clearing of the current output cell\n",
       "var outputEl = gd.closest('.output');\n",
       "if (outputEl) {{\n",
       "    x.observe(outputEl, {childList: true});\n",
       "}}\n",
       "\n",
       "                        })                };                });            </script>        </div>"
      ]
     },
     "metadata": {},
     "output_type": "display_data"
    }
   ],
   "source": [
    "a = int(input())\n",
    "\n",
    "import plotly.graph_objects as go\n",
    "\n",
    "fig = go.Figure(go.Indicator(\n",
    "    domain = {'x': [0, 1], 'y': [0, 1]},\n",
    "    value = food_scores(a),\n",
    "    mode = \"gauge+number+delta\",\n",
    "    title = {'text': \"Immune System Support\"},\n",
    "    delta = {'reference': 2},\n",
    "    gauge = {'axis': {'range': [0, 5]},\n",
    "             'steps' : [\n",
    "                 {'range': [0, 1], 'color': \"lightgray\"},\n",
    "                 {'range': [1, 2], 'color': \"orange\"},\n",
    "                 {'range': [2, 3], 'color': \"yellow\"},\n",
    "                 {'range': [3, 4], 'color': \"lightgreen\"},\n",
    "                 {'range': [4, 5], 'color': \"lightblue\"}],\n",
    "             'threshold' : {'line': {'color': \"red\", 'width': 4}, 'thickness': 0.75, 'value': 5}}))\n",
    "\n",
    "fig.show()"
   ]
  },
  {
   "cell_type": "code",
   "execution_count": null,
   "metadata": {},
   "outputs": [],
   "source": []
  },
  {
   "cell_type": "code",
   "execution_count": null,
   "metadata": {},
   "outputs": [],
   "source": []
  }
 ],
 "metadata": {
  "kernelspec": {
   "display_name": "Python 3",
   "language": "python",
   "name": "python3"
  },
  "language_info": {
   "codemirror_mode": {
    "name": "ipython",
    "version": 3
   },
   "file_extension": ".py",
   "mimetype": "text/x-python",
   "name": "python",
   "nbconvert_exporter": "python",
   "pygments_lexer": "ipython3",
   "version": "3.8.5"
  }
 },
 "nbformat": 4,
 "nbformat_minor": 5
}
